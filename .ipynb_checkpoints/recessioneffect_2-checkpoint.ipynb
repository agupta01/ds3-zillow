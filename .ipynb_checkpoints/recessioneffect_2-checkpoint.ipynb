{
 "cells": [
  {
   "cell_type": "code",
   "execution_count": 1,
   "metadata": {},
   "outputs": [],
   "source": [
    "import pandas as pd\n",
    "import numpy as np\n",
    "from tqdm import tqdm\n",
    "import matplotlib.pyplot as plt\n",
    "from sklearn.preprocessing import normalize\n",
    "%matplotlib inline\n",
    "plt.style.use(\"seaborn\")\n",
    "import datetime\n",
    "from pandas.plotting import register_matplotlib_converters\n",
    "register_matplotlib_converters()"
   ]
  },
  {
   "cell_type": "code",
   "execution_count": 2,
   "metadata": {},
   "outputs": [],
   "source": [
    "data = pd.read_csv(\"./datasets/Metro_time_series.csv\")"
   ]
  },
  {
   "cell_type": "code",
   "execution_count": 3,
   "metadata": {},
   "outputs": [
    {
     "name": "stderr",
     "output_type": "stream",
     "text": [
      "100%|██████████| 730/730 [00:05<00:00, 131.82it/s]\n"
     ]
    }
   ],
   "source": [
    "cols = ['Date', 'RegionName', 'ZHVI_AllHomes']\n",
    "data = data[data['ZHVI_AllHomes'] > 0]\n",
    "data = data.filter(cols)\n",
    "data = data.rename(columns={\"RegionName\": \"CBSA_Code\"})\n",
    "cityList = np.unique(data['CBSA_Code'])\n",
    "metro = []\n",
    "for code in tqdm(cityList):\n",
    "    metro.append(data[data['CBSA_Code']  == str(code)])\n"
   ]
  },
  {
   "cell_type": "code",
   "execution_count": 4,
   "metadata": {},
   "outputs": [
    {
     "data": {
      "text/plain": [
       "<matplotlib.collections.PathCollection at 0x127ecf6a0>"
      ]
     },
     "execution_count": 4,
     "metadata": {},
     "output_type": "execute_result"
    },
    {
     "data": {
      "image/png": "[encoded data removed]",
      "text/plain": [
       "<Figure size 432x288 with 1 Axes>"
      ]
     },
     "metadata": {
      "needs_background": "light"
     },
     "output_type": "display_data"
    }
   ],
   "source": [
    "city1 = metro[0]\n",
    "fig, ax = plt.subplots()\n",
    "ax.plot(pd.to_datetime(city1['Date']).dt.date, city1['ZHVI_AllHomes'])\n",
    "ax.scatter(pd.to_datetime('2009-05-31'), city1[city1['Date'] == '2009-05-31']['ZHVI_AllHomes'])"
   ]
  },
  {
   "cell_type": "code",
   "execution_count": 5,
   "metadata": {},
   "outputs": [
    {
     "data": {
      "text/plain": [
       "array([-1.52245317, -1.46376916, -1.41346858, -1.37993486, -1.36526386,\n",
       "       -1.36631179, -1.37155143, -1.38517451, -1.41137273, -1.43547509,\n",
       "       -1.44805023, -1.45957745, -1.46796088, -1.47424845, -1.48891945,\n",
       "       -1.51826146, -1.55179518, -1.58847268, -1.61991055, -1.64610876,\n",
       "       -1.67021113, -1.69221763, -1.70374485, -1.70164899, -1.68278627,\n",
       "       -1.64925255, -1.60628747, -1.55913068, -1.51721353, -1.48787152,\n",
       "       -1.46796088, -1.4470023 , -1.41870823, -1.37783901, -1.31810707,\n",
       "       -1.24684791, -1.17768462, -1.11690475, -1.07079589, -1.03621424,\n",
       "       -0.99744087, -0.94714029, -0.88950421, -0.8308202 , -0.78575927,\n",
       "       -0.75956105, -0.74803383, -0.75012969, -0.76480069, -0.78156755,\n",
       "       -0.78890305, -0.78995098, -0.79309477, -0.79099891, -0.78261548,\n",
       "       -0.78156755, -0.78051962, -0.77108826, -0.76270484, -0.76165691,\n",
       "       -0.76794448, -0.78051962, -0.79309477, -0.8088137 , -0.82138884,\n",
       "       -0.8234847 , -0.82767642, -0.84549121, -0.86854564, -0.89579179,\n",
       "       -0.93246929, -0.97753023, -1.02573495, -1.06870003, -1.10956925,\n",
       "       -1.14624675, -1.17034912, -1.17768462, -1.16510947, -1.12633611,\n",
       "       -1.06346038, -0.98591366, -0.892648  , -0.78575927, -0.66524746,\n",
       "       -0.53216051, -0.38649842, -0.23140496, -0.07421565,  0.07668609,\n",
       "        0.21606061,  0.33657242,  0.43612565,  0.52415166,  0.61008182,\n",
       "        0.69601197,  0.78927763,  0.88568708,  0.97685688,  1.05649946,\n",
       "        1.12461483,  1.17910712,  1.2220722 ,  1.25351007,  1.2765645 ,\n",
       "        1.29437929,  1.30800236,  1.31848165,  1.33105679,  1.34467987,\n",
       "        1.35411122,  1.35935087,  1.35515915,  1.33629644,  1.30905029,\n",
       "        1.28494793,  1.26294142,  1.24512664,  1.23255149,  1.2220722 ,\n",
       "        1.20635327,  1.18644263,  1.16967577,  1.16024441,  1.15395683,\n",
       "        1.15395683,  1.16234026,  1.17596334,  1.1927302 ,  1.21368877,\n",
       "        1.23464735,  1.25560592,  1.27132485,  1.27132485,  1.25036628,\n",
       "        1.21264084,  1.16129234,  1.10260833,  1.03868467,  0.97685688,\n",
       "        0.91712494,  0.85424921,  0.79032556,  0.74212084,  0.71068298,\n",
       "        0.69182026,  0.6897244 ,  0.69915576,  0.70858712,  0.70963505,\n",
       "        0.70649126,  0.70229955,  0.69810783,  0.68867647,  0.67400547,\n",
       "        0.64466347,  0.59331496,  0.53043923,  0.46861144,  0.41307121,\n",
       "        0.36486649,  0.32818899,  0.29465527,  0.2558819 ,  0.2118689 ,\n",
       "        0.17623932,  0.1427056 ,  0.10812395,  0.08297366,  0.0662068 ,\n",
       "        0.04105651,  0.01171451, -0.01448371, -0.03858607, -0.05744879,\n",
       "       -0.06478429, -0.06268844, -0.05640086, -0.05011329, -0.05011329,\n",
       "       -0.05325708, -0.05640086, -0.05849672, -0.06373636, -0.06897601,\n",
       "       -0.08050322, -0.09517423, -0.1087973 , -0.11927659, -0.13185173,\n",
       "       -0.13918723, -0.1381393 , -0.12975587, -0.12032452, -0.10670144,\n",
       "       -0.08050322, -0.04487365, -0.00714821,  0.03162515,  0.06935059,\n",
       "        0.09135709,  0.0955488 ,  0.0955488 ,  0.10288431,  0.12593874,\n",
       "        0.17309553,  0.24225883,  0.31561384,  0.38477714,  0.44974872,\n",
       "        0.50528894,  0.54615816,  0.58178774,  0.62160903,  0.65828654,\n",
       "        0.68762854,  0.71068298,  0.72849777,  0.74107291,  0.75574391,\n",
       "        0.7808942 ,  0.82281135,  0.87520779,  0.9412273 ,  1.03449296,\n",
       "        1.15710062,  1.298571  ,  1.44632895,  1.57627212,  1.67372949,\n",
       "        1.74603657,  1.80262473,  1.85502116,  1.92104067,  1.99963533])"
      ]
     },
     "execution_count": 5,
     "metadata": {},
     "output_type": "execute_result"
    }
   ],
   "source": [
    "def movingAverage_normalize(a, n=5) :\n",
    "    ret = np.cumsum(a, dtype=float)\n",
    "    ret[n:] = ret[n:] - ret[:-n]\n",
    "    moving_avg = ret[n - 1:] / n\n",
    "    return np.array([(x-np.mean(moving_avg))/np.std(moving_avg) for x in moving_avg])\n",
    "#fig, ax = plt.subplots()\n",
    "#ax.scatter(pd.to_datetime(city1['Date'][4:]).dt.date, movingAverage_normalize(city1['ZHVI_AllHomes'].values))\n",
    "#plt.show()\n",
    "movingAverage_normalize(city1['ZHVI_AllHomes'].values)\n",
    "# don't send moving average \n",
    "#  CHECK IF AFFECTS MOVING AVERAGE AFFECTS ARIMA"
   ]
  },
  {
   "cell_type": "code",
   "execution_count": 120,
   "metadata": {},
   "outputs": [],
   "source": [
    "def find_start(city):\n",
    "    \"\"\"\n",
    "    returns recession start date, measured as the largest local maximum ZHVI for a given city\n",
    "    takes: city (pd.dataframe) [Date, ZHVI_avg_norm]\n",
    "    returns: start_date (pd.datetime)\n",
    "    \"\"\"\n",
    "    city = city[city['Date'] < \"2012\"]\n",
    "    d = lambda i: city['ZHVI_AllHomes'].iloc[i] - city['ZHVI_AllHomes'].iloc[i-1]\n",
    "    diffs = np.array([d(i) for i in range(1, len(city))])\n",
    "    # reshape dataframe to include diffs\n",
    "    city = city.iloc[1:]\n",
    "    city['Diffs'] = diffs\n",
    "    # find local maxes using diffs\n",
    "    is_max = np.array([(city['Diffs'].iloc[i] >= 0) and (city['Diffs'].iloc[i+1] <= 0) for i in range(len(city) - 1)])\n",
    "    is_max = np.append(is_max, False)\n",
    "\n",
    "    # check for presence of local maxes at all\n",
    "    if np.count_nonzero(is_max) == 0:\n",
    "        return 0\n",
    "    # add 'is_maximum' truth column to dataframe\n",
    "    city['Max'] = is_max\n",
    "    # filter and find largest max\n",
    "    theMax = city[city['Max'] == 1.0].sort_values(\"ZHVI_AllHomes\", ascending=False).iloc[0]\n",
    "    start_date = theMax['Date']\n",
    "    return start_date"
   ]
  },
  {
   "cell_type": "code",
   "execution_count": 121,
   "metadata": {},
   "outputs": [],
   "source": [
    "def ARIMA_50(city, start, params=(5,1,1)):\n",
    "    \"\"\"\n",
    "    Params:\n",
    "    city -- time-series dataframe object containing Date and ZHVI columns\n",
    "    start -- datetime object from index of city representing peak ZHVI\n",
    "    params -- p, d, and q parameters for ARIMA\n",
    "    \"\"\"\n",
    "    \n",
    "    #add start.dt.strftime('%Y-%m-%d') to convert datetime to string\n",
    "    \n",
    "    from statsmodels.tsa.arima_model import ARIMA\n",
    "    \n",
    "    before = city[['Date', 'ZHVI_AllHomes']][city['Date'] < start].set_index(['Date'])['ZHVI_AllHomes'].values\n",
    "    steps = city1.shape[0] - before.shape[0]\n",
    "    model = ARIMA(before, order=(5, 1, 1))\n",
    "    model_fit = model.fit(disp=0)\n",
    "    return model_fit.forecast(steps)[0]"
   ]
  },
  {
   "cell_type": "code",
   "execution_count": 122,
   "metadata": {},
   "outputs": [],
   "source": [
    "def find_end(city, start, ARIMA_50):\n",
    "    \"\"\"\n",
    "    returns recession end date, measured as the first point of intersection between ZHVI and ARIMA_50 for a given city\n",
    "    takes: city (pd.dataframe) [Date, ZHVI_avg_norm], ARIMA_50 (pd.dataframe) [Date, forecasted_ZHVI_norm] \n",
    "    returns: end_date (pd.datetime)\n",
    "    \"\"\"\n",
    "    # calculate diffs\n",
    "    recession_ZHVI = city[city['Date'] >= start]\n",
    "    diffs = ARIMA_50 - recession_ZHVI['ZHVI_AllHomes'].values\n",
    "    city_resid = pd.DataFrame(data={'Date': recession_ZHVI['Date'].values, 'Delta': diffs})\n",
    "    # filter only positive residuals, and most recent one is the last recession date\n",
    "    most_recent_positive_delta = city_resid[city_resid['Delta'] > 0].sort_values(\"Date\", ascending=False)\n",
    "    end_date = most_recent_positive_delta['Date'].iloc[0]\n",
    "    return end_date"
   ]
  },
  {
   "cell_type": "code",
   "execution_count": 126,
   "metadata": {},
   "outputs": [],
   "source": [
    "def calc_resid(city, predicted, start, end):\n",
    "    \"\"\"\n",
    "    Params:\n",
    "    city -- time-series dataframe object containing Date and ZHVI columns\n",
    "    predicted -- predicted values from max to last date of city time-series\n",
    "    max -- datetime object from index of city representing peak ZHVI\n",
    "    end -- datetime object from index of city representing intersection of \n",
    "    actual and predicted ZHVI or last date of actual\n",
    "    \"\"\"\n",
    "    \n",
    "    # get indices of start and end date and use those to splice arrays\n",
    "    recession_ZHVI = city[city['Date'] >= start]\n",
    "    recession_ZHVI = recession_ZHVI[recession_ZHVI['Date'] < end]\n",
    "    end_index = len(recession_ZHVI)\n",
    "    predicted_to_end = predicted[:end_index]\n",
    "    diffs = predicted_to_end - recession_ZHVI['ZHVI_AllHomes'].values\n",
    "    return sum(diffs)"
   ]
  },
  {
   "cell_type": "code",
   "execution_count": 134,
   "metadata": {},
   "outputs": [],
   "source": [
    "def find_AUB(metro):\n",
    "    start = find_start(metro)\n",
    "    arima = ARIMA_50(metro, start)\n",
    "    print(\"Start Date: \", start)\n",
    "    end = find_end(metro, start, arima)\n",
    "    print(\"End Date: \", end)\n",
    "    return calc_resid(metro, arima, start, end)"
   ]
  },
  {
   "cell_type": "code",
   "execution_count": 136,
   "metadata": {},
   "outputs": [
    {
     "name": "stdout",
     "output_type": "stream",
     "text": [
      "Start Date:  2007-08-31\n",
      "End Date:  2011-12-31\n"
     ]
    },
    {
     "data": {
      "text/plain": [
       "1048600.4657258594"
      ]
     },
     "execution_count": 136,
     "metadata": {},
     "output_type": "execute_result"
    }
   ],
   "source": [
    "find_AUB(city1)"
   ]
  },
  {
   "cell_type": "markdown",
   "metadata": {},
   "source": [
    "## Everything below this cell is experimental/debugging"
   ]
  },
  {
   "cell_type": "code",
   "execution_count": null,
   "metadata": {},
   "outputs": [],
   "source": [
    "# RANDOM STUFF DELETE LATER\n",
    "\n",
    "from statsmodels.tsa.arima_model import ARIMA\n",
    "city1.tail()\n",
    "before = city1[['Date', 'ZHVI_AllHomes']][city1['Date'] < '2017-08-31'].set_index(['Date'])['ZHVI_AllHomes']\n",
    "model = ARIMA(endog=np.array(before, dtype=np.float), order=(5, 1, 1))\n",
    "model_fit = model.fit(disp=0)\n",
    "#np.array(before, dtype=np.float)[0]\n",
    "#city1['dt'] = city1\n",
    "#np.array(city1['Date'], dtype='datetime64')\n",
    "model_fit.predict(before.shape[0], city1.shape[0])"
   ]
  },
  {
   "cell_type": "code",
   "execution_count": 129,
   "metadata": {},
   "outputs": [
    {
     "data": {
      "text/plain": [
       "'2007-08-31'"
      ]
     },
     "execution_count": 129,
     "metadata": {},
     "output_type": "execute_result"
    }
   ],
   "source": [
    "city1 = city1[city1['Date'] < \"2012\"]\n",
    "d = lambda i: city1['ZHVI_AllHomes'].iloc[i] - city1['ZHVI_AllHomes'].iloc[i-1]\n",
    "diffs = np.array([d(i) for i in range(1, len(city1))])\n",
    "# reshape dataframe to include diffs\n",
    "city1 = city1.iloc[1:]\n",
    "city1['Diffs'] = diffs\n",
    "city1['Diffs']\n",
    "# find local maxes using diffs\n",
    "is_max = np.array([(city1['Diffs'].iloc[i] >= 0) and (city1['Diffs'].iloc[i+1] <= 0) for i in range(len(city1) - 1)])\n",
    "is_max = np.append(is_max, False)\n",
    "\n",
    "# check for presence of local maxes at all\n",
    "if np.count_nonzero(is_max) == 0:\n",
    "    print(0)\n",
    "# add 'is_maximum' truth column to dataframe\n",
    "city1['Max'] = is_max\n",
    "# filter and find largest max\n",
    "theMax = city1[city1['Max'] == 1.0].sort_values(\"ZHVI_AllHomes\", ascending=False).iloc[0]\n",
    "start_date = theMax['Date']\n",
    "start_date"
   ]
  },
  {
   "cell_type": "code",
   "execution_count": null,
   "metadata": {},
   "outputs": [],
   "source": []
  }
 ],
 "metadata": {
  "kernelspec": {
   "display_name": "Python 3",
   "language": "python",
   "name": "python3"
  },
  "language_info": {
   "codemirror_mode": {
    "name": "ipython",
    "version": 3
   },
   "file_extension": ".py",
   "mimetype": "text/x-python",
   "name": "python",
   "nbconvert_exporter": "python",
   "pygments_lexer": "ipython3",
   "version": "3.6.7"
  }
 },
 "nbformat": 4,
 "nbformat_minor": 2
}
