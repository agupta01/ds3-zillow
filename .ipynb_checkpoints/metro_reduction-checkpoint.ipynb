{
 "cells": [
  {
   "cell_type": "code",
   "execution_count": 74,
   "metadata": {},
   "outputs": [],
   "source": [
    "from keras.layers import Input, Dense\n",
    "from keras.models import Model\n",
    "import pandas as pd\n",
    "import numpy as np\n",
    "from tqdm import tqdm\n",
    "from sklearn import decomposition\n",
    "import matplotlib.pyplot as plt\n",
    "import datetime\n",
    "from pandas.plotting import register_matplotlib_converters\n",
    "register_matplotlib_converters()\n",
    "%matplotlib inline\n",
    "\n",
    "plt.style.use('seaborn-white')"
   ]
  },
  {
   "cell_type": "code",
   "execution_count": 21,
   "metadata": {},
   "outputs": [],
   "source": [
    "metro = pd.read_csv(\"./data/Metro_time_series.csv\")"
   ]
  },
  {
   "cell_type": "code",
   "execution_count": 39,
   "metadata": {},
   "outputs": [
    {
     "name": "stderr",
     "output_type": "stream",
     "text": [
      "100%|██████████| 43/43 [00:00<00:00, 235.14it/s]"
     ]
    },
    {
     "name": "stdout",
     "output_type": "stream",
     "text": [
      "        MedianListingPricePerSqft_AllHomes  \\\n",
      "166163                          325.032510   \n",
      "167072                          324.213972   \n",
      "167981                          321.456235   \n",
      "168890                          325.203252   \n",
      "169799                          327.313770   \n",
      "\n",
      "        MedianListingPricePerSqft_CondoCoop  \\\n",
      "166163                           321.631879   \n",
      "167072                           318.756074   \n",
      "167981                           316.984559   \n",
      "168890                           320.047653   \n",
      "169799                           320.163488   \n",
      "\n",
      "        MedianListingPricePerSqft_DuplexTriplex  \\\n",
      "166163                               243.371212   \n",
      "167072                               242.404654   \n",
      "167981                               236.880466   \n",
      "168890                               236.288749   \n",
      "169799                               241.651799   \n",
      "\n",
      "        MedianListingPricePerSqft_SingleFamilyResidence  \\\n",
      "166163                                       326.183499   \n",
      "167072                                       325.844125   \n",
      "167981                                       323.156187   \n",
      "168890                                       326.565275   \n",
      "169799                                       330.185803   \n",
      "\n",
      "        MedianListingPrice_AllHomes  MedianListingPrice_CondoCoop  \\\n",
      "166163                     510000.0                      399000.0   \n",
      "167072                     500000.0                      395000.0   \n",
      "167981                     499000.0                      389000.0   \n",
      "168890                     499900.0                      389000.0   \n",
      "169799                     510000.0                      395000.0   \n",
      "\n",
      "        MedianListingPrice_DuplexTriplex  \\\n",
      "166163                          555000.0   \n",
      "167072                          577500.0   \n",
      "167981                          550000.0   \n",
      "168890                          555000.0   \n",
      "169799                          552500.0   \n",
      "\n",
      "        MedianListingPrice_SingleFamilyResidence  \\\n",
      "166163                                  569900.0   \n",
      "167072                                  569000.0   \n",
      "167981                                  549000.0   \n",
      "168890                                  559000.0   \n",
      "169799                                  575000.0   \n",
      "\n",
      "        MedianPctOfPriceReduction_CondoCoop  \\\n",
      "166163                             2.956522   \n",
      "167072                             2.864158   \n",
      "167981                             2.811256   \n",
      "168890                             2.778292   \n",
      "169799                             2.860305   \n",
      "\n",
      "        MedianPctOfPriceReduction_SingleFamilyResidence  ...  \\\n",
      "166163                                         3.090909  ...   \n",
      "167072                                         3.231018  ...   \n",
      "167981                                         3.034901  ...   \n",
      "168890                                         3.092784  ...   \n",
      "169799                                         3.002878  ...   \n",
      "\n",
      "        PctOfListingsWithPriceReductionsSeasAdj_MiddleTier  \\\n",
      "166163                                          15.112017    \n",
      "167072                                          13.571621    \n",
      "167981                                          15.244080    \n",
      "168890                                          15.134690    \n",
      "169799                                          13.933647    \n",
      "\n",
      "        PctOfListingsWithPriceReductionsSeasAdj_SingleFamilyResidence  \\\n",
      "166163                                          13.218333               \n",
      "167072                                          12.869298               \n",
      "167981                                          13.472270               \n",
      "168890                                          13.934380               \n",
      "169799                                          13.276972               \n",
      "\n",
      "        PctOfListingsWithPriceReductionsSeasAdj_TopTier  \\\n",
      "166163                                        14.285996   \n",
      "167072                                        13.692788   \n",
      "167981                                        14.938199   \n",
      "168890                                        15.028777   \n",
      "169799                                        14.460591   \n",
      "\n",
      "        PctOfListingsWithPriceReductions_AllHomes  \\\n",
      "166163                                  12.725869   \n",
      "167072                                   9.427138   \n",
      "167981                                  12.569986   \n",
      "168890                                  12.211465   \n",
      "169799                                  12.249419   \n",
      "\n",
      "        PctOfListingsWithPriceReductions_BottomTier  \\\n",
      "166163                                    10.183117   \n",
      "167072                                     9.201970   \n",
      "167981                                    10.984563   \n",
      "168890                                    10.744999   \n",
      "169799                                     9.838543   \n",
      "\n",
      "        PctOfListingsWithPriceReductions_CondoCoop  \\\n",
      "166163                                   12.907212   \n",
      "167072                                    9.060150   \n",
      "167981                                   12.254014   \n",
      "168890                                   11.579539   \n",
      "169799                                   11.901334   \n",
      "\n",
      "        PctOfListingsWithPriceReductions_MiddleTier  \\\n",
      "166163                                    15.045578   \n",
      "167072                                    10.749539   \n",
      "167981                                    14.096005   \n",
      "168890                                    13.388601   \n",
      "169799                                    12.958481   \n",
      "\n",
      "        PctOfListingsWithPriceReductions_SingleFamilyResidence  \\\n",
      "166163                                          12.663956        \n",
      "167072                                           9.556104        \n",
      "167981                                          12.685709        \n",
      "168890                                          12.449239        \n",
      "169799                                          12.385787        \n",
      "\n",
      "        PctOfListingsWithPriceReductions_TopTier  PriceToRentRatio_AllHomes  \n",
      "166163                                 13.047459                      17.82  \n",
      "167072                                  8.577758                      17.97  \n",
      "167981                                 12.851587                      18.02  \n",
      "168890                                 12.652439                      18.18  \n",
      "169799                                 13.928310                      18.20  \n",
      "\n",
      "[5 rows x 41 columns]\n",
      "              Date RegionName\n",
      "166163  2013-11-30      31080\n",
      "167072  2013-12-31      31080\n",
      "167981  2014-01-31      31080\n",
      "168890  2014-02-28      31080\n",
      "169799  2014-03-31      31080\n",
      "(102, 41)\n",
      "Filtered 211080 values\n"
     ]
    },
    {
     "name": "stderr",
     "output_type": "stream",
     "text": [
      "\n"
     ]
    }
   ],
   "source": [
    "# Filter data\n",
    "prefilter_shape = metro.shape[0]\n",
    "cols = ['Date', 'RegionName', 'MedianListingPricePerSqft_AllHomes',\n",
    "       'MedianListingPricePerSqft_CondoCoop',\n",
    "       'MedianListingPricePerSqft_DuplexTriplex',\n",
    "       'MedianListingPricePerSqft_SingleFamilyResidence','MedianListingPrice_AllHomes',\n",
    "       'MedianListingPrice_CondoCoop', 'MedianListingPrice_DuplexTriplex',\n",
    "       'MedianListingPrice_SingleFamilyResidence',\n",
    "       'MedianPctOfPriceReduction_CondoCoop',\n",
    "       'MedianPctOfPriceReduction_SingleFamilyResidence', 'MedianPriceCutDollar_CondoCoop',\n",
    "       'MedianPriceCutDollar_SingleFamilyResidence',\n",
    "       'MedianRentalPricePerSqft_AllHomes',\n",
    "       'MedianRentalPricePerSqft_CondoCoop',\n",
    "       'MedianRentalPricePerSqft_DuplexTriplex',\n",
    "       'MedianRentalPricePerSqft_MultiFamilyResidence5PlusUnits',\n",
    "       'MedianRentalPricePerSqft_SingleFamilyResidence',\n",
    "       'MedianRentalPricePerSqft_Studio',\n",
    "       'MedianRentalPrice_AllHomes', 'MedianRentalPrice_CondoCoop',\n",
    "       'MedianRentalPrice_DuplexTriplex',\n",
    "       'MedianRentalPrice_MultiFamilyResidence5PlusUnits',\n",
    "       'MedianRentalPrice_SingleFamilyResidence', 'MedianRentalPrice_Studio',\n",
    "       'PctOfHomesDecreasingInValues_AllHomes',\n",
    "       'PctOfHomesIncreasingInValues_AllHomes',\n",
    "       'PctOfHomesSellingForGain_AllHomes',\n",
    "       'PctOfHomesSellingForLoss_AllHomes',\n",
    "       'PctOfListingsWithPriceReductionsSeasAdj_AllHomes',\n",
    "       'PctOfListingsWithPriceReductionsSeasAdj_BottomTier',\n",
    "       'PctOfListingsWithPriceReductionsSeasAdj_CondoCoop',\n",
    "       'PctOfListingsWithPriceReductionsSeasAdj_MiddleTier',\n",
    "       'PctOfListingsWithPriceReductionsSeasAdj_SingleFamilyResidence',\n",
    "       'PctOfListingsWithPriceReductionsSeasAdj_TopTier',\n",
    "       'PctOfListingsWithPriceReductions_AllHomes',\n",
    "       'PctOfListingsWithPriceReductions_BottomTier',\n",
    "       'PctOfListingsWithPriceReductions_CondoCoop',\n",
    "       'PctOfListingsWithPriceReductions_MiddleTier',\n",
    "       'PctOfListingsWithPriceReductions_SingleFamilyResidence',\n",
    "       'PctOfListingsWithPriceReductions_TopTier', 'PriceToRentRatio_AllHomes']\n",
    "city_filter1 = metro.filter(cols)\n",
    "for i in tqdm(cols):\n",
    "    city_filter1 = city_filter1[city_filter1[str(i)].isnull() == False]\n",
    "cityList = city_filter1.filter(['Date', 'RegionName'])\n",
    "city_filter1 = city_filter1.drop(['Date', 'RegionName'], axis='columns')\n",
    "\n",
    "postfilter_shape = city_filter1.shape[0]\n",
    "\n",
    "print(city_filter1.head())\n",
    "print(cityList.head())\n",
    "print(city_filter1.shape)\n",
    "# print(city_filter1.sort_values('Date', ascending=True).head())\n",
    "print(\"Filtered\", (prefilter_shape - postfilter_shape), \"values\")"
   ]
  },
  {
   "cell_type": "code",
   "execution_count": 65,
   "metadata": {},
   "outputs": [
    {
     "data": {
      "text/html": [
       "<div>\n",
       "<style scoped>\n",
       "    .dataframe tbody tr th:only-of-type {\n",
       "        vertical-align: middle;\n",
       "    }\n",
       "\n",
       "    .dataframe tbody tr th {\n",
       "        vertical-align: top;\n",
       "    }\n",
       "\n",
       "    .dataframe thead th {\n",
       "        text-align: right;\n",
       "    }\n",
       "</style>\n",
       "<table border=\"1\" class=\"dataframe\">\n",
       "  <thead>\n",
       "    <tr style=\"text-align: right;\">\n",
       "      <th></th>\n",
       "      <th>1</th>\n",
       "      <th>Date</th>\n",
       "      <th>RegionName</th>\n",
       "    </tr>\n",
       "  </thead>\n",
       "  <tbody>\n",
       "    <tr>\n",
       "      <th>0</th>\n",
       "      <td>159090.549177</td>\n",
       "      <td>2013-11-30</td>\n",
       "      <td>31080</td>\n",
       "    </tr>\n",
       "    <tr>\n",
       "      <th>1</th>\n",
       "      <td>166275.429708</td>\n",
       "      <td>2013-12-31</td>\n",
       "      <td>31080</td>\n",
       "    </tr>\n",
       "    <tr>\n",
       "      <th>2</th>\n",
       "      <td>136049.422171</td>\n",
       "      <td>2014-01-31</td>\n",
       "      <td>31080</td>\n",
       "    </tr>\n",
       "    <tr>\n",
       "      <th>3</th>\n",
       "      <td>145225.253921</td>\n",
       "      <td>2014-02-28</td>\n",
       "      <td>31080</td>\n",
       "    </tr>\n",
       "    <tr>\n",
       "      <th>4</th>\n",
       "      <td>159278.527434</td>\n",
       "      <td>2014-03-31</td>\n",
       "      <td>31080</td>\n",
       "    </tr>\n",
       "    <tr>\n",
       "      <th>...</th>\n",
       "      <td>...</td>\n",
       "      <td>...</td>\n",
       "      <td>...</td>\n",
       "    </tr>\n",
       "    <tr>\n",
       "      <th>97</th>\n",
       "      <td>522084.029740</td>\n",
       "      <td>2017-08-31</td>\n",
       "      <td>31080</td>\n",
       "    </tr>\n",
       "    <tr>\n",
       "      <th>98</th>\n",
       "      <td>-361998.212709</td>\n",
       "      <td>2017-08-31</td>\n",
       "      <td>United_States</td>\n",
       "    </tr>\n",
       "    <tr>\n",
       "      <th>99</th>\n",
       "      <td>-33368.298047</td>\n",
       "      <td>2017-09-30</td>\n",
       "      <td>19740</td>\n",
       "    </tr>\n",
       "    <tr>\n",
       "      <th>100</th>\n",
       "      <td>513379.785963</td>\n",
       "      <td>2017-09-30</td>\n",
       "      <td>31080</td>\n",
       "    </tr>\n",
       "    <tr>\n",
       "      <th>101</th>\n",
       "      <td>-358664.757981</td>\n",
       "      <td>2017-09-30</td>\n",
       "      <td>United_States</td>\n",
       "    </tr>\n",
       "  </tbody>\n",
       "</table>\n",
       "<p>102 rows × 3 columns</p>\n",
       "</div>"
      ],
      "text/plain": [
       "                 1        Date     RegionName\n",
       "0    159090.549177  2013-11-30          31080\n",
       "1    166275.429708  2013-12-31          31080\n",
       "2    136049.422171  2014-01-31          31080\n",
       "3    145225.253921  2014-02-28          31080\n",
       "4    159278.527434  2014-03-31          31080\n",
       "..             ...         ...            ...\n",
       "97   522084.029740  2017-08-31          31080\n",
       "98  -361998.212709  2017-08-31  United_States\n",
       "99   -33368.298047  2017-09-30          19740\n",
       "100  513379.785963  2017-09-30          31080\n",
       "101 -358664.757981  2017-09-30  United_States\n",
       "\n",
       "[102 rows x 3 columns]"
      ]
     },
     "execution_count": 65,
     "metadata": {},
     "output_type": "execute_result"
    }
   ],
   "source": [
    "# PCA analysis\n",
    "pca = decomposition.PCA(n_components=1)\n",
    "pca.fit(city_filter1)\n",
    "city_PCA = pca.transform(city_filter1)\n",
    "city_PCA = pd.DataFrame(data=city_PCA, columns=['1'])\n",
    "city_PCA = city_PCA.join(pd.DataFrame(data=cityList.to_numpy(), columns=['Date', 'RegionName']))\n",
    "city_PCA"
   ]
  },
  {
   "cell_type": "code",
   "execution_count": 66,
   "metadata": {},
   "outputs": [
    {
     "data": {
      "text/plain": [
       "array(['19740', '31080', 'United_States'], dtype=object)"
      ]
     },
     "execution_count": 66,
     "metadata": {},
     "output_type": "execute_result"
    }
   ],
   "source": [
    "np.unique(city_PCA['RegionName'])"
   ]
  },
  {
   "cell_type": "code",
   "execution_count": 67,
   "metadata": {},
   "outputs": [
    {
     "data": {
      "text/plain": [
       "(47, 3)"
      ]
     },
     "execution_count": 67,
     "metadata": {},
     "output_type": "execute_result"
    }
   ],
   "source": [
    "# Filter for a region\n",
    "data_31080 = city_PCA[city_PCA['RegionName'] == '31080']\n",
    "data_31080.shape"
   ]
  },
  {
   "cell_type": "code",
   "execution_count": 75,
   "metadata": {},
   "outputs": [
    {
     "data": {
      "image/png": "[encoded data removed]",
      "text/plain": [
       "<Figure size 432x288 with 1 Axes>"
      ]
     },
     "metadata": {},
     "output_type": "display_data"
    }
   ],
   "source": [
    "# Graph data\n",
    "fig, ax = plt.subplots()\n",
    "ax.plot(pd.DataFrame(data_31080['Date']).dt.date, data_31080['1'], label='1')\n",
    "ax.legend()\n",
    "\n",
    "plt.show()"
   ]
  },
  {
   "cell_type": "code",
   "execution_count": 73,
   "metadata": {},
   "outputs": [
    {
     "name": "stdout",
     "output_type": "stream",
     "text": [
      "(261, 95)\n"
     ]
    },
    {
     "data": {
      "image/png": "[encoded data removed]",
      "text/plain": [
       "<Figure size 432x288 with 1 Axes>"
      ]
     },
     "metadata": {
      "needs_background": "light"
     },
     "output_type": "display_data"
    }
   ],
   "source": [
    "# Plot other features just to check\n",
    "city_filter2 = metro[metro['RegionName'] == '31080']\n",
    "print(city_filter2.shape)\n",
    "plt.plot(pd.to_datetime(city_filter2['Date']).dt.date, city_filter2['PctOfListingsWithPriceReductions_AllHomes'])\n",
    "plt.show()"
   ]
  },
  {
   "cell_type": "code",
   "execution_count": null,
   "metadata": {},
   "outputs": [],
   "source": []
  }
 ],
 "metadata": {
  "kernelspec": {
   "display_name": "tensorflow",
   "language": "python",
   "name": "tensorflow"
  },
  "language_info": {
   "codemirror_mode": {
    "name": "ipython",
    "version": 3
   },
   "file_extension": ".py",
   "mimetype": "text/x-python",
   "name": "python",
   "nbconvert_exporter": "python",
   "pygments_lexer": "ipython3",
   "version": "3.6.7"
  }
 },
 "nbformat": 4,
 "nbformat_minor": 2
}
