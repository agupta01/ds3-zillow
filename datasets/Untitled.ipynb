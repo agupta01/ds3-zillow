{
 "cells": [
  {
   "cell_type": "code",
   "execution_count": 15,
   "metadata": {},
   "outputs": [],
   "source": [
    "import pandas as pd\n",
    "import numpy as np\n",
    "import matplotlib.pyplot as plt\n",
    "from statsmodels.tsa.arima_model import ARIMA"
   ]
  },
  {
   "cell_type": "code",
   "execution_count": 77,
   "metadata": {},
   "outputs": [
    {
     "data": {
      "text/html": [
       "<div>\n",
       "<style scoped>\n",
       "    .dataframe tbody tr th:only-of-type {\n",
       "        vertical-align: middle;\n",
       "    }\n",
       "\n",
       "    .dataframe tbody tr th {\n",
       "        vertical-align: top;\n",
       "    }\n",
       "\n",
       "    .dataframe thead th {\n",
       "        text-align: right;\n",
       "    }\n",
       "</style>\n",
       "<table border=\"1\" class=\"dataframe\">\n",
       "  <thead>\n",
       "    <tr style=\"text-align: right;\">\n",
       "      <th></th>\n",
       "      <th>RegionName</th>\n",
       "      <th>ZHVI_AllHomes</th>\n",
       "    </tr>\n",
       "    <tr>\n",
       "      <th>Date</th>\n",
       "      <th></th>\n",
       "      <th></th>\n",
       "    </tr>\n",
       "  </thead>\n",
       "  <tbody>\n",
       "    <tr>\n",
       "      <td>1996-04-30</td>\n",
       "      <td>29420</td>\n",
       "      <td>85700.0</td>\n",
       "    </tr>\n",
       "    <tr>\n",
       "      <td>1996-05-31</td>\n",
       "      <td>29420</td>\n",
       "      <td>85000.0</td>\n",
       "    </tr>\n",
       "    <tr>\n",
       "      <td>1996-06-30</td>\n",
       "      <td>29420</td>\n",
       "      <td>84700.0</td>\n",
       "    </tr>\n",
       "    <tr>\n",
       "      <td>1996-07-31</td>\n",
       "      <td>29420</td>\n",
       "      <td>84300.0</td>\n",
       "    </tr>\n",
       "    <tr>\n",
       "      <td>1996-08-31</td>\n",
       "      <td>29420</td>\n",
       "      <td>84200.0</td>\n",
       "    </tr>\n",
       "    <tr>\n",
       "      <td>...</td>\n",
       "      <td>...</td>\n",
       "      <td>...</td>\n",
       "    </tr>\n",
       "    <tr>\n",
       "      <td>2006-02-28</td>\n",
       "      <td>29420</td>\n",
       "      <td>233900.0</td>\n",
       "    </tr>\n",
       "    <tr>\n",
       "      <td>2006-03-31</td>\n",
       "      <td>29420</td>\n",
       "      <td>235600.0</td>\n",
       "    </tr>\n",
       "    <tr>\n",
       "      <td>2006-04-30</td>\n",
       "      <td>29420</td>\n",
       "      <td>237400.0</td>\n",
       "    </tr>\n",
       "    <tr>\n",
       "      <td>2006-05-31</td>\n",
       "      <td>29420</td>\n",
       "      <td>238700.0</td>\n",
       "    </tr>\n",
       "    <tr>\n",
       "      <td>2006-06-30</td>\n",
       "      <td>29420</td>\n",
       "      <td>239300.0</td>\n",
       "    </tr>\n",
       "  </tbody>\n",
       "</table>\n",
       "<p>123 rows × 2 columns</p>\n",
       "</div>"
      ],
      "text/plain": [
       "           RegionName  ZHVI_AllHomes\n",
       "Date                                \n",
       "1996-04-30      29420        85700.0\n",
       "1996-05-31      29420        85000.0\n",
       "1996-06-30      29420        84700.0\n",
       "1996-07-31      29420        84300.0\n",
       "1996-08-31      29420        84200.0\n",
       "...               ...            ...\n",
       "2006-02-28      29420       233900.0\n",
       "2006-03-31      29420       235600.0\n",
       "2006-04-30      29420       237400.0\n",
       "2006-05-31      29420       238700.0\n",
       "2006-06-30      29420       239300.0\n",
       "\n",
       "[123 rows x 2 columns]"
      ]
     },
     "execution_count": 77,
     "metadata": {},
     "output_type": "execute_result"
    }
   ],
   "source": [
    "metro_ts = pd.read_csv('metro_time_series.csv')\n",
    "metro_ts = metro_ts[metro_ts['RegionName'] == '29420']\n",
    "metro_ts = metro_ts.filter(['Date', 'RegionName', 'ZHVI_AllHomes'])\n",
    "metro_ts.dropna(inplace=True)\n",
    "metro_ts = metro_ts.set_index('Date')\n",
    "metro_ts.index = pd.to_datetime(metro_ts.index)\n",
    "ax = metro_ts[metro_ts.index < '2006-07']\n",
    "ax"
   ]
  },
  {
   "cell_type": "code",
   "execution_count": 81,
   "metadata": {},
   "outputs": [
    {
     "data": {
      "image/png": "[encoded data removed]",
      "text/plain": [
       "<Figure size 432x288 with 1 Axes>"
      ]
     },
     "metadata": {
      "needs_background": "light"
     },
     "output_type": "display_data"
    }
   ],
   "source": [
    "model = ARIMA(ax['ZHVI_AllHomes'].values, order = (5, 1, 0))\n",
    "model_fit = model.fit(disp = 0)\n",
    "forecast = model_fit.forecast(steps = len(metro_ts['ZHVI_AllHomes'].values) - len(ax['ZHVI_AllHomes'].values))\n",
    "results = forecast[0]\n",
    "metro_ts['ARIMA'] = np.append(ax['ZHVI_AllHomes'].values, results)\n",
    "plt.plot(metro_ts['ZHVI_AllHomes'])\n",
    "plt.plot(metro_ts['ARIMA'])\n",
    "plt.ylabel('ZHVI')\n",
    "plt.xlabel('Date')\n",
    "plt.title('ZHVI ARIMA Forecast vs. True ZHVI')\n",
    "plt.show()\n",
    "\n"
   ]
  },
  {
   "cell_type": "code",
   "execution_count": null,
   "metadata": {},
   "outputs": [],
   "source": []
  }
 ],
 "metadata": {
  "kernelspec": {
   "display_name": "Python 3",
   "language": "python",
   "name": "python3"
  },
  "language_info": {
   "codemirror_mode": {
    "name": "ipython",
    "version": 3
   },
   "file_extension": ".py",
   "mimetype": "text/x-python",
   "name": "python",
   "nbconvert_exporter": "python",
   "pygments_lexer": "ipython3",
   "version": "3.7.4"
  }
 },
 "nbformat": 4,
 "nbformat_minor": 2
}
