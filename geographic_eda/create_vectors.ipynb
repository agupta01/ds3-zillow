{
 "cells": [
  {
   "cell_type": "markdown",
   "metadata": {},
   "source": [
    "# Statistics to Use (Ideas)\n",
    "- Political - ?\n",
    "- Population Density\n",
    "- Migration patterns\n",
    "- Age demographics\n",
    "- Culture - ?\n",
    "- Interest Rates\n",
    "- GDP\n",
    "- Number of housing units\n",
    "- Proximity to social/metro centres\n",
    "- City Age -- History (how would we quantify?) \n",
    "- Imports/Exports - ?\n",
    "- Main Industry/Sector - Resources, raw materials\n",
    "- Average Income\n",
    "- Number of Schools, Education\n",
    "- Geographic Location\n",
    "- Number of highways, transporation infrastructure\n",
    "- Terrain \n",
    "\n",
    "## Economic\n",
    "Interest Rates, GDP, Imports/Exports, Average Income\n",
    "\n",
    "## Important\n",
    "- <b>Politics</b>\n",
    "    - Partisan segration, polarity\n",
    "- <b>Education</b>\n",
    "- Abundance of housing units - ?\n",
    "- City Age/History\n",
    "- <b>Main Industry Sector</b>\n",
    "- <b> Economic Measures</b>\n",
    "- <b>Geographic Location</b>\n",
    "    - Proximity to other cities, metro centres\n",
    "- Number of highways, transporation infrastructure\n",
    "\n",
    "# TO-DO:\n",
    "- Add more features, fix poverty data"
   ]
  },
  {
   "cell_type": "code",
   "execution_count": 139,
   "metadata": {},
   "outputs": [
    {
     "data": {
      "text/html": "<div>\n<style scoped>\n    .dataframe tbody tr th:only-of-type {\n        vertical-align: middle;\n    }\n\n    .dataframe tbody tr th {\n        vertical-align: top;\n    }\n\n    .dataframe thead th {\n        text-align: right;\n    }\n</style>\n<table border=\"1\" class=\"dataframe\">\n  <thead>\n    <tr style=\"text-align: right;\">\n      <th></th>\n      <th>ratio_of_public_transport</th>\n    </tr>\n    <tr>\n      <th>metro_name</th>\n      <th></th>\n    </tr>\n  </thead>\n  <tbody>\n    <tr>\n      <th>Abbeville, LA</th>\n      <td>-0.355924</td>\n    </tr>\n    <tr>\n      <th>Aberdeen, SD</th>\n      <td>-0.362291</td>\n    </tr>\n    <tr>\n      <th>Aberdeen, WA</th>\n      <td>0.248173</td>\n    </tr>\n    <tr>\n      <th>Abilene, TX</th>\n      <td>-0.332337</td>\n    </tr>\n    <tr>\n      <th>Ada, OK</th>\n      <td>-0.520086</td>\n    </tr>\n    <tr>\n      <th>...</th>\n      <td>...</td>\n    </tr>\n    <tr>\n      <th>York-Hanover, PA</th>\n      <td>0.002138</td>\n    </tr>\n    <tr>\n      <th>Youngstown-Warren-Boardman, OH-PA</th>\n      <td>-0.186601</td>\n    </tr>\n    <tr>\n      <th>Yuba City, CA</th>\n      <td>-0.016467</td>\n    </tr>\n    <tr>\n      <th>Yuma, AZ</th>\n      <td>0.635026</td>\n    </tr>\n    <tr>\n      <th>Zanesville, OH</th>\n      <td>-0.383124</td>\n    </tr>\n  </tbody>\n</table>\n<p>955 rows × 1 columns</p>\n</div>",
      "text/plain": "                                   ratio_of_public_transport\nmetro_name                                                  \nAbbeville, LA                                      -0.355924\nAberdeen, SD                                       -0.362291\nAberdeen, WA                                        0.248173\nAbilene, TX                                        -0.332337\nAda, OK                                            -0.520086\n...                                                      ...\nYork-Hanover, PA                                    0.002138\nYoungstown-Warren-Boardman, OH-PA                  -0.186601\nYuba City, CA                                      -0.016467\nYuma, AZ                                            0.635026\nZanesville, OH                                     -0.383124\n\n[955 rows x 1 columns]"
     },
     "execution_count": 139,
     "metadata": {},
     "output_type": "execute_result"
    }
   ],
   "source": [
    "# Import Necessary Libraries\n",
    "import numpy as np \n",
    "import pandas as pd\n",
    "\n",
    "# FEATURE 1: RATIO OF PEOPLE TAKING PUBLIC TRANSPORATION TO WORK\n",
    "\n",
    "transportation_data = pd.read_csv('../datasets/transportation_data/ACSST5Y2010.S0802_data_with_overlays_2020-03-04T134515.csv')\n",
    "transportation_data.NAME = transportation_data.NAME.map(lambda x: x.replace(' Metro Area', '').replace(' Micro Area', ''))\n",
    "\n",
    "\n",
    "# Filter data to get only appropriate metropolitan areas\n",
    "transportation_data = transportation_data[~transportation_data.NAME.str.contains('United State')]\n",
    "num_public_transport = transportation_data['S0802_C04_001E'].to_numpy()[1:].astype(int)\n",
    "num_workers = transportation_data['S0802_C01_001E'].to_numpy()[1:].astype(int)\n",
    "ratio = np.divide(num_public_transport, num_workers)\n",
    "\n",
    "# Standardisation, Feature Scaling\n",
    "ratio = (ratio - np.mean(ratio))/(ratio.std())\n",
    "ratio = [float(r) for r in ratio]\n",
    "\n",
    "# Create new DataFrame with each metro area and corresponding attribute values\n",
    "new_df = pd.DataFrame(zip(transportation_data['NAME'].to_numpy()[1:],  ratio), columns = ['metro_name', 'ratio_of_public_transport']).set_index('metro_name').sort_values('metro_name')\n",
    "new_df['ratio_of_public_transport'].fillna(0, inplace = True)\n",
    "new_df"
   ]
  },
  {
   "cell_type": "code",
   "execution_count": 140,
   "metadata": {},
   "outputs": [],
   "source": [
    "# Standardise a pandas Series to prepare for K-Means\n",
    "def standardise(df, series):\n",
    "    df = df.copy(deep = False)\n",
    "    column = df.loc[:, series]\n",
    "    standardised = (column - column.mean()) / column.std()\n",
    "    return standardised\n",
    "\n",
    "# Standardise when converted to array\n",
    "def standardise_array(arr):\n",
    "    return (arr - arr.mean()) / arr.std()"
   ]
  },
  {
   "cell_type": "code",
   "execution_count": 141,
   "metadata": {},
   "outputs": [
    {
     "data": {
      "text/html": "<div>\n<style scoped>\n    .dataframe tbody tr th:only-of-type {\n        vertical-align: middle;\n    }\n\n    .dataframe tbody tr th {\n        vertical-align: top;\n    }\n\n    .dataframe thead th {\n        text-align: right;\n    }\n</style>\n<table border=\"1\" class=\"dataframe\">\n  <thead>\n    <tr style=\"text-align: right;\">\n      <th></th>\n      <th>ratio_of_public_transport</th>\n      <th>median_income</th>\n    </tr>\n    <tr>\n      <th>metro_name</th>\n      <th></th>\n      <th></th>\n    </tr>\n  </thead>\n  <tbody>\n    <tr>\n      <th>Abbeville, LA</th>\n      <td>-0.355924</td>\n      <td>-0.622420</td>\n    </tr>\n    <tr>\n      <th>Aberdeen, SD</th>\n      <td>-0.362291</td>\n      <td>1.245645</td>\n    </tr>\n    <tr>\n      <th>Aberdeen, WA</th>\n      <td>0.248173</td>\n      <td>0.120348</td>\n    </tr>\n    <tr>\n      <th>Abilene, TX</th>\n      <td>-0.332337</td>\n      <td>0.407350</td>\n    </tr>\n    <tr>\n      <th>Ada, OK</th>\n      <td>-0.520086</td>\n      <td>0.195562</td>\n    </tr>\n    <tr>\n      <th>...</th>\n      <td>...</td>\n      <td>...</td>\n    </tr>\n    <tr>\n      <th>York-Hanover, PA</th>\n      <td>0.002138</td>\n      <td>0.532464</td>\n    </tr>\n    <tr>\n      <th>Youngstown-Warren-Boardman, OH-PA</th>\n      <td>-0.186601</td>\n      <td>0.268693</td>\n    </tr>\n    <tr>\n      <th>Yuba City, CA</th>\n      <td>-0.016467</td>\n      <td>0.193791</td>\n    </tr>\n    <tr>\n      <th>Yuma, AZ</th>\n      <td>0.635026</td>\n      <td>-0.604710</td>\n    </tr>\n    <tr>\n      <th>Zanesville, OH</th>\n      <td>-0.383124</td>\n      <td>0.707061</td>\n    </tr>\n  </tbody>\n</table>\n<p>955 rows × 2 columns</p>\n</div>",
      "text/plain": "                                   ratio_of_public_transport  median_income\nmetro_name                                                                 \nAbbeville, LA                                      -0.355924      -0.622420\nAberdeen, SD                                       -0.362291       1.245645\nAberdeen, WA                                        0.248173       0.120348\nAbilene, TX                                        -0.332337       0.407350\nAda, OK                                            -0.520086       0.195562\n...                                                      ...            ...\nYork-Hanover, PA                                    0.002138       0.532464\nYoungstown-Warren-Boardman, OH-PA                  -0.186601       0.268693\nYuba City, CA                                      -0.016467       0.193791\nYuma, AZ                                            0.635026      -0.604710\nZanesville, OH                                     -0.383124       0.707061\n\n[955 rows x 2 columns]"
     },
     "execution_count": 141,
     "metadata": {},
     "output_type": "execute_result"
    }
   ],
   "source": [
    "\n",
    "# FEATURE 2: MEDIAN HOUSEHOLD INCOME\n",
    "\n",
    "income_data = pd.read_csv('../datasets/income_data/ACSST5Y2010.S2503_data_with_overlays_2020-03-04T163518.csv')\n",
    "income_data = income_data[~income_data.NAME.str.contains('United States')]\n",
    "income_data.NAME = income_data.NAME.map(lambda x: x.replace(' Metro Area', '').replace(' Micro Area', ''))\n",
    "median_income = income_data['S2503_C01_013E'].to_numpy()[1:].astype(int)\n",
    "\n",
    "# Standardise\n",
    "median_income = standardise_array(median_income)\n",
    "\n",
    "# Make sure every element of the median_income column is a float\n",
    "new_df['median_income'] = [float(m) for m in median_income]\n",
    "new_df"
   ]
  },
  {
   "cell_type": "code",
   "execution_count": 142,
   "metadata": {},
   "outputs": [
    {
     "data": {
      "text/html": "<div>\n<style scoped>\n    .dataframe tbody tr th:only-of-type {\n        vertical-align: middle;\n    }\n\n    .dataframe tbody tr th {\n        vertical-align: top;\n    }\n\n    .dataframe thead th {\n        text-align: right;\n    }\n</style>\n<table border=\"1\" class=\"dataframe\">\n  <thead>\n    <tr style=\"text-align: right;\">\n      <th></th>\n      <th>metro_name</th>\n      <th>ratio_of_public_transport</th>\n      <th>median_income</th>\n      <th>pctg_below_poverty_line</th>\n    </tr>\n  </thead>\n  <tbody>\n    <tr>\n      <th>0</th>\n      <td>Abbeville, LA</td>\n      <td>-0.355924</td>\n      <td>-0.622420</td>\n      <td>0.000000</td>\n    </tr>\n    <tr>\n      <th>1</th>\n      <td>Aberdeen, SD</td>\n      <td>-0.362291</td>\n      <td>1.245645</td>\n      <td>0.000000</td>\n    </tr>\n    <tr>\n      <th>2</th>\n      <td>Aberdeen, WA</td>\n      <td>0.248173</td>\n      <td>0.120348</td>\n      <td>0.013290</td>\n    </tr>\n    <tr>\n      <th>3</th>\n      <td>Abilene, TX</td>\n      <td>-0.332337</td>\n      <td>0.407350</td>\n      <td>0.139864</td>\n    </tr>\n    <tr>\n      <th>4</th>\n      <td>Ada, OK</td>\n      <td>-0.520086</td>\n      <td>0.195562</td>\n      <td>0.000000</td>\n    </tr>\n    <tr>\n      <th>...</th>\n      <td>...</td>\n      <td>...</td>\n      <td>...</td>\n      <td>...</td>\n    </tr>\n    <tr>\n      <th>950</th>\n      <td>York-Hanover, PA</td>\n      <td>0.002138</td>\n      <td>0.532464</td>\n      <td>-1.252450</td>\n    </tr>\n    <tr>\n      <th>951</th>\n      <td>Youngstown-Warren-Boardman, OH-PA</td>\n      <td>-0.186601</td>\n      <td>0.268693</td>\n      <td>-0.002531</td>\n    </tr>\n    <tr>\n      <th>952</th>\n      <td>Yuba City, CA</td>\n      <td>-0.016467</td>\n      <td>0.193791</td>\n      <td>0.345547</td>\n    </tr>\n    <tr>\n      <th>953</th>\n      <td>Yuma, AZ</td>\n      <td>0.635026</td>\n      <td>-0.604710</td>\n      <td>0.472121</td>\n    </tr>\n    <tr>\n      <th>954</th>\n      <td>Zanesville, OH</td>\n      <td>-0.383124</td>\n      <td>0.707061</td>\n      <td>-0.002531</td>\n    </tr>\n  </tbody>\n</table>\n<p>955 rows × 4 columns</p>\n</div>",
      "text/plain": "                            metro_name  ratio_of_public_transport  \\\n0                        Abbeville, LA                  -0.355924   \n1                         Aberdeen, SD                  -0.362291   \n2                         Aberdeen, WA                   0.248173   \n3                          Abilene, TX                  -0.332337   \n4                              Ada, OK                  -0.520086   \n..                                 ...                        ...   \n950                   York-Hanover, PA                   0.002138   \n951  Youngstown-Warren-Boardman, OH-PA                  -0.186601   \n952                      Yuba City, CA                  -0.016467   \n953                           Yuma, AZ                   0.635026   \n954                     Zanesville, OH                  -0.383124   \n\n     median_income  pctg_below_poverty_line  \n0        -0.622420                 0.000000  \n1         1.245645                 0.000000  \n2         0.120348                 0.013290  \n3         0.407350                 0.139864  \n4         0.195562                 0.000000  \n..             ...                      ...  \n950       0.532464                -1.252450  \n951       0.268693                -0.002531  \n952       0.193791                 0.345547  \n953      -0.604710                 0.472121  \n954       0.707061                -0.002531  \n\n[955 rows x 4 columns]"
     },
     "execution_count": 142,
     "metadata": {},
     "output_type": "execute_result"
    }
   ],
   "source": [
    "# FEATURE 3: PERCENT BELOW POVERTY LEVEL\n",
    "\n",
    "#### CURRENTLY NOT WORKING #####\n",
    "\n",
    "poverty_data = pd.read_csv('../datasets/poverty_data/ACSST1Y2010.S1701_data_with_overlays_2020-03-04T183351.csv')\n",
    "poverty_data = poverty_data[~poverty_data.NAME.str.contains('United States')]\n",
    "poverty_data.NAME = poverty_data.NAME.map(lambda x: x.replace(' Metro Area', '').replace(' Micro Area', ''))\n",
    "percentages = poverty_data['S1701_C03_001E'].to_numpy()[1:].astype(float)\n",
    "percentages = standardise_array(percentages)\n",
    "\n",
    "poverty_df = pd.DataFrame(zip(poverty_data['NAME'][1:], percentages),\n",
    "             columns = ['metro_name', 'pctg_below_poverty_line']).sort_values('metro_name')\n",
    "\n",
    "new_df2 = new_df.merge(poverty_df, on = 'metro_name', how='outer', suffixes=('', '_y')).fillna(0)\n",
    "new_df2                 "
   ]
  },
  {
   "cell_type": "code",
   "execution_count": 143,
   "metadata": {},
   "outputs": [
    {
     "data": {
      "text/html": "<div>\n<style scoped>\n    .dataframe tbody tr th:only-of-type {\n        vertical-align: middle;\n    }\n\n    .dataframe tbody tr th {\n        vertical-align: top;\n    }\n\n    .dataframe thead th {\n        text-align: right;\n    }\n</style>\n<table border=\"1\" class=\"dataframe\">\n  <thead>\n    <tr style=\"text-align: right;\">\n      <th></th>\n      <th>metro_name</th>\n      <th>ratio_of_public_transport</th>\n      <th>median_income</th>\n      <th>pctg_below_poverty_line</th>\n      <th>enrolled_in_school</th>\n    </tr>\n  </thead>\n  <tbody>\n    <tr>\n      <th>0</th>\n      <td>Abbeville, LA</td>\n      <td>-0.355924</td>\n      <td>-0.622420</td>\n      <td>0.000000</td>\n      <td>0.035869</td>\n    </tr>\n    <tr>\n      <th>1</th>\n      <td>Aberdeen, SD</td>\n      <td>-0.362291</td>\n      <td>1.245645</td>\n      <td>0.000000</td>\n      <td>0.346162</td>\n    </tr>\n    <tr>\n      <th>2</th>\n      <td>Aberdeen, WA</td>\n      <td>0.248173</td>\n      <td>0.120348</td>\n      <td>0.013290</td>\n      <td>-0.077303</td>\n    </tr>\n    <tr>\n      <th>3</th>\n      <td>Abilene, TX</td>\n      <td>-0.332337</td>\n      <td>0.407350</td>\n      <td>0.139864</td>\n      <td>0.455581</td>\n    </tr>\n    <tr>\n      <th>4</th>\n      <td>Ada, OK</td>\n      <td>-0.520086</td>\n      <td>0.195562</td>\n      <td>0.000000</td>\n      <td>-0.228167</td>\n    </tr>\n    <tr>\n      <th>...</th>\n      <td>...</td>\n      <td>...</td>\n      <td>...</td>\n      <td>...</td>\n      <td>...</td>\n    </tr>\n    <tr>\n      <th>950</th>\n      <td>York-Hanover, PA</td>\n      <td>0.002138</td>\n      <td>0.532464</td>\n      <td>-1.252450</td>\n      <td>-0.257513</td>\n    </tr>\n    <tr>\n      <th>951</th>\n      <td>Youngstown-Warren-Boardman, OH-PA</td>\n      <td>-0.186601</td>\n      <td>0.268693</td>\n      <td>-0.002531</td>\n      <td>0.005607</td>\n    </tr>\n    <tr>\n      <th>952</th>\n      <td>Yuba City, CA</td>\n      <td>-0.016467</td>\n      <td>0.193791</td>\n      <td>0.345547</td>\n      <td>-0.255924</td>\n    </tr>\n    <tr>\n      <th>953</th>\n      <td>Yuma, AZ</td>\n      <td>0.635026</td>\n      <td>-0.604710</td>\n      <td>0.472121</td>\n      <td>-0.217837</td>\n    </tr>\n    <tr>\n      <th>954</th>\n      <td>Zanesville, OH</td>\n      <td>-0.383124</td>\n      <td>0.707061</td>\n      <td>-0.002531</td>\n      <td>-0.184530</td>\n    </tr>\n  </tbody>\n</table>\n<p>955 rows × 5 columns</p>\n</div>",
      "text/plain": "                            metro_name  ratio_of_public_transport  \\\n0                        Abbeville, LA                  -0.355924   \n1                         Aberdeen, SD                  -0.362291   \n2                         Aberdeen, WA                   0.248173   \n3                          Abilene, TX                  -0.332337   \n4                              Ada, OK                  -0.520086   \n..                                 ...                        ...   \n950                   York-Hanover, PA                   0.002138   \n951  Youngstown-Warren-Boardman, OH-PA                  -0.186601   \n952                      Yuba City, CA                  -0.016467   \n953                           Yuma, AZ                   0.635026   \n954                     Zanesville, OH                  -0.383124   \n\n     median_income  pctg_below_poverty_line  enrolled_in_school  \n0        -0.622420                 0.000000            0.035869  \n1         1.245645                 0.000000            0.346162  \n2         0.120348                 0.013290           -0.077303  \n3         0.407350                 0.139864            0.455581  \n4         0.195562                 0.000000           -0.228167  \n..             ...                      ...                 ...  \n950       0.532464                -1.252450           -0.257513  \n951       0.268693                -0.002531            0.005607  \n952       0.193791                 0.345547           -0.255924  \n953      -0.604710                 0.472121           -0.217837  \n954       0.707061                -0.002531           -0.184530  \n\n[955 rows x 5 columns]"
     },
     "execution_count": 143,
     "metadata": {},
     "output_type": "execute_result"
    }
   ],
   "source": [
    "# FEATURE 4: POPULATION OF PEOPLE 3 AND OVER ENROLLED IN SCHOOL\n",
    "\n",
    "school_data = pd.read_csv('../datasets/school_data/ACSST5Y2010.S1401_data_with_overlays_2020-03-04T192940.csv')\n",
    "school_data.NAME = school_data.NAME.map(lambda x: x.replace(' Metro Area', '').replace(' Micro Area', ''))\n",
    "\n",
    "# Log-transform, standardise\n",
    "enrolled = school_data['S1401_C01_001E'].to_numpy()[1:].astype(int)\n",
    "enrolled = standardise_array(enrolled)\n",
    "\n",
    "# Correct type, save to test DataFrame\n",
    "new_df2['enrolled_in_school'] = [float(e) for e in enrolled]\n",
    "new_df2.to_csv('test_01.csv')\n",
    "new_df2"
   ]
  },
  {
   "cell_type": "code",
   "execution_count": 147,
   "metadata": {},
   "outputs": [
    {
     "data": {
      "text/html": "<div>\n<style scoped>\n    .dataframe tbody tr th:only-of-type {\n        vertical-align: middle;\n    }\n\n    .dataframe tbody tr th {\n        vertical-align: top;\n    }\n\n    .dataframe thead th {\n        text-align: right;\n    }\n</style>\n<table border=\"1\" class=\"dataframe\">\n  <thead>\n    <tr style=\"text-align: right;\">\n      <th></th>\n      <th>metro_name</th>\n      <th>ratio_of_public_transport</th>\n      <th>median_income</th>\n      <th>pctg_below_poverty_line</th>\n      <th>enrolled_in_school</th>\n      <th>NAME_y</th>\n      <th>SQMI_y</th>\n      <th>HSE_UNITS_y</th>\n      <th>AVE_FAM_SZ_y</th>\n      <th>POP10_SQMI_y</th>\n      <th>...</th>\n      <th>AVE_FAM_SZ_y</th>\n      <th>POP10_SQMI_y</th>\n      <th>SQMI</th>\n      <th>HSE_UNITS</th>\n      <th>AVE_FAM_SZ</th>\n      <th>POP10_SQMI</th>\n      <th>SQMI_y</th>\n      <th>HSE_UNITS_y</th>\n      <th>AVE_FAM_SZ_y</th>\n      <th>POP10_SQMI_y</th>\n    </tr>\n  </thead>\n  <tbody>\n    <tr>\n      <th>0</th>\n      <td>Aberdeen, SD</td>\n      <td>-0.362291</td>\n      <td>1.245645</td>\n      <td>0.000000</td>\n      <td>0.346162</td>\n      <td>Aberdeen, SD</td>\n      <td>0.419313</td>\n      <td>-0.265327</td>\n      <td>0.373006</td>\n      <td>-0.551088</td>\n      <td>...</td>\n      <td>0.373006</td>\n      <td>-0.551088</td>\n      <td>0.419313</td>\n      <td>-0.265327</td>\n      <td>0.373006</td>\n      <td>-0.551088</td>\n      <td>0.419313</td>\n      <td>-0.265327</td>\n      <td>0.373006</td>\n      <td>-0.551088</td>\n    </tr>\n    <tr>\n      <th>1</th>\n      <td>Aberdeen, WA</td>\n      <td>0.248173</td>\n      <td>0.120348</td>\n      <td>0.013290</td>\n      <td>-0.077303</td>\n      <td>Aberdeen, WA</td>\n      <td>0.028771</td>\n      <td>-0.207854</td>\n      <td>0.414232</td>\n      <td>-0.426037</td>\n      <td>...</td>\n      <td>0.414232</td>\n      <td>-0.426037</td>\n      <td>0.028771</td>\n      <td>-0.207854</td>\n      <td>0.414232</td>\n      <td>-0.426037</td>\n      <td>0.028771</td>\n      <td>-0.207854</td>\n      <td>0.414232</td>\n      <td>-0.426037</td>\n    </tr>\n    <tr>\n      <th>2</th>\n      <td>Abilene, TX</td>\n      <td>-0.332337</td>\n      <td>0.407350</td>\n      <td>0.139864</td>\n      <td>0.455581</td>\n      <td>Abilene, TX</td>\n      <td>0.368355</td>\n      <td>-0.087447</td>\n      <td>0.480195</td>\n      <td>-0.307371</td>\n      <td>...</td>\n      <td>0.480195</td>\n      <td>-0.307371</td>\n      <td>0.368355</td>\n      <td>-0.087447</td>\n      <td>0.480195</td>\n      <td>-0.307371</td>\n      <td>0.368355</td>\n      <td>-0.087447</td>\n      <td>0.480195</td>\n      <td>-0.307371</td>\n    </tr>\n    <tr>\n      <th>3</th>\n      <td>Ada, OK</td>\n      <td>-0.520086</td>\n      <td>0.195562</td>\n      <td>0.000000</td>\n      <td>-0.228167</td>\n      <td>Ada, OK</td>\n      <td>-0.465152</td>\n      <td>-0.272564</td>\n      <td>0.455459</td>\n      <td>-0.351006</td>\n      <td>...</td>\n      <td>0.455459</td>\n      <td>-0.351006</td>\n      <td>-0.465152</td>\n      <td>-0.272564</td>\n      <td>0.455459</td>\n      <td>-0.351006</td>\n      <td>-0.465152</td>\n      <td>-0.272564</td>\n      <td>0.455459</td>\n      <td>-0.351006</td>\n    </tr>\n    <tr>\n      <th>4</th>\n      <td>Adrian, MI</td>\n      <td>-0.424802</td>\n      <td>0.868949</td>\n      <td>-0.429719</td>\n      <td>-0.224541</td>\n      <td>Adrian, MI</td>\n      <td>-0.450319</td>\n      <td>-0.178981</td>\n      <td>0.463704</td>\n      <td>0.072041</td>\n      <td>...</td>\n      <td>0.463704</td>\n      <td>0.072041</td>\n      <td>-0.450319</td>\n      <td>-0.178981</td>\n      <td>0.463704</td>\n      <td>0.072041</td>\n      <td>-0.450319</td>\n      <td>-0.178981</td>\n      <td>0.463704</td>\n      <td>0.072041</td>\n    </tr>\n    <tr>\n      <th>...</th>\n      <td>...</td>\n      <td>...</td>\n      <td>...</td>\n      <td>...</td>\n      <td>...</td>\n      <td>...</td>\n      <td>...</td>\n      <td>...</td>\n      <td>...</td>\n      <td>...</td>\n      <td>...</td>\n      <td>...</td>\n      <td>...</td>\n      <td>...</td>\n      <td>...</td>\n      <td>...</td>\n      <td>...</td>\n      <td>...</td>\n      <td>...</td>\n      <td>...</td>\n      <td>...</td>\n    </tr>\n    <tr>\n      <th>794</th>\n      <td>York-Hanover, PA</td>\n      <td>0.002138</td>\n      <td>0.532464</td>\n      <td>-1.252450</td>\n      <td>-0.257513</td>\n      <td>York-Hanover, PA</td>\n      <td>-0.389084</td>\n      <td>0.292187</td>\n      <td>0.447214</td>\n      <td>1.915353</td>\n      <td>...</td>\n      <td>0.447214</td>\n      <td>1.915353</td>\n      <td>-0.389084</td>\n      <td>0.292187</td>\n      <td>0.447214</td>\n      <td>1.915353</td>\n      <td>-0.389084</td>\n      <td>0.292187</td>\n      <td>0.447214</td>\n      <td>1.915353</td>\n    </tr>\n    <tr>\n      <th>795</th>\n      <td>Youngstown-Warren-Boardman, OH-PA</td>\n      <td>-0.186601</td>\n      <td>0.268693</td>\n      <td>-0.002531</td>\n      <td>0.005607</td>\n      <td>Youngstown-Warren-Boardman, OH-PA</td>\n      <td>-0.047236</td>\n      <td>0.574632</td>\n      <td>0.414232</td>\n      <td>1.099591</td>\n      <td>...</td>\n      <td>0.414232</td>\n      <td>1.099591</td>\n      <td>-0.047236</td>\n      <td>0.574632</td>\n      <td>0.414232</td>\n      <td>1.099591</td>\n      <td>-0.047236</td>\n      <td>0.574632</td>\n      <td>0.414232</td>\n      <td>1.099591</td>\n    </tr>\n    <tr>\n      <th>796</th>\n      <td>Yuba City, CA</td>\n      <td>-0.016467</td>\n      <td>0.193791</td>\n      <td>0.345547</td>\n      <td>-0.255924</td>\n      <td>Yuba City, CA</td>\n      <td>-0.248958</td>\n      <td>-0.116118</td>\n      <td>0.818251</td>\n      <td>0.083215</td>\n      <td>...</td>\n      <td>0.818251</td>\n      <td>0.083215</td>\n      <td>-0.248958</td>\n      <td>-0.116118</td>\n      <td>0.818251</td>\n      <td>0.083215</td>\n      <td>-0.248958</td>\n      <td>-0.116118</td>\n      <td>0.818251</td>\n      <td>0.083215</td>\n    </tr>\n    <tr>\n      <th>797</th>\n      <td>Yuma, AZ</td>\n      <td>0.635026</td>\n      <td>-0.604710</td>\n      <td>0.472121</td>\n      <td>-0.217837</td>\n      <td>Yuma, AZ</td>\n      <td>1.500424</td>\n      <td>-0.024277</td>\n      <td>0.785270</td>\n      <td>-0.437744</td>\n      <td>...</td>\n      <td>0.785270</td>\n      <td>-0.437744</td>\n      <td>1.500424</td>\n      <td>-0.024277</td>\n      <td>0.785270</td>\n      <td>-0.437744</td>\n      <td>1.500424</td>\n      <td>-0.024277</td>\n      <td>0.785270</td>\n      <td>-0.437744</td>\n    </tr>\n    <tr>\n      <th>798</th>\n      <td>Zanesville, OH</td>\n      <td>-0.383124</td>\n      <td>0.707061</td>\n      <td>-0.002531</td>\n      <td>-0.184530</td>\n      <td>Zanesville, OH</td>\n      <td>-0.486748</td>\n      <td>-0.197721</td>\n      <td>0.422478</td>\n      <td>0.055012</td>\n      <td>...</td>\n      <td>0.422478</td>\n      <td>0.055012</td>\n      <td>-0.486748</td>\n      <td>-0.197721</td>\n      <td>0.422478</td>\n      <td>0.055012</td>\n      <td>-0.486748</td>\n      <td>-0.197721</td>\n      <td>0.422478</td>\n      <td>0.055012</td>\n    </tr>\n  </tbody>\n</table>\n<p>799 rows × 22 columns</p>\n</div>",
      "text/plain": "                            metro_name  ratio_of_public_transport  \\\n0                         Aberdeen, SD                  -0.362291   \n1                         Aberdeen, WA                   0.248173   \n2                          Abilene, TX                  -0.332337   \n3                              Ada, OK                  -0.520086   \n4                           Adrian, MI                  -0.424802   \n..                                 ...                        ...   \n794                   York-Hanover, PA                   0.002138   \n795  Youngstown-Warren-Boardman, OH-PA                  -0.186601   \n796                      Yuba City, CA                  -0.016467   \n797                           Yuma, AZ                   0.635026   \n798                     Zanesville, OH                  -0.383124   \n\n     median_income  pctg_below_poverty_line  enrolled_in_school  \\\n0         1.245645                 0.000000            0.346162   \n1         0.120348                 0.013290           -0.077303   \n2         0.407350                 0.139864            0.455581   \n3         0.195562                 0.000000           -0.228167   \n4         0.868949                -0.429719           -0.224541   \n..             ...                      ...                 ...   \n794       0.532464                -1.252450           -0.257513   \n795       0.268693                -0.002531            0.005607   \n796       0.193791                 0.345547           -0.255924   \n797      -0.604710                 0.472121           -0.217837   \n798       0.707061                -0.002531           -0.184530   \n\n                                NAME_y    SQMI_y  HSE_UNITS_y  AVE_FAM_SZ_y  \\\n0                         Aberdeen, SD  0.419313    -0.265327      0.373006   \n1                         Aberdeen, WA  0.028771    -0.207854      0.414232   \n2                          Abilene, TX  0.368355    -0.087447      0.480195   \n3                              Ada, OK -0.465152    -0.272564      0.455459   \n4                           Adrian, MI -0.450319    -0.178981      0.463704   \n..                                 ...       ...          ...           ...   \n794                   York-Hanover, PA -0.389084     0.292187      0.447214   \n795  Youngstown-Warren-Boardman, OH-PA -0.047236     0.574632      0.414232   \n796                      Yuba City, CA -0.248958    -0.116118      0.818251   \n797                           Yuma, AZ  1.500424    -0.024277      0.785270   \n798                     Zanesville, OH -0.486748    -0.197721      0.422478   \n\n     POP10_SQMI_y  ...  AVE_FAM_SZ_y  POP10_SQMI_y      SQMI  HSE_UNITS  \\\n0       -0.551088  ...      0.373006     -0.551088  0.419313  -0.265327   \n1       -0.426037  ...      0.414232     -0.426037  0.028771  -0.207854   \n2       -0.307371  ...      0.480195     -0.307371  0.368355  -0.087447   \n3       -0.351006  ...      0.455459     -0.351006 -0.465152  -0.272564   \n4        0.072041  ...      0.463704      0.072041 -0.450319  -0.178981   \n..            ...  ...           ...           ...       ...        ...   \n794      1.915353  ...      0.447214      1.915353 -0.389084   0.292187   \n795      1.099591  ...      0.414232      1.099591 -0.047236   0.574632   \n796      0.083215  ...      0.818251      0.083215 -0.248958  -0.116118   \n797     -0.437744  ...      0.785270     -0.437744  1.500424  -0.024277   \n798      0.055012  ...      0.422478      0.055012 -0.486748  -0.197721   \n\n     AVE_FAM_SZ  POP10_SQMI    SQMI_y  HSE_UNITS_y  AVE_FAM_SZ_y  POP10_SQMI_y  \n0      0.373006   -0.551088  0.419313    -0.265327      0.373006     -0.551088  \n1      0.414232   -0.426037  0.028771    -0.207854      0.414232     -0.426037  \n2      0.480195   -0.307371  0.368355    -0.087447      0.480195     -0.307371  \n3      0.455459   -0.351006 -0.465152    -0.272564      0.455459     -0.351006  \n4      0.463704    0.072041 -0.450319    -0.178981      0.463704      0.072041  \n..          ...         ...       ...          ...           ...           ...  \n794    0.447214    1.915353 -0.389084     0.292187      0.447214      1.915353  \n795    0.414232    1.099591 -0.047236     0.574632      0.414232      1.099591  \n796    0.818251    0.083215 -0.248958    -0.116118      0.818251      0.083215  \n797    0.785270   -0.437744  1.500424    -0.024277      0.785270     -0.437744  \n798    0.422478    0.055012 -0.486748    -0.197721      0.422478      0.055012  \n\n[799 rows x 22 columns]"
     },
     "execution_count": 147,
     "metadata": {},
     "output_type": "execute_result"
    }
   ],
   "source": [
    "cbsa = pd.read_csv('../datasets/cbsa.csv')[['NAME', 'SQMI', 'HSE_UNITS', 'AVE_FAM_SZ', 'POP10_SQMI']]\n",
    "\n",
    "for col in cbsa.columns[1:]:\n",
    "    cbsa[col] = standardise(cbsa, col)\n",
    "\n",
    "new_df2 = new_df2.merge(cbsa, left_on = 'metro_name', right_on = 'NAME', suffixes = ('', '_y'))\n",
    "new_df2 = new_df2.dropna().drop(columns = ['NAME'])\n",
    "new_df2"
   ]
  },
  {
   "cell_type": "code",
   "execution_count": null,
   "metadata": {},
   "outputs": [],
   "source": []
  }
 ],
 "metadata": {
  "file_extension": ".py",
  "kernelspec": {
   "display_name": "Python 3.7.6 64-bit",
   "language": "python",
   "name": "python37664bit428820946cd7473d8a76804ffe0f7c21"
  },
  "language_info": {
   "codemirror_mode": {
    "name": "ipython",
    "version": 3
   },
   "file_extension": ".py",
   "mimetype": "text/x-python",
   "name": "python",
   "nbconvert_exporter": "python",
   "pygments_lexer": "ipython3",
   "version": "3.7.6-final"
  },
  "mimetype": "text/x-python",
  "name": "python",
  "npconvert_exporter": "python",
  "pygments_lexer": "ipython3",
  "version": 3
 },
 "nbformat": 4,
 "nbformat_minor": 4
}