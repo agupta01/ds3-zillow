{
 "nbformat": 4,
 "nbformat_minor": 2,
 "metadata": {
  "language_info": {
   "name": "python",
   "codemirror_mode": {
    "name": "ipython",
    "version": 3
   },
   "version": "3.7.6-final"
  },
  "orig_nbformat": 2,
  "file_extension": ".py",
  "mimetype": "text/x-python",
  "name": "python",
  "npconvert_exporter": "python",
  "pygments_lexer": "ipython3",
  "version": 3,
  "kernelspec": {
   "name": "python37664bit428820946cd7473d8a76804ffe0f7c21",
   "display_name": "Python 3.7.6 64-bit"
  }
 },
 "cells": [
  {
   "cell_type": "markdown",
   "metadata": {},
   "source": [
    "# Statistics to Use (Ideas)\n",
    "- Political - ?\n",
    "- Population Density\n",
    "- Migration patterns\n",
    "- Age demographics\n",
    "- Culture - ?\n",
    "- Interest Rates\n",
    "- GDP\n",
    "- Number of housing units\n",
    "- Proximity to social/metro centres\n",
    "- City Age -- History (how would we quantify?) \n",
    "- Imports/Exports - ?\n",
    "- Main Industry/Sector - Resources, raw materials\n",
    "- Average Income\n",
    "- Number of Schools, Education\n",
    "- Geographic Location\n",
    "- Number of highways, transporation infrastructure\n",
    "- Terrain \n",
    "\n",
    "## Economic\n",
    "Interest Rates, GDP, Imports/Exports, Average Income\n",
    "\n",
    "## Important\n",
    "- <b>Politics</b>\n",
    "    - Partisan segration, polarity\n",
    "- <b>Education</b>\n",
    "- Abundance of housing units - ?\n",
    "- City Age/History\n",
    "- <b>Main Industry Sector</b>\n",
    "- <b> Economic Measures</b>\n",
    "- <b>Geographic Location</b>\n",
    "    - Proximity to other cities, metro centres\n",
    "- Number of highways, transporation infrastructure\n",
    "\n",
    "# TO-DO:\n",
    "- Add more features, fix poverty data"
   ]
  },
  {
   "cell_type": "code",
   "execution_count": 2,
   "metadata": {},
   "outputs": [
    {
     "data": {
      "text/html": "<div>\n<style scoped>\n    .dataframe tbody tr th:only-of-type {\n        vertical-align: middle;\n    }\n\n    .dataframe tbody tr th {\n        vertical-align: top;\n    }\n\n    .dataframe thead th {\n        text-align: right;\n    }\n</style>\n<table border=\"1\" class=\"dataframe\">\n  <thead>\n    <tr style=\"text-align: right;\">\n      <th></th>\n      <th>ratio_of_public_transport</th>\n    </tr>\n    <tr>\n      <th>metro_name</th>\n      <th></th>\n    </tr>\n  </thead>\n  <tbody>\n    <tr>\n      <th>College Station-Bryan, TX Metro Area</th>\n      <td>1.274381</td>\n    </tr>\n    <tr>\n      <th>Colorado Springs, CO Metro Area</th>\n      <td>1.098373</td>\n    </tr>\n    <tr>\n      <th>Columbia, MO Metro Area</th>\n      <td>0.216680</td>\n    </tr>\n    <tr>\n      <th>Columbia, SC Metro Area</th>\n      <td>0.872824</td>\n    </tr>\n    <tr>\n      <th>Columbia, TN Micro Area</th>\n      <td>-2.025492</td>\n    </tr>\n    <tr>\n      <th>...</th>\n      <td>...</td>\n    </tr>\n    <tr>\n      <th>Willmar, MN Micro Area</th>\n      <td>0.440277</td>\n    </tr>\n    <tr>\n      <th>Wilmington, NC Metro Area</th>\n      <td>0.481194</td>\n    </tr>\n    <tr>\n      <th>Wilmington, OH Micro Area</th>\n      <td>-0.010236</td>\n    </tr>\n    <tr>\n      <th>Wilson, NC Micro Area</th>\n      <td>0.047177</td>\n    </tr>\n    <tr>\n      <th>Winchester, VA-WV Metro Area</th>\n      <td>0.847895</td>\n    </tr>\n  </tbody>\n</table>\n<p>955 rows × 1 columns</p>\n</div>",
      "text/plain": "                                      ratio_of_public_transport\nmetro_name                                                     \nCollege Station-Bryan, TX Metro Area                   1.274381\nColorado Springs, CO Metro Area                        1.098373\nColumbia, MO Metro Area                                0.216680\nColumbia, SC Metro Area                                0.872824\nColumbia, TN Micro Area                               -2.025492\n...                                                         ...\nWillmar, MN Micro Area                                 0.440277\nWilmington, NC Metro Area                              0.481194\nWilmington, OH Micro Area                             -0.010236\nWilson, NC Micro Area                                  0.047177\nWinchester, VA-WV Metro Area                           0.847895\n\n[955 rows x 1 columns]"
     },
     "execution_count": 2,
     "metadata": {},
     "output_type": "execute_result"
    }
   ],
   "source": [
    "# Import Necessary Libraries\n",
    "import numpy as np \n",
    "import pandas as pd\n",
    "\n",
    "# FEATURE 1: RATIO OF PEOPLE TAKING PUBLIC TRANSPORATION TO WORK\n",
    "\n",
    "transportation_data = pd.read_csv('../datasets/transportation_data/ACSST5Y2010.S0802_data_with_overlays_2020-03-04T134515.csv')\n",
    "\n",
    "# Filter data to get only appropriate metropolitan areas\n",
    "transportation_data = transportation_data[~transportation_data.NAME.str.contains('United State')]\n",
    "\n",
    "# Log-transform\n",
    "num_public_transport = np.log10(np.ma.array(transportation_data['S0802_C04_001E'].to_numpy()[1:].astype(int)))\n",
    "num_workers = np.log10(np.ma.array(transportation_data['S0802_C01_001E'].to_numpy()[1:].astype(int)))\n",
    "ratio = np.divide(num_public_transport, num_workers)\n",
    "\n",
    "# Standardisation, Feature Scaling\n",
    "ratio = (ratio - np.mean(ratio))/(ratio.std())\n",
    "ratio = [float(r) for r in ratio]\n",
    "\n",
    "# Create new DataFrame with each metro area and corresponding attribute values\n",
    "new_df = pd.DataFrame(zip(transportation_data['NAME'].to_numpy()[1:],  ratio), columns = ['metro_name', 'ratio_of_public_transport']).set_index('metro_name')\n",
    "new_df['ratio_of_public_transport'].fillna(0, inplace = True)\n",
    "new_df"
   ]
  },
  {
   "cell_type": "code",
   "execution_count": 3,
   "metadata": {},
   "outputs": [
    {
     "data": {
      "text/html": "<div>\n<style scoped>\n    .dataframe tbody tr th:only-of-type {\n        vertical-align: middle;\n    }\n\n    .dataframe tbody tr th {\n        vertical-align: top;\n    }\n\n    .dataframe thead th {\n        text-align: right;\n    }\n</style>\n<table border=\"1\" class=\"dataframe\">\n  <thead>\n    <tr style=\"text-align: right;\">\n      <th></th>\n      <th>ratio_of_public_transport</th>\n      <th>median_income</th>\n    </tr>\n    <tr>\n      <th>metro_name</th>\n      <th></th>\n      <th></th>\n    </tr>\n  </thead>\n  <tbody>\n    <tr>\n      <th>College Station-Bryan, TX Metro Area</th>\n      <td>1.274381</td>\n      <td>-0.524099</td>\n    </tr>\n    <tr>\n      <th>Colorado Springs, CO Metro Area</th>\n      <td>1.098373</td>\n      <td>1.148940</td>\n    </tr>\n    <tr>\n      <th>Columbia, MO Metro Area</th>\n      <td>0.216680</td>\n      <td>0.219432</td>\n    </tr>\n    <tr>\n      <th>Columbia, SC Metro Area</th>\n      <td>0.872824</td>\n      <td>0.475929</td>\n    </tr>\n    <tr>\n      <th>Columbia, TN Micro Area</th>\n      <td>-2.025492</td>\n      <td>0.288121</td>\n    </tr>\n    <tr>\n      <th>...</th>\n      <td>...</td>\n      <td>...</td>\n    </tr>\n    <tr>\n      <th>Willmar, MN Micro Area</th>\n      <td>0.440277</td>\n      <td>0.583197</td>\n    </tr>\n    <tr>\n      <th>Wilmington, NC Metro Area</th>\n      <td>0.481194</td>\n      <td>0.353888</td>\n    </tr>\n    <tr>\n      <th>Wilmington, OH Micro Area</th>\n      <td>-0.010236</td>\n      <td>0.286517</td>\n    </tr>\n    <tr>\n      <th>Wilson, NC Micro Area</th>\n      <td>0.047177</td>\n      <td>-0.504815</td>\n    </tr>\n    <tr>\n      <th>Winchester, VA-WV Metro Area</th>\n      <td>0.847895</td>\n      <td>0.728620</td>\n    </tr>\n  </tbody>\n</table>\n<p>955 rows × 2 columns</p>\n</div>",
      "text/plain": "                                      ratio_of_public_transport  median_income\nmetro_name                                                                    \nCollege Station-Bryan, TX Metro Area                   1.274381      -0.524099\nColorado Springs, CO Metro Area                        1.098373       1.148940\nColumbia, MO Metro Area                                0.216680       0.219432\nColumbia, SC Metro Area                                0.872824       0.475929\nColumbia, TN Micro Area                               -2.025492       0.288121\n...                                                         ...            ...\nWillmar, MN Micro Area                                 0.440277       0.583197\nWilmington, NC Metro Area                              0.481194       0.353888\nWilmington, OH Micro Area                             -0.010236       0.286517\nWilson, NC Micro Area                                  0.047177      -0.504815\nWinchester, VA-WV Metro Area                           0.847895       0.728620\n\n[955 rows x 2 columns]"
     },
     "execution_count": 3,
     "metadata": {},
     "output_type": "execute_result"
    }
   ],
   "source": [
    "\n",
    "\n",
    "# FEATURE 2: MEDIAN HOUSEHOLD INCOME\n",
    "\n",
    "income_data = pd.read_csv('../datasets/income_data/ACSST5Y2010.S2503_data_with_overlays_2020-03-04T163518.csv')\n",
    "income_data = income_data[~income_data.NAME.str.contains('United States')]\n",
    "\n",
    "# Log-transform\n",
    "median_income = np.log10(np.ma.array(income_data['S2503_C01_013E'].to_numpy()[1:].astype(int)))\n",
    "\n",
    "# Standardise\n",
    "median_income = (median_income - np.mean(median_income))/(median_income.std())\n",
    "\n",
    "# Make sure every element of the median_income column is a float\n",
    "new_df['median_income'] = [float(m) for m in median_income]\n",
    "new_df"
   ]
  },
  {
   "cell_type": "code",
   "execution_count": 4,
   "metadata": {},
   "outputs": [],
   "source": [
    "# FEATURE 3: PERCENT BELOW POVERTY LEVEL\n",
    "\n",
    "##### CURRENTLY NOT WORKING #####\n",
    "\n",
    "# poverty_data = pd.read_csv('../datasets/poverty_data/ACSST1Y2010.S1701_data_with_overlays_2020-03-04T183351.csv')\n",
    "# poverty_data = poverty_data[~poverty_data.NAME.str.contains('United States')]\n",
    "\n",
    "# percentages = poverty_data['S1701_C03_001E'].to_numpy()[1:].astype(float)\n",
    "# percentages = (percentages - np.mean(percentages)) / np.std(percentages)\n",
    "# poverty_df = pd.DataFrame(zip(poverty_data['NAME'][1:], percentages),\n",
    "#              columns = ['metro_name', 'pctg_below_poverty_line'])\n",
    "            \n",
    "# new_df = new_df.join(poverty_df.set_index('metro_name'), on = 'metro_name')\n",
    "# poverty_mean = np.mean(new_df['pctg_below_poverty_line'])\n",
    "# new_df['pctg_below_poverty_line'] = new_df['pctg_below_poverty_line'].fillna(poverty_mean, inplace = True)"
   ]
  },
  {
   "cell_type": "code",
   "execution_count": 5,
   "metadata": {},
   "outputs": [
    {
     "data": {
      "text/html": "<div>\n<style scoped>\n    .dataframe tbody tr th:only-of-type {\n        vertical-align: middle;\n    }\n\n    .dataframe tbody tr th {\n        vertical-align: top;\n    }\n\n    .dataframe thead th {\n        text-align: right;\n    }\n</style>\n<table border=\"1\" class=\"dataframe\">\n  <thead>\n    <tr style=\"text-align: right;\">\n      <th></th>\n      <th>ratio_of_public_transport</th>\n      <th>median_income</th>\n      <th>enrolled_in_school</th>\n    </tr>\n    <tr>\n      <th>metro_name</th>\n      <th></th>\n      <th></th>\n      <th></th>\n    </tr>\n  </thead>\n  <tbody>\n    <tr>\n      <th>College Station-Bryan, TX Metro Area</th>\n      <td>1.274381</td>\n      <td>-0.524099</td>\n      <td>1.031626</td>\n    </tr>\n    <tr>\n      <th>Colorado Springs, CO Metro Area</th>\n      <td>1.098373</td>\n      <td>1.148940</td>\n      <td>1.561631</td>\n    </tr>\n    <tr>\n      <th>Columbia, MO Metro Area</th>\n      <td>0.216680</td>\n      <td>0.219432</td>\n      <td>0.696153</td>\n    </tr>\n    <tr>\n      <th>Columbia, SC Metro Area</th>\n      <td>0.872824</td>\n      <td>0.475929</td>\n      <td>1.687845</td>\n    </tr>\n    <tr>\n      <th>Columbia, TN Micro Area</th>\n      <td>-2.025492</td>\n      <td>0.288121</td>\n      <td>-0.251108</td>\n    </tr>\n    <tr>\n      <th>...</th>\n      <td>...</td>\n      <td>...</td>\n      <td>...</td>\n    </tr>\n    <tr>\n      <th>Willmar, MN Micro Area</th>\n      <td>0.440277</td>\n      <td>0.583197</td>\n      <td>-0.715944</td>\n    </tr>\n    <tr>\n      <th>Wilmington, NC Metro Area</th>\n      <td>0.481194</td>\n      <td>0.353888</td>\n      <td>0.954770</td>\n    </tr>\n    <tr>\n      <th>Wilmington, OH Micro Area</th>\n      <td>-0.010236</td>\n      <td>0.286517</td>\n      <td>-0.682515</td>\n    </tr>\n    <tr>\n      <th>Wilson, NC Micro Area</th>\n      <td>0.047177</td>\n      <td>-0.504815</td>\n      <td>-0.135704</td>\n    </tr>\n    <tr>\n      <th>Winchester, VA-WV Metro Area</th>\n      <td>0.847895</td>\n      <td>0.728620</td>\n      <td>0.152238</td>\n    </tr>\n  </tbody>\n</table>\n<p>955 rows × 3 columns</p>\n</div>",
      "text/plain": "                                      ratio_of_public_transport  \\\nmetro_name                                                        \nCollege Station-Bryan, TX Metro Area                   1.274381   \nColorado Springs, CO Metro Area                        1.098373   \nColumbia, MO Metro Area                                0.216680   \nColumbia, SC Metro Area                                0.872824   \nColumbia, TN Micro Area                               -2.025492   \n...                                                         ...   \nWillmar, MN Micro Area                                 0.440277   \nWilmington, NC Metro Area                              0.481194   \nWilmington, OH Micro Area                             -0.010236   \nWilson, NC Micro Area                                  0.047177   \nWinchester, VA-WV Metro Area                           0.847895   \n\n                                      median_income  enrolled_in_school  \nmetro_name                                                               \nCollege Station-Bryan, TX Metro Area      -0.524099            1.031626  \nColorado Springs, CO Metro Area            1.148940            1.561631  \nColumbia, MO Metro Area                    0.219432            0.696153  \nColumbia, SC Metro Area                    0.475929            1.687845  \nColumbia, TN Micro Area                    0.288121           -0.251108  \n...                                             ...                 ...  \nWillmar, MN Micro Area                     0.583197           -0.715944  \nWilmington, NC Metro Area                  0.353888            0.954770  \nWilmington, OH Micro Area                  0.286517           -0.682515  \nWilson, NC Micro Area                     -0.504815           -0.135704  \nWinchester, VA-WV Metro Area               0.728620            0.152238  \n\n[955 rows x 3 columns]"
     },
     "execution_count": 5,
     "metadata": {},
     "output_type": "execute_result"
    }
   ],
   "source": [
    "# FEATURE 4: POPULATION OF PEOPLE 3 AND OVER ENROLLED IN SCHOOL\n",
    "\n",
    "school_data = pd.read_csv('../datasets/school_data/ACSST5Y2010.S1401_data_with_overlays_2020-03-04T192940.csv')\n",
    "\n",
    "# Log-transform, standardise\n",
    "enrolled = np.log10(np.ma.array(school_data['S1401_C01_001E'].to_numpy()[1:].astype(int)))\n",
    "enrolled = (enrolled - np.mean(enrolled)) / np.std(enrolled)\n",
    "\n",
    "# Correct type, save to test DataFrame\n",
    "new_df['enrolled_in_school'] = [float(e) for e in enrolled]\n",
    "new_df.to_csv('test_01.csv')\n",
    "new_df"
   ]
  },
  {
   "cell_type": "code",
   "execution_count": null,
   "metadata": {},
   "outputs": [],
   "source": []
  }
 ]
}