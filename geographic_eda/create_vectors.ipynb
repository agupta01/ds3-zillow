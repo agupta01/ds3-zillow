{
 "cells": [
  {
   "cell_type": "markdown",
   "metadata": {},
   "source": [
    "# Statistics to Use (Ideas)\n",
    "- Political - ?\n",
    "- Population Density\n",
    "- Migration patterns\n",
    "- Age demographics\n",
    "- Culture - ?\n",
    "- Interest Rates\n",
    "- GDP\n",
    "- Number of housing units\n",
    "- Proximity to social/metro centres\n",
    "- City Age -- History (how would we quantify?) \n",
    "- Imports/Exports - ?\n",
    "- Main Industry/Sector - Resources, raw materials\n",
    "- Average Income\n",
    "- Number of Schools, Education\n",
    "- Geographic Location\n",
    "- Number of highways, transporation infrastructure\n",
    "- Terrain \n",
    "\n",
    "## Economic\n",
    "Interest Rates, GDP, Imports/Exports, Average Income\n",
    "\n",
    "## Important\n",
    "- <b>Politics</b>\n",
    "    - Partisan segration, polarity\n",
    "- <b>Education</b>\n",
    "- Abundance of housing units - ?\n",
    "- City Age/History\n",
    "- <b>Main Industry Sector</b>\n",
    "- <b> Economic Measures</b>\n",
    "- <b>Geographic Location</b>\n",
    "    - Proximity to other cities, metro centres\n",
    "- Number of highways, transporation infrastructure\n",
    "\n",
    "# TO-DO:\n",
    "- Add more features, fix poverty data"
   ]
  },
  {
   "cell_type": "code",
   "execution_count": 20,
   "metadata": {},
   "outputs": [
    {
     "data": {
      "text/html": "<div>\n<style scoped>\n    .dataframe tbody tr th:only-of-type {\n        vertical-align: middle;\n    }\n\n    .dataframe tbody tr th {\n        vertical-align: top;\n    }\n\n    .dataframe thead th {\n        text-align: right;\n    }\n</style>\n<table border=\"1\" class=\"dataframe\">\n  <thead>\n    <tr style=\"text-align: right;\">\n      <th></th>\n      <th>ratio_of_public_transport</th>\n    </tr>\n    <tr>\n      <th>metro_name</th>\n      <th></th>\n    </tr>\n  </thead>\n  <tbody>\n    <tr>\n      <th>Abbeville, LA</th>\n      <td>-0.355924</td>\n    </tr>\n    <tr>\n      <th>Aberdeen, SD</th>\n      <td>-0.362291</td>\n    </tr>\n    <tr>\n      <th>Aberdeen, WA</th>\n      <td>0.248173</td>\n    </tr>\n    <tr>\n      <th>Abilene, TX</th>\n      <td>-0.332337</td>\n    </tr>\n    <tr>\n      <th>Ada, OK</th>\n      <td>-0.520086</td>\n    </tr>\n    <tr>\n      <th>...</th>\n      <td>...</td>\n    </tr>\n    <tr>\n      <th>York-Hanover, PA</th>\n      <td>0.002138</td>\n    </tr>\n    <tr>\n      <th>Youngstown-Warren-Boardman, OH-PA</th>\n      <td>-0.186601</td>\n    </tr>\n    <tr>\n      <th>Yuba City, CA</th>\n      <td>-0.016467</td>\n    </tr>\n    <tr>\n      <th>Yuma, AZ</th>\n      <td>0.635026</td>\n    </tr>\n    <tr>\n      <th>Zanesville, OH</th>\n      <td>-0.383124</td>\n    </tr>\n  </tbody>\n</table>\n<p>955 rows × 1 columns</p>\n</div>",
      "text/plain": "                                   ratio_of_public_transport\nmetro_name                                                  \nAbbeville, LA                                      -0.355924\nAberdeen, SD                                       -0.362291\nAberdeen, WA                                        0.248173\nAbilene, TX                                        -0.332337\nAda, OK                                            -0.520086\n...                                                      ...\nYork-Hanover, PA                                    0.002138\nYoungstown-Warren-Boardman, OH-PA                  -0.186601\nYuba City, CA                                      -0.016467\nYuma, AZ                                            0.635026\nZanesville, OH                                     -0.383124\n\n[955 rows x 1 columns]"
     },
     "execution_count": 20,
     "metadata": {},
     "output_type": "execute_result"
    }
   ],
   "source": [
    "# Import Necessary Libraries\n",
    "import numpy as np \n",
    "import pandas as pd\n",
    "\n",
    "# FEATURE 1: RATIO OF PEOPLE TAKING PUBLIC TRANSPORATION TO WORK\n",
    "\n",
    "transportation_data = pd.read_csv('../datasets/transportation_data/ACSST5Y2010.S0802_data_with_overlays_2020-03-04T134515.csv')\n",
    "transportation_data.NAME = transportation_data.NAME.map(lambda x: x.replace(' Metro Area', '').replace(' Micro Area', ''))\n",
    "\n",
    "\n",
    "# Filter data to get only appropriate metropolitan areas\n",
    "transportation_data = transportation_data[~transportation_data.NAME.str.contains('United State')]\n",
    "num_public_transport = transportation_data['S0802_C04_001E'].to_numpy()[1:].astype(int)\n",
    "num_workers = transportation_data['S0802_C01_001E'].to_numpy()[1:].astype(int)\n",
    "ratio = np.divide(num_public_transport, num_workers)\n",
    "\n",
    "# Standardisation, Feature Scaling\n",
    "ratio = (ratio - np.mean(ratio))/(ratio.std())\n",
    "ratio = [float(r) for r in ratio]\n",
    "\n",
    "# Create new DataFrame with each metro area and corresponding attribute values\n",
    "new_df = pd.DataFrame(zip(transportation_data['NAME'].to_numpy()[1:],  ratio), columns = ['metro_name', 'ratio_of_public_transport']).set_index('metro_name').sort_values('metro_name')\n",
    "new_df['ratio_of_public_transport'].fillna(0, inplace = True)\n",
    "new_df"
   ]
  },
  {
   "cell_type": "code",
   "execution_count": 21,
   "metadata": {},
   "outputs": [],
   "source": [
    "# Standardise a pandas Series to prepare for K-Means\n",
    "def standardise(df, series):\n",
    "    df = df.copy(deep = False)\n",
    "    column = df.loc[:, series]\n",
    "    standardised = (column - column.mean()) / column.std()\n",
    "    return standardised\n",
    "\n",
    "# Standardise when converted to array\n",
    "def standardise_array(arr):\n",
    "    return (arr - arr.mean()) / arr.std()"
   ]
  },
  {
   "cell_type": "code",
   "execution_count": 22,
   "metadata": {},
   "outputs": [
    {
     "data": {
      "text/html": "<div>\n<style scoped>\n    .dataframe tbody tr th:only-of-type {\n        vertical-align: middle;\n    }\n\n    .dataframe tbody tr th {\n        vertical-align: top;\n    }\n\n    .dataframe thead th {\n        text-align: right;\n    }\n</style>\n<table border=\"1\" class=\"dataframe\">\n  <thead>\n    <tr style=\"text-align: right;\">\n      <th></th>\n      <th>ratio_of_public_transport</th>\n      <th>median_income</th>\n    </tr>\n    <tr>\n      <th>metro_name</th>\n      <th></th>\n      <th></th>\n    </tr>\n  </thead>\n  <tbody>\n    <tr>\n      <th>Abbeville, LA</th>\n      <td>-0.355924</td>\n      <td>-0.622420</td>\n    </tr>\n    <tr>\n      <th>Aberdeen, SD</th>\n      <td>-0.362291</td>\n      <td>1.245645</td>\n    </tr>\n    <tr>\n      <th>Aberdeen, WA</th>\n      <td>0.248173</td>\n      <td>0.120348</td>\n    </tr>\n    <tr>\n      <th>Abilene, TX</th>\n      <td>-0.332337</td>\n      <td>0.407350</td>\n    </tr>\n    <tr>\n      <th>Ada, OK</th>\n      <td>-0.520086</td>\n      <td>0.195562</td>\n    </tr>\n    <tr>\n      <th>...</th>\n      <td>...</td>\n      <td>...</td>\n    </tr>\n    <tr>\n      <th>York-Hanover, PA</th>\n      <td>0.002138</td>\n      <td>0.532464</td>\n    </tr>\n    <tr>\n      <th>Youngstown-Warren-Boardman, OH-PA</th>\n      <td>-0.186601</td>\n      <td>0.268693</td>\n    </tr>\n    <tr>\n      <th>Yuba City, CA</th>\n      <td>-0.016467</td>\n      <td>0.193791</td>\n    </tr>\n    <tr>\n      <th>Yuma, AZ</th>\n      <td>0.635026</td>\n      <td>-0.604710</td>\n    </tr>\n    <tr>\n      <th>Zanesville, OH</th>\n      <td>-0.383124</td>\n      <td>0.707061</td>\n    </tr>\n  </tbody>\n</table>\n<p>955 rows × 2 columns</p>\n</div>",
      "text/plain": "                                   ratio_of_public_transport  median_income\nmetro_name                                                                 \nAbbeville, LA                                      -0.355924      -0.622420\nAberdeen, SD                                       -0.362291       1.245645\nAberdeen, WA                                        0.248173       0.120348\nAbilene, TX                                        -0.332337       0.407350\nAda, OK                                            -0.520086       0.195562\n...                                                      ...            ...\nYork-Hanover, PA                                    0.002138       0.532464\nYoungstown-Warren-Boardman, OH-PA                  -0.186601       0.268693\nYuba City, CA                                      -0.016467       0.193791\nYuma, AZ                                            0.635026      -0.604710\nZanesville, OH                                     -0.383124       0.707061\n\n[955 rows x 2 columns]"
     },
     "execution_count": 22,
     "metadata": {},
     "output_type": "execute_result"
    }
   ],
   "source": [
    "\n",
    "# FEATURE 2: MEDIAN HOUSEHOLD INCOME\n",
    "\n",
    "income_data = pd.read_csv('../datasets/income_data/ACSST5Y2010.S2503_data_with_overlays_2020-03-04T163518.csv')\n",
    "income_data = income_data[~income_data.NAME.str.contains('United States')]\n",
    "income_data.NAME = income_data.NAME.map(lambda x: x.replace(' Metro Area', '').replace(' Micro Area', ''))\n",
    "median_income = income_data['S2503_C01_013E'].to_numpy()[1:].astype(int)\n",
    "\n",
    "# Standardise\n",
    "median_income = standardise_array(median_income)\n",
    "\n",
    "# Make sure every element of the median_income column is a float\n",
    "new_df['median_income'] = [float(m) for m in median_income]\n",
    "new_df"
   ]
  },
  {
   "cell_type": "code",
   "execution_count": 23,
   "metadata": {},
   "outputs": [
    {
     "data": {
      "text/html": "<div>\n<style scoped>\n    .dataframe tbody tr th:only-of-type {\n        vertical-align: middle;\n    }\n\n    .dataframe tbody tr th {\n        vertical-align: top;\n    }\n\n    .dataframe thead th {\n        text-align: right;\n    }\n</style>\n<table border=\"1\" class=\"dataframe\">\n  <thead>\n    <tr style=\"text-align: right;\">\n      <th></th>\n      <th>metro_name</th>\n      <th>ratio_of_public_transport</th>\n      <th>median_income</th>\n      <th>pctg_below_poverty_line</th>\n    </tr>\n  </thead>\n  <tbody>\n    <tr>\n      <th>0</th>\n      <td>Abbeville, LA</td>\n      <td>-0.355924</td>\n      <td>-0.622420</td>\n      <td>0.000000</td>\n    </tr>\n    <tr>\n      <th>1</th>\n      <td>Aberdeen, SD</td>\n      <td>-0.362291</td>\n      <td>1.245645</td>\n      <td>0.000000</td>\n    </tr>\n    <tr>\n      <th>2</th>\n      <td>Aberdeen, WA</td>\n      <td>0.248173</td>\n      <td>0.120348</td>\n      <td>0.013290</td>\n    </tr>\n    <tr>\n      <th>3</th>\n      <td>Abilene, TX</td>\n      <td>-0.332337</td>\n      <td>0.407350</td>\n      <td>0.139864</td>\n    </tr>\n    <tr>\n      <th>4</th>\n      <td>Ada, OK</td>\n      <td>-0.520086</td>\n      <td>0.195562</td>\n      <td>0.000000</td>\n    </tr>\n    <tr>\n      <th>...</th>\n      <td>...</td>\n      <td>...</td>\n      <td>...</td>\n      <td>...</td>\n    </tr>\n    <tr>\n      <th>950</th>\n      <td>York-Hanover, PA</td>\n      <td>0.002138</td>\n      <td>0.532464</td>\n      <td>-1.252450</td>\n    </tr>\n    <tr>\n      <th>951</th>\n      <td>Youngstown-Warren-Boardman, OH-PA</td>\n      <td>-0.186601</td>\n      <td>0.268693</td>\n      <td>-0.002531</td>\n    </tr>\n    <tr>\n      <th>952</th>\n      <td>Yuba City, CA</td>\n      <td>-0.016467</td>\n      <td>0.193791</td>\n      <td>0.345547</td>\n    </tr>\n    <tr>\n      <th>953</th>\n      <td>Yuma, AZ</td>\n      <td>0.635026</td>\n      <td>-0.604710</td>\n      <td>0.472121</td>\n    </tr>\n    <tr>\n      <th>954</th>\n      <td>Zanesville, OH</td>\n      <td>-0.383124</td>\n      <td>0.707061</td>\n      <td>-0.002531</td>\n    </tr>\n  </tbody>\n</table>\n<p>955 rows × 4 columns</p>\n</div>",
      "text/plain": "                            metro_name  ratio_of_public_transport  \\\n0                        Abbeville, LA                  -0.355924   \n1                         Aberdeen, SD                  -0.362291   \n2                         Aberdeen, WA                   0.248173   \n3                          Abilene, TX                  -0.332337   \n4                              Ada, OK                  -0.520086   \n..                                 ...                        ...   \n950                   York-Hanover, PA                   0.002138   \n951  Youngstown-Warren-Boardman, OH-PA                  -0.186601   \n952                      Yuba City, CA                  -0.016467   \n953                           Yuma, AZ                   0.635026   \n954                     Zanesville, OH                  -0.383124   \n\n     median_income  pctg_below_poverty_line  \n0        -0.622420                 0.000000  \n1         1.245645                 0.000000  \n2         0.120348                 0.013290  \n3         0.407350                 0.139864  \n4         0.195562                 0.000000  \n..             ...                      ...  \n950       0.532464                -1.252450  \n951       0.268693                -0.002531  \n952       0.193791                 0.345547  \n953      -0.604710                 0.472121  \n954       0.707061                -0.002531  \n\n[955 rows x 4 columns]"
     },
     "execution_count": 23,
     "metadata": {},
     "output_type": "execute_result"
    }
   ],
   "source": [
    "# FEATURE 3: PERCENT BELOW POVERTY LEVEL\n",
    "\n",
    "#### CURRENTLY NOT WORKING #####\n",
    "\n",
    "poverty_data = pd.read_csv('../datasets/poverty_data/ACSST1Y2010.S1701_data_with_overlays_2020-03-04T183351.csv')\n",
    "poverty_data = poverty_data[~poverty_data.NAME.str.contains('United States')]\n",
    "poverty_data.NAME = poverty_data.NAME.map(lambda x: x.replace(' Metro Area', '').replace(' Micro Area', ''))\n",
    "percentages = poverty_data['S1701_C03_001E'].to_numpy()[1:].astype(float)\n",
    "percentages = standardise_array(percentages)\n",
    "\n",
    "poverty_df = pd.DataFrame(zip(poverty_data['NAME'][1:], percentages),\n",
    "             columns = ['metro_name', 'pctg_below_poverty_line']).sort_values('metro_name')\n",
    "\n",
    "new_df2 = new_df.merge(poverty_df, on = 'metro_name', how='outer', suffixes=('', '_y')).fillna(0)\n",
    "new_df2                 "
   ]
  },
  {
   "cell_type": "code",
   "execution_count": 40,
   "metadata": {},
   "outputs": [
    {
     "data": {
      "text/html": "<div>\n<style scoped>\n    .dataframe tbody tr th:only-of-type {\n        vertical-align: middle;\n    }\n\n    .dataframe tbody tr th {\n        vertical-align: top;\n    }\n\n    .dataframe thead th {\n        text-align: right;\n    }\n</style>\n<table border=\"1\" class=\"dataframe\">\n  <thead>\n    <tr style=\"text-align: right;\">\n      <th></th>\n      <th>metro_name</th>\n      <th>ratio_of_public_transport</th>\n      <th>median_income</th>\n      <th>pctg_below_poverty_line</th>\n      <th>enrolled_in_school</th>\n    </tr>\n  </thead>\n  <tbody>\n    <tr>\n      <th>0</th>\n      <td>Abbeville, LA</td>\n      <td>-0.355924</td>\n      <td>-0.622420</td>\n      <td>0.000000</td>\n      <td>0.035869</td>\n    </tr>\n    <tr>\n      <th>1</th>\n      <td>Aberdeen, SD</td>\n      <td>-0.362291</td>\n      <td>1.245645</td>\n      <td>0.000000</td>\n      <td>0.346162</td>\n    </tr>\n    <tr>\n      <th>2</th>\n      <td>Aberdeen, WA</td>\n      <td>0.248173</td>\n      <td>0.120348</td>\n      <td>0.013290</td>\n      <td>-0.077303</td>\n    </tr>\n    <tr>\n      <th>3</th>\n      <td>Abilene, TX</td>\n      <td>-0.332337</td>\n      <td>0.407350</td>\n      <td>0.139864</td>\n      <td>0.455581</td>\n    </tr>\n    <tr>\n      <th>4</th>\n      <td>Ada, OK</td>\n      <td>-0.520086</td>\n      <td>0.195562</td>\n      <td>0.000000</td>\n      <td>-0.228167</td>\n    </tr>\n    <tr>\n      <th>...</th>\n      <td>...</td>\n      <td>...</td>\n      <td>...</td>\n      <td>...</td>\n      <td>...</td>\n    </tr>\n    <tr>\n      <th>950</th>\n      <td>York-Hanover, PA</td>\n      <td>0.002138</td>\n      <td>0.532464</td>\n      <td>-1.252450</td>\n      <td>-0.257513</td>\n    </tr>\n    <tr>\n      <th>951</th>\n      <td>Youngstown-Warren-Boardman, OH-PA</td>\n      <td>-0.186601</td>\n      <td>0.268693</td>\n      <td>-0.002531</td>\n      <td>0.005607</td>\n    </tr>\n    <tr>\n      <th>952</th>\n      <td>Yuba City, CA</td>\n      <td>-0.016467</td>\n      <td>0.193791</td>\n      <td>0.345547</td>\n      <td>-0.255924</td>\n    </tr>\n    <tr>\n      <th>953</th>\n      <td>Yuma, AZ</td>\n      <td>0.635026</td>\n      <td>-0.604710</td>\n      <td>0.472121</td>\n      <td>-0.217837</td>\n    </tr>\n    <tr>\n      <th>954</th>\n      <td>Zanesville, OH</td>\n      <td>-0.383124</td>\n      <td>0.707061</td>\n      <td>-0.002531</td>\n      <td>-0.184530</td>\n    </tr>\n  </tbody>\n</table>\n<p>955 rows × 5 columns</p>\n</div>",
      "text/plain": "                            metro_name  ratio_of_public_transport  \\\n0                        Abbeville, LA                  -0.355924   \n1                         Aberdeen, SD                  -0.362291   \n2                         Aberdeen, WA                   0.248173   \n3                          Abilene, TX                  -0.332337   \n4                              Ada, OK                  -0.520086   \n..                                 ...                        ...   \n950                   York-Hanover, PA                   0.002138   \n951  Youngstown-Warren-Boardman, OH-PA                  -0.186601   \n952                      Yuba City, CA                  -0.016467   \n953                           Yuma, AZ                   0.635026   \n954                     Zanesville, OH                  -0.383124   \n\n     median_income  pctg_below_poverty_line  enrolled_in_school  \n0        -0.622420                 0.000000            0.035869  \n1         1.245645                 0.000000            0.346162  \n2         0.120348                 0.013290           -0.077303  \n3         0.407350                 0.139864            0.455581  \n4         0.195562                 0.000000           -0.228167  \n..             ...                      ...                 ...  \n950       0.532464                -1.252450           -0.257513  \n951       0.268693                -0.002531            0.005607  \n952       0.193791                 0.345547           -0.255924  \n953      -0.604710                 0.472121           -0.217837  \n954       0.707061                -0.002531           -0.184530  \n\n[955 rows x 5 columns]"
     },
     "execution_count": 40,
     "metadata": {},
     "output_type": "execute_result"
    }
   ],
   "source": [
    "# FEATURE 4: POPULATION OF PEOPLE 3 AND OVER ENROLLED IN SCHOOL\n",
    "\n",
    "school_data = pd.read_csv('../datasets/school_data/ACSST5Y2010.S1401_data_with_overlays_2020-03-04T192940.csv')\n",
    "school_data.NAME = school_data.NAME.map(lambda x: x.replace(' Metro Area', '').replace(' Micro Area', ''))\n",
    "\n",
    "# Log-transform, standardise\n",
    "enrolled = school_data['S1401_C01_001E'].to_numpy()[1:].astype(int)\n",
    "enrolled = standardise_array(enrolled)\n",
    "\n",
    "# Correct type, save to test DataFrame\n",
    "new_df2['enrolled_in_school'] = [float(e) for e in enrolled]\n",
    "new_df2.to_csv('test_01.csv')\n",
    "new_df2"
   ]
  },
  {
   "cell_type": "code",
   "execution_count": 41,
   "metadata": {},
   "outputs": [
    {
     "data": {
      "text/html": "<div>\n<style scoped>\n    .dataframe tbody tr th:only-of-type {\n        vertical-align: middle;\n    }\n\n    .dataframe tbody tr th {\n        vertical-align: top;\n    }\n\n    .dataframe thead th {\n        text-align: right;\n    }\n</style>\n<table border=\"1\" class=\"dataframe\">\n  <thead>\n    <tr style=\"text-align: right;\">\n      <th></th>\n      <th>metro_name</th>\n      <th>ratio_of_public_transport</th>\n      <th>median_income</th>\n      <th>pctg_below_poverty_line</th>\n      <th>enrolled_in_school</th>\n      <th>CBSA_ID</th>\n      <th>SQMI</th>\n      <th>HSE_UNITS</th>\n      <th>AVE_FAM_SZ</th>\n      <th>POP10_SQMI</th>\n    </tr>\n  </thead>\n  <tbody>\n    <tr>\n      <th>0</th>\n      <td>Aberdeen, SD</td>\n      <td>-0.362291</td>\n      <td>1.245645</td>\n      <td>0.000000</td>\n      <td>0.346162</td>\n      <td>10100</td>\n      <td>0.419313</td>\n      <td>-0.265327</td>\n      <td>0.373006</td>\n      <td>-0.551088</td>\n    </tr>\n    <tr>\n      <th>1</th>\n      <td>Aberdeen, WA</td>\n      <td>0.248173</td>\n      <td>0.120348</td>\n      <td>0.013290</td>\n      <td>-0.077303</td>\n      <td>10140</td>\n      <td>0.028771</td>\n      <td>-0.207854</td>\n      <td>0.414232</td>\n      <td>-0.426037</td>\n    </tr>\n    <tr>\n      <th>2</th>\n      <td>Abilene, TX</td>\n      <td>-0.332337</td>\n      <td>0.407350</td>\n      <td>0.139864</td>\n      <td>0.455581</td>\n      <td>10180</td>\n      <td>0.368355</td>\n      <td>-0.087447</td>\n      <td>0.480195</td>\n      <td>-0.307371</td>\n    </tr>\n    <tr>\n      <th>3</th>\n      <td>Ada, OK</td>\n      <td>-0.520086</td>\n      <td>0.195562</td>\n      <td>0.000000</td>\n      <td>-0.228167</td>\n      <td>10220</td>\n      <td>-0.465152</td>\n      <td>-0.272564</td>\n      <td>0.455459</td>\n      <td>-0.351006</td>\n    </tr>\n    <tr>\n      <th>4</th>\n      <td>Adrian, MI</td>\n      <td>-0.424802</td>\n      <td>0.868949</td>\n      <td>-0.429719</td>\n      <td>-0.224541</td>\n      <td>10300</td>\n      <td>-0.450319</td>\n      <td>-0.178981</td>\n      <td>0.463704</td>\n      <td>0.072041</td>\n    </tr>\n    <tr>\n      <th>...</th>\n      <td>...</td>\n      <td>...</td>\n      <td>...</td>\n      <td>...</td>\n      <td>...</td>\n      <td>...</td>\n      <td>...</td>\n      <td>...</td>\n      <td>...</td>\n      <td>...</td>\n    </tr>\n    <tr>\n      <th>794</th>\n      <td>York-Hanover, PA</td>\n      <td>0.002138</td>\n      <td>0.532464</td>\n      <td>-1.252450</td>\n      <td>-0.257513</td>\n      <td>49620</td>\n      <td>-0.389084</td>\n      <td>0.292187</td>\n      <td>0.447214</td>\n      <td>1.915353</td>\n    </tr>\n    <tr>\n      <th>795</th>\n      <td>Youngstown-Warren-Boardman, OH-PA</td>\n      <td>-0.186601</td>\n      <td>0.268693</td>\n      <td>-0.002531</td>\n      <td>0.005607</td>\n      <td>49660</td>\n      <td>-0.047236</td>\n      <td>0.574632</td>\n      <td>0.414232</td>\n      <td>1.099591</td>\n    </tr>\n    <tr>\n      <th>796</th>\n      <td>Yuba City, CA</td>\n      <td>-0.016467</td>\n      <td>0.193791</td>\n      <td>0.345547</td>\n      <td>-0.255924</td>\n      <td>49700</td>\n      <td>-0.248958</td>\n      <td>-0.116118</td>\n      <td>0.818251</td>\n      <td>0.083215</td>\n    </tr>\n    <tr>\n      <th>797</th>\n      <td>Yuma, AZ</td>\n      <td>0.635026</td>\n      <td>-0.604710</td>\n      <td>0.472121</td>\n      <td>-0.217837</td>\n      <td>49740</td>\n      <td>1.500424</td>\n      <td>-0.024277</td>\n      <td>0.785270</td>\n      <td>-0.437744</td>\n    </tr>\n    <tr>\n      <th>798</th>\n      <td>Zanesville, OH</td>\n      <td>-0.383124</td>\n      <td>0.707061</td>\n      <td>-0.002531</td>\n      <td>-0.184530</td>\n      <td>49780</td>\n      <td>-0.486748</td>\n      <td>-0.197721</td>\n      <td>0.422478</td>\n      <td>0.055012</td>\n    </tr>\n  </tbody>\n</table>\n<p>799 rows × 10 columns</p>\n</div>",
      "text/plain": "                            metro_name  ratio_of_public_transport  \\\n0                         Aberdeen, SD                  -0.362291   \n1                         Aberdeen, WA                   0.248173   \n2                          Abilene, TX                  -0.332337   \n3                              Ada, OK                  -0.520086   \n4                           Adrian, MI                  -0.424802   \n..                                 ...                        ...   \n794                   York-Hanover, PA                   0.002138   \n795  Youngstown-Warren-Boardman, OH-PA                  -0.186601   \n796                      Yuba City, CA                  -0.016467   \n797                           Yuma, AZ                   0.635026   \n798                     Zanesville, OH                  -0.383124   \n\n     median_income  pctg_below_poverty_line  enrolled_in_school  CBSA_ID  \\\n0         1.245645                 0.000000            0.346162    10100   \n1         0.120348                 0.013290           -0.077303    10140   \n2         0.407350                 0.139864            0.455581    10180   \n3         0.195562                 0.000000           -0.228167    10220   \n4         0.868949                -0.429719           -0.224541    10300   \n..             ...                      ...                 ...      ...   \n794       0.532464                -1.252450           -0.257513    49620   \n795       0.268693                -0.002531            0.005607    49660   \n796       0.193791                 0.345547           -0.255924    49700   \n797      -0.604710                 0.472121           -0.217837    49740   \n798       0.707061                -0.002531           -0.184530    49780   \n\n         SQMI  HSE_UNITS  AVE_FAM_SZ  POP10_SQMI  \n0    0.419313  -0.265327    0.373006   -0.551088  \n1    0.028771  -0.207854    0.414232   -0.426037  \n2    0.368355  -0.087447    0.480195   -0.307371  \n3   -0.465152  -0.272564    0.455459   -0.351006  \n4   -0.450319  -0.178981    0.463704    0.072041  \n..        ...        ...         ...         ...  \n794 -0.389084   0.292187    0.447214    1.915353  \n795 -0.047236   0.574632    0.414232    1.099591  \n796 -0.248958  -0.116118    0.818251    0.083215  \n797  1.500424  -0.024277    0.785270   -0.437744  \n798 -0.486748  -0.197721    0.422478    0.055012  \n\n[799 rows x 10 columns]"
     },
     "execution_count": 41,
     "metadata": {},
     "output_type": "execute_result"
    }
   ],
   "source": [
    "cbsa = pd.read_csv('../datasets/cbsa.csv')[['CBSA_ID', 'NAME', 'SQMI', 'HSE_UNITS', 'AVE_FAM_SZ', 'POP10_SQMI']]\n",
    "\n",
    "for col in cbsa.columns[2:]:\n",
    "    cbsa[col] = standardise(cbsa, col)\n",
    "\n",
    "new_df3 = new_df2.merge(cbsa, left_on = 'metro_name', right_on = 'NAME', how = 'inner')\n",
    "new_df3 = new_df3.dropna().drop(columns = ['NAME'])\n",
    "new_df3"
   ]
  },
  {
   "cell_type": "code",
   "execution_count": 45,
   "metadata": {},
   "outputs": [
    {
     "data": {
      "text/html": "<div>\n<style scoped>\n    .dataframe tbody tr th:only-of-type {\n        vertical-align: middle;\n    }\n\n    .dataframe tbody tr th {\n        vertical-align: top;\n    }\n\n    .dataframe thead th {\n        text-align: right;\n    }\n</style>\n<table border=\"1\" class=\"dataframe\">\n  <thead>\n    <tr style=\"text-align: right;\">\n      <th></th>\n      <th>CBSACode</th>\n      <th>democrat</th>\n      <th>green</th>\n      <th>republican</th>\n      <th>total</th>\n      <th>%democrat</th>\n      <th>%republican</th>\n    </tr>\n  </thead>\n  <tbody>\n    <tr>\n      <th>0</th>\n      <td>10100</td>\n      <td>422637.0</td>\n      <td>4661.0</td>\n      <td>571148.0</td>\n      <td>993785.0</td>\n      <td>0.425280</td>\n      <td>0.574720</td>\n    </tr>\n    <tr>\n      <th>1</th>\n      <td>10140</td>\n      <td>72221.0</td>\n      <td>1059.0</td>\n      <td>62181.0</td>\n      <td>134402.0</td>\n      <td>0.537351</td>\n      <td>0.462649</td>\n    </tr>\n    <tr>\n      <th>2</th>\n      <td>10180</td>\n      <td>231887.0</td>\n      <td>1619.0</td>\n      <td>515957.0</td>\n      <td>747844.0</td>\n      <td>0.310074</td>\n      <td>0.689926</td>\n    </tr>\n    <tr>\n      <th>3</th>\n      <td>10220</td>\n      <td>36182.0</td>\n      <td>84.0</td>\n      <td>90559.0</td>\n      <td>126741.0</td>\n      <td>0.285480</td>\n      <td>0.714520</td>\n    </tr>\n    <tr>\n      <th>4</th>\n      <td>10300</td>\n      <td>102318.0</td>\n      <td>760.0</td>\n      <td>117362.0</td>\n      <td>219680.0</td>\n      <td>0.465759</td>\n      <td>0.534241</td>\n    </tr>\n    <tr>\n      <th>...</th>\n      <td>...</td>\n      <td>...</td>\n      <td>...</td>\n      <td>...</td>\n      <td>...</td>\n      <td>...</td>\n      <td>...</td>\n    </tr>\n    <tr>\n      <th>900</th>\n      <td>49660</td>\n      <td>1372358.0</td>\n      <td>12786.0</td>\n      <td>1037424.0</td>\n      <td>2409782.0</td>\n      <td>0.569495</td>\n      <td>0.430505</td>\n    </tr>\n    <tr>\n      <th>901</th>\n      <td>49700</td>\n      <td>92418.0</td>\n      <td>1101.0</td>\n      <td>151179.0</td>\n      <td>243597.0</td>\n      <td>0.379389</td>\n      <td>0.620611</td>\n    </tr>\n    <tr>\n      <th>902</th>\n      <td>49740</td>\n      <td>94286.0</td>\n      <td>555.0</td>\n      <td>128224.0</td>\n      <td>222510.0</td>\n      <td>0.423738</td>\n      <td>0.576262</td>\n    </tr>\n    <tr>\n      <th>903</th>\n      <td>49780</td>\n      <td>75690.0</td>\n      <td>882.0</td>\n      <td>104115.0</td>\n      <td>179805.0</td>\n      <td>0.420956</td>\n      <td>0.579044</td>\n    </tr>\n    <tr>\n      <th>904</th>\n      <td>49820</td>\n      <td>9829.0</td>\n      <td>11.0</td>\n      <td>5126.0</td>\n      <td>14955.0</td>\n      <td>0.657238</td>\n      <td>0.342762</td>\n    </tr>\n  </tbody>\n</table>\n<p>905 rows × 7 columns</p>\n</div>",
      "text/plain": "     CBSACode   democrat    green  republican      total  %democrat  \\\n0       10100   422637.0   4661.0    571148.0   993785.0   0.425280   \n1       10140    72221.0   1059.0     62181.0   134402.0   0.537351   \n2       10180   231887.0   1619.0    515957.0   747844.0   0.310074   \n3       10220    36182.0     84.0     90559.0   126741.0   0.285480   \n4       10300   102318.0    760.0    117362.0   219680.0   0.465759   \n..        ...        ...      ...         ...        ...        ...   \n900     49660  1372358.0  12786.0   1037424.0  2409782.0   0.569495   \n901     49700    92418.0   1101.0    151179.0   243597.0   0.379389   \n902     49740    94286.0    555.0    128224.0   222510.0   0.423738   \n903     49780    75690.0    882.0    104115.0   179805.0   0.420956   \n904     49820     9829.0     11.0      5126.0    14955.0   0.657238   \n\n     %republican  \n0       0.574720  \n1       0.462649  \n2       0.689926  \n3       0.714520  \n4       0.534241  \n..           ...  \n900     0.430505  \n901     0.620611  \n902     0.576262  \n903     0.579044  \n904     0.342762  \n\n[905 rows x 7 columns]"
     },
     "execution_count": 45,
     "metadata": {},
     "output_type": "execute_result"
    }
   ],
   "source": [
    "political_data = pd.read_csv('../geographic_eda/pol_percents_DR.csv')\n",
    "political_data"
   ]
  },
  {
   "cell_type": "code",
   "execution_count": 52,
   "metadata": {},
   "outputs": [
    {
     "data": {
      "text/html": "<div>\n<style scoped>\n    .dataframe tbody tr th:only-of-type {\n        vertical-align: middle;\n    }\n\n    .dataframe tbody tr th {\n        vertical-align: top;\n    }\n\n    .dataframe thead th {\n        text-align: right;\n    }\n</style>\n<table border=\"1\" class=\"dataframe\">\n  <thead>\n    <tr style=\"text-align: right;\">\n      <th></th>\n      <th>metro_name</th>\n      <th>ratio_of_public_transport</th>\n      <th>median_income</th>\n      <th>pctg_below_poverty_line</th>\n      <th>enrolled_in_school</th>\n      <th>CBSA_ID</th>\n      <th>SQMI</th>\n      <th>HSE_UNITS</th>\n      <th>AVE_FAM_SZ</th>\n      <th>POP10_SQMI</th>\n      <th>CBSACode</th>\n      <th>%democrat</th>\n      <th>%republican</th>\n    </tr>\n  </thead>\n  <tbody>\n    <tr>\n      <th>0</th>\n      <td>Aberdeen, SD</td>\n      <td>-0.362291</td>\n      <td>1.245645</td>\n      <td>0.000000</td>\n      <td>0.346162</td>\n      <td>10100</td>\n      <td>0.419313</td>\n      <td>-0.265327</td>\n      <td>0.373006</td>\n      <td>-0.551088</td>\n      <td>10100.0</td>\n      <td>0.425280</td>\n      <td>0.574720</td>\n    </tr>\n    <tr>\n      <th>1</th>\n      <td>Aberdeen, WA</td>\n      <td>0.248173</td>\n      <td>0.120348</td>\n      <td>0.013290</td>\n      <td>-0.077303</td>\n      <td>10140</td>\n      <td>0.028771</td>\n      <td>-0.207854</td>\n      <td>0.414232</td>\n      <td>-0.426037</td>\n      <td>10140.0</td>\n      <td>0.537351</td>\n      <td>0.462649</td>\n    </tr>\n    <tr>\n      <th>2</th>\n      <td>Abilene, TX</td>\n      <td>-0.332337</td>\n      <td>0.407350</td>\n      <td>0.139864</td>\n      <td>0.455581</td>\n      <td>10180</td>\n      <td>0.368355</td>\n      <td>-0.087447</td>\n      <td>0.480195</td>\n      <td>-0.307371</td>\n      <td>10180.0</td>\n      <td>0.310074</td>\n      <td>0.689926</td>\n    </tr>\n    <tr>\n      <th>3</th>\n      <td>Ada, OK</td>\n      <td>-0.520086</td>\n      <td>0.195562</td>\n      <td>0.000000</td>\n      <td>-0.228167</td>\n      <td>10220</td>\n      <td>-0.465152</td>\n      <td>-0.272564</td>\n      <td>0.455459</td>\n      <td>-0.351006</td>\n      <td>10220.0</td>\n      <td>0.285480</td>\n      <td>0.714520</td>\n    </tr>\n    <tr>\n      <th>4</th>\n      <td>Adrian, MI</td>\n      <td>-0.424802</td>\n      <td>0.868949</td>\n      <td>-0.429719</td>\n      <td>-0.224541</td>\n      <td>10300</td>\n      <td>-0.450319</td>\n      <td>-0.178981</td>\n      <td>0.463704</td>\n      <td>0.072041</td>\n      <td>10300.0</td>\n      <td>0.465759</td>\n      <td>0.534241</td>\n    </tr>\n    <tr>\n      <th>...</th>\n      <td>...</td>\n      <td>...</td>\n      <td>...</td>\n      <td>...</td>\n      <td>...</td>\n      <td>...</td>\n      <td>...</td>\n      <td>...</td>\n      <td>...</td>\n      <td>...</td>\n      <td>...</td>\n      <td>...</td>\n      <td>...</td>\n    </tr>\n    <tr>\n      <th>794</th>\n      <td>York-Hanover, PA</td>\n      <td>0.002138</td>\n      <td>0.532464</td>\n      <td>-1.252450</td>\n      <td>-0.257513</td>\n      <td>49620</td>\n      <td>-0.389084</td>\n      <td>0.292187</td>\n      <td>0.447214</td>\n      <td>1.915353</td>\n      <td>49620.0</td>\n      <td>0.423997</td>\n      <td>0.576003</td>\n    </tr>\n    <tr>\n      <th>795</th>\n      <td>Youngstown-Warren-Boardman, OH-PA</td>\n      <td>-0.186601</td>\n      <td>0.268693</td>\n      <td>-0.002531</td>\n      <td>0.005607</td>\n      <td>49660</td>\n      <td>-0.047236</td>\n      <td>0.574632</td>\n      <td>0.414232</td>\n      <td>1.099591</td>\n      <td>49660.0</td>\n      <td>0.569495</td>\n      <td>0.430505</td>\n    </tr>\n    <tr>\n      <th>796</th>\n      <td>Yuba City, CA</td>\n      <td>-0.016467</td>\n      <td>0.193791</td>\n      <td>0.345547</td>\n      <td>-0.255924</td>\n      <td>49700</td>\n      <td>-0.248958</td>\n      <td>-0.116118</td>\n      <td>0.818251</td>\n      <td>0.083215</td>\n      <td>49700.0</td>\n      <td>0.379389</td>\n      <td>0.620611</td>\n    </tr>\n    <tr>\n      <th>797</th>\n      <td>Yuma, AZ</td>\n      <td>0.635026</td>\n      <td>-0.604710</td>\n      <td>0.472121</td>\n      <td>-0.217837</td>\n      <td>49740</td>\n      <td>1.500424</td>\n      <td>-0.024277</td>\n      <td>0.785270</td>\n      <td>-0.437744</td>\n      <td>49740.0</td>\n      <td>0.423738</td>\n      <td>0.576262</td>\n    </tr>\n    <tr>\n      <th>798</th>\n      <td>Zanesville, OH</td>\n      <td>-0.383124</td>\n      <td>0.707061</td>\n      <td>-0.002531</td>\n      <td>-0.184530</td>\n      <td>49780</td>\n      <td>-0.486748</td>\n      <td>-0.197721</td>\n      <td>0.422478</td>\n      <td>0.055012</td>\n      <td>49780.0</td>\n      <td>0.420956</td>\n      <td>0.579044</td>\n    </tr>\n  </tbody>\n</table>\n<p>799 rows × 13 columns</p>\n</div>",
      "text/plain": "                            metro_name  ratio_of_public_transport  \\\n0                         Aberdeen, SD                  -0.362291   \n1                         Aberdeen, WA                   0.248173   \n2                          Abilene, TX                  -0.332337   \n3                              Ada, OK                  -0.520086   \n4                           Adrian, MI                  -0.424802   \n..                                 ...                        ...   \n794                   York-Hanover, PA                   0.002138   \n795  Youngstown-Warren-Boardman, OH-PA                  -0.186601   \n796                      Yuba City, CA                  -0.016467   \n797                           Yuma, AZ                   0.635026   \n798                     Zanesville, OH                  -0.383124   \n\n     median_income  pctg_below_poverty_line  enrolled_in_school  CBSA_ID  \\\n0         1.245645                 0.000000            0.346162    10100   \n1         0.120348                 0.013290           -0.077303    10140   \n2         0.407350                 0.139864            0.455581    10180   \n3         0.195562                 0.000000           -0.228167    10220   \n4         0.868949                -0.429719           -0.224541    10300   \n..             ...                      ...                 ...      ...   \n794       0.532464                -1.252450           -0.257513    49620   \n795       0.268693                -0.002531            0.005607    49660   \n796       0.193791                 0.345547           -0.255924    49700   \n797      -0.604710                 0.472121           -0.217837    49740   \n798       0.707061                -0.002531           -0.184530    49780   \n\n         SQMI  HSE_UNITS  AVE_FAM_SZ  POP10_SQMI  CBSACode  %democrat  \\\n0    0.419313  -0.265327    0.373006   -0.551088   10100.0   0.425280   \n1    0.028771  -0.207854    0.414232   -0.426037   10140.0   0.537351   \n2    0.368355  -0.087447    0.480195   -0.307371   10180.0   0.310074   \n3   -0.465152  -0.272564    0.455459   -0.351006   10220.0   0.285480   \n4   -0.450319  -0.178981    0.463704    0.072041   10300.0   0.465759   \n..        ...        ...         ...         ...       ...        ...   \n794 -0.389084   0.292187    0.447214    1.915353   49620.0   0.423997   \n795 -0.047236   0.574632    0.414232    1.099591   49660.0   0.569495   \n796 -0.248958  -0.116118    0.818251    0.083215   49700.0   0.379389   \n797  1.500424  -0.024277    0.785270   -0.437744   49740.0   0.423738   \n798 -0.486748  -0.197721    0.422478    0.055012   49780.0   0.420956   \n\n     %republican  \n0       0.574720  \n1       0.462649  \n2       0.689926  \n3       0.714520  \n4       0.534241  \n..           ...  \n794     0.576003  \n795     0.430505  \n796     0.620611  \n797     0.576262  \n798     0.579044  \n\n[799 rows x 13 columns]"
     },
     "execution_count": 52,
     "metadata": {},
     "output_type": "execute_result"
    }
   ],
   "source": [
    "new_df4 = new_df3.merge(political_data, left_on = 'CBSA_ID', right_on = 'CBSACode', how = 'left').drop(columns = ['democrat', 'green', 'republican', 'total'])\n",
    "new_df4"
   ]
  },
  {
   "cell_type": "code",
   "execution_count": 79,
   "metadata": {},
   "outputs": [
    {
     "data": {
      "text/html": "<div>\n<style scoped>\n    .dataframe tbody tr th:only-of-type {\n        vertical-align: middle;\n    }\n\n    .dataframe tbody tr th {\n        vertical-align: top;\n    }\n\n    .dataframe thead th {\n        text-align: right;\n    }\n</style>\n<table border=\"1\" class=\"dataframe\">\n  <thead>\n    <tr style=\"text-align: right;\">\n      <th></th>\n      <th>metro_name</th>\n      <th>ratio_of_public_transport</th>\n      <th>median_income</th>\n      <th>pctg_below_poverty_line</th>\n      <th>enrolled_in_school</th>\n      <th>cbsa_id</th>\n      <th>sqmi</th>\n      <th>hse_units</th>\n      <th>avg_fam_sz</th>\n      <th>pop_sqmi</th>\n      <th>pct_dem</th>\n      <th>pct_repub</th>\n      <th>latitude</th>\n      <th>longitude</th>\n    </tr>\n  </thead>\n  <tbody>\n    <tr>\n      <th>0</th>\n      <td>Aberdeen, SD</td>\n      <td>-0.362291</td>\n      <td>1.245645</td>\n      <td>0.000000</td>\n      <td>0.346162</td>\n      <td>10100</td>\n      <td>0.419313</td>\n      <td>-0.265327</td>\n      <td>0.373006</td>\n      <td>-0.551088</td>\n      <td>-0.006796</td>\n      <td>0.006796</td>\n      <td>1.361289</td>\n      <td>-0.459699</td>\n    </tr>\n    <tr>\n      <th>24</th>\n      <td>Aberdeen, WA</td>\n      <td>0.248173</td>\n      <td>0.120348</td>\n      <td>0.013290</td>\n      <td>-0.077303</td>\n      <td>10140</td>\n      <td>0.028771</td>\n      <td>-0.207854</td>\n      <td>0.414232</td>\n      <td>-0.426037</td>\n      <td>1.023474</td>\n      <td>-1.023474</td>\n      <td>1.635780</td>\n      <td>-2.312895</td>\n    </tr>\n    <tr>\n      <th>46</th>\n      <td>Abilene, TX</td>\n      <td>-0.332337</td>\n      <td>0.407350</td>\n      <td>0.139864</td>\n      <td>0.455581</td>\n      <td>10180</td>\n      <td>0.368355</td>\n      <td>-0.087447</td>\n      <td>0.480195</td>\n      <td>-0.307371</td>\n      <td>-1.065892</td>\n      <td>1.065892</td>\n      <td>-1.025447</td>\n      <td>-0.496142</td>\n    </tr>\n    <tr>\n      <th>79</th>\n      <td>Ada, OK</td>\n      <td>-0.520086</td>\n      <td>0.195562</td>\n      <td>0.000000</td>\n      <td>-0.228167</td>\n      <td>10220</td>\n      <td>-0.465152</td>\n      <td>-0.272564</td>\n      <td>0.455459</td>\n      <td>-0.351006</td>\n      <td>-1.291988</td>\n      <td>1.291988</td>\n      <td>-0.590006</td>\n      <td>-0.327322</td>\n    </tr>\n    <tr>\n      <th>87</th>\n      <td>Adrian, MI</td>\n      <td>-0.424802</td>\n      <td>0.868949</td>\n      <td>-0.429719</td>\n      <td>-0.224541</td>\n      <td>10300</td>\n      <td>-0.450319</td>\n      <td>-0.178981</td>\n      <td>0.463704</td>\n      <td>0.072041</td>\n      <td>0.365331</td>\n      <td>-0.365331</td>\n      <td>0.758064</td>\n      <td>0.617013</td>\n    </tr>\n    <tr>\n      <th>...</th>\n      <td>...</td>\n      <td>...</td>\n      <td>...</td>\n      <td>...</td>\n      <td>...</td>\n      <td>...</td>\n      <td>...</td>\n      <td>...</td>\n      <td>...</td>\n      <td>...</td>\n      <td>...</td>\n      <td>...</td>\n      <td>...</td>\n      <td>...</td>\n    </tr>\n    <tr>\n      <th>20764</th>\n      <td>York-Hanover, PA</td>\n      <td>0.002138</td>\n      <td>0.532464</td>\n      <td>-1.252450</td>\n      <td>-0.257513</td>\n      <td>49620</td>\n      <td>-0.389084</td>\n      <td>0.292187</td>\n      <td>0.447214</td>\n      <td>1.915353</td>\n      <td>-0.018590</td>\n      <td>0.018590</td>\n      <td>0.405970</td>\n      <td>1.118538</td>\n    </tr>\n    <tr>\n      <th>20816</th>\n      <td>Youngstown-Warren-Boardman, OH-PA</td>\n      <td>-0.186601</td>\n      <td>0.268693</td>\n      <td>-0.002531</td>\n      <td>0.005607</td>\n      <td>49660</td>\n      <td>-0.047236</td>\n      <td>0.574632</td>\n      <td>0.414232</td>\n      <td>1.099591</td>\n      <td>1.318976</td>\n      <td>-1.318976</td>\n      <td>0.573224</td>\n      <td>0.896621</td>\n    </tr>\n    <tr>\n      <th>20911</th>\n      <td>Yuba City, CA</td>\n      <td>-0.016467</td>\n      <td>0.193791</td>\n      <td>0.345547</td>\n      <td>-0.255924</td>\n      <td>49700</td>\n      <td>-0.248958</td>\n      <td>-0.116118</td>\n      <td>0.818251</td>\n      <td>0.083215</td>\n      <td>-0.428676</td>\n      <td>0.428676</td>\n      <td>0.130559</td>\n      <td>-2.139824</td>\n    </tr>\n    <tr>\n      <th>20943</th>\n      <td>Yuma, AZ</td>\n      <td>0.635026</td>\n      <td>-0.604710</td>\n      <td>0.472121</td>\n      <td>-0.217837</td>\n      <td>49740</td>\n      <td>1.500424</td>\n      <td>-0.024277</td>\n      <td>0.785270</td>\n      <td>-0.437744</td>\n      <td>-0.020970</td>\n      <td>0.020970</td>\n      <td>-0.929281</td>\n      <td>-1.554558</td>\n    </tr>\n    <tr>\n      <th>20954</th>\n      <td>Zanesville, OH</td>\n      <td>-0.383124</td>\n      <td>0.707061</td>\n      <td>-0.002531</td>\n      <td>-0.184530</td>\n      <td>49780</td>\n      <td>-0.486748</td>\n      <td>-0.197721</td>\n      <td>0.422478</td>\n      <td>0.055012</td>\n      <td>-0.046548</td>\n      <td>0.046548</td>\n      <td>0.365984</td>\n      <td>0.722444</td>\n    </tr>\n  </tbody>\n</table>\n<p>794 rows × 14 columns</p>\n</div>",
      "text/plain": "                              metro_name  ratio_of_public_transport  \\\n0                           Aberdeen, SD                  -0.362291   \n24                          Aberdeen, WA                   0.248173   \n46                           Abilene, TX                  -0.332337   \n79                               Ada, OK                  -0.520086   \n87                            Adrian, MI                  -0.424802   \n...                                  ...                        ...   \n20764                   York-Hanover, PA                   0.002138   \n20816  Youngstown-Warren-Boardman, OH-PA                  -0.186601   \n20911                      Yuba City, CA                  -0.016467   \n20943                           Yuma, AZ                   0.635026   \n20954                     Zanesville, OH                  -0.383124   \n\n       median_income  pctg_below_poverty_line  enrolled_in_school  cbsa_id  \\\n0           1.245645                 0.000000            0.346162    10100   \n24          0.120348                 0.013290           -0.077303    10140   \n46          0.407350                 0.139864            0.455581    10180   \n79          0.195562                 0.000000           -0.228167    10220   \n87          0.868949                -0.429719           -0.224541    10300   \n...              ...                      ...                 ...      ...   \n20764       0.532464                -1.252450           -0.257513    49620   \n20816       0.268693                -0.002531            0.005607    49660   \n20911       0.193791                 0.345547           -0.255924    49700   \n20943      -0.604710                 0.472121           -0.217837    49740   \n20954       0.707061                -0.002531           -0.184530    49780   \n\n           sqmi  hse_units  avg_fam_sz  pop_sqmi   pct_dem  pct_repub  \\\n0      0.419313  -0.265327    0.373006 -0.551088 -0.006796   0.006796   \n24     0.028771  -0.207854    0.414232 -0.426037  1.023474  -1.023474   \n46     0.368355  -0.087447    0.480195 -0.307371 -1.065892   1.065892   \n79    -0.465152  -0.272564    0.455459 -0.351006 -1.291988   1.291988   \n87    -0.450319  -0.178981    0.463704  0.072041  0.365331  -0.365331   \n...         ...        ...         ...       ...       ...        ...   \n20764 -0.389084   0.292187    0.447214  1.915353 -0.018590   0.018590   \n20816 -0.047236   0.574632    0.414232  1.099591  1.318976  -1.318976   \n20911 -0.248958  -0.116118    0.818251  0.083215 -0.428676   0.428676   \n20943  1.500424  -0.024277    0.785270 -0.437744 -0.020970   0.020970   \n20954 -0.486748  -0.197721    0.422478  0.055012 -0.046548   0.046548   \n\n       latitude  longitude  \n0      1.361289  -0.459699  \n24     1.635780  -2.312895  \n46    -1.025447  -0.496142  \n79    -0.590006  -0.327322  \n87     0.758064   0.617013  \n...         ...        ...  \n20764  0.405970   1.118538  \n20816  0.573224   0.896621  \n20911  0.130559  -2.139824  \n20943 -0.929281  -1.554558  \n20954  0.365984   0.722444  \n\n[794 rows x 14 columns]"
     },
     "execution_count": 79,
     "metadata": {},
     "output_type": "execute_result"
    }
   ],
   "source": [
    "# Get Lat + Long data\n",
    "geocoding = pd.read_csv('../geocoding_data/geocode_cbsa_crosswalk.csv')\n",
    "final_df = new_df4.merge(geocoding, left_on = 'CBSA_ID', right_on = 'CBSA', how = 'inner').drop_duplicates('CBSA_ID')\n",
    "final_df = final_df.drop(columns = ['Unnamed: 0', 'CBSACode', 'CBSA'])\n",
    "\n",
    "# Standardise remaining columns\n",
    "final_df[\"%democrat\"] = standardise(final_df, \"%democrat\")\n",
    "final_df[\"%republican\"] = standardise(final_df, \"%republican\")\n",
    "final_df[\"Latitude\"] = standardise(final_df, \"Latitude\")\n",
    "final_df[\"Longitude\"] = standardise(final_df, \"Longitude\")\n",
    "final_df"
   ]
  },
  {
   "cell_type": "code",
   "execution_count": 112,
   "metadata": {},
   "outputs": [
    {
     "data": {
      "text/html": "<div>\n<style scoped>\n    .dataframe tbody tr th:only-of-type {\n        vertical-align: middle;\n    }\n\n    .dataframe tbody tr th {\n        vertical-align: top;\n    }\n\n    .dataframe thead th {\n        text-align: right;\n    }\n</style>\n<table border=\"1\" class=\"dataframe\">\n  <thead>\n    <tr style=\"text-align: right;\">\n      <th></th>\n      <th>metro_name</th>\n      <th>cbsa_id</th>\n      <th>ratio_of_public_transport</th>\n      <th>median_income</th>\n      <th>pctg_below_poverty_line</th>\n      <th>enrolled_in_school</th>\n      <th>sqmi</th>\n      <th>hse_units</th>\n      <th>avg_fam_sz</th>\n      <th>pop_sqmi</th>\n      <th>pct_dem</th>\n      <th>pct_repub</th>\n      <th>latitude</th>\n      <th>longitude</th>\n      <th>au3</th>\n    </tr>\n  </thead>\n  <tbody>\n    <tr>\n      <th>0</th>\n      <td>Aberdeen, WA</td>\n      <td>10140.0</td>\n      <td>0.248173</td>\n      <td>0.120348</td>\n      <td>0.013290</td>\n      <td>-0.077303</td>\n      <td>0.028771</td>\n      <td>-0.207854</td>\n      <td>0.414232</td>\n      <td>-0.426037</td>\n      <td>1.023474</td>\n      <td>-1.023474</td>\n      <td>1.635780</td>\n      <td>-2.312895</td>\n      <td>0.375230</td>\n    </tr>\n    <tr>\n      <th>1</th>\n      <td>Ada, OK</td>\n      <td>10220.0</td>\n      <td>-0.520086</td>\n      <td>0.195562</td>\n      <td>0.000000</td>\n      <td>-0.228167</td>\n      <td>-0.465152</td>\n      <td>-0.272564</td>\n      <td>0.455459</td>\n      <td>-0.351006</td>\n      <td>-1.291988</td>\n      <td>1.291988</td>\n      <td>-0.590006</td>\n      <td>-0.327322</td>\n      <td>-1.589582</td>\n    </tr>\n    <tr>\n      <th>2</th>\n      <td>Adrian, MI</td>\n      <td>10300.0</td>\n      <td>-0.424802</td>\n      <td>0.868949</td>\n      <td>-0.429719</td>\n      <td>-0.224541</td>\n      <td>-0.450319</td>\n      <td>-0.178981</td>\n      <td>0.463704</td>\n      <td>0.072041</td>\n      <td>0.365331</td>\n      <td>-0.365331</td>\n      <td>0.758064</td>\n      <td>0.617013</td>\n      <td>0.583803</td>\n    </tr>\n    <tr>\n      <th>3</th>\n      <td>Akron, OH</td>\n      <td>10420.0</td>\n      <td>0.191674</td>\n      <td>0.533610</td>\n      <td>-0.255679</td>\n      <td>-0.264682</td>\n      <td>-0.383568</td>\n      <td>0.758794</td>\n      <td>0.447214</td>\n      <td>3.422888</td>\n      <td>1.218050</td>\n      <td>-1.218050</td>\n      <td>0.604046</td>\n      <td>0.784054</td>\n      <td>0.255774</td>\n    </tr>\n    <tr>\n      <th>4</th>\n      <td>Albany, GA</td>\n      <td>10500.0</td>\n      <td>0.001436</td>\n      <td>1.938825</td>\n      <td>1.674574</td>\n      <td>-0.159467</td>\n      <td>-0.102800</td>\n      <td>-0.100204</td>\n      <td>0.546157</td>\n      <td>-0.198816</td>\n      <td>-0.053201</td>\n      <td>0.053201</td>\n      <td>-1.174070</td>\n      <td>0.589454</td>\n      <td>0.259028</td>\n    </tr>\n    <tr>\n      <th>...</th>\n      <td>...</td>\n      <td>...</td>\n      <td>...</td>\n      <td>...</td>\n      <td>...</td>\n      <td>...</td>\n      <td>...</td>\n      <td>...</td>\n      <td>...</td>\n      <td>...</td>\n      <td>...</td>\n      <td>...</td>\n      <td>...</td>\n      <td>...</td>\n      <td>...</td>\n    </tr>\n    <tr>\n      <th>596</th>\n      <td>York-Hanover, PA</td>\n      <td>49620.0</td>\n      <td>0.002138</td>\n      <td>0.532464</td>\n      <td>-1.252450</td>\n      <td>-0.257513</td>\n      <td>-0.389084</td>\n      <td>0.292187</td>\n      <td>0.447214</td>\n      <td>1.915353</td>\n      <td>-0.018590</td>\n      <td>0.018590</td>\n      <td>0.405970</td>\n      <td>1.118538</td>\n      <td>0.454380</td>\n    </tr>\n    <tr>\n      <th>597</th>\n      <td>Youngstown-Warren-Boardman, OH-PA</td>\n      <td>49660.0</td>\n      <td>-0.186601</td>\n      <td>0.268693</td>\n      <td>-0.002531</td>\n      <td>0.005607</td>\n      <td>-0.047236</td>\n      <td>0.574632</td>\n      <td>0.414232</td>\n      <td>1.099591</td>\n      <td>1.318976</td>\n      <td>-1.318976</td>\n      <td>0.573224</td>\n      <td>0.896621</td>\n      <td>0.294844</td>\n    </tr>\n    <tr>\n      <th>598</th>\n      <td>Yuba City, CA</td>\n      <td>49700.0</td>\n      <td>-0.016467</td>\n      <td>0.193791</td>\n      <td>0.345547</td>\n      <td>-0.255924</td>\n      <td>-0.248958</td>\n      <td>-0.116118</td>\n      <td>0.818251</td>\n      <td>0.083215</td>\n      <td>-0.428676</td>\n      <td>0.428676</td>\n      <td>0.130559</td>\n      <td>-2.139824</td>\n      <td>1.016019</td>\n    </tr>\n    <tr>\n      <th>599</th>\n      <td>Yuma, AZ</td>\n      <td>49740.0</td>\n      <td>0.635026</td>\n      <td>-0.604710</td>\n      <td>0.472121</td>\n      <td>-0.217837</td>\n      <td>1.500424</td>\n      <td>-0.024277</td>\n      <td>0.785270</td>\n      <td>-0.437744</td>\n      <td>-0.020970</td>\n      <td>0.020970</td>\n      <td>-0.929281</td>\n      <td>-1.554558</td>\n      <td>0.735752</td>\n    </tr>\n    <tr>\n      <th>600</th>\n      <td>Zanesville, OH</td>\n      <td>49780.0</td>\n      <td>-0.383124</td>\n      <td>0.707061</td>\n      <td>-0.002531</td>\n      <td>-0.184530</td>\n      <td>-0.486748</td>\n      <td>-0.197721</td>\n      <td>0.422478</td>\n      <td>0.055012</td>\n      <td>-0.046548</td>\n      <td>0.046548</td>\n      <td>0.365984</td>\n      <td>0.722444</td>\n      <td>-0.253232</td>\n    </tr>\n  </tbody>\n</table>\n<p>601 rows × 15 columns</p>\n</div>",
      "text/plain": "                            metro_name  cbsa_id  ratio_of_public_transport  \\\n0                         Aberdeen, WA  10140.0                   0.248173   \n1                              Ada, OK  10220.0                  -0.520086   \n2                           Adrian, MI  10300.0                  -0.424802   \n3                            Akron, OH  10420.0                   0.191674   \n4                           Albany, GA  10500.0                   0.001436   \n..                                 ...      ...                        ...   \n596                   York-Hanover, PA  49620.0                   0.002138   \n597  Youngstown-Warren-Boardman, OH-PA  49660.0                  -0.186601   \n598                      Yuba City, CA  49700.0                  -0.016467   \n599                           Yuma, AZ  49740.0                   0.635026   \n600                     Zanesville, OH  49780.0                  -0.383124   \n\n     median_income  pctg_below_poverty_line  enrolled_in_school      sqmi  \\\n0         0.120348                 0.013290           -0.077303  0.028771   \n1         0.195562                 0.000000           -0.228167 -0.465152   \n2         0.868949                -0.429719           -0.224541 -0.450319   \n3         0.533610                -0.255679           -0.264682 -0.383568   \n4         1.938825                 1.674574           -0.159467 -0.102800   \n..             ...                      ...                 ...       ...   \n596       0.532464                -1.252450           -0.257513 -0.389084   \n597       0.268693                -0.002531            0.005607 -0.047236   \n598       0.193791                 0.345547           -0.255924 -0.248958   \n599      -0.604710                 0.472121           -0.217837  1.500424   \n600       0.707061                -0.002531           -0.184530 -0.486748   \n\n     hse_units  avg_fam_sz  pop_sqmi   pct_dem  pct_repub  latitude  \\\n0    -0.207854    0.414232 -0.426037  1.023474  -1.023474  1.635780   \n1    -0.272564    0.455459 -0.351006 -1.291988   1.291988 -0.590006   \n2    -0.178981    0.463704  0.072041  0.365331  -0.365331  0.758064   \n3     0.758794    0.447214  3.422888  1.218050  -1.218050  0.604046   \n4    -0.100204    0.546157 -0.198816 -0.053201   0.053201 -1.174070   \n..         ...         ...       ...       ...        ...       ...   \n596   0.292187    0.447214  1.915353 -0.018590   0.018590  0.405970   \n597   0.574632    0.414232  1.099591  1.318976  -1.318976  0.573224   \n598  -0.116118    0.818251  0.083215 -0.428676   0.428676  0.130559   \n599  -0.024277    0.785270 -0.437744 -0.020970   0.020970 -0.929281   \n600  -0.197721    0.422478  0.055012 -0.046548   0.046548  0.365984   \n\n     longitude       au3  \n0    -2.312895  0.375230  \n1    -0.327322 -1.589582  \n2     0.617013  0.583803  \n3     0.784054  0.255774  \n4     0.589454  0.259028  \n..         ...       ...  \n596   1.118538  0.454380  \n597   0.896621  0.294844  \n598  -2.139824  1.016019  \n599  -1.554558  0.735752  \n600   0.722444 -0.253232  \n\n[601 rows x 15 columns]"
     },
     "execution_count": 112,
     "metadata": {},
     "output_type": "execute_result"
    }
   ],
   "source": [
    "# Get AU3 results\n",
    "au3_results = pd.read_csv('../AU3_results.csv')\n",
    "\n",
    "# Filter\n",
    "au3_results = au3_results[au3_results['CBSA_Codes'] != 'United_States']\n",
    "au3_results.CBSA_Codes = au3_results.CBSA_Codes.astype(np.float64)\n",
    "final_df_au3 = final_df.merge(au3_results, left_on = 'cbsa_id', right_on = 'CBSA_Codes', how = 'inner')\n",
    "final_df_au3 = final_df_au3.drop(columns = ['Unnamed: 0', 'CBSA_Codes'])\n",
    "\n",
    "# Standardise AU3 output\n",
    "final_df_au3['AU3'] = standardise(final_df_au3, 'AU3')\n",
    "\n",
    "# Reformat titles\n",
    "final_df_au3.columns = ['metro_name', 'ratio_of_public_transport', 'median_income', 'pctg_below_poverty_line', 'enrolled_in_school', 'cbsa_id', 'sqmi', 'hse_units', 'avg_fam_sz', 'pop_sqmi', 'pct_dem', 'pct_repub', 'latitude', 'longitude', 'au3']\n",
    "\n",
    "# Reorder columns\n",
    "final_df_au3 = final_df_au3[['metro_name', 'cbsa_id', 'ratio_of_public_transport', 'median_income', 'pctg_below_poverty_line', 'enrolled_in_school', 'sqmi', 'hse_units', 'avg_fam_sz', 'pop_sqmi', 'pct_dem', 'pct_repub', 'latitude', 'longitude', 'au3']]\n",
    "final_df_au3"
   ]
  },
  {
   "cell_type": "code",
   "execution_count": 113,
   "metadata": {},
   "outputs": [],
   "source": [
    "# SAVE FINAL VECTORS TO .CSV\n",
    "final_df_au3.to_csv('../geographic_eda/clustering_vectors.csv', index = False, header = True)"
   ]
  },
  {
   "cell_type": "markdown",
   "metadata": {},
   "source": [
    "## Final Vector\n",
    "- 13 components"
   ]
  },
  {
   "cell_type": "code",
   "execution_count": null,
   "metadata": {},
   "outputs": [],
   "source": []
  }
 ],
 "metadata": {
  "file_extension": ".py",
  "kernelspec": {
   "display_name": "Python 3.7.6 64-bit",
   "language": "python",
   "name": "python37664bit428820946cd7473d8a76804ffe0f7c21"
  },
  "language_info": {
   "codemirror_mode": {
    "name": "ipython",
    "version": 3
   },
   "file_extension": ".py",
   "mimetype": "text/x-python",
   "name": "python",
   "nbconvert_exporter": "python",
   "pygments_lexer": "ipython3",
   "version": "3.7.6-final"
  },
  "mimetype": "text/x-python",
  "name": "python",
  "npconvert_exporter": "python",
  "pygments_lexer": "ipython3",
  "version": 3
 },
 "nbformat": 4,
 "nbformat_minor": 4
}