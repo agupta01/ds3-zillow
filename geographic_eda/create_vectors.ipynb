{
 "cells": [
  {
   "cell_type": "markdown",
   "metadata": {},
   "source": [
    "# Statistics to Use (Ideas)\n",
    "- Political - ?\n",
    "- Population Density\n",
    "- Migration patterns\n",
    "- Age demographics\n",
    "- Culture - ?\n",
    "- Interest Rates\n",
    "- GDP\n",
    "- Number of housing units\n",
    "- Proximity to social/metro centres\n",
    "- City Age -- History (how would we quantify?) \n",
    "- Imports/Exports - ?\n",
    "- Main Industry/Sector - Resources, raw materials\n",
    "- Average Income\n",
    "- Number of Schools, Education\n",
    "- Geographic Location\n",
    "- Number of highways, transporation infrastructure\n",
    "- Terrain \n",
    "\n",
    "## Economic\n",
    "Interest Rates, GDP, Imports/Exports, Average Income\n",
    "\n",
    "## Important\n",
    "- <b>Politics</b>\n",
    "    - Partisan segration, polarity\n",
    "- <b>Education</b>\n",
    "- Abundance of housing units - ?\n",
    "- City Age/History\n",
    "- <b>Main Industry Sector</b>\n",
    "- <b> Economic Measures</b>\n",
    "- <b>Geographic Location</b>\n",
    "    - Proximity to other cities, metro centres\n",
    "- Number of highways, transporation infrastructure\n",
    "\n",
    "# TO-DO:\n",
    "- Add more features, fix poverty data"
   ]
  },
  {
   "cell_type": "code",
   "execution_count": 73,
   "metadata": {},
   "outputs": [
    {
     "data": {
      "text/html": "<div>\n<style scoped>\n    .dataframe tbody tr th:only-of-type {\n        vertical-align: middle;\n    }\n\n    .dataframe tbody tr th {\n        vertical-align: top;\n    }\n\n    .dataframe thead th {\n        text-align: right;\n    }\n</style>\n<table border=\"1\" class=\"dataframe\">\n  <thead>\n    <tr style=\"text-align: right;\">\n      <th></th>\n      <th>ratio_of_public_transport</th>\n    </tr>\n    <tr>\n      <th>metro_name</th>\n      <th></th>\n    </tr>\n  </thead>\n  <tbody>\n    <tr>\n      <th>Abbeville, LA Micro Area</th>\n      <td>-0.355924</td>\n    </tr>\n    <tr>\n      <th>Aberdeen, SD Micro Area</th>\n      <td>-0.362291</td>\n    </tr>\n    <tr>\n      <th>Aberdeen, WA Micro Area</th>\n      <td>0.248173</td>\n    </tr>\n    <tr>\n      <th>Abilene, TX Metro Area</th>\n      <td>-0.332337</td>\n    </tr>\n    <tr>\n      <th>Ada, OK Micro Area</th>\n      <td>-0.520086</td>\n    </tr>\n    <tr>\n      <th>...</th>\n      <td>...</td>\n    </tr>\n    <tr>\n      <th>York-Hanover, PA Metro Area</th>\n      <td>0.002138</td>\n    </tr>\n    <tr>\n      <th>Youngstown-Warren-Boardman, OH-PA Metro Area</th>\n      <td>-0.186601</td>\n    </tr>\n    <tr>\n      <th>Yuba City, CA Metro Area</th>\n      <td>-0.016467</td>\n    </tr>\n    <tr>\n      <th>Yuma, AZ Metro Area</th>\n      <td>0.635026</td>\n    </tr>\n    <tr>\n      <th>Zanesville, OH Micro Area</th>\n      <td>-0.383124</td>\n    </tr>\n  </tbody>\n</table>\n<p>955 rows × 1 columns</p>\n</div>",
      "text/plain": "                                              ratio_of_public_transport\nmetro_name                                                             \nAbbeville, LA Micro Area                                      -0.355924\nAberdeen, SD Micro Area                                       -0.362291\nAberdeen, WA Micro Area                                        0.248173\nAbilene, TX Metro Area                                        -0.332337\nAda, OK Micro Area                                            -0.520086\n...                                                                 ...\nYork-Hanover, PA Metro Area                                    0.002138\nYoungstown-Warren-Boardman, OH-PA Metro Area                  -0.186601\nYuba City, CA Metro Area                                      -0.016467\nYuma, AZ Metro Area                                            0.635026\nZanesville, OH Micro Area                                     -0.383124\n\n[955 rows x 1 columns]"
     },
     "execution_count": 73,
     "metadata": {},
     "output_type": "execute_result"
    }
   ],
   "source": [
    "# Import Necessary Libraries\n",
    "import numpy as np \n",
    "import pandas as pd\n",
    "\n",
    "# FEATURE 1: RATIO OF PEOPLE TAKING PUBLIC TRANSPORATION TO WORK\n",
    "\n",
    "transportation_data = pd.read_csv('../datasets/transportation_data/ACSST5Y2010.S0802_data_with_overlays_2020-03-04T134515.csv')\n",
    "\n",
    "# Filter data to get only appropriate metropolitan areas\n",
    "transportation_data = transportation_data[~transportation_data.NAME.str.contains('United State')]\n",
    "num_public_transport = transportation_data['S0802_C04_001E'].to_numpy()[1:].astype(int)\n",
    "num_workers = transportation_data['S0802_C01_001E'].to_numpy()[1:].astype(int)\n",
    "ratio = np.divide(num_public_transport, num_workers)\n",
    "\n",
    "# Standardisation, Feature Scaling\n",
    "ratio = (ratio - np.mean(ratio))/(ratio.std())\n",
    "ratio = [float(r) for r in ratio]\n",
    "\n",
    "# Create new DataFrame with each metro area and corresponding attribute values\n",
    "new_df = pd.DataFrame(zip(transportation_data['NAME'].to_numpy()[1:],  ratio), columns = ['metro_name', 'ratio_of_public_transport']).set_index('metro_name').sort_values('metro_name')\n",
    "new_df['ratio_of_public_transport'].fillna(0, inplace = True)\n",
    "new_df"
   ]
  },
  {
   "cell_type": "code",
   "execution_count": 74,
   "metadata": {},
   "outputs": [
    {
     "data": {
      "text/html": "<div>\n<style scoped>\n    .dataframe tbody tr th:only-of-type {\n        vertical-align: middle;\n    }\n\n    .dataframe tbody tr th {\n        vertical-align: top;\n    }\n\n    .dataframe thead th {\n        text-align: right;\n    }\n</style>\n<table border=\"1\" class=\"dataframe\">\n  <thead>\n    <tr style=\"text-align: right;\">\n      <th></th>\n      <th>ratio_of_public_transport</th>\n      <th>median_income</th>\n    </tr>\n    <tr>\n      <th>metro_name</th>\n      <th></th>\n      <th></th>\n    </tr>\n  </thead>\n  <tbody>\n    <tr>\n      <th>Abbeville, LA Micro Area</th>\n      <td>-0.355924</td>\n      <td>-0.622420</td>\n    </tr>\n    <tr>\n      <th>Aberdeen, SD Micro Area</th>\n      <td>-0.362291</td>\n      <td>1.245645</td>\n    </tr>\n    <tr>\n      <th>Aberdeen, WA Micro Area</th>\n      <td>0.248173</td>\n      <td>0.120348</td>\n    </tr>\n    <tr>\n      <th>Abilene, TX Metro Area</th>\n      <td>-0.332337</td>\n      <td>0.407350</td>\n    </tr>\n    <tr>\n      <th>Ada, OK Micro Area</th>\n      <td>-0.520086</td>\n      <td>0.195562</td>\n    </tr>\n    <tr>\n      <th>...</th>\n      <td>...</td>\n      <td>...</td>\n    </tr>\n    <tr>\n      <th>York-Hanover, PA Metro Area</th>\n      <td>0.002138</td>\n      <td>0.532464</td>\n    </tr>\n    <tr>\n      <th>Youngstown-Warren-Boardman, OH-PA Metro Area</th>\n      <td>-0.186601</td>\n      <td>0.268693</td>\n    </tr>\n    <tr>\n      <th>Yuba City, CA Metro Area</th>\n      <td>-0.016467</td>\n      <td>0.193791</td>\n    </tr>\n    <tr>\n      <th>Yuma, AZ Metro Area</th>\n      <td>0.635026</td>\n      <td>-0.604710</td>\n    </tr>\n    <tr>\n      <th>Zanesville, OH Micro Area</th>\n      <td>-0.383124</td>\n      <td>0.707061</td>\n    </tr>\n  </tbody>\n</table>\n<p>955 rows × 2 columns</p>\n</div>",
      "text/plain": "                                              ratio_of_public_transport  \\\nmetro_name                                                                \nAbbeville, LA Micro Area                                      -0.355924   \nAberdeen, SD Micro Area                                       -0.362291   \nAberdeen, WA Micro Area                                        0.248173   \nAbilene, TX Metro Area                                        -0.332337   \nAda, OK Micro Area                                            -0.520086   \n...                                                                 ...   \nYork-Hanover, PA Metro Area                                    0.002138   \nYoungstown-Warren-Boardman, OH-PA Metro Area                  -0.186601   \nYuba City, CA Metro Area                                      -0.016467   \nYuma, AZ Metro Area                                            0.635026   \nZanesville, OH Micro Area                                     -0.383124   \n\n                                              median_income  \nmetro_name                                                   \nAbbeville, LA Micro Area                          -0.622420  \nAberdeen, SD Micro Area                            1.245645  \nAberdeen, WA Micro Area                            0.120348  \nAbilene, TX Metro Area                             0.407350  \nAda, OK Micro Area                                 0.195562  \n...                                                     ...  \nYork-Hanover, PA Metro Area                        0.532464  \nYoungstown-Warren-Boardman, OH-PA Metro Area       0.268693  \nYuba City, CA Metro Area                           0.193791  \nYuma, AZ Metro Area                               -0.604710  \nZanesville, OH Micro Area                          0.707061  \n\n[955 rows x 2 columns]"
     },
     "execution_count": 74,
     "metadata": {},
     "output_type": "execute_result"
    }
   ],
   "source": [
    "\n",
    "\n",
    "# FEATURE 2: MEDIAN HOUSEHOLD INCOME\n",
    "\n",
    "income_data = pd.read_csv('../datasets/income_data/ACSST5Y2010.S2503_data_with_overlays_2020-03-04T163518.csv')\n",
    "income_data = income_data[~income_data.NAME.str.contains('United States')]\n",
    "median_income = income_data['S2503_C01_013E'].to_numpy()[1:].astype(int)\n",
    "\n",
    "# Standardise\n",
    "median_income = (median_income - np.mean(median_income))/(median_income.std())\n",
    "\n",
    "# Make sure every element of the median_income column is a float\n",
    "new_df['median_income'] = [float(m) for m in median_income]\n",
    "new_df"
   ]
  },
  {
   "cell_type": "code",
   "execution_count": 75,
   "metadata": {},
   "outputs": [
    {
     "data": {
      "text/html": "<div>\n<style scoped>\n    .dataframe tbody tr th:only-of-type {\n        vertical-align: middle;\n    }\n\n    .dataframe tbody tr th {\n        vertical-align: top;\n    }\n\n    .dataframe thead th {\n        text-align: right;\n    }\n</style>\n<table border=\"1\" class=\"dataframe\">\n  <thead>\n    <tr style=\"text-align: right;\">\n      <th></th>\n      <th>metro_name</th>\n      <th>ratio_of_public_transport</th>\n      <th>median_income</th>\n      <th>pctg_below_poverty_line</th>\n    </tr>\n  </thead>\n  <tbody>\n    <tr>\n      <th>0</th>\n      <td>Abbeville, LA Micro Area</td>\n      <td>-0.355924</td>\n      <td>-0.622420</td>\n      <td>0.000000</td>\n    </tr>\n    <tr>\n      <th>1</th>\n      <td>Aberdeen, SD Micro Area</td>\n      <td>-0.362291</td>\n      <td>1.245645</td>\n      <td>0.000000</td>\n    </tr>\n    <tr>\n      <th>2</th>\n      <td>Aberdeen, WA Micro Area</td>\n      <td>0.248173</td>\n      <td>0.120348</td>\n      <td>0.013290</td>\n    </tr>\n    <tr>\n      <th>3</th>\n      <td>Abilene, TX Metro Area</td>\n      <td>-0.332337</td>\n      <td>0.407350</td>\n      <td>0.139864</td>\n    </tr>\n    <tr>\n      <th>4</th>\n      <td>Ada, OK Micro Area</td>\n      <td>-0.520086</td>\n      <td>0.195562</td>\n      <td>0.000000</td>\n    </tr>\n    <tr>\n      <th>...</th>\n      <td>...</td>\n      <td>...</td>\n      <td>...</td>\n      <td>...</td>\n    </tr>\n    <tr>\n      <th>950</th>\n      <td>York-Hanover, PA Metro Area</td>\n      <td>0.002138</td>\n      <td>0.532464</td>\n      <td>-1.252450</td>\n    </tr>\n    <tr>\n      <th>951</th>\n      <td>Youngstown-Warren-Boardman, OH-PA Metro Area</td>\n      <td>-0.186601</td>\n      <td>0.268693</td>\n      <td>-0.002531</td>\n    </tr>\n    <tr>\n      <th>952</th>\n      <td>Yuba City, CA Metro Area</td>\n      <td>-0.016467</td>\n      <td>0.193791</td>\n      <td>0.345547</td>\n    </tr>\n    <tr>\n      <th>953</th>\n      <td>Yuma, AZ Metro Area</td>\n      <td>0.635026</td>\n      <td>-0.604710</td>\n      <td>0.472121</td>\n    </tr>\n    <tr>\n      <th>954</th>\n      <td>Zanesville, OH Micro Area</td>\n      <td>-0.383124</td>\n      <td>0.707061</td>\n      <td>-0.002531</td>\n    </tr>\n  </tbody>\n</table>\n<p>955 rows × 4 columns</p>\n</div>",
      "text/plain": "                                       metro_name  ratio_of_public_transport  \\\n0                        Abbeville, LA Micro Area                  -0.355924   \n1                         Aberdeen, SD Micro Area                  -0.362291   \n2                         Aberdeen, WA Micro Area                   0.248173   \n3                          Abilene, TX Metro Area                  -0.332337   \n4                              Ada, OK Micro Area                  -0.520086   \n..                                            ...                        ...   \n950                   York-Hanover, PA Metro Area                   0.002138   \n951  Youngstown-Warren-Boardman, OH-PA Metro Area                  -0.186601   \n952                      Yuba City, CA Metro Area                  -0.016467   \n953                           Yuma, AZ Metro Area                   0.635026   \n954                     Zanesville, OH Micro Area                  -0.383124   \n\n     median_income  pctg_below_poverty_line  \n0        -0.622420                 0.000000  \n1         1.245645                 0.000000  \n2         0.120348                 0.013290  \n3         0.407350                 0.139864  \n4         0.195562                 0.000000  \n..             ...                      ...  \n950       0.532464                -1.252450  \n951       0.268693                -0.002531  \n952       0.193791                 0.345547  \n953      -0.604710                 0.472121  \n954       0.707061                -0.002531  \n\n[955 rows x 4 columns]"
     },
     "execution_count": 75,
     "metadata": {},
     "output_type": "execute_result"
    }
   ],
   "source": [
    "# FEATURE 3: PERCENT BELOW POVERTY LEVEL\n",
    "\n",
    "#### CURRENTLY NOT WORKING #####\n",
    "\n",
    "poverty_data = pd.read_csv('../datasets/poverty_data/ACSST1Y2010.S1701_data_with_overlays_2020-03-04T183351.csv')\n",
    "poverty_data = poverty_data[~poverty_data.NAME.str.contains('United States')]\n",
    "percentages = poverty_data['S1701_C03_001E'].to_numpy()[1:].astype(float)\n",
    "percentages = (percentages - np.mean(percentages)) / np.std(percentages)\n",
    "\n",
    "poverty_df = pd.DataFrame(zip(poverty_data['NAME'][1:], percentages),\n",
    "             columns = ['metro_name', 'pctg_below_poverty_line']).sort_values('metro_name')\n",
    "\n",
    "new_df2 = new_df.merge(poverty_df, on = 'metro_name', how='outer', suffixes=('', '_y')).fillna(0)\n",
    "new_df2                 "
   ]
  },
  {
   "cell_type": "code",
   "execution_count": 76,
   "metadata": {},
   "outputs": [
    {
     "data": {
      "text/html": "<div>\n<style scoped>\n    .dataframe tbody tr th:only-of-type {\n        vertical-align: middle;\n    }\n\n    .dataframe tbody tr th {\n        vertical-align: top;\n    }\n\n    .dataframe thead th {\n        text-align: right;\n    }\n</style>\n<table border=\"1\" class=\"dataframe\">\n  <thead>\n    <tr style=\"text-align: right;\">\n      <th></th>\n      <th>metro_name</th>\n      <th>ratio_of_public_transport</th>\n      <th>median_income</th>\n      <th>pctg_below_poverty_line</th>\n      <th>enrolled_in_school</th>\n    </tr>\n  </thead>\n  <tbody>\n    <tr>\n      <th>0</th>\n      <td>Abbeville, LA Micro Area</td>\n      <td>-0.355924</td>\n      <td>-0.622420</td>\n      <td>0.000000</td>\n      <td>0.035869</td>\n    </tr>\n    <tr>\n      <th>1</th>\n      <td>Aberdeen, SD Micro Area</td>\n      <td>-0.362291</td>\n      <td>1.245645</td>\n      <td>0.000000</td>\n      <td>0.346162</td>\n    </tr>\n    <tr>\n      <th>2</th>\n      <td>Aberdeen, WA Micro Area</td>\n      <td>0.248173</td>\n      <td>0.120348</td>\n      <td>0.013290</td>\n      <td>-0.077303</td>\n    </tr>\n    <tr>\n      <th>3</th>\n      <td>Abilene, TX Metro Area</td>\n      <td>-0.332337</td>\n      <td>0.407350</td>\n      <td>0.139864</td>\n      <td>0.455581</td>\n    </tr>\n    <tr>\n      <th>4</th>\n      <td>Ada, OK Micro Area</td>\n      <td>-0.520086</td>\n      <td>0.195562</td>\n      <td>0.000000</td>\n      <td>-0.228167</td>\n    </tr>\n    <tr>\n      <th>...</th>\n      <td>...</td>\n      <td>...</td>\n      <td>...</td>\n      <td>...</td>\n      <td>...</td>\n    </tr>\n    <tr>\n      <th>950</th>\n      <td>York-Hanover, PA Metro Area</td>\n      <td>0.002138</td>\n      <td>0.532464</td>\n      <td>-1.252450</td>\n      <td>-0.257513</td>\n    </tr>\n    <tr>\n      <th>951</th>\n      <td>Youngstown-Warren-Boardman, OH-PA Metro Area</td>\n      <td>-0.186601</td>\n      <td>0.268693</td>\n      <td>-0.002531</td>\n      <td>0.005607</td>\n    </tr>\n    <tr>\n      <th>952</th>\n      <td>Yuba City, CA Metro Area</td>\n      <td>-0.016467</td>\n      <td>0.193791</td>\n      <td>0.345547</td>\n      <td>-0.255924</td>\n    </tr>\n    <tr>\n      <th>953</th>\n      <td>Yuma, AZ Metro Area</td>\n      <td>0.635026</td>\n      <td>-0.604710</td>\n      <td>0.472121</td>\n      <td>-0.217837</td>\n    </tr>\n    <tr>\n      <th>954</th>\n      <td>Zanesville, OH Micro Area</td>\n      <td>-0.383124</td>\n      <td>0.707061</td>\n      <td>-0.002531</td>\n      <td>-0.184530</td>\n    </tr>\n  </tbody>\n</table>\n<p>955 rows × 5 columns</p>\n</div>",
      "text/plain": "                                       metro_name  ratio_of_public_transport  \\\n0                        Abbeville, LA Micro Area                  -0.355924   \n1                         Aberdeen, SD Micro Area                  -0.362291   \n2                         Aberdeen, WA Micro Area                   0.248173   \n3                          Abilene, TX Metro Area                  -0.332337   \n4                              Ada, OK Micro Area                  -0.520086   \n..                                            ...                        ...   \n950                   York-Hanover, PA Metro Area                   0.002138   \n951  Youngstown-Warren-Boardman, OH-PA Metro Area                  -0.186601   \n952                      Yuba City, CA Metro Area                  -0.016467   \n953                           Yuma, AZ Metro Area                   0.635026   \n954                     Zanesville, OH Micro Area                  -0.383124   \n\n     median_income  pctg_below_poverty_line  enrolled_in_school  \n0        -0.622420                 0.000000            0.035869  \n1         1.245645                 0.000000            0.346162  \n2         0.120348                 0.013290           -0.077303  \n3         0.407350                 0.139864            0.455581  \n4         0.195562                 0.000000           -0.228167  \n..             ...                      ...                 ...  \n950       0.532464                -1.252450           -0.257513  \n951       0.268693                -0.002531            0.005607  \n952       0.193791                 0.345547           -0.255924  \n953      -0.604710                 0.472121           -0.217837  \n954       0.707061                -0.002531           -0.184530  \n\n[955 rows x 5 columns]"
     },
     "execution_count": 76,
     "metadata": {},
     "output_type": "execute_result"
    }
   ],
   "source": [
    "# FEATURE 4: POPULATION OF PEOPLE 3 AND OVER ENROLLED IN SCHOOL\n",
    "\n",
    "school_data = pd.read_csv('../datasets/school_data/ACSST5Y2010.S1401_data_with_overlays_2020-03-04T192940.csv')\n",
    "\n",
    "# Log-transform, standardise\n",
    "enrolled = school_data['S1401_C01_001E'].to_numpy()[1:].astype(int)\n",
    "enrolled = (enrolled - np.mean(enrolled)) / np.std(enrolled)\n",
    "\n",
    "# Correct type, save to test DataFrame\n",
    "new_df2['enrolled_in_school'] = [float(e) for e in enrolled]\n",
    "new_df2.to_csv('test_01.csv')\n",
    "new_df2"
   ]
  },
  {
   "cell_type": "code",
   "execution_count": null,
   "metadata": {},
   "outputs": [],
   "source": [
    "new_df2['']"
   ]
  }
 ],
 "metadata": {
  "file_extension": ".py",
  "kernelspec": {
   "display_name": "Python 3.7.6 64-bit",
   "language": "python",
   "name": "python37664bit428820946cd7473d8a76804ffe0f7c21"
  },
  "language_info": {
   "codemirror_mode": {
    "name": "ipython",
    "version": 3
   },
   "file_extension": ".py",
   "mimetype": "text/x-python",
   "name": "python",
   "nbconvert_exporter": "python",
   "pygments_lexer": "ipython3",
   "version": "3.7.6-final"
  },
  "mimetype": "text/x-python",
  "name": "python",
  "npconvert_exporter": "python",
  "pygments_lexer": "ipython3",
  "version": 3
 },
 "nbformat": 4,
 "nbformat_minor": 4
}