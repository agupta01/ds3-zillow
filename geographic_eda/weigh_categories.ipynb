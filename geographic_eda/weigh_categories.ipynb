{
 "nbformat": 4,
 "nbformat_minor": 2,
 "metadata": {
  "language_info": {
   "name": "python",
   "codemirror_mode": {
    "name": "ipython",
    "version": 3
   },
   "version": "3.7.6-final"
  },
  "orig_nbformat": 2,
  "file_extension": ".py",
  "mimetype": "text/x-python",
  "name": "python",
  "npconvert_exporter": "python",
  "pygments_lexer": "ipython3",
  "version": 3,
  "kernelspec": {
   "name": "python37664bit428820946cd7473d8a76804ffe0f7c21",
   "display_name": "Python 3.7.6 64-bit"
  }
 },
 "cells": [
  {
   "cell_type": "markdown",
   "metadata": {},
   "source": [
    "# Categories in Vector to Weigh:\n",
    "- *LIFESTYLE* ratio_of_public_transport, enrolled_in_school, avg_fam_sz\n",
    "- *ECONOMIC* median_income, pctg_below_poverty_line, hse_units\n",
    "- *SIZE*: sqmi\n",
    "- *POPULATION*: pop_sqmi\n",
    "- *POLITICAL*: pct_dem, pct_repub (2000-2016 Elections)\n",
    "- *GEOGRAPHIC*: latitude, longitude\n",
    "\n",
    "- au3"
   ]
  },
  {
   "cell_type": "code",
   "execution_count": 51,
   "metadata": {},
   "outputs": [
    {
     "data": {
      "text/html": "<div>\n<style scoped>\n    .dataframe tbody tr th:only-of-type {\n        vertical-align: middle;\n    }\n\n    .dataframe tbody tr th {\n        vertical-align: top;\n    }\n\n    .dataframe thead th {\n        text-align: right;\n    }\n</style>\n<table border=\"1\" class=\"dataframe\">\n  <thead>\n    <tr style=\"text-align: right;\">\n      <th></th>\n      <th>metro_name</th>\n      <th>cbsa_id</th>\n      <th>ratio_of_public_transport</th>\n      <th>median_income</th>\n      <th>pctg_below_poverty_line</th>\n      <th>enrolled_in_school</th>\n      <th>sqmi</th>\n      <th>hse_units</th>\n      <th>avg_fam_sz</th>\n      <th>pop_sqmi</th>\n      <th>pct_dem</th>\n      <th>pct_repub</th>\n      <th>latitude</th>\n      <th>longitude</th>\n      <th>au3</th>\n    </tr>\n  </thead>\n  <tbody>\n    <tr>\n      <th>0</th>\n      <td>Aberdeen, WA</td>\n      <td>10140.0</td>\n      <td>0.248173</td>\n      <td>0.120348</td>\n      <td>0.013290</td>\n      <td>-0.077303</td>\n      <td>0.028771</td>\n      <td>-0.207854</td>\n      <td>0.414232</td>\n      <td>-0.426037</td>\n      <td>1.023474</td>\n      <td>-1.023474</td>\n      <td>1.635780</td>\n      <td>-2.312895</td>\n      <td>0.375230</td>\n    </tr>\n    <tr>\n      <th>1</th>\n      <td>Ada, OK</td>\n      <td>10220.0</td>\n      <td>-0.520086</td>\n      <td>0.195562</td>\n      <td>0.000000</td>\n      <td>-0.228167</td>\n      <td>-0.465152</td>\n      <td>-0.272564</td>\n      <td>0.455459</td>\n      <td>-0.351006</td>\n      <td>-1.291988</td>\n      <td>1.291988</td>\n      <td>-0.590006</td>\n      <td>-0.327322</td>\n      <td>-1.589582</td>\n    </tr>\n    <tr>\n      <th>2</th>\n      <td>Adrian, MI</td>\n      <td>10300.0</td>\n      <td>-0.424802</td>\n      <td>0.868949</td>\n      <td>-0.429719</td>\n      <td>-0.224541</td>\n      <td>-0.450319</td>\n      <td>-0.178981</td>\n      <td>0.463704</td>\n      <td>0.072041</td>\n      <td>0.365331</td>\n      <td>-0.365331</td>\n      <td>0.758064</td>\n      <td>0.617013</td>\n      <td>0.583803</td>\n    </tr>\n    <tr>\n      <th>3</th>\n      <td>Akron, OH</td>\n      <td>10420.0</td>\n      <td>0.191674</td>\n      <td>0.533610</td>\n      <td>-0.255679</td>\n      <td>-0.264682</td>\n      <td>-0.383568</td>\n      <td>0.758794</td>\n      <td>0.447214</td>\n      <td>3.422888</td>\n      <td>1.218050</td>\n      <td>-1.218050</td>\n      <td>0.604046</td>\n      <td>0.784054</td>\n      <td>0.255774</td>\n    </tr>\n    <tr>\n      <th>4</th>\n      <td>Albany, GA</td>\n      <td>10500.0</td>\n      <td>0.001436</td>\n      <td>1.938825</td>\n      <td>1.674574</td>\n      <td>-0.159467</td>\n      <td>-0.102800</td>\n      <td>-0.100204</td>\n      <td>0.546157</td>\n      <td>-0.198816</td>\n      <td>-0.053201</td>\n      <td>0.053201</td>\n      <td>-1.174070</td>\n      <td>0.589454</td>\n      <td>0.259028</td>\n    </tr>\n    <tr>\n      <th>...</th>\n      <td>...</td>\n      <td>...</td>\n      <td>...</td>\n      <td>...</td>\n      <td>...</td>\n      <td>...</td>\n      <td>...</td>\n      <td>...</td>\n      <td>...</td>\n      <td>...</td>\n      <td>...</td>\n      <td>...</td>\n      <td>...</td>\n      <td>...</td>\n      <td>...</td>\n    </tr>\n    <tr>\n      <th>587</th>\n      <td>York-Hanover, PA</td>\n      <td>49620.0</td>\n      <td>0.002138</td>\n      <td>0.532464</td>\n      <td>-1.252450</td>\n      <td>-0.257513</td>\n      <td>-0.389084</td>\n      <td>0.292187</td>\n      <td>0.447214</td>\n      <td>1.915353</td>\n      <td>-0.018590</td>\n      <td>0.018590</td>\n      <td>0.405970</td>\n      <td>1.118538</td>\n      <td>0.454380</td>\n    </tr>\n    <tr>\n      <th>588</th>\n      <td>Youngstown-Warren-Boardman, OH-PA</td>\n      <td>49660.0</td>\n      <td>-0.186601</td>\n      <td>0.268693</td>\n      <td>-0.002531</td>\n      <td>0.005607</td>\n      <td>-0.047236</td>\n      <td>0.574632</td>\n      <td>0.414232</td>\n      <td>1.099591</td>\n      <td>1.318976</td>\n      <td>-1.318976</td>\n      <td>0.573224</td>\n      <td>0.896621</td>\n      <td>0.294844</td>\n    </tr>\n    <tr>\n      <th>589</th>\n      <td>Yuba City, CA</td>\n      <td>49700.0</td>\n      <td>-0.016467</td>\n      <td>0.193791</td>\n      <td>0.345547</td>\n      <td>-0.255924</td>\n      <td>-0.248958</td>\n      <td>-0.116118</td>\n      <td>0.818251</td>\n      <td>0.083215</td>\n      <td>-0.428676</td>\n      <td>0.428676</td>\n      <td>0.130559</td>\n      <td>-2.139824</td>\n      <td>1.016019</td>\n    </tr>\n    <tr>\n      <th>590</th>\n      <td>Yuma, AZ</td>\n      <td>49740.0</td>\n      <td>0.635026</td>\n      <td>-0.604710</td>\n      <td>0.472121</td>\n      <td>-0.217837</td>\n      <td>1.500424</td>\n      <td>-0.024277</td>\n      <td>0.785270</td>\n      <td>-0.437744</td>\n      <td>-0.020970</td>\n      <td>0.020970</td>\n      <td>-0.929281</td>\n      <td>-1.554558</td>\n      <td>0.735752</td>\n    </tr>\n    <tr>\n      <th>591</th>\n      <td>Zanesville, OH</td>\n      <td>49780.0</td>\n      <td>-0.383124</td>\n      <td>0.707061</td>\n      <td>-0.002531</td>\n      <td>-0.184530</td>\n      <td>-0.486748</td>\n      <td>-0.197721</td>\n      <td>0.422478</td>\n      <td>0.055012</td>\n      <td>-0.046548</td>\n      <td>0.046548</td>\n      <td>0.365984</td>\n      <td>0.722444</td>\n      <td>-0.253232</td>\n    </tr>\n  </tbody>\n</table>\n<p>592 rows × 15 columns</p>\n</div>",
      "text/plain": "                            metro_name  cbsa_id  ratio_of_public_transport  \\\n0                         Aberdeen, WA  10140.0                   0.248173   \n1                              Ada, OK  10220.0                  -0.520086   \n2                           Adrian, MI  10300.0                  -0.424802   \n3                            Akron, OH  10420.0                   0.191674   \n4                           Albany, GA  10500.0                   0.001436   \n..                                 ...      ...                        ...   \n587                   York-Hanover, PA  49620.0                   0.002138   \n588  Youngstown-Warren-Boardman, OH-PA  49660.0                  -0.186601   \n589                      Yuba City, CA  49700.0                  -0.016467   \n590                           Yuma, AZ  49740.0                   0.635026   \n591                     Zanesville, OH  49780.0                  -0.383124   \n\n     median_income  pctg_below_poverty_line  enrolled_in_school      sqmi  \\\n0         0.120348                 0.013290           -0.077303  0.028771   \n1         0.195562                 0.000000           -0.228167 -0.465152   \n2         0.868949                -0.429719           -0.224541 -0.450319   \n3         0.533610                -0.255679           -0.264682 -0.383568   \n4         1.938825                 1.674574           -0.159467 -0.102800   \n..             ...                      ...                 ...       ...   \n587       0.532464                -1.252450           -0.257513 -0.389084   \n588       0.268693                -0.002531            0.005607 -0.047236   \n589       0.193791                 0.345547           -0.255924 -0.248958   \n590      -0.604710                 0.472121           -0.217837  1.500424   \n591       0.707061                -0.002531           -0.184530 -0.486748   \n\n     hse_units  avg_fam_sz  pop_sqmi   pct_dem  pct_repub  latitude  \\\n0    -0.207854    0.414232 -0.426037  1.023474  -1.023474  1.635780   \n1    -0.272564    0.455459 -0.351006 -1.291988   1.291988 -0.590006   \n2    -0.178981    0.463704  0.072041  0.365331  -0.365331  0.758064   \n3     0.758794    0.447214  3.422888  1.218050  -1.218050  0.604046   \n4    -0.100204    0.546157 -0.198816 -0.053201   0.053201 -1.174070   \n..         ...         ...       ...       ...        ...       ...   \n587   0.292187    0.447214  1.915353 -0.018590   0.018590  0.405970   \n588   0.574632    0.414232  1.099591  1.318976  -1.318976  0.573224   \n589  -0.116118    0.818251  0.083215 -0.428676   0.428676  0.130559   \n590  -0.024277    0.785270 -0.437744 -0.020970   0.020970 -0.929281   \n591  -0.197721    0.422478  0.055012 -0.046548   0.046548  0.365984   \n\n     longitude       au3  \n0    -2.312895  0.375230  \n1    -0.327322 -1.589582  \n2     0.617013  0.583803  \n3     0.784054  0.255774  \n4     0.589454  0.259028  \n..         ...       ...  \n587   1.118538  0.454380  \n588   0.896621  0.294844  \n589  -2.139824  1.016019  \n590  -1.554558  0.735752  \n591   0.722444 -0.253232  \n\n[592 rows x 15 columns]"
     },
     "execution_count": 51,
     "metadata": {},
     "output_type": "execute_result"
    }
   ],
   "source": [
    "import pandas as pd\n",
    "\n",
    "# Dictionary of categories for weights\n",
    "categories = {'lifestyle': ['ratio_of_public_transport', 'enrolled_in_school', 'avg_fam_sz'],\n",
    "              'economic': ['median_income', 'pctg_below_poverty_line', 'hse_units'],\n",
    "              'size': ['sqmi'],\n",
    "              'population': ['pop_sqmi'],\n",
    "              'political': ['pct_dem', 'pct_repub'],\n",
    "              'geographic': ['latitude', 'longitude']}\n",
    "\n",
    "vectors = pd.read_csv('../geographic_eda/clustering_vectors.csv')\n",
    "vectors"
   ]
  },
  {
   "cell_type": "code",
   "execution_count": 52,
   "metadata": {},
   "outputs": [
    {
     "data": {
      "text/html": "<div>\n<style scoped>\n    .dataframe tbody tr th:only-of-type {\n        vertical-align: middle;\n    }\n\n    .dataframe tbody tr th {\n        vertical-align: top;\n    }\n\n    .dataframe thead th {\n        text-align: right;\n    }\n</style>\n<table border=\"1\" class=\"dataframe\">\n  <thead>\n    <tr style=\"text-align: right;\">\n      <th></th>\n      <th>metro_name</th>\n      <th>cbsa_id</th>\n      <th>au3</th>\n      <th>ratio_of_public_transport</th>\n      <th>enrolled_in_school</th>\n      <th>avg_fam_sz</th>\n      <th>median_income</th>\n      <th>pctg_below_poverty_line</th>\n      <th>hse_units</th>\n      <th>sqmi</th>\n      <th>pop_sqmi</th>\n      <th>pct_dem</th>\n      <th>pct_repub</th>\n      <th>latitude</th>\n      <th>longitude</th>\n    </tr>\n  </thead>\n  <tbody>\n    <tr>\n      <th>0</th>\n      <td>Aberdeen, WA</td>\n      <td>10140.0</td>\n      <td>0.375230</td>\n      <td>0.082724</td>\n      <td>-0.025768</td>\n      <td>0.138077</td>\n      <td>0.040116</td>\n      <td>0.004430</td>\n      <td>-0.069285</td>\n      <td>0.028771</td>\n      <td>-0.426037</td>\n      <td>0.511737</td>\n      <td>-0.511737</td>\n      <td>0.817890</td>\n      <td>-1.156447</td>\n    </tr>\n    <tr>\n      <th>1</th>\n      <td>Ada, OK</td>\n      <td>10220.0</td>\n      <td>-1.589582</td>\n      <td>-0.173362</td>\n      <td>-0.076056</td>\n      <td>0.151820</td>\n      <td>0.065187</td>\n      <td>0.000000</td>\n      <td>-0.090855</td>\n      <td>-0.465152</td>\n      <td>-0.351006</td>\n      <td>-0.645994</td>\n      <td>0.645994</td>\n      <td>-0.295003</td>\n      <td>-0.163661</td>\n    </tr>\n    <tr>\n      <th>2</th>\n      <td>Adrian, MI</td>\n      <td>10300.0</td>\n      <td>0.583803</td>\n      <td>-0.141601</td>\n      <td>-0.074847</td>\n      <td>0.154568</td>\n      <td>0.289650</td>\n      <td>-0.143240</td>\n      <td>-0.059660</td>\n      <td>-0.450319</td>\n      <td>0.072041</td>\n      <td>0.182666</td>\n      <td>-0.182666</td>\n      <td>0.379032</td>\n      <td>0.308506</td>\n    </tr>\n    <tr>\n      <th>3</th>\n      <td>Akron, OH</td>\n      <td>10420.0</td>\n      <td>0.255774</td>\n      <td>0.063891</td>\n      <td>-0.088227</td>\n      <td>0.149071</td>\n      <td>0.177870</td>\n      <td>-0.085226</td>\n      <td>0.252931</td>\n      <td>-0.383568</td>\n      <td>3.422888</td>\n      <td>0.609025</td>\n      <td>-0.609025</td>\n      <td>0.302023</td>\n      <td>0.392027</td>\n    </tr>\n    <tr>\n      <th>4</th>\n      <td>Albany, GA</td>\n      <td>10500.0</td>\n      <td>0.259028</td>\n      <td>0.000479</td>\n      <td>-0.053156</td>\n      <td>0.182052</td>\n      <td>0.646275</td>\n      <td>0.558191</td>\n      <td>-0.033401</td>\n      <td>-0.102800</td>\n      <td>-0.198816</td>\n      <td>-0.026600</td>\n      <td>0.026600</td>\n      <td>-0.587035</td>\n      <td>0.294727</td>\n    </tr>\n    <tr>\n      <th>...</th>\n      <td>...</td>\n      <td>...</td>\n      <td>...</td>\n      <td>...</td>\n      <td>...</td>\n      <td>...</td>\n      <td>...</td>\n      <td>...</td>\n      <td>...</td>\n      <td>...</td>\n      <td>...</td>\n      <td>...</td>\n      <td>...</td>\n      <td>...</td>\n      <td>...</td>\n    </tr>\n    <tr>\n      <th>587</th>\n      <td>York-Hanover, PA</td>\n      <td>49620.0</td>\n      <td>0.454380</td>\n      <td>0.000713</td>\n      <td>-0.085838</td>\n      <td>0.149071</td>\n      <td>0.177488</td>\n      <td>-0.417483</td>\n      <td>0.097396</td>\n      <td>-0.389084</td>\n      <td>1.915353</td>\n      <td>-0.009295</td>\n      <td>0.009295</td>\n      <td>0.202985</td>\n      <td>0.559269</td>\n    </tr>\n    <tr>\n      <th>588</th>\n      <td>Youngstown-Warren-Boardman, OH-PA</td>\n      <td>49660.0</td>\n      <td>0.294844</td>\n      <td>-0.062200</td>\n      <td>0.001869</td>\n      <td>0.138077</td>\n      <td>0.089564</td>\n      <td>-0.000844</td>\n      <td>0.191544</td>\n      <td>-0.047236</td>\n      <td>1.099591</td>\n      <td>0.659488</td>\n      <td>-0.659488</td>\n      <td>0.286612</td>\n      <td>0.448310</td>\n    </tr>\n    <tr>\n      <th>589</th>\n      <td>Yuba City, CA</td>\n      <td>49700.0</td>\n      <td>1.016019</td>\n      <td>-0.005489</td>\n      <td>-0.085308</td>\n      <td>0.272750</td>\n      <td>0.064597</td>\n      <td>0.115182</td>\n      <td>-0.038706</td>\n      <td>-0.248958</td>\n      <td>0.083215</td>\n      <td>-0.214338</td>\n      <td>0.214338</td>\n      <td>0.065279</td>\n      <td>-1.069912</td>\n    </tr>\n    <tr>\n      <th>590</th>\n      <td>Yuma, AZ</td>\n      <td>49740.0</td>\n      <td>0.735752</td>\n      <td>0.211675</td>\n      <td>-0.072612</td>\n      <td>0.261757</td>\n      <td>-0.201570</td>\n      <td>0.157374</td>\n      <td>-0.008092</td>\n      <td>1.500424</td>\n      <td>-0.437744</td>\n      <td>-0.010485</td>\n      <td>0.010485</td>\n      <td>-0.464641</td>\n      <td>-0.777279</td>\n    </tr>\n    <tr>\n      <th>591</th>\n      <td>Zanesville, OH</td>\n      <td>49780.0</td>\n      <td>-0.253232</td>\n      <td>-0.127708</td>\n      <td>-0.061510</td>\n      <td>0.140826</td>\n      <td>0.235687</td>\n      <td>-0.000844</td>\n      <td>-0.065907</td>\n      <td>-0.486748</td>\n      <td>0.055012</td>\n      <td>-0.023274</td>\n      <td>0.023274</td>\n      <td>0.182992</td>\n      <td>0.361222</td>\n    </tr>\n  </tbody>\n</table>\n<p>592 rows × 15 columns</p>\n</div>",
      "text/plain": "                            metro_name  cbsa_id       au3  \\\n0                         Aberdeen, WA  10140.0  0.375230   \n1                              Ada, OK  10220.0 -1.589582   \n2                           Adrian, MI  10300.0  0.583803   \n3                            Akron, OH  10420.0  0.255774   \n4                           Albany, GA  10500.0  0.259028   \n..                                 ...      ...       ...   \n587                   York-Hanover, PA  49620.0  0.454380   \n588  Youngstown-Warren-Boardman, OH-PA  49660.0  0.294844   \n589                      Yuba City, CA  49700.0  1.016019   \n590                           Yuma, AZ  49740.0  0.735752   \n591                     Zanesville, OH  49780.0 -0.253232   \n\n     ratio_of_public_transport  enrolled_in_school  avg_fam_sz  median_income  \\\n0                     0.082724           -0.025768    0.138077       0.040116   \n1                    -0.173362           -0.076056    0.151820       0.065187   \n2                    -0.141601           -0.074847    0.154568       0.289650   \n3                     0.063891           -0.088227    0.149071       0.177870   \n4                     0.000479           -0.053156    0.182052       0.646275   \n..                         ...                 ...         ...            ...   \n587                   0.000713           -0.085838    0.149071       0.177488   \n588                  -0.062200            0.001869    0.138077       0.089564   \n589                  -0.005489           -0.085308    0.272750       0.064597   \n590                   0.211675           -0.072612    0.261757      -0.201570   \n591                  -0.127708           -0.061510    0.140826       0.235687   \n\n     pctg_below_poverty_line  hse_units      sqmi  pop_sqmi   pct_dem  \\\n0                   0.004430  -0.069285  0.028771 -0.426037  0.511737   \n1                   0.000000  -0.090855 -0.465152 -0.351006 -0.645994   \n2                  -0.143240  -0.059660 -0.450319  0.072041  0.182666   \n3                  -0.085226   0.252931 -0.383568  3.422888  0.609025   \n4                   0.558191  -0.033401 -0.102800 -0.198816 -0.026600   \n..                       ...        ...       ...       ...       ...   \n587                -0.417483   0.097396 -0.389084  1.915353 -0.009295   \n588                -0.000844   0.191544 -0.047236  1.099591  0.659488   \n589                 0.115182  -0.038706 -0.248958  0.083215 -0.214338   \n590                 0.157374  -0.008092  1.500424 -0.437744 -0.010485   \n591                -0.000844  -0.065907 -0.486748  0.055012 -0.023274   \n\n     pct_repub  latitude  longitude  \n0    -0.511737  0.817890  -1.156447  \n1     0.645994 -0.295003  -0.163661  \n2    -0.182666  0.379032   0.308506  \n3    -0.609025  0.302023   0.392027  \n4     0.026600 -0.587035   0.294727  \n..         ...       ...        ...  \n587   0.009295  0.202985   0.559269  \n588  -0.659488  0.286612   0.448310  \n589   0.214338  0.065279  -1.069912  \n590   0.010485 -0.464641  -0.777279  \n591   0.023274  0.182992   0.361222  \n\n[592 rows x 15 columns]"
     },
     "execution_count": 52,
     "metadata": {},
     "output_type": "execute_result"
    }
   ],
   "source": [
    "weighted_vectors = vectors[['metro_name', 'cbsa_id', 'au3']]\n",
    "\n",
    "# Divide each column by how many total features are in its respective category\n",
    "for k, v in categories.items():\n",
    "    for val in v:\n",
    "        weighted_vectors[val] = vectors[val] / len(v)\n",
    "\n",
    "weighted_vectors"
   ]
  },
  {
   "cell_type": "code",
   "execution_count": 54,
   "metadata": {},
   "outputs": [],
   "source": [
    "weighted_vectors.to_csv('../geographic_eda/weighted_clustering_vectors.csv', index = False, header = True)"
   ]
  },
  {
   "cell_type": "code",
   "execution_count": null,
   "metadata": {},
   "outputs": [],
   "source": []
  }
 ]
}