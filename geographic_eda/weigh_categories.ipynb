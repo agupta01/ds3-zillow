{
 "nbformat": 4,
 "nbformat_minor": 2,
 "metadata": {
  "language_info": {
   "name": "python",
   "codemirror_mode": {
    "name": "ipython",
    "version": 3
   },
   "version": "3.7.6-final"
  },
  "orig_nbformat": 2,
  "file_extension": ".py",
  "mimetype": "text/x-python",
  "name": "python",
  "npconvert_exporter": "python",
  "pygments_lexer": "ipython3",
  "version": 3,
  "kernelspec": {
   "name": "python37664bit428820946cd7473d8a76804ffe0f7c21",
   "display_name": "Python 3.7.6 64-bit"
  }
 },
 "cells": [
  {
   "cell_type": "markdown",
   "metadata": {},
   "source": [
    "# Categories in Vector to Weigh:\n",
    "- *LIFESTYLE* ratio_of_public_transport, enrolled_in_school, avg_fam_sz\n",
    "- *ECONOMIC* median_income, pctg_below_poverty_line, hse_units\n",
    "- *SIZE*: sqmi\n",
    "- *POPULATION*: pop_sqmi\n",
    "- *POLITICAL*: pct_dem, pct_repub (2000-2016 Elections)\n",
    "- *GEOGRAPHIC*: latitude, longitude\n",
    "\n",
    "- au3"
   ]
  },
  {
   "cell_type": "code",
   "execution_count": 19,
   "metadata": {},
   "outputs": [
    {
     "data": {
      "text/plain": "[3, 3, 1, 1, 2, 2]"
     },
     "execution_count": 19,
     "metadata": {},
     "output_type": "execute_result"
    }
   ],
   "source": [
    "categories = {'lifestyle': ['ratio_of_public_transport', 'enrolled_in_school', 'avg_fam_size'],\n",
    "              'economic': ['median_income', 'avg_fam_size', 'pctg_below_poverty_line'],\n",
    "              'size': ['sqmi'],\n",
    "              'population': ['pop_sqmi'],\n",
    "              'political': ['pct_dem', 'pct_repub'],\n",
    "              'geographic': ['latitude', 'longitude']}\n",
    "\n",
    "num_categories = [len(categories[c]) for c in categories]\n",
    "num_categories"
   ]
  },
  {
   "cell_type": "code",
   "execution_count": 20,
   "metadata": {},
   "outputs": [
    {
     "data": {
      "text/html": "<div>\n<style scoped>\n    .dataframe tbody tr th:only-of-type {\n        vertical-align: middle;\n    }\n\n    .dataframe tbody tr th {\n        vertical-align: top;\n    }\n\n    .dataframe thead th {\n        text-align: right;\n    }\n</style>\n<table border=\"1\" class=\"dataframe\">\n  <thead>\n    <tr style=\"text-align: right;\">\n      <th></th>\n      <th>metro_name</th>\n      <th>cbsa_id</th>\n      <th>ratio_of_public_transport</th>\n      <th>median_income</th>\n      <th>pctg_below_poverty_line</th>\n      <th>enrolled_in_school</th>\n      <th>sqmi</th>\n      <th>hse_units</th>\n      <th>avg_fam_sz</th>\n      <th>pop_sqmi</th>\n      <th>pct_dem</th>\n      <th>pct_repub</th>\n      <th>latitude</th>\n      <th>longitude</th>\n      <th>au3</th>\n    </tr>\n  </thead>\n  <tbody>\n    <tr>\n      <th>0</th>\n      <td>Aberdeen, WA</td>\n      <td>10140.0</td>\n      <td>0.248173</td>\n      <td>0.120348</td>\n      <td>0.013290</td>\n      <td>-0.077303</td>\n      <td>0.028771</td>\n      <td>-0.207854</td>\n      <td>0.414232</td>\n      <td>-0.426037</td>\n      <td>1.023474</td>\n      <td>-1.023474</td>\n      <td>1.635780</td>\n      <td>-2.312895</td>\n      <td>0.375230</td>\n    </tr>\n    <tr>\n      <th>1</th>\n      <td>Ada, OK</td>\n      <td>10220.0</td>\n      <td>-0.520086</td>\n      <td>0.195562</td>\n      <td>0.000000</td>\n      <td>-0.228167</td>\n      <td>-0.465152</td>\n      <td>-0.272564</td>\n      <td>0.455459</td>\n      <td>-0.351006</td>\n      <td>-1.291988</td>\n      <td>1.291988</td>\n      <td>-0.590006</td>\n      <td>-0.327322</td>\n      <td>-1.589582</td>\n    </tr>\n    <tr>\n      <th>2</th>\n      <td>Adrian, MI</td>\n      <td>10300.0</td>\n      <td>-0.424802</td>\n      <td>0.868949</td>\n      <td>-0.429719</td>\n      <td>-0.224541</td>\n      <td>-0.450319</td>\n      <td>-0.178981</td>\n      <td>0.463704</td>\n      <td>0.072041</td>\n      <td>0.365331</td>\n      <td>-0.365331</td>\n      <td>0.758064</td>\n      <td>0.617013</td>\n      <td>0.583803</td>\n    </tr>\n    <tr>\n      <th>3</th>\n      <td>Akron, OH</td>\n      <td>10420.0</td>\n      <td>0.191674</td>\n      <td>0.533610</td>\n      <td>-0.255679</td>\n      <td>-0.264682</td>\n      <td>-0.383568</td>\n      <td>0.758794</td>\n      <td>0.447214</td>\n      <td>3.422888</td>\n      <td>1.218050</td>\n      <td>-1.218050</td>\n      <td>0.604046</td>\n      <td>0.784054</td>\n      <td>0.255774</td>\n    </tr>\n    <tr>\n      <th>4</th>\n      <td>Albany, GA</td>\n      <td>10500.0</td>\n      <td>0.001436</td>\n      <td>1.938825</td>\n      <td>1.674574</td>\n      <td>-0.159467</td>\n      <td>-0.102800</td>\n      <td>-0.100204</td>\n      <td>0.546157</td>\n      <td>-0.198816</td>\n      <td>-0.053201</td>\n      <td>0.053201</td>\n      <td>-1.174070</td>\n      <td>0.589454</td>\n      <td>0.259028</td>\n    </tr>\n    <tr>\n      <th>...</th>\n      <td>...</td>\n      <td>...</td>\n      <td>...</td>\n      <td>...</td>\n      <td>...</td>\n      <td>...</td>\n      <td>...</td>\n      <td>...</td>\n      <td>...</td>\n      <td>...</td>\n      <td>...</td>\n      <td>...</td>\n      <td>...</td>\n      <td>...</td>\n      <td>...</td>\n    </tr>\n    <tr>\n      <th>587</th>\n      <td>York-Hanover, PA</td>\n      <td>49620.0</td>\n      <td>0.002138</td>\n      <td>0.532464</td>\n      <td>-1.252450</td>\n      <td>-0.257513</td>\n      <td>-0.389084</td>\n      <td>0.292187</td>\n      <td>0.447214</td>\n      <td>1.915353</td>\n      <td>-0.018590</td>\n      <td>0.018590</td>\n      <td>0.405970</td>\n      <td>1.118538</td>\n      <td>0.454380</td>\n    </tr>\n    <tr>\n      <th>588</th>\n      <td>Youngstown-Warren-Boardman, OH-PA</td>\n      <td>49660.0</td>\n      <td>-0.186601</td>\n      <td>0.268693</td>\n      <td>-0.002531</td>\n      <td>0.005607</td>\n      <td>-0.047236</td>\n      <td>0.574632</td>\n      <td>0.414232</td>\n      <td>1.099591</td>\n      <td>1.318976</td>\n      <td>-1.318976</td>\n      <td>0.573224</td>\n      <td>0.896621</td>\n      <td>0.294844</td>\n    </tr>\n    <tr>\n      <th>589</th>\n      <td>Yuba City, CA</td>\n      <td>49700.0</td>\n      <td>-0.016467</td>\n      <td>0.193791</td>\n      <td>0.345547</td>\n      <td>-0.255924</td>\n      <td>-0.248958</td>\n      <td>-0.116118</td>\n      <td>0.818251</td>\n      <td>0.083215</td>\n      <td>-0.428676</td>\n      <td>0.428676</td>\n      <td>0.130559</td>\n      <td>-2.139824</td>\n      <td>1.016019</td>\n    </tr>\n    <tr>\n      <th>590</th>\n      <td>Yuma, AZ</td>\n      <td>49740.0</td>\n      <td>0.635026</td>\n      <td>-0.604710</td>\n      <td>0.472121</td>\n      <td>-0.217837</td>\n      <td>1.500424</td>\n      <td>-0.024277</td>\n      <td>0.785270</td>\n      <td>-0.437744</td>\n      <td>-0.020970</td>\n      <td>0.020970</td>\n      <td>-0.929281</td>\n      <td>-1.554558</td>\n      <td>0.735752</td>\n    </tr>\n    <tr>\n      <th>591</th>\n      <td>Zanesville, OH</td>\n      <td>49780.0</td>\n      <td>-0.383124</td>\n      <td>0.707061</td>\n      <td>-0.002531</td>\n      <td>-0.184530</td>\n      <td>-0.486748</td>\n      <td>-0.197721</td>\n      <td>0.422478</td>\n      <td>0.055012</td>\n      <td>-0.046548</td>\n      <td>0.046548</td>\n      <td>0.365984</td>\n      <td>0.722444</td>\n      <td>-0.253232</td>\n    </tr>\n  </tbody>\n</table>\n<p>592 rows × 15 columns</p>\n</div>",
      "text/plain": "                            metro_name  cbsa_id  ratio_of_public_transport  \\\n0                         Aberdeen, WA  10140.0                   0.248173   \n1                              Ada, OK  10220.0                  -0.520086   \n2                           Adrian, MI  10300.0                  -0.424802   \n3                            Akron, OH  10420.0                   0.191674   \n4                           Albany, GA  10500.0                   0.001436   \n..                                 ...      ...                        ...   \n587                   York-Hanover, PA  49620.0                   0.002138   \n588  Youngstown-Warren-Boardman, OH-PA  49660.0                  -0.186601   \n589                      Yuba City, CA  49700.0                  -0.016467   \n590                           Yuma, AZ  49740.0                   0.635026   \n591                     Zanesville, OH  49780.0                  -0.383124   \n\n     median_income  pctg_below_poverty_line  enrolled_in_school      sqmi  \\\n0         0.120348                 0.013290           -0.077303  0.028771   \n1         0.195562                 0.000000           -0.228167 -0.465152   \n2         0.868949                -0.429719           -0.224541 -0.450319   \n3         0.533610                -0.255679           -0.264682 -0.383568   \n4         1.938825                 1.674574           -0.159467 -0.102800   \n..             ...                      ...                 ...       ...   \n587       0.532464                -1.252450           -0.257513 -0.389084   \n588       0.268693                -0.002531            0.005607 -0.047236   \n589       0.193791                 0.345547           -0.255924 -0.248958   \n590      -0.604710                 0.472121           -0.217837  1.500424   \n591       0.707061                -0.002531           -0.184530 -0.486748   \n\n     hse_units  avg_fam_sz  pop_sqmi   pct_dem  pct_repub  latitude  \\\n0    -0.207854    0.414232 -0.426037  1.023474  -1.023474  1.635780   \n1    -0.272564    0.455459 -0.351006 -1.291988   1.291988 -0.590006   \n2    -0.178981    0.463704  0.072041  0.365331  -0.365331  0.758064   \n3     0.758794    0.447214  3.422888  1.218050  -1.218050  0.604046   \n4    -0.100204    0.546157 -0.198816 -0.053201   0.053201 -1.174070   \n..         ...         ...       ...       ...        ...       ...   \n587   0.292187    0.447214  1.915353 -0.018590   0.018590  0.405970   \n588   0.574632    0.414232  1.099591  1.318976  -1.318976  0.573224   \n589  -0.116118    0.818251  0.083215 -0.428676   0.428676  0.130559   \n590  -0.024277    0.785270 -0.437744 -0.020970   0.020970 -0.929281   \n591  -0.197721    0.422478  0.055012 -0.046548   0.046548  0.365984   \n\n     longitude       au3  \n0    -2.312895  0.375230  \n1    -0.327322 -1.589582  \n2     0.617013  0.583803  \n3     0.784054  0.255774  \n4     0.589454  0.259028  \n..         ...       ...  \n587   1.118538  0.454380  \n588   0.896621  0.294844  \n589  -2.139824  1.016019  \n590  -1.554558  0.735752  \n591   0.722444 -0.253232  \n\n[592 rows x 15 columns]"
     },
     "execution_count": 20,
     "metadata": {},
     "output_type": "execute_result"
    }
   ],
   "source": [
    "import pandas as pd\n",
    "\n",
    "vectors = pd.read_csv('../geographic_eda/clustering_vectors.csv')\n",
    "vectors\n",
    "\n"
   ]
  },
  {
   "cell_type": "code",
   "execution_count": null,
   "metadata": {},
   "outputs": [],
   "source": []
  }
 ]
}