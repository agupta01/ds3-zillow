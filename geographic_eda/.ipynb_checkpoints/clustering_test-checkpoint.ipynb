{
 "nbformat": 4,
 "nbformat_minor": 2,
 "metadata": {
  "language_info": {
   "name": "python",
   "codemirror_mode": {
    "name": "ipython",
    "version": 3
   },
   "version": "3.7.6-final"
  },
  "orig_nbformat": 2,
  "file_extension": ".py",
  "mimetype": "text/x-python",
  "name": "python",
  "npconvert_exporter": "python",
  "pygments_lexer": "ipython3",
  "version": 3,
  "kernelspec": {
   "name": "python37664bit428820946cd7473d8a76804ffe0f7c21",
   "display_name": "Python 3.7.6 64-bit"
  }
 },
 "cells": [
  {
   "cell_type": "markdown",
   "metadata": {},
   "source": [
    "# K-Means Clustering Test on Three-Component Vectors for Each CBSA\n",
    "This is for the sake of practice, testing, and visualisation. AUB-ARIMA CL output currently not considered."
   ]
  },
  {
   "cell_type": "code",
   "execution_count": 59,
   "metadata": {},
   "outputs": [],
   "source": [
    "import pandas as pd\n",
    "import numpy as np\n",
    "\n",
    "import chart_studio.plotly as py\n",
    "import plotly.graph_objs as go\n",
    "\n",
    "df = pd.read_csv('test_01.csv')\n",
    "kmeans_df = df.drop(columns = ['metro_name'])\n",
    "\n",
    "# Number of clusters\n",
    "k = 3"
   ]
  },
  {
   "cell_type": "code",
   "execution_count": 61,
   "metadata": {},
   "outputs": [
    {
     "data": {
      "text/html": "<div>\n<style scoped>\n    .dataframe tbody tr th:only-of-type {\n        vertical-align: middle;\n    }\n\n    .dataframe tbody tr th {\n        vertical-align: top;\n    }\n\n    .dataframe thead th {\n        text-align: right;\n    }\n</style>\n<table border=\"1\" class=\"dataframe\">\n  <thead>\n    <tr style=\"text-align: right;\">\n      <th></th>\n      <th>ratio_of_public_transport</th>\n      <th>median_income</th>\n      <th>enrolled_in_school</th>\n      <th>cluster</th>\n    </tr>\n  </thead>\n  <tbody>\n    <tr>\n      <th>0</th>\n      <td>1.274381</td>\n      <td>-0.524099</td>\n      <td>1.031626</td>\n      <td>0</td>\n    </tr>\n    <tr>\n      <th>1</th>\n      <td>1.098373</td>\n      <td>1.148940</td>\n      <td>1.561631</td>\n      <td>0</td>\n    </tr>\n    <tr>\n      <th>2</th>\n      <td>0.216680</td>\n      <td>0.219432</td>\n      <td>0.696153</td>\n      <td>2</td>\n    </tr>\n    <tr>\n      <th>3</th>\n      <td>0.872824</td>\n      <td>0.475929</td>\n      <td>1.687845</td>\n      <td>0</td>\n    </tr>\n    <tr>\n      <th>4</th>\n      <td>-2.025492</td>\n      <td>0.288121</td>\n      <td>-0.251108</td>\n      <td>1</td>\n    </tr>\n    <tr>\n      <th>...</th>\n      <td>...</td>\n      <td>...</td>\n      <td>...</td>\n      <td>...</td>\n    </tr>\n    <tr>\n      <th>950</th>\n      <td>0.440277</td>\n      <td>0.583197</td>\n      <td>-0.715944</td>\n      <td>2</td>\n    </tr>\n    <tr>\n      <th>951</th>\n      <td>0.481194</td>\n      <td>0.353888</td>\n      <td>0.954770</td>\n      <td>0</td>\n    </tr>\n    <tr>\n      <th>952</th>\n      <td>-0.010236</td>\n      <td>0.286517</td>\n      <td>-0.682515</td>\n      <td>2</td>\n    </tr>\n    <tr>\n      <th>953</th>\n      <td>0.047177</td>\n      <td>-0.504815</td>\n      <td>-0.135704</td>\n      <td>2</td>\n    </tr>\n    <tr>\n      <th>954</th>\n      <td>0.847895</td>\n      <td>0.728620</td>\n      <td>0.152238</td>\n      <td>2</td>\n    </tr>\n  </tbody>\n</table>\n<p>955 rows × 4 columns</p>\n</div>",
      "text/plain": "     ratio_of_public_transport  median_income  enrolled_in_school  cluster\n0                     1.274381      -0.524099            1.031626        0\n1                     1.098373       1.148940            1.561631        0\n2                     0.216680       0.219432            0.696153        2\n3                     0.872824       0.475929            1.687845        0\n4                    -2.025492       0.288121           -0.251108        1\n..                         ...            ...                 ...      ...\n950                   0.440277       0.583197           -0.715944        2\n951                   0.481194       0.353888            0.954770        0\n952                  -0.010236       0.286517           -0.682515        2\n953                   0.047177      -0.504815           -0.135704        2\n954                   0.847895       0.728620            0.152238        2\n\n[955 rows x 4 columns]"
     },
     "execution_count": 61,
     "metadata": {},
     "output_type": "execute_result"
    }
   ],
   "source": [
    "from sklearn.cluster import KMeans\n",
    "\n",
    "# Features extracted from our test .csv file\n",
    "kmeans = KMeans(n_clusters = k).fit(kmeans_df[['ratio_of_public_transport', 'median_income', 'enrolled_in_school']])\n",
    "kmeans_df.loc[:,'cluster'] = kmeans.labels_\n",
    "kmeans_df = kmeans_df\n",
    "kmeans_df\n"
   ]
  },
  {
   "cell_type": "code",
   "execution_count": 62,
   "metadata": {},
   "outputs": [
    {
     "data": {
      "text/plain": "array([[ 1.22800145,  0.80030249,  1.4716126 ],\n       [-0.96411045, -0.86639472, -0.72459989],\n       [ 0.04473414,  0.1824264 , -0.22372412]])"
     },
     "execution_count": 62,
     "metadata": {},
     "output_type": "execute_result"
    }
   ],
   "source": [
    "# Coordinates of centroids, initialised randomly\n",
    "centroids = kmeans.cluster_centers_\n",
    "centroids"
   ]
  },
  {
   "cell_type": "code",
   "execution_count": 63,
   "metadata": {},
   "outputs": [
    {
     "data": {
      "text/html": "\n        <iframe\n            width=\"100%\"\n            height=\"525px\"\n            src=\"https://plot.ly/~camille0004/81.embed\"\n            frameborder=\"0\"\n            allowfullscreen\n        ></iframe>\n        ",
      "text/plain": "<IPython.lib.display.IFrame at 0x13dd58f90>"
     },
     "execution_count": 63,
     "metadata": {},
     "output_type": "execute_result"
    }
   ],
   "source": [
    "# Final centroids after iterative part of K-Means algorithm\n",
    "centroids_x = [centroids[c][0] for c in range(k)]\n",
    "centroids_y = [centroids[c][1] for c in range(k)]\n",
    "centroids_z = [centroids[c][2] for c in range(k)]\n",
    "\n",
    "# Plot the actual datapoints/CBSAs\n",
    "trace1 = go.Scatter3d(x = kmeans_df['ratio_of_public_transport'],\n",
    "                      y = kmeans_df['median_income'],\n",
    "                      z = kmeans_df['enrolled_in_school'],\n",
    "                      name = 'Metropolitan Area',\n",
    "                      mode='markers',\n",
    "                      marker=dict(\n",
    "                        size=4,\n",
    "                        opacity=0.35,\n",
    "                        color=kmeans.labels_\n",
    "                    ))\n",
    "\n",
    "# Plot the centroids\n",
    "trace2 = go.Scatter3d(x = centroids_x,\n",
    "                      y = centroids_y,\n",
    "                      z = centroids_z,\n",
    "                      name = 'Centroid',\n",
    "                      mode='markers',\n",
    "                      marker=dict(\n",
    "                        size=6,\n",
    "                        opacity=0.5,\n",
    "                        color='#000'\n",
    "                    ))\n",
    "trace3 = go.Mesh3d(\n",
    "    x = kmeans_df['ratio_of_public_transport'], \n",
    "    y = kmeans_df['median_income'],\n",
    "    z = kmeans_df['enrolled_in_school'],\n",
    "    alphahull = 1,\n",
    "    color='#1522b0',\n",
    "    opacity = 0.05,\n",
    "    \n",
    ")\n",
    "\n",
    "data = [trace1, trace2, trace3]\n",
    "fig = go.Figure(data=data)\n",
    "\n",
    "# Stylise the visual\n",
    "fig.update_layout(\n",
    "    title=\"Public Transportation to Work Ratio, Median Household Income, Education Attainment in Metro Areas in 2010\",\n",
    "    scene = dict(\n",
    "        xaxis = dict(title = 'Pub. Transport. to Work'),\n",
    "        yaxis = dict(title = 'Median Household Income'),\n",
    "        zaxis = dict(title = 'Education Attainment'),\n",
    "    ),\n",
    "    font = dict(\n",
    "        family=\"Courier New, monospace\",\n",
    "        size=10,\n",
    "        color=\"#7f7f7f\"\n",
    "    )\n",
    ")\n",
    "\n",
    "py.sign_in('camille0004', 'qsZvebqUjVL7lFGtLX0R')\n",
    "\n",
    "py.iplot(fig)"
   ]
  },
  {
   "cell_type": "code",
   "execution_count": 46,
   "metadata": {},
   "outputs": [
    {
     "data": {
      "text/html": "<div>\n<style scoped>\n    .dataframe tbody tr th:only-of-type {\n        vertical-align: middle;\n    }\n\n    .dataframe tbody tr th {\n        vertical-align: top;\n    }\n\n    .dataframe thead th {\n        text-align: right;\n    }\n</style>\n<table border=\"1\" class=\"dataframe\">\n  <thead>\n    <tr style=\"text-align: right;\">\n      <th></th>\n      <th>metro_name</th>\n      <th>cluster</th>\n    </tr>\n  </thead>\n  <tbody>\n    <tr>\n      <th>0</th>\n      <td>College Station-Bryan, TX Metro Area</td>\n      <td>0</td>\n    </tr>\n    <tr>\n      <th>459</th>\n      <td>Kennewick-Pasco-Richland, WA Metro Area</td>\n      <td>0</td>\n    </tr>\n    <tr>\n      <th>453</th>\n      <td>Kansas City, MO-KS Metro Area</td>\n      <td>0</td>\n    </tr>\n    <tr>\n      <th>450</th>\n      <td>Kalamazoo-Portage, MI Metro Area</td>\n      <td>0</td>\n    </tr>\n    <tr>\n      <th>449</th>\n      <td>Kahului-Wailuku, HI Micro Area</td>\n      <td>0</td>\n    </tr>\n    <tr>\n      <th>...</th>\n      <td>...</td>\n      <td>...</td>\n    </tr>\n    <tr>\n      <th>559</th>\n      <td>Mayfield, KY Micro Area</td>\n      <td>2</td>\n    </tr>\n    <tr>\n      <th>558</th>\n      <td>Mayag?ez, PR Metro Area</td>\n      <td>2</td>\n    </tr>\n    <tr>\n      <th>556</th>\n      <td>Maryville, MO Micro Area</td>\n      <td>2</td>\n    </tr>\n    <tr>\n      <th>577</th>\n      <td>Middlesborough, KY Micro Area</td>\n      <td>2</td>\n    </tr>\n    <tr>\n      <th>563</th>\n      <td>McComb, MS Micro Area</td>\n      <td>2</td>\n    </tr>\n  </tbody>\n</table>\n<p>955 rows × 2 columns</p>\n</div>",
      "text/plain": "                                  metro_name  cluster\n0       College Station-Bryan, TX Metro Area        0\n459  Kennewick-Pasco-Richland, WA Metro Area        0\n453            Kansas City, MO-KS Metro Area        0\n450         Kalamazoo-Portage, MI Metro Area        0\n449           Kahului-Wailuku, HI Micro Area        0\n..                                       ...      ...\n559                  Mayfield, KY Micro Area        2\n558                  Mayag?ez, PR Metro Area        2\n556                 Maryville, MO Micro Area        2\n577            Middlesborough, KY Micro Area        2\n563                    McComb, MS Micro Area        2\n\n[955 rows x 2 columns]"
     },
     "execution_count": 46,
     "metadata": {},
     "output_type": "execute_result"
    }
   ],
   "source": [
    "\n",
    "res_df = pd.DataFrame(zip(df.metro_name, kmeans_df.cluster), columns = ['metro_name', 'cluster']).sort_values(by = 'cluster')\n",
    "res_df"
   ]
  },
  {
   "cell_type": "code",
   "execution_count": null,
   "metadata": {},
   "outputs": [],
   "source": []
  }
 ]
}