{
 "nbformat": 4,
 "nbformat_minor": 2,
 "metadata": {
  "language_info": {
   "name": "python",
   "codemirror_mode": {
    "name": "ipython",
    "version": 3
   },
   "version": "3.7.6-final"
  },
  "orig_nbformat": 2,
  "file_extension": ".py",
  "mimetype": "text/x-python",
  "name": "python",
  "npconvert_exporter": "python",
  "pygments_lexer": "ipython3",
  "version": 3,
  "kernelspec": {
   "name": "python37664bit428820946cd7473d8a76804ffe0f7c21",
   "display_name": "Python 3.7.6 64-bit"
  }
 },
 "cells": [
  {
   "cell_type": "code",
   "execution_count": 2,
   "metadata": {},
   "outputs": [],
   "source": [
    "import numpy as np\n",
    "import pandas as pd\n",
    "import matplotlib.pyplot as plt"
   ]
  },
  {
   "cell_type": "markdown",
   "metadata": {},
   "source": [
    "\n",
    "# Create Feature Vectors for Cosine Similarity with AU3\n",
    "All of these figures are rough estimates by US Census and ACS data."
   ]
  },
  {
   "cell_type": "code",
   "execution_count": 3,
   "metadata": {},
   "outputs": [
    {
     "data": {
      "text/html": "<div>\n<style scoped>\n    .dataframe tbody tr th:only-of-type {\n        vertical-align: middle;\n    }\n\n    .dataframe tbody tr th {\n        vertical-align: top;\n    }\n\n    .dataframe thead th {\n        text-align: right;\n    }\n</style>\n<table border=\"1\" class=\"dataframe\">\n  <thead>\n    <tr style=\"text-align: right;\">\n      <th></th>\n      <th>NAME</th>\n      <th>High School Graduation Rate</th>\n      <th>Unemployment Rate</th>\n      <th>Percent Uninsured for Health</th>\n      <th>Median Household Income</th>\n      <th>Percentage of Households on Food Stamps</th>\n    </tr>\n  </thead>\n  <tbody>\n    <tr>\n      <th>15</th>\n      <td>Aberdeen, WA</td>\n      <td>86.6</td>\n      <td>23.7</td>\n      <td>0.173578</td>\n      <td>42057</td>\n      <td>0.216212</td>\n    </tr>\n    <tr>\n      <th>16</th>\n      <td>Abilene, TX</td>\n      <td>83.5</td>\n      <td>17.5</td>\n      <td>0.187588</td>\n      <td>43407</td>\n      <td>0.136550</td>\n    </tr>\n    <tr>\n      <th>17</th>\n      <td>Adrian, MI</td>\n      <td>91.0</td>\n      <td>25.8</td>\n      <td>0.111519</td>\n      <td>48224</td>\n      <td>0.140139</td>\n    </tr>\n    <tr>\n      <th>18</th>\n      <td>Aguadilla-Isabela-San Sebasti?n, PR</td>\n      <td>66.0</td>\n      <td>31.8</td>\n      <td>0.059501</td>\n      <td>15339</td>\n      <td>0.454933</td>\n    </tr>\n    <tr>\n      <th>19</th>\n      <td>Akron, OH</td>\n      <td>90.6</td>\n      <td>21.9</td>\n      <td>0.111187</td>\n      <td>49731</td>\n      <td>0.149729</td>\n    </tr>\n    <tr>\n      <th>...</th>\n      <td>...</td>\n      <td>...</td>\n      <td>...</td>\n      <td>...</td>\n      <td>...</td>\n      <td>...</td>\n    </tr>\n    <tr>\n      <th>10</th>\n      <td>York-Hanover, PA</td>\n      <td>87.5</td>\n      <td>17.0</td>\n      <td>0.091445</td>\n      <td>55648</td>\n      <td>0.090488</td>\n    </tr>\n    <tr>\n      <th>11</th>\n      <td>Youngstown-Warren-Boardman, OH-PA</td>\n      <td>88.7</td>\n      <td>13.6</td>\n      <td>0.118995</td>\n      <td>40686</td>\n      <td>0.179525</td>\n    </tr>\n    <tr>\n      <th>12</th>\n      <td>Yuba City, CA</td>\n      <td>80.2</td>\n      <td>24.0</td>\n      <td>0.158815</td>\n      <td>45646</td>\n      <td>0.136201</td>\n    </tr>\n    <tr>\n      <th>13</th>\n      <td>Yuma, AZ</td>\n      <td>71.6</td>\n      <td>20.6</td>\n      <td>0.255714</td>\n      <td>39485</td>\n      <td>0.219310</td>\n    </tr>\n    <tr>\n      <th>14</th>\n      <td>Zanesville, OH</td>\n      <td>86.8</td>\n      <td>19.3</td>\n      <td>0.138075</td>\n      <td>39266</td>\n      <td>0.233645</td>\n    </tr>\n  </tbody>\n</table>\n<p>530 rows × 6 columns</p>\n</div>",
      "text/plain": "                                   NAME  High School Graduation Rate  \\\n15                         Aberdeen, WA                         86.6   \n16                          Abilene, TX                         83.5   \n17                           Adrian, MI                         91.0   \n18  Aguadilla-Isabela-San Sebasti?n, PR                         66.0   \n19                            Akron, OH                         90.6   \n..                                  ...                          ...   \n10                     York-Hanover, PA                         87.5   \n11    Youngstown-Warren-Boardman, OH-PA                         88.7   \n12                        Yuba City, CA                         80.2   \n13                             Yuma, AZ                         71.6   \n14                       Zanesville, OH                         86.8   \n\n    Unemployment Rate  Percent Uninsured for Health  Median Household Income  \\\n15               23.7                      0.173578                    42057   \n16               17.5                      0.187588                    43407   \n17               25.8                      0.111519                    48224   \n18               31.8                      0.059501                    15339   \n19               21.9                      0.111187                    49731   \n..                ...                           ...                      ...   \n10               17.0                      0.091445                    55648   \n11               13.6                      0.118995                    40686   \n12               24.0                      0.158815                    45646   \n13               20.6                      0.255714                    39485   \n14               19.3                      0.138075                    39266   \n\n    Percentage of Households on Food Stamps  \n15                                 0.216212  \n16                                 0.136550  \n17                                 0.140139  \n18                                 0.454933  \n19                                 0.149729  \n..                                      ...  \n10                                 0.090488  \n11                                 0.179525  \n12                                 0.136201  \n13                                 0.219310  \n14                                 0.233645  \n\n[530 rows x 6 columns]"
     },
     "execution_count": 3,
     "metadata": {},
     "output_type": "execute_result"
    }
   ],
   "source": [
    "final_df = pd.read_csv(\"/Users/camilledunning/Desktop/ds3-zillow/datasets/heatmap_data/educational_attainment_2012.csv\").iloc[1:]\n",
    "final_df = final_df[['NAME', 'S1501_C01_014E']]\n",
    "final_df['S1501_C01_014E'] = final_df['S1501_C01_014E'].astype(float) \n",
    "final_df = final_df.rename(columns = {'S1501_C01_014E': 'High School Graduation Rate'})\n",
    "\n",
    "employment = pd.read_csv(\"/Users/camilledunning/Desktop/ds3-zillow/datasets/heatmap_data/employment_2012.csv\").iloc[1:]['S2301_C04_026E']\n",
    "final_df['Unemployment Rate'] = employment.astype(float)\n",
    "\n",
    "health_insurance = pd.read_csv(\"/Users/camilledunning/Desktop/ds3-zillow/datasets/heatmap_data/health_insurance_2012.csv\").iloc[1:]\n",
    "health_insurance = health_insurance[['S2701_C01_001E', 'S2701_C02_001E']].astype(int)\n",
    "health_insurance = health_insurance['S2701_C02_001E'].div(health_insurance['S2701_C01_001E'])\n",
    "final_df['Percent Uninsured for Health'] = health_insurance.astype(float)\n",
    "\n",
    "median_income = pd.read_csv(\"/Users/camilledunning/Desktop/ds3-zillow/datasets/heatmap_data/median_income_2012.csv\")\n",
    "\n",
    "num_households = median_income['S1903_C01_001E'].iloc[1:].astype(int)\n",
    "\n",
    "median_income = median_income['S1903_C02_001E'].iloc[1:]\n",
    "final_df['Median Household Income'] = median_income.astype(int)\n",
    "\n",
    "food_stamps = pd.read_csv(\"/Users/camilledunning/Desktop/ds3-zillow/datasets/heatmap_data/food_stamps_2012.csv\").iloc[1:]\n",
    "food_stamps = food_stamps['S2201_C02_001E'].astype(int).div(num_households)\n",
    "final_df['Percentage of Households on Food Stamps'] = food_stamps.astype(float)\n",
    "\n",
    "final_df = final_df.sort_values(by = 'NAME')\n",
    "final_df.NAME = final_df.NAME.map(lambda x: x.replace(' Metro Area', '').replace(' Micro Area', ''))\n",
    "final_df\n"
   ]
  },
  {
   "cell_type": "code",
   "execution_count": 4,
   "metadata": {},
   "outputs": [
    {
     "data": {
      "text/html": "<div>\n<style scoped>\n    .dataframe tbody tr th:only-of-type {\n        vertical-align: middle;\n    }\n\n    .dataframe tbody tr th {\n        vertical-align: top;\n    }\n\n    .dataframe thead th {\n        text-align: right;\n    }\n</style>\n<table border=\"1\" class=\"dataframe\">\n  <thead>\n    <tr style=\"text-align: right;\">\n      <th></th>\n      <th>AU3</th>\n      <th>NAME</th>\n    </tr>\n  </thead>\n  <tbody>\n    <tr>\n      <th>0</th>\n      <td>0.795075</td>\n      <td>Ada, OK</td>\n    </tr>\n    <tr>\n      <th>261</th>\n      <td>6.300922</td>\n      <td>Adrian, MI</td>\n    </tr>\n    <tr>\n      <th>522</th>\n      <td>5.965741</td>\n      <td>Akron, OH</td>\n    </tr>\n    <tr>\n      <th>783</th>\n      <td>5.699291</td>\n      <td>Albany, GA</td>\n    </tr>\n    <tr>\n      <th>1044</th>\n      <td>5.281652</td>\n      <td>Albany, OR</td>\n    </tr>\n    <tr>\n      <th>...</th>\n      <td>...</td>\n      <td>...</td>\n    </tr>\n    <tr>\n      <th>166912</th>\n      <td>6.255158</td>\n      <td>Youngstown, OH</td>\n    </tr>\n    <tr>\n      <th>167173</th>\n      <td>6.139532</td>\n      <td>Yuba City, CA</td>\n    </tr>\n    <tr>\n      <th>167434</th>\n      <td>6.139876</td>\n      <td>Yuma, AZ</td>\n    </tr>\n    <tr>\n      <th>167695</th>\n      <td>4.602732</td>\n      <td>Zanesville, OH</td>\n    </tr>\n    <tr>\n      <th>167956</th>\n      <td>0.539039</td>\n      <td>Zapata, TX</td>\n    </tr>\n  </tbody>\n</table>\n<p>651 rows × 2 columns</p>\n</div>",
      "text/plain": "             AU3            NAME\n0       0.795075         Ada, OK\n261     6.300922      Adrian, MI\n522     5.965741       Akron, OH\n783     5.699291      Albany, GA\n1044    5.281652      Albany, OR\n...          ...             ...\n166912  6.255158  Youngstown, OH\n167173  6.139532   Yuba City, CA\n167434  6.139876        Yuma, AZ\n167695  4.602732  Zanesville, OH\n167956  0.539039      Zapata, TX\n\n[651 rows x 2 columns]"
     },
     "execution_count": 4,
     "metadata": {},
     "output_type": "execute_result"
    }
   ],
   "source": [
    "au3 = pd.read_csv(\"/Users/camilledunning/Desktop/ds3-zillow/AU3_results.csv\")[:-1].rename(columns = {'CBSA_Codes': 'RegionName'})\n",
    "au3['RegionName'].iloc[1:] = au3['RegionName'].iloc[1:].astype(int)\n",
    "metro_data = pd.read_csv(\"/Users/camilledunning/Desktop/ds3-zillow/datasets/metro_data.csv\")[['RegionName', 'MetroName']]\n",
    "au3 = pd.merge(au3, metro_data, on = 'RegionName')\n",
    "au3 = au3.drop_duplicates(subset=None, keep='first', inplace=False).drop(columns = ['Unnamed: 0', 'RegionName'])\n",
    "au3 = au3.rename(columns = {'MetroName': 'NAME'})\n",
    "au3"
   ]
  },
  {
   "cell_type": "code",
   "execution_count": 5,
   "metadata": {},
   "outputs": [
    {
     "data": {
      "text/html": "<div>\n<style scoped>\n    .dataframe tbody tr th:only-of-type {\n        vertical-align: middle;\n    }\n\n    .dataframe tbody tr th {\n        vertical-align: top;\n    }\n\n    .dataframe thead th {\n        text-align: right;\n    }\n</style>\n<table border=\"1\" class=\"dataframe\">\n  <thead>\n    <tr style=\"text-align: right;\">\n      <th></th>\n      <th>NAME</th>\n      <th>AU3</th>\n      <th>High School Graduation Rate</th>\n      <th>Unemployment Rate</th>\n      <th>Percent Uninsured for Health</th>\n      <th>Median Household Income</th>\n      <th>Percentage of Households on Food Stamps</th>\n    </tr>\n  </thead>\n  <tbody>\n    <tr>\n      <th>0</th>\n      <td>Adrian, MI</td>\n      <td>6.300922</td>\n      <td>91.0</td>\n      <td>25.8</td>\n      <td>0.111519</td>\n      <td>48224</td>\n      <td>0.140139</td>\n    </tr>\n    <tr>\n      <th>1</th>\n      <td>Akron, OH</td>\n      <td>5.965741</td>\n      <td>90.6</td>\n      <td>21.9</td>\n      <td>0.111187</td>\n      <td>49731</td>\n      <td>0.149729</td>\n    </tr>\n    <tr>\n      <th>2</th>\n      <td>Albany, GA</td>\n      <td>5.699291</td>\n      <td>79.9</td>\n      <td>19.3</td>\n      <td>0.206726</td>\n      <td>34469</td>\n      <td>0.238583</td>\n    </tr>\n    <tr>\n      <th>3</th>\n      <td>Albuquerque, NM</td>\n      <td>5.356778</td>\n      <td>88.0</td>\n      <td>13.4</td>\n      <td>0.153148</td>\n      <td>46725</td>\n      <td>0.156425</td>\n    </tr>\n    <tr>\n      <th>4</th>\n      <td>Alexandria, LA</td>\n      <td>4.384656</td>\n      <td>84.6</td>\n      <td>8.9</td>\n      <td>0.164420</td>\n      <td>40896</td>\n      <td>0.214571</td>\n    </tr>\n    <tr>\n      <th>...</th>\n      <td>...</td>\n      <td>...</td>\n      <td>...</td>\n      <td>...</td>\n      <td>...</td>\n      <td>...</td>\n      <td>...</td>\n    </tr>\n    <tr>\n      <th>241</th>\n      <td>Worcester, MA</td>\n      <td>5.764700</td>\n      <td>89.9</td>\n      <td>16.5</td>\n      <td>0.041914</td>\n      <td>62505</td>\n      <td>0.130972</td>\n    </tr>\n    <tr>\n      <th>242</th>\n      <td>Yakima, WA</td>\n      <td>4.417720</td>\n      <td>70.7</td>\n      <td>12.8</td>\n      <td>0.231651</td>\n      <td>43942</td>\n      <td>0.248458</td>\n    </tr>\n    <tr>\n      <th>243</th>\n      <td>Yuba City, CA</td>\n      <td>6.139532</td>\n      <td>80.2</td>\n      <td>24.0</td>\n      <td>0.158815</td>\n      <td>45646</td>\n      <td>0.136201</td>\n    </tr>\n    <tr>\n      <th>244</th>\n      <td>Yuma, AZ</td>\n      <td>6.139876</td>\n      <td>71.6</td>\n      <td>20.6</td>\n      <td>0.255714</td>\n      <td>39485</td>\n      <td>0.219310</td>\n    </tr>\n    <tr>\n      <th>245</th>\n      <td>Zanesville, OH</td>\n      <td>4.602732</td>\n      <td>86.8</td>\n      <td>19.3</td>\n      <td>0.138075</td>\n      <td>39266</td>\n      <td>0.233645</td>\n    </tr>\n  </tbody>\n</table>\n<p>246 rows × 7 columns</p>\n</div>",
      "text/plain": "                NAME       AU3  High School Graduation Rate  \\\n0         Adrian, MI  6.300922                         91.0   \n1          Akron, OH  5.965741                         90.6   \n2         Albany, GA  5.699291                         79.9   \n3    Albuquerque, NM  5.356778                         88.0   \n4     Alexandria, LA  4.384656                         84.6   \n..               ...       ...                          ...   \n241    Worcester, MA  5.764700                         89.9   \n242       Yakima, WA  4.417720                         70.7   \n243    Yuba City, CA  6.139532                         80.2   \n244         Yuma, AZ  6.139876                         71.6   \n245   Zanesville, OH  4.602732                         86.8   \n\n     Unemployment Rate  Percent Uninsured for Health  Median Household Income  \\\n0                 25.8                      0.111519                    48224   \n1                 21.9                      0.111187                    49731   \n2                 19.3                      0.206726                    34469   \n3                 13.4                      0.153148                    46725   \n4                  8.9                      0.164420                    40896   \n..                 ...                           ...                      ...   \n241               16.5                      0.041914                    62505   \n242               12.8                      0.231651                    43942   \n243               24.0                      0.158815                    45646   \n244               20.6                      0.255714                    39485   \n245               19.3                      0.138075                    39266   \n\n     Percentage of Households on Food Stamps  \n0                                   0.140139  \n1                                   0.149729  \n2                                   0.238583  \n3                                   0.156425  \n4                                   0.214571  \n..                                       ...  \n241                                 0.130972  \n242                                 0.248458  \n243                                 0.136201  \n244                                 0.219310  \n245                                 0.233645  \n\n[246 rows x 7 columns]"
     },
     "execution_count": 5,
     "metadata": {},
     "output_type": "execute_result"
    }
   ],
   "source": [
    "final_df_au3 = au3.merge(final_df, on = 'NAME', how = 'right', suffixes = ('', '_y')).dropna()\n",
    "col_list = list(final_df_au3)\n",
    "col_list[0], col_list[1] = col_list[1], col_list[0]\n",
    "final_df_au3 = final_df_au3.ix[:, col_list]\n",
    "final_df_au3"
   ]
  },
  {
   "cell_type": "markdown",
   "metadata": {},
   "source": [
    "## Normalise, Create 'Good/Bad' Measure"
   ]
  },
  {
   "cell_type": "code",
   "execution_count": 6,
   "metadata": {},
   "outputs": [
    {
     "data": {
      "text/html": "<div>\n<style scoped>\n    .dataframe tbody tr th:only-of-type {\n        vertical-align: middle;\n    }\n\n    .dataframe tbody tr th {\n        vertical-align: top;\n    }\n\n    .dataframe thead th {\n        text-align: right;\n    }\n</style>\n<table border=\"1\" class=\"dataframe\">\n  <thead>\n    <tr style=\"text-align: right;\">\n      <th></th>\n      <th>NAME</th>\n      <th>AU3</th>\n      <th>High School Graduation Rate</th>\n      <th>Unemployment Rate</th>\n      <th>Percent Uninsured for Health</th>\n      <th>Median Household Income</th>\n      <th>Percentage of Households on Food Stamps</th>\n    </tr>\n  </thead>\n  <tbody>\n    <tr>\n      <th>0</th>\n      <td>Adrian, MI</td>\n      <td>0.472119</td>\n      <td>0.849693</td>\n      <td>0.430464</td>\n      <td>0.745593</td>\n      <td>0.461355</td>\n      <td>0.650064</td>\n    </tr>\n    <tr>\n      <th>1</th>\n      <td>Akron, OH</td>\n      <td>0.456980</td>\n      <td>0.837423</td>\n      <td>0.516556</td>\n      <td>0.746685</td>\n      <td>0.496239</td>\n      <td>0.621239</td>\n    </tr>\n    <tr>\n      <th>2</th>\n      <td>Albany, GA</td>\n      <td>0.444946</td>\n      <td>0.509202</td>\n      <td>0.573951</td>\n      <td>0.432802</td>\n      <td>0.142960</td>\n      <td>0.354174</td>\n    </tr>\n    <tr>\n      <th>3</th>\n      <td>Albuquerque, NM</td>\n      <td>0.429476</td>\n      <td>0.757669</td>\n      <td>0.704194</td>\n      <td>0.608827</td>\n      <td>0.426657</td>\n      <td>0.601115</td>\n    </tr>\n    <tr>\n      <th>4</th>\n      <td>Alexandria, LA</td>\n      <td>0.385569</td>\n      <td>0.653374</td>\n      <td>0.803532</td>\n      <td>0.571794</td>\n      <td>0.291729</td>\n      <td>0.426345</td>\n    </tr>\n    <tr>\n      <th>...</th>\n      <td>...</td>\n      <td>...</td>\n      <td>...</td>\n      <td>...</td>\n      <td>...</td>\n      <td>...</td>\n      <td>...</td>\n    </tr>\n    <tr>\n      <th>241</th>\n      <td>Worcester, MA</td>\n      <td>0.447900</td>\n      <td>0.815951</td>\n      <td>0.635762</td>\n      <td>0.974275</td>\n      <td>0.791926</td>\n      <td>0.677616</td>\n    </tr>\n    <tr>\n      <th>242</th>\n      <td>Yakima, WA</td>\n      <td>0.387062</td>\n      <td>0.226994</td>\n      <td>0.717439</td>\n      <td>0.350912</td>\n      <td>0.362237</td>\n      <td>0.324493</td>\n    </tr>\n    <tr>\n      <th>243</th>\n      <td>Yuba City, CA</td>\n      <td>0.464829</td>\n      <td>0.518405</td>\n      <td>0.470199</td>\n      <td>0.590208</td>\n      <td>0.401681</td>\n      <td>0.661901</td>\n    </tr>\n    <tr>\n      <th>244</th>\n      <td>Yuma, AZ</td>\n      <td>0.464845</td>\n      <td>0.254601</td>\n      <td>0.545254</td>\n      <td>0.271855</td>\n      <td>0.259068</td>\n      <td>0.412101</td>\n    </tr>\n    <tr>\n      <th>245</th>\n      <td>Zanesville, OH</td>\n      <td>0.395419</td>\n      <td>0.720859</td>\n      <td>0.573951</td>\n      <td>0.658347</td>\n      <td>0.253999</td>\n      <td>0.369015</td>\n    </tr>\n  </tbody>\n</table>\n<p>246 rows × 7 columns</p>\n</div>",
      "text/plain": "                NAME       AU3  High School Graduation Rate  \\\n0         Adrian, MI  0.472119                     0.849693   \n1          Akron, OH  0.456980                     0.837423   \n2         Albany, GA  0.444946                     0.509202   \n3    Albuquerque, NM  0.429476                     0.757669   \n4     Alexandria, LA  0.385569                     0.653374   \n..               ...       ...                          ...   \n241    Worcester, MA  0.447900                     0.815951   \n242       Yakima, WA  0.387062                     0.226994   \n243    Yuba City, CA  0.464829                     0.518405   \n244         Yuma, AZ  0.464845                     0.254601   \n245   Zanesville, OH  0.395419                     0.720859   \n\n     Unemployment Rate  Percent Uninsured for Health  Median Household Income  \\\n0             0.430464                      0.745593                 0.461355   \n1             0.516556                      0.746685                 0.496239   \n2             0.573951                      0.432802                 0.142960   \n3             0.704194                      0.608827                 0.426657   \n4             0.803532                      0.571794                 0.291729   \n..                 ...                           ...                      ...   \n241           0.635762                      0.974275                 0.791926   \n242           0.717439                      0.350912                 0.362237   \n243           0.470199                      0.590208                 0.401681   \n244           0.545254                      0.271855                 0.259068   \n245           0.573951                      0.658347                 0.253999   \n\n     Percentage of Households on Food Stamps  \n0                                   0.650064  \n1                                   0.621239  \n2                                   0.354174  \n3                                   0.601115  \n4                                   0.426345  \n..                                       ...  \n241                                 0.677616  \n242                                 0.324493  \n243                                 0.661901  \n244                                 0.412101  \n245                                 0.369015  \n\n[246 rows x 7 columns]"
     },
     "execution_count": 6,
     "metadata": {},
     "output_type": "execute_result"
    }
   ],
   "source": [
    "def normalise(col):\n",
    "    return (col - col.min()) / (col.max() - col.min())\n",
    "\n",
    "def reverse_measure(col):\n",
    "    return 1 - col\n",
    "\n",
    "for i in range(1, len(final_df_au3.columns)):\n",
    "    final_df_au3[final_df_au3.columns[i]] = normalise(final_df_au3[final_df_au3.columns[i]])\n",
    "\n",
    "# Higher statistics are 'worse'\n",
    "reverse_measure_cols = ['Unemployment Rate', 'Percent Uninsured for Health', 'Percentage of Households on Food Stamps']\n",
    "\n",
    "for reverse_measure_col in reverse_measure_cols:\n",
    "    final_df_au3[reverse_measure_col] = reverse_measure(final_df_au3[reverse_measure_col])\n",
    "\n",
    "final_df_au3\n"
   ]
  },
  {
   "cell_type": "markdown",
   "metadata": {},
   "source": [
    "## Transpose DataFrame for Feature Creation"
   ]
  },
  {
   "cell_type": "code",
   "execution_count": 17,
   "metadata": {},
   "outputs": [
    {
     "data": {
      "text/html": "<div>\n<style scoped>\n    .dataframe tbody tr th:only-of-type {\n        vertical-align: middle;\n    }\n\n    .dataframe tbody tr th {\n        vertical-align: top;\n    }\n\n    .dataframe thead th {\n        text-align: right;\n    }\n</style>\n<table border=\"1\" class=\"dataframe\">\n  <thead>\n    <tr style=\"text-align: right;\">\n      <th>NAME</th>\n      <th>Adrian, MI</th>\n      <th>Akron, OH</th>\n      <th>Albany, GA</th>\n      <th>Albuquerque, NM</th>\n      <th>Alexandria, LA</th>\n      <th>Altoona, PA</th>\n      <th>Amarillo, TX</th>\n      <th>Anchorage, AK</th>\n      <th>Ann Arbor, MI</th>\n      <th>Appleton, WI</th>\n      <th>...</th>\n      <th>Williamsport, PA</th>\n      <th>Wilmington, NC</th>\n      <th>Wilson, NC</th>\n      <th>Winston-Salem, NC</th>\n      <th>Wooster, OH</th>\n      <th>Worcester, MA</th>\n      <th>Yakima, WA</th>\n      <th>Yuba City, CA</th>\n      <th>Yuma, AZ</th>\n      <th>Zanesville, OH</th>\n    </tr>\n  </thead>\n  <tbody>\n    <tr>\n      <th>AU3</th>\n      <td>0.472119</td>\n      <td>0.45698</td>\n      <td>0.444946</td>\n      <td>0.429476</td>\n      <td>0.385569</td>\n      <td>0.187533</td>\n      <td>0.416473</td>\n      <td>0.41543</td>\n      <td>0.469004</td>\n      <td>0.370647</td>\n      <td>...</td>\n      <td>0.336301</td>\n      <td>0.45028</td>\n      <td>0.435019</td>\n      <td>0.430139</td>\n      <td>0.458806</td>\n      <td>0.4479</td>\n      <td>0.387062</td>\n      <td>0.464829</td>\n      <td>0.464845</td>\n      <td>0.395419</td>\n    </tr>\n    <tr>\n      <th>High School Graduation Rate</th>\n      <td>0.849693</td>\n      <td>0.837423</td>\n      <td>0.509202</td>\n      <td>0.757669</td>\n      <td>0.653374</td>\n      <td>0.834356</td>\n      <td>0.592025</td>\n      <td>0.898773</td>\n      <td>0.923313</td>\n      <td>0.898773</td>\n      <td>...</td>\n      <td>0.748466</td>\n      <td>0.794479</td>\n      <td>0.469325</td>\n      <td>0.653374</td>\n      <td>0.717791</td>\n      <td>0.815951</td>\n      <td>0.226994</td>\n      <td>0.518405</td>\n      <td>0.254601</td>\n      <td>0.720859</td>\n    </tr>\n    <tr>\n      <th>Unemployment Rate</th>\n      <td>0.430464</td>\n      <td>0.516556</td>\n      <td>0.573951</td>\n      <td>0.704194</td>\n      <td>0.803532</td>\n      <td>0.551876</td>\n      <td>0.907285</td>\n      <td>0.587196</td>\n      <td>0.589404</td>\n      <td>0.812362</td>\n      <td>...</td>\n      <td>0.512141</td>\n      <td>0.516556</td>\n      <td>0.589404</td>\n      <td>0.611479</td>\n      <td>0.845475</td>\n      <td>0.635762</td>\n      <td>0.717439</td>\n      <td>0.470199</td>\n      <td>0.545254</td>\n      <td>0.573951</td>\n    </tr>\n    <tr>\n      <th>Percent Uninsured for Health</th>\n      <td>0.745593</td>\n      <td>0.746685</td>\n      <td>0.432802</td>\n      <td>0.608827</td>\n      <td>0.571794</td>\n      <td>0.801137</td>\n      <td>0.426751</td>\n      <td>0.509792</td>\n      <td>0.857325</td>\n      <td>0.936759</td>\n      <td>...</td>\n      <td>0.838896</td>\n      <td>0.580028</td>\n      <td>0.480283</td>\n      <td>0.557622</td>\n      <td>0.660635</td>\n      <td>0.974275</td>\n      <td>0.350912</td>\n      <td>0.590208</td>\n      <td>0.271855</td>\n      <td>0.658347</td>\n    </tr>\n    <tr>\n      <th>Median Household Income</th>\n      <td>0.461355</td>\n      <td>0.496239</td>\n      <td>0.14296</td>\n      <td>0.426657</td>\n      <td>0.291729</td>\n      <td>0.300109</td>\n      <td>0.419921</td>\n      <td>1</td>\n      <td>0.64899</td>\n      <td>0.737784</td>\n      <td>...</td>\n      <td>0.403162</td>\n      <td>0.502442</td>\n      <td>0.202009</td>\n      <td>0.323164</td>\n      <td>0.45492</td>\n      <td>0.791926</td>\n      <td>0.362237</td>\n      <td>0.401681</td>\n      <td>0.259068</td>\n      <td>0.253999</td>\n    </tr>\n    <tr>\n      <th>Percentage of Households on Food Stamps</th>\n      <td>0.650064</td>\n      <td>0.621239</td>\n      <td>0.354174</td>\n      <td>0.601115</td>\n      <td>0.426345</td>\n      <td>0.555971</td>\n      <td>0.710947</td>\n      <td>0.759484</td>\n      <td>0.711399</td>\n      <td>0.831091</td>\n      <td>...</td>\n      <td>0.699349</td>\n      <td>0.689063</td>\n      <td>0.505477</td>\n      <td>0.632779</td>\n      <td>0.714047</td>\n      <td>0.677616</td>\n      <td>0.324493</td>\n      <td>0.661901</td>\n      <td>0.412101</td>\n      <td>0.369015</td>\n    </tr>\n  </tbody>\n</table>\n<p>6 rows × 246 columns</p>\n</div>",
      "text/plain": "NAME                                    Adrian, MI Akron, OH Albany, GA  \\\nAU3                                       0.472119   0.45698   0.444946   \nHigh School Graduation Rate               0.849693  0.837423   0.509202   \nUnemployment Rate                         0.430464  0.516556   0.573951   \nPercent Uninsured for Health              0.745593  0.746685   0.432802   \nMedian Household Income                   0.461355  0.496239    0.14296   \nPercentage of Households on Food Stamps   0.650064  0.621239   0.354174   \n\nNAME                                    Albuquerque, NM Alexandria, LA  \\\nAU3                                            0.429476       0.385569   \nHigh School Graduation Rate                    0.757669       0.653374   \nUnemployment Rate                              0.704194       0.803532   \nPercent Uninsured for Health                   0.608827       0.571794   \nMedian Household Income                        0.426657       0.291729   \nPercentage of Households on Food Stamps        0.601115       0.426345   \n\nNAME                                    Altoona, PA Amarillo, TX  \\\nAU3                                        0.187533     0.416473   \nHigh School Graduation Rate                0.834356     0.592025   \nUnemployment Rate                          0.551876     0.907285   \nPercent Uninsured for Health               0.801137     0.426751   \nMedian Household Income                    0.300109     0.419921   \nPercentage of Households on Food Stamps    0.555971     0.710947   \n\nNAME                                    Anchorage, AK Ann Arbor, MI  \\\nAU3                                           0.41543      0.469004   \nHigh School Graduation Rate                  0.898773      0.923313   \nUnemployment Rate                            0.587196      0.589404   \nPercent Uninsured for Health                 0.509792      0.857325   \nMedian Household Income                             1       0.64899   \nPercentage of Households on Food Stamps      0.759484      0.711399   \n\nNAME                                    Appleton, WI  ... Williamsport, PA  \\\nAU3                                         0.370647  ...         0.336301   \nHigh School Graduation Rate                 0.898773  ...         0.748466   \nUnemployment Rate                           0.812362  ...         0.512141   \nPercent Uninsured for Health                0.936759  ...         0.838896   \nMedian Household Income                     0.737784  ...         0.403162   \nPercentage of Households on Food Stamps     0.831091  ...         0.699349   \n\nNAME                                    Wilmington, NC Wilson, NC  \\\nAU3                                            0.45028   0.435019   \nHigh School Graduation Rate                   0.794479   0.469325   \nUnemployment Rate                             0.516556   0.589404   \nPercent Uninsured for Health                  0.580028   0.480283   \nMedian Household Income                       0.502442   0.202009   \nPercentage of Households on Food Stamps       0.689063   0.505477   \n\nNAME                                    Winston-Salem, NC Wooster, OH  \\\nAU3                                              0.430139    0.458806   \nHigh School Graduation Rate                      0.653374    0.717791   \nUnemployment Rate                                0.611479    0.845475   \nPercent Uninsured for Health                     0.557622    0.660635   \nMedian Household Income                          0.323164     0.45492   \nPercentage of Households on Food Stamps          0.632779    0.714047   \n\nNAME                                    Worcester, MA Yakima, WA  \\\nAU3                                            0.4479   0.387062   \nHigh School Graduation Rate                  0.815951   0.226994   \nUnemployment Rate                            0.635762   0.717439   \nPercent Uninsured for Health                 0.974275   0.350912   \nMedian Household Income                      0.791926   0.362237   \nPercentage of Households on Food Stamps      0.677616   0.324493   \n\nNAME                                    Yuba City, CA  Yuma, AZ Zanesville, OH  \nAU3                                          0.464829  0.464845       0.395419  \nHigh School Graduation Rate                  0.518405  0.254601       0.720859  \nUnemployment Rate                            0.470199  0.545254       0.573951  \nPercent Uninsured for Health                 0.590208  0.271855       0.658347  \nMedian Household Income                      0.401681  0.259068       0.253999  \nPercentage of Households on Food Stamps      0.661901  0.412101       0.369015  \n\n[6 rows x 246 columns]"
     },
     "execution_count": 17,
     "metadata": {},
     "output_type": "execute_result"
    }
   ],
   "source": [
    "f = final_df_au3.T\n",
    "new_header = f.iloc[0]\n",
    "f = f[1:]\n",
    "f.columns = new_header\n",
    "f"
   ]
  },
  {
   "cell_type": "code",
   "execution_count": 24,
   "metadata": {},
   "outputs": [
    {
     "data": {
      "text/html": "<div>\n<style scoped>\n    .dataframe tbody tr th:only-of-type {\n        vertical-align: middle;\n    }\n\n    .dataframe tbody tr th {\n        vertical-align: top;\n    }\n\n    .dataframe thead th {\n        text-align: right;\n    }\n</style>\n<table border=\"1\" class=\"dataframe\">\n  <thead>\n    <tr style=\"text-align: right;\">\n      <th></th>\n      <th>0</th>\n    </tr>\n  </thead>\n  <tbody>\n    <tr>\n      <th>0</th>\n      <td>0.472119</td>\n    </tr>\n    <tr>\n      <th>1</th>\n      <td>0.472119</td>\n    </tr>\n    <tr>\n      <th>2</th>\n      <td>0.472119</td>\n    </tr>\n    <tr>\n      <th>3</th>\n      <td>0.472119</td>\n    </tr>\n    <tr>\n      <th>4</th>\n      <td>0.472119</td>\n    </tr>\n    <tr>\n      <th>...</th>\n      <td>...</td>\n    </tr>\n    <tr>\n      <th>1225</th>\n      <td>0.395419</td>\n    </tr>\n    <tr>\n      <th>1226</th>\n      <td>0.395419</td>\n    </tr>\n    <tr>\n      <th>1227</th>\n      <td>0.395419</td>\n    </tr>\n    <tr>\n      <th>1228</th>\n      <td>0.395419</td>\n    </tr>\n    <tr>\n      <th>1229</th>\n      <td>0.395419</td>\n    </tr>\n  </tbody>\n</table>\n<p>1230 rows × 1 columns</p>\n</div>",
      "text/plain": "             0\n0     0.472119\n1     0.472119\n2     0.472119\n3     0.472119\n4     0.472119\n...        ...\n1225  0.395419\n1226  0.395419\n1227  0.395419\n1228  0.395419\n1229  0.395419\n\n[1230 rows x 1 columns]"
     },
     "execution_count": 24,
     "metadata": {},
     "output_type": "execute_result"
    }
   ],
   "source": [
    "non_au3_features = len(f.iloc[1:])\n",
    "non_au3_features\n",
    "\n",
    "new_f = pd.DataFrame(np.repeat(f.iloc[0].values, non_au3_features, axis = 0))\n",
    "new_f"
   ]
  },
  {
   "cell_type": "code",
   "execution_count": null,
   "metadata": {},
   "outputs": [],
   "source": []
  }
 ]
}