{
 "cells": [
  {
   "cell_type": "markdown",
   "metadata": {},
   "source": [
    "# K-Means Clustering Test on Three-Component Vectors for Each CBSA\n",
    "This is for the sake of practice, testing, and visualisation. AUB-ARIMA CL output currently not considered."
   ]
  },
  {
   "cell_type": "code",
   "execution_count": 27,
   "metadata": {},
   "outputs": [],
   "source": [
    "import pandas as pd\n",
    "import numpy as np\n",
    "\n",
    "import chart_studio.plotly as py\n",
    "import plotly.graph_objs as go\n",
    "\n",
    "df = pd.read_csv('test_01.csv')\n",
    "kmeans_df = df.drop(columns = ['metro_name'])\n",
    "\n",
    "# Number of clusters\n",
    "k = 3"
   ]
  },
  {
   "cell_type": "code",
   "execution_count": 28,
   "metadata": {},
   "outputs": [
    {
     "data": {
      "text/html": "<div>\n<style scoped>\n    .dataframe tbody tr th:only-of-type {\n        vertical-align: middle;\n    }\n\n    .dataframe tbody tr th {\n        vertical-align: top;\n    }\n\n    .dataframe thead th {\n        text-align: right;\n    }\n</style>\n<table border=\"1\" class=\"dataframe\">\n  <thead>\n    <tr style=\"text-align: right;\">\n      <th></th>\n      <th>Unnamed: 0</th>\n      <th>ratio_of_public_transport</th>\n      <th>median_income</th>\n      <th>pctg_below_poverty_line</th>\n      <th>enrolled_in_school</th>\n      <th>cluster</th>\n    </tr>\n  </thead>\n  <tbody>\n    <tr>\n      <th>0</th>\n      <td>0</td>\n      <td>-0.355924</td>\n      <td>-0.622420</td>\n      <td>0.000000</td>\n      <td>0.035869</td>\n      <td>1</td>\n    </tr>\n    <tr>\n      <th>1</th>\n      <td>1</td>\n      <td>-0.362291</td>\n      <td>1.245645</td>\n      <td>0.000000</td>\n      <td>0.346162</td>\n      <td>1</td>\n    </tr>\n    <tr>\n      <th>2</th>\n      <td>2</td>\n      <td>0.248173</td>\n      <td>0.120348</td>\n      <td>0.013290</td>\n      <td>-0.077303</td>\n      <td>1</td>\n    </tr>\n    <tr>\n      <th>3</th>\n      <td>3</td>\n      <td>-0.332337</td>\n      <td>0.407350</td>\n      <td>0.139864</td>\n      <td>0.455581</td>\n      <td>1</td>\n    </tr>\n    <tr>\n      <th>4</th>\n      <td>4</td>\n      <td>-0.520086</td>\n      <td>0.195562</td>\n      <td>0.000000</td>\n      <td>-0.228167</td>\n      <td>1</td>\n    </tr>\n    <tr>\n      <th>...</th>\n      <td>...</td>\n      <td>...</td>\n      <td>...</td>\n      <td>...</td>\n      <td>...</td>\n      <td>...</td>\n    </tr>\n    <tr>\n      <th>950</th>\n      <td>950</td>\n      <td>0.002138</td>\n      <td>0.532464</td>\n      <td>-1.252450</td>\n      <td>-0.257513</td>\n      <td>1</td>\n    </tr>\n    <tr>\n      <th>951</th>\n      <td>951</td>\n      <td>-0.186601</td>\n      <td>0.268693</td>\n      <td>-0.002531</td>\n      <td>0.005607</td>\n      <td>1</td>\n    </tr>\n    <tr>\n      <th>952</th>\n      <td>952</td>\n      <td>-0.016467</td>\n      <td>0.193791</td>\n      <td>0.345547</td>\n      <td>-0.255924</td>\n      <td>1</td>\n    </tr>\n    <tr>\n      <th>953</th>\n      <td>953</td>\n      <td>0.635026</td>\n      <td>-0.604710</td>\n      <td>0.472121</td>\n      <td>-0.217837</td>\n      <td>1</td>\n    </tr>\n    <tr>\n      <th>954</th>\n      <td>954</td>\n      <td>-0.383124</td>\n      <td>0.707061</td>\n      <td>-0.002531</td>\n      <td>-0.184530</td>\n      <td>1</td>\n    </tr>\n  </tbody>\n</table>\n<p>955 rows × 6 columns</p>\n</div>",
      "text/plain": "     Unnamed: 0  ratio_of_public_transport  median_income  \\\n0             0                  -0.355924      -0.622420   \n1             1                  -0.362291       1.245645   \n2             2                   0.248173       0.120348   \n3             3                  -0.332337       0.407350   \n4             4                  -0.520086       0.195562   \n..          ...                        ...            ...   \n950         950                   0.002138       0.532464   \n951         951                  -0.186601       0.268693   \n952         952                  -0.016467       0.193791   \n953         953                   0.635026      -0.604710   \n954         954                  -0.383124       0.707061   \n\n     pctg_below_poverty_line  enrolled_in_school  cluster  \n0                   0.000000            0.035869        1  \n1                   0.000000            0.346162        1  \n2                   0.013290           -0.077303        1  \n3                   0.139864            0.455581        1  \n4                   0.000000           -0.228167        1  \n..                       ...                 ...      ...  \n950                -1.252450           -0.257513        1  \n951                -0.002531            0.005607        1  \n952                 0.345547           -0.255924        1  \n953                 0.472121           -0.217837        1  \n954                -0.002531           -0.184530        1  \n\n[955 rows x 6 columns]"
     },
     "execution_count": 28,
     "metadata": {},
     "output_type": "execute_result"
    }
   ],
   "source": [
    "from sklearn.cluster import KMeans\n",
    "\n",
    "# Features extracted from our test .csv file\n",
    "kmeans = KMeans(n_clusters = k).fit(kmeans_df[['ratio_of_public_transport', 'median_income', 'enrolled_in_school']])\n",
    "kmeans_df.loc[:,'cluster'] = kmeans.labels_\n",
    "kmeans_df = kmeans_df\n",
    "kmeans_df\n"
   ]
  },
  {
   "cell_type": "code",
   "execution_count": 23,
   "metadata": {},
   "outputs": [
    {
     "data": {
      "text/plain": "array([[-0.14509145, -0.03403589, -0.10840268],\n       [ 4.06426632,  0.13851505,  0.17297364],\n       [-0.16818945,  1.7533035 ,  6.17420641]])"
     },
     "execution_count": 23,
     "metadata": {},
     "output_type": "execute_result"
    }
   ],
   "source": [
    "# Coordinates of centroids, initialised randomly\n",
    "centroids = kmeans.cluster_centers_\n",
    "centroids"
   ]
  },
  {
   "cell_type": "code",
   "execution_count": 18,
   "metadata": {},
   "outputs": [
    {
     "data": {
      "text/html": "\n        <iframe\n            width=\"100%\"\n            height=\"525px\"\n            src=\"https://plot.ly/~camille0004/87.embed\"\n            frameborder=\"0\"\n            allowfullscreen\n        ></iframe>\n        ",
      "text/plain": "<IPython.lib.display.IFrame at 0x143fac490>"
     },
     "execution_count": 18,
     "metadata": {},
     "output_type": "execute_result"
    }
   ],
   "source": [
    "# Final centroids after iterative part of K-Means algorithm\n",
    "centroids_x = [centroids[c][0] for c in range(k)]\n",
    "centroids_y = [centroids[c][1] for c in range(k)]\n",
    "centroids_z = [centroids[c][2] for c in range(k)]\n",
    "\n",
    "# Plot the actual datapoints/CBSAs\n",
    "trace1 = go.Scatter3d(x = kmeans_df['ratio_of_public_transport'],\n",
    "                      y = kmeans_df['median_income'],\n",
    "                      z = kmeans_df['enrolled_in_school'],\n",
    "                      name = 'Metropolitan Area',\n",
    "                      mode='markers',\n",
    "                      marker=dict(\n",
    "                        size=4,\n",
    "                        opacity=0.35,\n",
    "                        color=kmeans.labels_\n",
    "                    ))\n",
    "\n",
    "# Plot the centroids\n",
    "trace2 = go.Scatter3d(x = centroids_x,\n",
    "                      y = centroids_y,\n",
    "                      z = centroids_z,\n",
    "                      name = 'Centroid',\n",
    "                      mode='markers',\n",
    "                      marker=dict(\n",
    "                        size=6,\n",
    "                        opacity=0.5,\n",
    "                        color='#000'\n",
    "                    ))\n",
    "trace3 = go.Mesh3d(\n",
    "    x = kmeans_df['ratio_of_public_transport'], \n",
    "    y = kmeans_df['median_income'],\n",
    "    z = kmeans_df['enrolled_in_school'],\n",
    "    alphahull = 1,\n",
    "    color='#1522b0',\n",
    "    opacity = 0.05,\n",
    "    \n",
    ")\n",
    "\n",
    "data = [trace1, trace2, trace3]\n",
    "fig = go.Figure(data=data)\n",
    "\n",
    "# Stylise the visual\n",
    "fig.update_layout(\n",
    "    title=\"Public Transportation to Work Ratio, Median Household Income, Education Attainment in Metro Areas in 2010\",\n",
    "    scene = dict(\n",
    "        xaxis = dict(title = 'Pub. Transport. to Work'),\n",
    "        yaxis = dict(title = 'Median Household Income'),\n",
    "        zaxis = dict(title = 'Education Attainment'),\n",
    "    ),\n",
    "    font = dict(\n",
    "        family=\"Courier New, monospace\",\n",
    "        size=10,\n",
    "        color=\"#7f7f7f\"\n",
    "    )\n",
    ")\n",
    "\n",
    "py.sign_in('camille0004', 'qsZvebqUjVL7lFGtLX0R')\n",
    "\n",
    "py.iplot(fig)"
   ]
  },
  {
   "cell_type": "code",
   "execution_count": 10,
   "metadata": {},
   "outputs": [
    {
     "data": {
      "text/html": "<div>\n<style scoped>\n    .dataframe tbody tr th:only-of-type {\n        vertical-align: middle;\n    }\n\n    .dataframe tbody tr th {\n        vertical-align: top;\n    }\n\n    .dataframe thead th {\n        text-align: right;\n    }\n</style>\n<table border=\"1\" class=\"dataframe\">\n  <thead>\n    <tr style=\"text-align: right;\">\n      <th></th>\n      <th>metro_name</th>\n      <th>cluster</th>\n    </tr>\n  </thead>\n  <tbody>\n    <tr>\n      <th>0</th>\n      <td>College Station-Bryan, TX Metro Area</td>\n      <td>0</td>\n    </tr>\n    <tr>\n      <th>592</th>\n      <td>Monroe, MI Metro Area</td>\n      <td>0</td>\n    </tr>\n    <tr>\n      <th>593</th>\n      <td>Monroe, WI Micro Area</td>\n      <td>0</td>\n    </tr>\n    <tr>\n      <th>594</th>\n      <td>Montgomery, AL Metro Area</td>\n      <td>0</td>\n    </tr>\n    <tr>\n      <th>595</th>\n      <td>Montrose, CO Micro Area</td>\n      <td>0</td>\n    </tr>\n    <tr>\n      <th>...</th>\n      <td>...</td>\n      <td>...</td>\n    </tr>\n    <tr>\n      <th>789</th>\n      <td>San Luis Obispo-Paso Robles, CA Metro Area</td>\n      <td>2</td>\n    </tr>\n    <tr>\n      <th>790</th>\n      <td>Santa Barbara-Santa Maria-Goleta, CA Metro Area</td>\n      <td>2</td>\n    </tr>\n    <tr>\n      <th>791</th>\n      <td>Santa Cruz-Watsonville, CA Metro Area</td>\n      <td>2</td>\n    </tr>\n    <tr>\n      <th>321</th>\n      <td>Fort Collins-Loveland, CO Metro Area</td>\n      <td>2</td>\n    </tr>\n    <tr>\n      <th>432</th>\n      <td>Jacksonville, FL Metro Area</td>\n      <td>2</td>\n    </tr>\n  </tbody>\n</table>\n<p>955 rows × 2 columns</p>\n</div>",
      "text/plain": "                                          metro_name  cluster\n0               College Station-Bryan, TX Metro Area        0\n592                            Monroe, MI Metro Area        0\n593                            Monroe, WI Micro Area        0\n594                        Montgomery, AL Metro Area        0\n595                          Montrose, CO Micro Area        0\n..                                               ...      ...\n789       San Luis Obispo-Paso Robles, CA Metro Area        2\n790  Santa Barbara-Santa Maria-Goleta, CA Metro Area        2\n791            Santa Cruz-Watsonville, CA Metro Area        2\n321             Fort Collins-Loveland, CO Metro Area        2\n432                      Jacksonville, FL Metro Area        2\n\n[955 rows x 2 columns]"
     },
     "execution_count": 10,
     "metadata": {},
     "output_type": "execute_result"
    }
   ],
   "source": [
    "\n",
    "res_df = pd.DataFrame(zip(df.metro_name, kmeans_df.cluster), columns = ['metro_name', 'cluster']).sort_values(by = 'cluster')\n",
    "res_df"
   ]
  },
  {
   "cell_type": "code",
   "execution_count": null,
   "metadata": {},
   "outputs": [],
   "source": []
  }
 ],
 "metadata": {
  "file_extension": ".py",
  "kernelspec": {
   "display_name": "Python 3.7.6 64-bit",
   "language": "python",
   "name": "python37664bit428820946cd7473d8a76804ffe0f7c21"
  },
  "language_info": {
   "codemirror_mode": {
    "name": "ipython",
    "version": 3
   },
   "file_extension": ".py",
   "mimetype": "text/x-python",
   "name": "python",
   "nbconvert_exporter": "python",
   "pygments_lexer": "ipython3",
   "version": "3.7.6-final"
  },
  "mimetype": "text/x-python",
  "name": "python",
  "npconvert_exporter": "python",
  "pygments_lexer": "ipython3",
  "version": 3
 },
 "nbformat": 4,
 "nbformat_minor": 4
}