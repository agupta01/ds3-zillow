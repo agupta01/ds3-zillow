{
 "cells": [
  {
   "cell_type": "code",
   "execution_count": 1,
   "metadata": {},
   "outputs": [],
   "source": [
    "import pandas as pd\n",
    "import numpy as np\n",
    "from tqdm import tqdm\n",
    "import matplotlib.pyplot as plt\n",
    "from sklearn.preprocessing import normalize\n",
    "%matplotlib inline\n",
    "plt.style.use(\"seaborn\")\n",
    "import datetime\n",
    "from pandas.plotting import register_matplotlib_converters\n",
    "register_matplotlib_converters()"
   ]
  },
  {
   "cell_type": "code",
   "execution_count": 2,
   "metadata": {},
   "outputs": [],
   "source": [
    "data = pd.read_csv(\"./datasets/Metro_time_series.csv\")"
   ]
  },
  {
   "cell_type": "code",
   "execution_count": 3,
   "metadata": {},
   "outputs": [
    {
     "name": "stderr",
     "output_type": "stream",
     "text": [
      "100%|██████████| 730/730 [00:05<00:00, 132.02it/s]\n"
     ]
    }
   ],
   "source": [
    "cols = ['Date', 'RegionName', 'ZHVI_AllHomes']\n",
    "data = data[data['ZHVI_AllHomes'] > 0]\n",
    "data = data.filter(cols)\n",
    "data = data.rename(columns={\"RegionName\": \"CBSA_Code\"})\n",
    "cityList = np.unique(data['CBSA_Code'])\n",
    "metro = []\n",
    "for code in tqdm(cityList):\n",
    "    metro.append(data[data['CBSA_Code']  == str(code)])\n"
   ]
  },
  {
   "cell_type": "code",
   "execution_count": 6,
   "metadata": {},
   "outputs": [
    {
     "data": {
      "text/plain": [
       "array([-1.52245317, -1.46376916, -1.41346858, -1.37993486, -1.36526386,\n",
       "       -1.36631179, -1.37155143, -1.38517451, -1.41137273, -1.43547509,\n",
       "       -1.44805023, -1.45957745, -1.46796088, -1.47424845, -1.48891945,\n",
       "       -1.51826146, -1.55179518, -1.58847268, -1.61991055, -1.64610876,\n",
       "       -1.67021113, -1.69221763, -1.70374485, -1.70164899, -1.68278627,\n",
       "       -1.64925255, -1.60628747, -1.55913068, -1.51721353, -1.48787152,\n",
       "       -1.46796088, -1.4470023 , -1.41870823, -1.37783901, -1.31810707,\n",
       "       -1.24684791, -1.17768462, -1.11690475, -1.07079589, -1.03621424,\n",
       "       -0.99744087, -0.94714029, -0.88950421, -0.8308202 , -0.78575927,\n",
       "       -0.75956105, -0.74803383, -0.75012969, -0.76480069, -0.78156755,\n",
       "       -0.78890305, -0.78995098, -0.79309477, -0.79099891, -0.78261548,\n",
       "       -0.78156755, -0.78051962, -0.77108826, -0.76270484, -0.76165691,\n",
       "       -0.76794448, -0.78051962, -0.79309477, -0.8088137 , -0.82138884,\n",
       "       -0.8234847 , -0.82767642, -0.84549121, -0.86854564, -0.89579179,\n",
       "       -0.93246929, -0.97753023, -1.02573495, -1.06870003, -1.10956925,\n",
       "       -1.14624675, -1.17034912, -1.17768462, -1.16510947, -1.12633611,\n",
       "       -1.06346038, -0.98591366, -0.892648  , -0.78575927, -0.66524746,\n",
       "       -0.53216051, -0.38649842, -0.23140496, -0.07421565,  0.07668609,\n",
       "        0.21606061,  0.33657242,  0.43612565,  0.52415166,  0.61008182,\n",
       "        0.69601197,  0.78927763,  0.88568708,  0.97685688,  1.05649946,\n",
       "        1.12461483,  1.17910712,  1.2220722 ,  1.25351007,  1.2765645 ,\n",
       "        1.29437929,  1.30800236,  1.31848165,  1.33105679,  1.34467987,\n",
       "        1.35411122,  1.35935087,  1.35515915,  1.33629644,  1.30905029,\n",
       "        1.28494793,  1.26294142,  1.24512664,  1.23255149,  1.2220722 ,\n",
       "        1.20635327,  1.18644263,  1.16967577,  1.16024441,  1.15395683,\n",
       "        1.15395683,  1.16234026,  1.17596334,  1.1927302 ,  1.21368877,\n",
       "        1.23464735,  1.25560592,  1.27132485,  1.27132485,  1.25036628,\n",
       "        1.21264084,  1.16129234,  1.10260833,  1.03868467,  0.97685688,\n",
       "        0.91712494,  0.85424921,  0.79032556,  0.74212084,  0.71068298,\n",
       "        0.69182026,  0.6897244 ,  0.69915576,  0.70858712,  0.70963505,\n",
       "        0.70649126,  0.70229955,  0.69810783,  0.68867647,  0.67400547,\n",
       "        0.64466347,  0.59331496,  0.53043923,  0.46861144,  0.41307121,\n",
       "        0.36486649,  0.32818899,  0.29465527,  0.2558819 ,  0.2118689 ,\n",
       "        0.17623932,  0.1427056 ,  0.10812395,  0.08297366,  0.0662068 ,\n",
       "        0.04105651,  0.01171451, -0.01448371, -0.03858607, -0.05744879,\n",
       "       -0.06478429, -0.06268844, -0.05640086, -0.05011329, -0.05011329,\n",
       "       -0.05325708, -0.05640086, -0.05849672, -0.06373636, -0.06897601,\n",
       "       -0.08050322, -0.09517423, -0.1087973 , -0.11927659, -0.13185173,\n",
       "       -0.13918723, -0.1381393 , -0.12975587, -0.12032452, -0.10670144,\n",
       "       -0.08050322, -0.04487365, -0.00714821,  0.03162515,  0.06935059,\n",
       "        0.09135709,  0.0955488 ,  0.0955488 ,  0.10288431,  0.12593874,\n",
       "        0.17309553,  0.24225883,  0.31561384,  0.38477714,  0.44974872,\n",
       "        0.50528894,  0.54615816,  0.58178774,  0.62160903,  0.65828654,\n",
       "        0.68762854,  0.71068298,  0.72849777,  0.74107291,  0.75574391,\n",
       "        0.7808942 ,  0.82281135,  0.87520779,  0.9412273 ,  1.03449296,\n",
       "        1.15710062,  1.298571  ,  1.44632895,  1.57627212,  1.67372949,\n",
       "        1.74603657,  1.80262473,  1.85502116,  1.92104067,  1.99963533])"
      ]
     },
     "execution_count": 6,
     "metadata": {},
     "output_type": "execute_result"
    }
   ],
   "source": [
    "def movingAverage_normalize(a, n=5) :\n",
    "    ret = np.cumsum(a, dtype=float)\n",
    "    ret[n:] = ret[n:] - ret[:-n]\n",
    "    moving_avg = ret[n - 1:] / n\n",
    "    return np.array([(x-np.mean(moving_avg))/np.std(moving_avg) for x in moving_avg])\n",
    "#fig, ax = plt.subplots()\n",
    "#ax.scatter(pd.to_datetime(city1['Date'][4:]).dt.date, movingAverage_normalize(city1['ZHVI_AllHomes'].values))\n",
    "#plt.show()\n",
    "movingAverage_normalize(city1['ZHVI_AllHomes'].values)\n",
    "# don't send moving average \n",
    "#  CHECK IF AFFECTS MOVING AVERAGE AFFECTS ARIMA"
   ]
  },
  {
   "cell_type": "code",
   "execution_count": 7,
   "metadata": {},
   "outputs": [
    {
     "name": "stdout",
     "output_type": "stream",
     "text": [
      "              Date CBSA_Code  ZHVI_AllHomes\n",
      "48      1996-04-30     13020        65200.0\n",
      "732     1996-05-31     13020        65400.0\n",
      "1419    1996-06-30     13020        65900.0\n",
      "2107    1996-07-31     13020        66300.0\n",
      "2796    1996-08-31     13020        66700.0\n",
      "...            ...       ...            ...\n",
      "206695  2017-08-31     13020        89200.0\n",
      "207606  2017-09-30     13020        89100.0\n",
      "208517  2017-10-31     13020        89900.0\n",
      "209428  2017-11-30     13020        90800.0\n",
      "210339  2017-12-31     13020        91600.0\n",
      "\n",
      "[261 rows x 3 columns]\n"
     ]
    },
    {
     "data": {
      "text/plain": [
       "[<matplotlib.lines.Line2D at 0x126a0bcf8>]"
      ]
     },
     "execution_count": 7,
     "metadata": {},
     "output_type": "execute_result"
    },
    {
     "data": {
      "image/png": "[encoded data removed]",
      "text/plain": [
       "<Figure size 432x288 with 1 Axes>"
      ]
     },
     "metadata": {
      "needs_background": "light"
     },
     "output_type": "display_data"
    }
   ],
   "source": [
    "city1 = metro[0]\n",
    "ames = data[data.CBSA_Code == '13020']\n",
    "print(ames)\n",
    "fig, ax = plt.subplots()\n",
    "ax.plot(pd.to_datetime(ames['Date'][4:]).dt.date, movingAverage_normalize(ames['ZHVI_AllHomes'].values))\n",
    "# ax.scatter(pd.to_datetime('2009-05-31'), ames[ames['Date'] == '2009-05-31']['ZHVI_AllHomes'])"
   ]
  },
  {
   "cell_type": "code",
   "execution_count": 24,
   "metadata": {},
   "outputs": [],
   "source": [
    "THRESHOLD = 1\n",
    "\n",
    "# def find_max_start(city):\n",
    "#     return type == str\n",
    "\n",
    "def find_start(city):\n",
    "    \"\"\"\n",
    "    returns recession start date, measured as the largest local maximum ZHVI for a given city\n",
    "    takes: city (pd.dataframe) [Date, ZHVI_avg_norm]\n",
    "    returns: start_date (pd.datetime)\n",
    "    \"\"\"\n",
    "    last_date = city.sort_values('Date', ascending=False).iloc[0]['Date']\n",
    "    city = city[city['Date'] < '2015']\n",
    "    d = lambda i: city['ZHVI_AllHomes'].iloc[i] - city['ZHVI_AllHomes'].iloc[i-1]\n",
    "    diffs = np.array([d(i) for i in range(1, len(city))])\n",
    "    # reshape dataframe to include diffs\n",
    "    city = city.iloc[1:]\n",
    "    city['Diffs'] = diffs\n",
    "    # find local maxes using diffs\n",
    "    is_max = np.array([(city['Diffs'].iloc[i] >= 0) \n",
    "                       and (city['Diffs'].iloc[i+1] <= 0) \n",
    "                       and (city['Diffs'].iloc[i+1] - city['Diffs'].iloc[i] <= THRESHOLD) for i in range(len(city) - 1)])\n",
    "    is_max = np.append(is_max, False)\n",
    "\n",
    "    # check for presence of local maxes at all\n",
    "    if np.count_nonzero(is_max) == 0:\n",
    "        return last_date\n",
    "    # add 'is_maximum' truth column to dataframe\n",
    "    city['Max'] = is_max\n",
    "    # filter and find largest max\n",
    "    theMax = city[city['Max'] == 1.0].sort_values(\"ZHVI_AllHomes\", ascending=False).iloc[0]\n",
    "    start_date = theMax['Date']\n",
    "    return start_date"
   ]
  },
  {
   "cell_type": "code",
   "execution_count": 25,
   "metadata": {},
   "outputs": [],
   "source": [
    "failed_cities = []\n",
    "def ARIMA_50(city, start, params=(5,1,1)):\n",
    "    \"\"\"\n",
    "    Params:\n",
    "    city -- time-series dataframe object containing Date and ZHVI columns\n",
    "    start -- datetime object from index of city representing peak ZHVI\n",
    "    params -- p, d, and q parameters for ARIMA\n",
    "    \"\"\"\n",
    "    \n",
    "    #add start.dt.strftime('%Y-%m-%d') to convert datetime to string\n",
    "    \n",
    "    from statsmodels.tsa.arima_model import ARIMA\n",
    "    \n",
    "    before = city[['Date', 'ZHVI_AllHomes']]\n",
    "#     print(before.shape, start)\n",
    "    before = before[before['Date'] < start].set_index(['Date'])['ZHVI_AllHomes'].values\n",
    "    steps = city.shape[0] - before.shape[0]\n",
    "    try:\n",
    "        model = ARIMA(before, order=(5, 1, 1))\n",
    "        model_fit = model.fit(disp=0)\n",
    "        return model_fit.forecast(steps)[0]\n",
    "    except:\n",
    "        failed_cities.append(np.unique(city.CBSA_Code)[0])\n",
    "        return np.repeat(city[city['Date'] == start].ZHVI_AllHomes, steps)"
   ]
  },
  {
   "cell_type": "code",
   "execution_count": 26,
   "metadata": {},
   "outputs": [],
   "source": [
    "def find_end(city, start, ARIMA_50):\n",
    "    \"\"\"\n",
    "    returns recession end date, measured as the first point of intersection between ZHVI and ARIMA_50 for a given city\n",
    "    takes: city (pd.dataframe) [Date, ZHVI_avg_norm], ARIMA_50 (pd.dataframe) [Date, forecasted_ZHVI_norm] \n",
    "    returns: end_date (pd.datetime)\n",
    "    \"\"\"\n",
    "    # calculate diffs\n",
    "    recession_ZHVI = city[city['Date'] >= start]\n",
    "    diffs = ARIMA_50 - recession_ZHVI['ZHVI_AllHomes'].values\n",
    "    city_resid = pd.DataFrame(data={'Date': recession_ZHVI['Date'].values, 'Delta': diffs})\n",
    "    # filter only positive residuals, and most recent one is the last recession date\n",
    "    most_recent_positive_delta = city_resid[city_resid['Delta'] > 0].sort_values(\"Date\", ascending=False)\n",
    "   # if ARIMA model indicates a sharp drop, set end date as one month after start date\n",
    "    if (most_recent_positive_delta.shape[0] == 0):\n",
    "        return city_resid.Date.values[0]\n",
    "    end_date = most_recent_positive_delta['Date'].iloc[0]\n",
    "#     print(end_date)\n",
    "    return end_date"
   ]
  },
  {
   "cell_type": "code",
   "execution_count": 27,
   "metadata": {},
   "outputs": [],
   "source": [
    "def calc_resid(city, predicted, start, end):\n",
    "    \"\"\"\n",
    "    Params:\n",
    "    city -- time-series dataframe object containing Date and ZHVI columns\n",
    "    predicted -- predicted values from max to last date of city time-series\n",
    "    max -- datetime object from index of city representing peak ZHVI\n",
    "    end -- datetime object from index of city representing intersection of \n",
    "    actual and predicted ZHVI or last date of actual\n",
    "    \"\"\"\n",
    "    \n",
    "    # get indices of start and end date and use those to splice arrays\n",
    "    recession_ZHVI = city[city['Date'] >= start]\n",
    "    recession_ZHVI = recession_ZHVI[recession_ZHVI['Date'] < end]\n",
    "    end_index = len(recession_ZHVI)\n",
    "    predicted_to_end = predicted[:end_index]\n",
    "    diffs = predicted_to_end - recession_ZHVI['ZHVI_AllHomes'].values\n",
    "    return sum(diffs)"
   ]
  },
  {
   "cell_type": "code",
   "execution_count": 28,
   "metadata": {},
   "outputs": [],
   "source": [
    "def find_AU3(metro):\n",
    "#     print(\"City: {}\".format(np.unique(metro.CBSA_Code)))\n",
    "    start = find_start(metro)\n",
    "    arima = ARIMA_50(metro, start)\n",
    "#     print(\"Start Date: \", start)\n",
    "#     fig, ax = plt.subplots()\n",
    "#     ax.plot(pd.to_datetime(metro['Date'][4:]).dt.date, movingAverage_normalize(metro['ZHVI_AllHomes'].values))\n",
    "#     print(metro[metro['Date'] > start].shape)\n",
    "    end = find_end(metro, start, arima)\n",
    "#     print(\"End Date: \", end)\n",
    "    return calc_resid(metro, arima, start, end)"
   ]
  },
  {
   "cell_type": "code",
   "execution_count": 29,
   "metadata": {
    "scrolled": true
   },
   "outputs": [
    {
     "name": "stdout",
     "output_type": "stream",
     "text": [
      "(239, 2) 2007-08-31\n",
      "2017-12-31\n",
      "(261, 2) 2014-03-31\n",
      "2015-04-30\n",
      "(261, 2) 2006-01-31\n",
      "2017-12-31\n",
      "(261, 2) 2007-04-30\n",
      "2017-12-31\n",
      "(261, 2) 2008-03-31\n",
      "2017-12-31\n",
      "(261, 2) 2007-11-30\n",
      "2017-12-31\n",
      "(261, 2) 2007-09-30\n",
      "2017-12-31\n",
      "(261, 2) 2007-11-30\n",
      "2017-12-31\n",
      "(261, 2) 2009-05-31\n",
      "2017-12-31\n",
      "(261, 2) 2010-02-28\n",
      "2016-03-31\n",
      "(239, 2) 2007-04-30\n",
      "2017-12-31\n",
      "(261, 2) 2007-06-30\n",
      "2017-12-31\n",
      "(245, 2) 2006-06-30\n",
      "2017-12-31\n",
      "(261, 2) 2007-02-28\n"
     ]
    },
    {
     "name": "stderr",
     "output_type": "stream",
     "text": [
      "/Users/arunavgupta/anaconda3/envs/tensorflow/lib/python3.6/site-packages/statsmodels/base/model.py:548: HessianInversionWarning: Inverting hessian failed, no bse or cov_params available\n",
      "  'available', HessianInversionWarning)\n",
      "/Users/arunavgupta/anaconda3/envs/tensorflow/lib/python3.6/site-packages/statsmodels/base/model.py:568: ConvergenceWarning: Maximum Likelihood optimization failed to converge. Check mle_retvals\n",
      "  \"Check mle_retvals\", ConvergenceWarning)\n"
     ]
    },
    {
     "name": "stdout",
     "output_type": "stream",
     "text": [
      "2017-12-31\n",
      "(261, 2) 2003-10-31\n",
      "2017-12-31\n",
      "(261, 2) 2007-12-31\n",
      "2017-12-31\n",
      "(89, 2) 2010-11-30\n",
      "2017-12-31\n",
      "(261, 2) 2009-10-31\n",
      "2017-12-31\n",
      "(233, 2) 2008-06-30\n",
      "2017-12-31\n",
      "(71, 2) 2013-07-31\n",
      "2017-12-31\n",
      "(261, 2) 2006-07-31\n",
      "2017-12-31\n",
      "(261, 2) 2005-04-30\n"
     ]
    },
    {
     "name": "stderr",
     "output_type": "stream",
     "text": [
      "/Users/arunavgupta/anaconda3/envs/tensorflow/lib/python3.6/site-packages/statsmodels/base/model.py:548: HessianInversionWarning: Inverting hessian failed, no bse or cov_params available\n",
      "  'available', HessianInversionWarning)\n",
      "/Users/arunavgupta/anaconda3/envs/tensorflow/lib/python3.6/site-packages/statsmodels/base/model.py:568: ConvergenceWarning: Maximum Likelihood optimization failed to converge. Check mle_retvals\n",
      "  \"Check mle_retvals\", ConvergenceWarning)\n"
     ]
    },
    {
     "name": "stdout",
     "output_type": "stream",
     "text": [
      "2017-12-31\n",
      "(261, 2) 2010-12-31\n",
      "2017-12-31\n",
      "(251, 2) 2006-05-31\n",
      "2017-12-31\n",
      "(261, 2) 2012-03-31\n",
      "2015-06-30\n",
      "(113, 2) 2009-02-28\n",
      "2017-12-31\n",
      "(261, 2) 2008-03-31\n",
      "2017-12-31\n",
      "(261, 2) 2003-11-30\n",
      "2017-12-31\n",
      "(261, 2) 2006-05-31\n",
      "2017-12-31\n",
      "(94, 2) 2012-08-31\n",
      "2017-02-28\n",
      "(261, 2) 2009-07-31\n",
      "2017-12-31\n",
      "(261, 2) 2008-02-29\n",
      "2017-12-31\n",
      "(261, 2) 2006-11-30\n",
      "2017-12-31\n",
      "(261, 2) 2006-05-31\n",
      "2017-12-31\n",
      "(261, 2) 2005-08-31\n",
      "2017-12-31\n",
      "(261, 2) 2009-11-30\n",
      "2017-12-31\n",
      "(261, 2) 2008-02-29\n",
      "2017-12-31\n",
      "(261, 2) 2011-06-30\n",
      "2017-12-31\n",
      "(261, 2) 2006-09-30\n"
     ]
    },
    {
     "name": "stderr",
     "output_type": "stream",
     "text": [
      "/Users/arunavgupta/anaconda3/envs/tensorflow/lib/python3.6/site-packages/statsmodels/base/model.py:548: HessianInversionWarning: Inverting hessian failed, no bse or cov_params available\n",
      "  'available', HessianInversionWarning)\n",
      "/Users/arunavgupta/anaconda3/envs/tensorflow/lib/python3.6/site-packages/statsmodels/base/model.py:568: ConvergenceWarning: Maximum Likelihood optimization failed to converge. Check mle_retvals\n",
      "  \"Check mle_retvals\", ConvergenceWarning)\n"
     ]
    },
    {
     "name": "stdout",
     "output_type": "stream",
     "text": [
      "2017-12-31\n",
      "(245, 2) 2006-06-30\n",
      "2017-12-31\n",
      "(94, 2) 2011-05-31\n",
      "2012-01-31\n",
      "(261, 2) 2007-07-31\n",
      "2017-12-31\n",
      "(261, 2) 2006-06-30\n",
      "2017-12-31\n",
      "(261, 2) 2006-11-30\n",
      "2017-12-31\n",
      "(261, 2) 2006-03-31\n",
      "2017-12-31\n",
      "(261, 2) 2009-11-30\n",
      "2017-12-31\n",
      "(261, 2) 2006-03-31\n",
      "2017-12-31\n",
      "(172, 2) 2005-03-31\n"
     ]
    },
    {
     "name": "stderr",
     "output_type": "stream",
     "text": [
      "/Users/arunavgupta/anaconda3/envs/tensorflow/lib/python3.6/site-packages/statsmodels/base/model.py:548: HessianInversionWarning: Inverting hessian failed, no bse or cov_params available\n",
      "  'available', HessianInversionWarning)\n",
      "/Users/arunavgupta/anaconda3/envs/tensorflow/lib/python3.6/site-packages/statsmodels/base/model.py:568: ConvergenceWarning: Maximum Likelihood optimization failed to converge. Check mle_retvals\n",
      "  \"Check mle_retvals\", ConvergenceWarning)\n"
     ]
    },
    {
     "name": "stdout",
     "output_type": "stream",
     "text": [
      "2017-12-31\n",
      "(261, 2) 2011-02-28\n",
      "2017-12-31\n",
      "(143, 2) 2011-10-31\n",
      "2014-02-28\n",
      "(261, 2) 2014-09-30\n",
      "2015-04-30\n",
      "(261, 2) 2014-08-31\n",
      "2017-12-31\n",
      "(261, 2) 2009-11-30\n",
      "2017-12-31\n",
      "(261, 2) 2005-12-31\n",
      "2017-12-31\n",
      "(261, 2) 2005-12-31\n"
     ]
    },
    {
     "name": "stderr",
     "output_type": "stream",
     "text": [
      "/Users/arunavgupta/anaconda3/envs/tensorflow/lib/python3.6/site-packages/statsmodels/base/model.py:548: HessianInversionWarning: Inverting hessian failed, no bse or cov_params available\n",
      "  'available', HessianInversionWarning)\n"
     ]
    },
    {
     "name": "stdout",
     "output_type": "stream",
     "text": [
      "(261, 2) 2005-04-30\n",
      "2017-12-31\n",
      "(261, 2) 2008-08-31\n",
      "2017-12-31\n",
      "(261, 2) 2007-09-30\n",
      "2017-12-31\n",
      "(261, 2) 2005-09-30\n"
     ]
    },
    {
     "name": "stderr",
     "output_type": "stream",
     "text": [
      "/Users/arunavgupta/anaconda3/envs/tensorflow/lib/python3.6/site-packages/statsmodels/base/model.py:548: HessianInversionWarning: Inverting hessian failed, no bse or cov_params available\n",
      "  'available', HessianInversionWarning)\n",
      "/Users/arunavgupta/anaconda3/envs/tensorflow/lib/python3.6/site-packages/statsmodels/base/model.py:568: ConvergenceWarning: Maximum Likelihood optimization failed to converge. Check mle_retvals\n",
      "  \"Check mle_retvals\", ConvergenceWarning)\n"
     ]
    },
    {
     "name": "stdout",
     "output_type": "stream",
     "text": [
      "2017-12-31\n",
      "(261, 2) 2014-08-31\n",
      "2016-01-31\n",
      "(261, 2) 2013-10-31\n",
      "2017-12-31\n",
      "(261, 2) 2007-08-31\n",
      "2017-12-31\n",
      "(185, 2) 2008-01-31\n",
      "2017-12-31\n",
      "(261, 2) 2006-09-30\n",
      "2017-12-31\n",
      "(227, 2) 2007-02-28\n"
     ]
    },
    {
     "name": "stderr",
     "output_type": "stream",
     "text": [
      "/Users/arunavgupta/anaconda3/envs/tensorflow/lib/python3.6/site-packages/statsmodels/base/model.py:548: HessianInversionWarning: Inverting hessian failed, no bse or cov_params available\n",
      "  'available', HessianInversionWarning)\n"
     ]
    },
    {
     "name": "stdout",
     "output_type": "stream",
     "text": [
      "2017-12-31\n",
      "(251, 2) 2003-08-31\n",
      "2017-12-31\n",
      "(59, 2) 2013-05-31\n",
      "2017-12-31\n",
      "(240, 2) 2009-09-30\n",
      "2017-12-31\n",
      "(261, 2) 2008-07-31\n",
      "2017-12-31\n",
      "(261, 2) 2009-04-30\n",
      "2017-12-31\n",
      "(158, 2) 2011-03-31\n",
      "2011-09-30\n",
      "(261, 2) 2007-02-28\n",
      "2017-12-31\n",
      "(245, 2) 2008-06-30\n",
      "2017-12-31\n",
      "(261, 2) 2008-07-31\n",
      "2017-12-31\n",
      "(261, 2) 2014-10-31\n",
      "2016-11-30\n",
      "(261, 2) 2014-11-30\n",
      "2017-12-31\n",
      "(131, 2) 2009-10-31\n",
      "2017-12-31\n",
      "(209, 2) 2011-09-30\n",
      "2015-10-31\n",
      "(261, 2) 2007-07-31\n",
      "2017-12-31\n",
      "(233, 2) 2009-07-31\n",
      "2017-12-31\n",
      "(261, 2) 2007-09-30\n",
      "2017-12-31\n",
      "(261, 2) 2005-10-31\n",
      "2017-12-31\n",
      "(261, 2) 2010-02-28\n",
      "2015-09-30\n",
      "(261, 2) 2009-07-31\n",
      "2017-12-31\n",
      "(107, 2) 2009-06-30\n",
      "2017-12-31\n",
      "(261, 2) 2007-06-30\n",
      "2017-12-31\n",
      "(261, 2) 1996-05-31\n",
      "2017-12-31\n",
      "(261, 2) 2006-04-30\n",
      "2017-12-31\n",
      "(137, 2) 2007-02-28\n",
      "2017-12-31\n",
      "(261, 2) 2014-03-31\n",
      "2017-03-31\n",
      "(89, 2) 2013-01-31\n",
      "(161, 2) 2008-08-31\n"
     ]
    },
    {
     "name": "stderr",
     "output_type": "stream",
     "text": [
      "/Users/arunavgupta/anaconda3/envs/tensorflow/lib/python3.6/site-packages/statsmodels/base/model.py:548: HessianInversionWarning: Inverting hessian failed, no bse or cov_params available\n",
      "  'available', HessianInversionWarning)\n"
     ]
    },
    {
     "name": "stdout",
     "output_type": "stream",
     "text": [
      "2017-12-31\n",
      "(261, 2) 2006-01-31\n",
      "2017-12-31\n",
      "(261, 2) 2014-11-30\n",
      "2015-06-30\n",
      "(261, 2) 2008-07-31\n",
      "2017-12-31\n",
      "(261, 2) 2011-07-31\n",
      "2016-11-30\n",
      "(261, 2) 2006-11-30\n",
      "2017-12-31\n",
      "(250, 2) 2005-10-31\n",
      "2017-12-31\n",
      "(94, 2) 2014-10-31\n",
      "2015-04-30\n",
      "(261, 2) 2008-02-29\n",
      "2017-12-31\n",
      "(261, 2) 2007-05-31\n",
      "2017-12-31\n",
      "(261, 2) 2007-08-31\n",
      "2017-12-31\n",
      "(261, 2) 2008-01-31\n",
      "2017-12-31\n",
      "(261, 2) 2014-06-30\n",
      "2017-12-31\n",
      "(261, 2) 2006-07-31\n",
      "2017-12-31\n",
      "(261, 2) 2006-04-30\n",
      "2017-12-31\n",
      "(89, 2) 2014-11-30\n",
      "2017-12-31\n",
      "(89, 2) 2011-02-28\n",
      "2017-12-31\n",
      "(261, 2) 2007-05-31\n",
      "2017-12-31\n",
      "(155, 2) 2005-08-31\n",
      "2017-12-31\n",
      "(237, 2) 2008-02-29\n",
      "2017-12-31\n",
      "(261, 2) 2007-07-31\n",
      "2017-06-30\n",
      "(239, 2) 2009-09-30\n",
      "2017-12-31\n",
      "(261, 2) 2007-04-30\n",
      "2017-12-31\n",
      "(261, 2) 2014-03-31\n",
      "2017-12-31\n",
      "(221, 2) 2007-06-30\n"
     ]
    },
    {
     "name": "stderr",
     "output_type": "stream",
     "text": [
      "/Users/arunavgupta/anaconda3/envs/tensorflow/lib/python3.6/site-packages/statsmodels/base/model.py:548: HessianInversionWarning: Inverting hessian failed, no bse or cov_params available\n",
      "  'available', HessianInversionWarning)\n",
      "/Users/arunavgupta/anaconda3/envs/tensorflow/lib/python3.6/site-packages/statsmodels/base/model.py:568: ConvergenceWarning: Maximum Likelihood optimization failed to converge. Check mle_retvals\n",
      "  \"Check mle_retvals\", ConvergenceWarning)\n"
     ]
    },
    {
     "name": "stdout",
     "output_type": "stream",
     "text": [
      "2017-12-31\n",
      "(261, 2) 2009-07-31\n",
      "2017-12-31\n",
      "(251, 2) 2007-12-31\n",
      "2017-12-31\n",
      "(261, 2) 2010-02-28\n",
      "2017-12-31\n",
      "(251, 2) 2011-01-31\n",
      "2017-12-31\n",
      "(261, 2) 2007-11-30\n",
      "2017-12-31\n",
      "(261, 2) 2006-08-31\n",
      "2017-12-31\n",
      "(261, 2) 2007-09-30\n",
      "2017-12-31\n",
      "(237, 2) 2009-06-30\n"
     ]
    },
    {
     "name": "stderr",
     "output_type": "stream",
     "text": [
      "/Users/arunavgupta/anaconda3/envs/tensorflow/lib/python3.6/site-packages/statsmodels/base/model.py:548: HessianInversionWarning: Inverting hessian failed, no bse or cov_params available\n",
      "  'available', HessianInversionWarning)\n",
      "/Users/arunavgupta/anaconda3/envs/tensorflow/lib/python3.6/site-packages/statsmodels/base/model.py:568: ConvergenceWarning: Maximum Likelihood optimization failed to converge. Check mle_retvals\n",
      "  \"Check mle_retvals\", ConvergenceWarning)\n"
     ]
    },
    {
     "name": "stdout",
     "output_type": "stream",
     "text": [
      "2017-12-31\n",
      "(252, 2) 2007-03-31\n",
      "2017-12-31\n",
      "(261, 2) 2006-04-30\n"
     ]
    },
    {
     "name": "stderr",
     "output_type": "stream",
     "text": [
      "/Users/arunavgupta/anaconda3/envs/tensorflow/lib/python3.6/site-packages/statsmodels/base/model.py:548: HessianInversionWarning: Inverting hessian failed, no bse or cov_params available\n",
      "  'available', HessianInversionWarning)\n"
     ]
    },
    {
     "name": "stdout",
     "output_type": "stream",
     "text": [
      "2017-12-31\n",
      "(261, 2) 2005-10-31\n",
      "2017-12-31\n",
      "(261, 2) 2006-09-30\n",
      "2017-12-31\n",
      "(167, 2) 2005-06-30\n",
      "2017-12-31\n",
      "(94, 2) 2014-07-31\n"
     ]
    },
    {
     "name": "stderr",
     "output_type": "stream",
     "text": [
      "/Users/arunavgupta/anaconda3/envs/tensorflow/lib/python3.6/site-packages/statsmodels/base/model.py:548: HessianInversionWarning: Inverting hessian failed, no bse or cov_params available\n",
      "  'available', HessianInversionWarning)\n",
      "/Users/arunavgupta/anaconda3/envs/tensorflow/lib/python3.6/site-packages/statsmodels/base/model.py:568: ConvergenceWarning: Maximum Likelihood optimization failed to converge. Check mle_retvals\n",
      "  \"Check mle_retvals\", ConvergenceWarning)\n"
     ]
    },
    {
     "name": "stdout",
     "output_type": "stream",
     "text": [
      "2016-06-30\n",
      "(261, 2) 2014-10-31\n",
      "2016-12-31\n",
      "(261, 2) 2006-08-31\n",
      "2017-12-31\n",
      "(261, 2) 2014-06-30\n",
      "2017-12-31\n",
      "(261, 2) 2014-09-30\n",
      "2016-03-31\n",
      "(261, 2) 2006-02-28\n",
      "2017-12-31\n",
      "(261, 2) 2006-08-31\n",
      "2017-12-31\n",
      "(261, 2) 2009-11-30\n",
      "2017-12-31\n",
      "(261, 2) 2007-04-30\n",
      "2017-08-31\n",
      "(59, 2) 2014-08-31\n",
      "2017-11-30\n",
      "(261, 2) 2009-11-30\n",
      "2017-12-31\n",
      "(261, 2) 2007-09-30\n",
      "2017-12-31\n",
      "(261, 2) 2005-03-31\n",
      "2017-12-31\n",
      "(261, 2) 2009-10-31\n",
      "2017-12-31\n",
      "(261, 2) 2008-05-31\n",
      "2017-12-31\n",
      "(125, 2) 2010-05-31\n",
      "2013-10-31\n",
      "(261, 2) 2009-06-30\n",
      "2017-12-31\n",
      "(261, 2) 2006-05-31\n",
      "2017-12-31\n",
      "(261, 2) 2006-03-31\n",
      "2017-12-31\n",
      "(261, 2) 2005-02-28\n",
      "2017-12-31\n",
      "(261, 2) 2007-07-31\n",
      "2017-12-31\n",
      "(261, 2) 2007-04-30\n",
      "2017-12-31\n",
      "(261, 2) 2009-11-30\n",
      "2017-12-31\n",
      "(173, 2) 2009-11-30\n",
      "2017-12-31\n",
      "(261, 2) 2013-07-31\n",
      "2017-12-31\n",
      "(261, 2) 2014-05-31\n",
      "2017-12-31\n",
      "(261, 2) 2007-10-31\n",
      "2017-12-31\n",
      "(261, 2) 2004-04-30\n",
      "2017-12-31\n",
      "(167, 2) 2008-07-31\n",
      "2017-12-31\n",
      "(261, 2) 2005-06-30\n",
      "2017-12-31\n",
      "(239, 2) 2008-08-31\n",
      "2017-12-31\n",
      "(261, 2) 2005-12-31\n",
      "2017-12-31\n",
      "(95, 2) 2011-03-31\n",
      "2017-04-30\n",
      "(239, 2) 2009-06-30\n"
     ]
    },
    {
     "name": "stderr",
     "output_type": "stream",
     "text": [
      "/Users/arunavgupta/anaconda3/envs/tensorflow/lib/python3.6/site-packages/statsmodels/base/model.py:548: HessianInversionWarning: Inverting hessian failed, no bse or cov_params available\n",
      "  'available', HessianInversionWarning)\n",
      "/Users/arunavgupta/anaconda3/envs/tensorflow/lib/python3.6/site-packages/statsmodels/base/model.py:568: ConvergenceWarning: Maximum Likelihood optimization failed to converge. Check mle_retvals\n",
      "  \"Check mle_retvals\", ConvergenceWarning)\n"
     ]
    },
    {
     "name": "stdout",
     "output_type": "stream",
     "text": [
      "2017-12-31\n",
      "(261, 2) 2008-02-29\n",
      "2017-12-31\n",
      "(261, 2) 2009-06-30\n",
      "2017-12-31\n",
      "(261, 2) 2007-11-30\n",
      "2016-01-31\n",
      "(261, 2) 2007-03-31\n",
      "2017-12-31\n",
      "(261, 2) 2009-07-31\n",
      "2017-12-31\n",
      "(261, 2) 2007-03-31\n",
      "2017-12-31\n",
      "(261, 2) 2006-10-31\n",
      "2017-12-31\n",
      "(261, 2) 2014-11-30\n",
      "2017-12-31\n",
      "(261, 2) 2006-10-31\n",
      "2017-12-31\n",
      "(261, 2) 2008-02-29\n",
      "2017-12-31\n",
      "(47, 2) 2017-12-31\n",
      "(261, 2) 2009-07-31\n"
     ]
    },
    {
     "name": "stderr",
     "output_type": "stream",
     "text": [
      "/Users/arunavgupta/anaconda3/envs/tensorflow/lib/python3.6/site-packages/statsmodels/base/model.py:548: HessianInversionWarning: Inverting hessian failed, no bse or cov_params available\n",
      "  'available', HessianInversionWarning)\n"
     ]
    },
    {
     "name": "stdout",
     "output_type": "stream",
     "text": [
      "2017-12-31\n",
      "(261, 2) 2005-08-31\n",
      "2017-12-31\n",
      "(261, 2) 2006-02-28\n",
      "2017-12-31\n",
      "(261, 2) 2011-06-30\n",
      "2017-12-31\n",
      "(261, 2) 2006-07-31\n",
      "2017-12-31\n",
      "(261, 2) 2006-06-30\n",
      "2015-07-31\n",
      "(167, 2) 2012-05-31\n",
      "2015-04-30\n",
      "(261, 2) 2014-08-31\n",
      "2015-02-28\n",
      "(251, 2) 2005-06-30\n",
      "2017-12-31\n",
      "(113, 2) 2008-11-30\n",
      "2017-12-31\n",
      "(94, 2) 2013-04-30\n",
      "2015-07-31\n",
      "(261, 2) 2007-06-30\n",
      "2017-12-31\n",
      "(261, 2) 2008-03-31\n",
      "2017-12-31\n",
      "(125, 2) 2008-01-31\n",
      "2017-02-28\n",
      "(89, 2) 2013-09-30\n",
      "2015-02-28\n",
      "(209, 2) 2007-05-31\n"
     ]
    },
    {
     "name": "stderr",
     "output_type": "stream",
     "text": [
      "/Users/arunavgupta/anaconda3/envs/tensorflow/lib/python3.6/site-packages/statsmodels/base/model.py:548: HessianInversionWarning: Inverting hessian failed, no bse or cov_params available\n",
      "  'available', HessianInversionWarning)\n",
      "/Users/arunavgupta/anaconda3/envs/tensorflow/lib/python3.6/site-packages/statsmodels/base/model.py:568: ConvergenceWarning: Maximum Likelihood optimization failed to converge. Check mle_retvals\n",
      "  \"Check mle_retvals\", ConvergenceWarning)\n",
      "/Users/arunavgupta/anaconda3/envs/tensorflow/lib/python3.6/site-packages/statsmodels/base/model.py:548: HessianInversionWarning: Inverting hessian failed, no bse or cov_params available\n",
      "  'available', HessianInversionWarning)\n"
     ]
    },
    {
     "name": "stdout",
     "output_type": "stream",
     "text": [
      "2017-12-31\n",
      "(94, 2) 2013-01-31\n",
      "2016-10-31\n",
      "(261, 2) 2010-02-28\n",
      "2017-12-31\n",
      "(89, 2) 2010-10-31\n",
      "2016-08-31\n",
      "(261, 2) 2008-07-31\n",
      "2017-12-31\n",
      "(261, 2) 2012-10-31\n",
      "2015-12-31\n",
      "(261, 2) 2008-07-31\n",
      "2017-05-31\n",
      "(251, 2) 2006-07-31\n"
     ]
    },
    {
     "name": "stderr",
     "output_type": "stream",
     "text": [
      "/Users/arunavgupta/anaconda3/envs/tensorflow/lib/python3.6/site-packages/statsmodels/base/model.py:548: HessianInversionWarning: Inverting hessian failed, no bse or cov_params available\n",
      "  'available', HessianInversionWarning)\n",
      "/Users/arunavgupta/anaconda3/envs/tensorflow/lib/python3.6/site-packages/statsmodels/base/model.py:568: ConvergenceWarning: Maximum Likelihood optimization failed to converge. Check mle_retvals\n",
      "  \"Check mle_retvals\", ConvergenceWarning)\n"
     ]
    },
    {
     "name": "stdout",
     "output_type": "stream",
     "text": [
      "2017-12-31\n",
      "(89, 2) 2010-09-30\n",
      "2017-12-31\n",
      "(261, 2) 2006-08-31\n",
      "2017-12-31\n",
      "(261, 2) 2007-01-31\n"
     ]
    },
    {
     "name": "stderr",
     "output_type": "stream",
     "text": [
      "/Users/arunavgupta/anaconda3/envs/tensorflow/lib/python3.6/site-packages/statsmodels/base/model.py:548: HessianInversionWarning: Inverting hessian failed, no bse or cov_params available\n",
      "  'available', HessianInversionWarning)\n",
      "/Users/arunavgupta/anaconda3/envs/tensorflow/lib/python3.6/site-packages/statsmodels/base/model.py:568: ConvergenceWarning: Maximum Likelihood optimization failed to converge. Check mle_retvals\n",
      "  \"Check mle_retvals\", ConvergenceWarning)\n"
     ]
    },
    {
     "name": "stdout",
     "output_type": "stream",
     "text": [
      "2017-12-31\n",
      "(261, 2) 2009-11-30\n",
      "2017-12-31\n",
      "(251, 2) 2008-01-31\n",
      "2017-12-31\n",
      "(261, 2) 2008-08-31\n",
      "2017-12-31\n",
      "(261, 2) 2008-02-29\n"
     ]
    },
    {
     "name": "stderr",
     "output_type": "stream",
     "text": [
      "/Users/arunavgupta/anaconda3/envs/tensorflow/lib/python3.6/site-packages/statsmodels/base/model.py:548: HessianInversionWarning: Inverting hessian failed, no bse or cov_params available\n",
      "  'available', HessianInversionWarning)\n",
      "/Users/arunavgupta/anaconda3/envs/tensorflow/lib/python3.6/site-packages/statsmodels/base/model.py:568: ConvergenceWarning: Maximum Likelihood optimization failed to converge. Check mle_retvals\n",
      "  \"Check mle_retvals\", ConvergenceWarning)\n"
     ]
    },
    {
     "name": "stdout",
     "output_type": "stream",
     "text": [
      "2016-08-31\n",
      "(261, 2) 2006-09-30\n",
      "2017-12-31\n",
      "(245, 2) 2008-07-31\n",
      "2017-12-31\n",
      "(251, 2) 2010-09-30\n",
      "2017-12-31\n",
      "(161, 2) 2014-10-31\n",
      "2017-12-31\n",
      "(261, 2) 2008-06-30\n",
      "2017-12-31\n",
      "(261, 2) 2008-02-29\n",
      "2017-12-31\n",
      "(261, 2) 2007-07-31\n",
      "2017-12-31\n",
      "(261, 2) 2013-01-31\n",
      "2017-12-31\n",
      "(261, 2) 2007-12-31\n",
      "2017-12-31\n",
      "(89, 2) 2010-11-30\n",
      "2014-05-31\n",
      "(261, 2) 2014-10-31\n",
      "2017-12-31\n",
      "(53, 2) 2014-04-30\n",
      "2014-11-30\n",
      "(94, 2) 2014-09-30\n",
      "2015-07-31\n",
      "(261, 2) 2007-06-30\n",
      "2017-12-31\n",
      "(261, 2) 2007-11-30\n"
     ]
    },
    {
     "name": "stderr",
     "output_type": "stream",
     "text": [
      "/Users/arunavgupta/anaconda3/envs/tensorflow/lib/python3.6/site-packages/statsmodels/base/model.py:548: HessianInversionWarning: Inverting hessian failed, no bse or cov_params available\n",
      "  'available', HessianInversionWarning)\n"
     ]
    },
    {
     "name": "stdout",
     "output_type": "stream",
     "text": [
      "2017-12-31\n",
      "(261, 2) 2006-02-28\n",
      "2017-11-30\n",
      "(261, 2) 2008-07-31\n",
      "2017-12-31\n",
      "(233, 2) 2008-05-31\n",
      "2017-12-31\n",
      "(261, 2) 2011-08-31\n",
      "2014-02-28\n",
      "(221, 2) 2005-12-31\n",
      "2017-12-31\n",
      "(53, 2) 2014-08-31\n",
      "2016-05-31\n",
      "(261, 2) 2007-04-30\n"
     ]
    },
    {
     "name": "stderr",
     "output_type": "stream",
     "text": [
      "/Users/arunavgupta/anaconda3/envs/tensorflow/lib/python3.6/site-packages/statsmodels/base/model.py:548: HessianInversionWarning: Inverting hessian failed, no bse or cov_params available\n",
      "  'available', HessianInversionWarning)\n",
      "/Users/arunavgupta/anaconda3/envs/tensorflow/lib/python3.6/site-packages/statsmodels/base/model.py:568: ConvergenceWarning: Maximum Likelihood optimization failed to converge. Check mle_retvals\n",
      "  \"Check mle_retvals\", ConvergenceWarning)\n"
     ]
    },
    {
     "name": "stdout",
     "output_type": "stream",
     "text": [
      "2017-12-31\n",
      "(261, 2) 2011-08-31\n",
      "2017-12-31\n",
      "(261, 2) 2007-02-28\n",
      "2017-12-31\n",
      "(261, 2) 2006-06-30\n",
      "2017-12-31\n",
      "(261, 2) 2006-04-30\n",
      "2017-12-31\n",
      "(261, 2) 2005-11-30\n",
      "2017-12-31\n",
      "(261, 2) 2007-01-31\n",
      "2017-12-31\n",
      "(224, 2) 2005-08-31\n",
      "2017-12-31\n",
      "(261, 2) 2011-07-31\n",
      "2015-08-31\n",
      "(261, 2) 2007-01-31\n",
      "2017-12-31\n",
      "(261, 2) 2007-11-30\n"
     ]
    },
    {
     "name": "stderr",
     "output_type": "stream",
     "text": [
      "/Users/arunavgupta/anaconda3/envs/tensorflow/lib/python3.6/site-packages/statsmodels/base/model.py:548: HessianInversionWarning: Inverting hessian failed, no bse or cov_params available\n",
      "  'available', HessianInversionWarning)\n"
     ]
    },
    {
     "name": "stdout",
     "output_type": "stream",
     "text": [
      "2015-02-28\n",
      "(261, 2) 2009-11-30\n",
      "2017-12-31\n",
      "(261, 2) 2009-07-31\n",
      "2017-12-31\n",
      "(143, 2) 2014-10-31\n",
      "2015-06-30\n",
      "(261, 2) 2011-08-31\n",
      "2017-12-31\n",
      "(261, 2) 2006-10-31\n",
      "2017-12-31\n",
      "(261, 2) 2004-08-31\n",
      "2017-12-31\n",
      "(261, 2) 2006-10-31\n",
      "2017-12-31\n",
      "(185, 2) 2009-08-31\n",
      "2017-12-31\n",
      "(245, 2) 2007-06-30\n",
      "2017-12-31\n",
      "(261, 2) 2006-03-31\n",
      "2017-12-31\n",
      "(261, 2) 2006-04-30\n",
      "2017-12-31\n",
      "(261, 2) 2009-04-30\n"
     ]
    },
    {
     "name": "stderr",
     "output_type": "stream",
     "text": [
      "/Users/arunavgupta/anaconda3/envs/tensorflow/lib/python3.6/site-packages/statsmodels/base/model.py:548: HessianInversionWarning: Inverting hessian failed, no bse or cov_params available\n",
      "  'available', HessianInversionWarning)\n",
      "/Users/arunavgupta/anaconda3/envs/tensorflow/lib/python3.6/site-packages/statsmodels/base/model.py:568: ConvergenceWarning: Maximum Likelihood optimization failed to converge. Check mle_retvals\n",
      "  \"Check mle_retvals\", ConvergenceWarning)\n"
     ]
    },
    {
     "name": "stdout",
     "output_type": "stream",
     "text": [
      "2017-12-31\n",
      "(261, 2) 2008-06-30\n",
      "2017-12-31\n",
      "(261, 2) 2006-10-31\n",
      "2017-12-31\n",
      "(261, 2) 2007-06-30\n",
      "2017-12-31\n",
      "(261, 2) 2009-11-30\n",
      "2017-12-31\n",
      "(261, 2) 2007-05-31\n"
     ]
    },
    {
     "name": "stderr",
     "output_type": "stream",
     "text": [
      "/Users/arunavgupta/anaconda3/envs/tensorflow/lib/python3.6/site-packages/statsmodels/base/model.py:568: ConvergenceWarning: Maximum Likelihood optimization failed to converge. Check mle_retvals\n",
      "  \"Check mle_retvals\", ConvergenceWarning)\n"
     ]
    },
    {
     "name": "stdout",
     "output_type": "stream",
     "text": [
      "2017-12-31\n",
      "(261, 2) 2014-10-31\n",
      "2014-12-31\n",
      "(261, 2) 2005-12-31\n",
      "2017-12-31\n",
      "(251, 2) 2007-08-31\n"
     ]
    },
    {
     "name": "stderr",
     "output_type": "stream",
     "text": [
      "/Users/arunavgupta/anaconda3/envs/tensorflow/lib/python3.6/site-packages/statsmodels/base/model.py:548: HessianInversionWarning: Inverting hessian failed, no bse or cov_params available\n",
      "  'available', HessianInversionWarning)\n",
      "/Users/arunavgupta/anaconda3/envs/tensorflow/lib/python3.6/site-packages/statsmodels/base/model.py:568: ConvergenceWarning: Maximum Likelihood optimization failed to converge. Check mle_retvals\n",
      "  \"Check mle_retvals\", ConvergenceWarning)\n"
     ]
    },
    {
     "name": "stdout",
     "output_type": "stream",
     "text": [
      "2017-12-31\n",
      "(261, 2) 2006-08-31\n",
      "2017-12-31\n",
      "(261, 2) 2008-07-31\n",
      "2017-12-31\n",
      "(261, 2) 2007-10-31\n",
      "2017-12-31\n",
      "(261, 2) 2008-05-31\n",
      "2017-12-31\n",
      "(261, 2) 2007-10-31\n",
      "2017-12-31\n",
      "(261, 2) 2008-06-30\n"
     ]
    },
    {
     "name": "stderr",
     "output_type": "stream",
     "text": [
      "/Users/arunavgupta/anaconda3/envs/tensorflow/lib/python3.6/site-packages/statsmodels/base/model.py:548: HessianInversionWarning: Inverting hessian failed, no bse or cov_params available\n",
      "  'available', HessianInversionWarning)\n"
     ]
    },
    {
     "name": "stdout",
     "output_type": "stream",
     "text": [
      "2017-12-31\n",
      "(239, 2) 2014-06-30\n",
      "2017-12-31\n",
      "(261, 2) 2013-10-31\n",
      "2014-11-30\n",
      "(261, 2) 2008-04-30\n",
      "2017-12-31\n",
      "(261, 2) 2006-04-30\n",
      "2017-12-31\n",
      "(261, 2) 2004-04-30\n",
      "2017-12-31\n",
      "(261, 2) 2006-04-30\n"
     ]
    },
    {
     "name": "stderr",
     "output_type": "stream",
     "text": [
      "/Users/arunavgupta/anaconda3/envs/tensorflow/lib/python3.6/site-packages/statsmodels/base/model.py:548: HessianInversionWarning: Inverting hessian failed, no bse or cov_params available\n",
      "  'available', HessianInversionWarning)\n"
     ]
    },
    {
     "name": "stdout",
     "output_type": "stream",
     "text": [
      "2017-12-31\n",
      "(113, 2) 2009-02-28\n",
      "2017-12-31\n",
      "(240, 2) 2009-06-30\n",
      "2017-12-31\n",
      "(261, 2) 2006-07-31\n",
      "2016-03-31\n",
      "(239, 2) 2009-06-30\n",
      "2017-12-31\n",
      "(251, 2) 2014-06-30\n",
      "2017-02-28\n",
      "(261, 2) 2007-02-28\n",
      "2017-12-31\n",
      "(261, 2) 2006-10-31\n",
      "2017-12-31\n",
      "(261, 2) 2005-10-31\n",
      "2017-12-31\n",
      "(89, 2) 2010-10-31\n",
      "2017-09-30\n",
      "(261, 2) 2014-02-28\n",
      "2017-12-31\n",
      "(261, 2) 2009-04-30\n",
      "2017-09-30\n",
      "(94, 2) 2014-10-31\n",
      "2017-12-31\n",
      "(261, 2) 2009-10-31\n",
      "2017-12-31\n",
      "(261, 2) 2007-04-30\n",
      "2017-12-31\n",
      "(261, 2) 2007-02-28\n",
      "2017-12-31\n",
      "(113, 2) 2009-11-30\n",
      "2017-12-31\n",
      "(261, 2) 2009-12-31\n",
      "2017-12-31\n",
      "(261, 2) 2006-06-30\n",
      "2017-12-31\n",
      "(261, 2) 2008-03-31\n",
      "2017-12-31\n",
      "(261, 2) 2014-03-31\n",
      "2017-12-31\n",
      "(261, 2) 2008-03-31\n",
      "2017-12-31\n",
      "(261, 2) 2007-05-31\n",
      "2017-12-31\n",
      "(261, 2) 2009-07-31\n",
      "2017-12-31\n",
      "(94, 2) 2010-06-30\n",
      "2017-12-31\n",
      "(261, 2) 2008-02-29\n",
      "2017-12-31\n",
      "(94, 2) 2014-09-30\n",
      "2016-01-31\n",
      "(261, 2) 2014-07-31\n",
      "2017-03-31\n",
      "(261, 2) 2009-05-31\n",
      "2017-12-31\n",
      "(261, 2) 2006-07-31\n",
      "2017-12-31\n",
      "(261, 2) 2006-06-30\n",
      "2017-12-31\n",
      "(261, 2) 2006-08-31\n",
      "2017-12-31\n",
      "(261, 2) 2008-08-31\n",
      "2017-12-31\n",
      "(261, 2) 2007-06-30\n",
      "2017-12-31\n",
      "(260, 2) 2006-07-31\n",
      "2017-12-31\n",
      "(221, 2) 2008-05-31\n",
      "2017-12-31\n",
      "(261, 2) 2008-02-29\n",
      "2017-12-31\n",
      "(261, 2) 2009-06-30\n",
      "2017-12-31\n",
      "(94, 2) 2011-03-31\n",
      "2013-02-28\n",
      "(261, 2) 2007-07-31\n",
      "2017-12-31\n",
      "(233, 2) 2009-06-30\n",
      "2017-12-31\n",
      "(261, 2) 2005-11-30\n",
      "2017-12-31\n",
      "(261, 2) 2009-11-30\n",
      "2017-12-31\n",
      "(113, 2) 2009-11-30\n",
      "2017-12-31\n",
      "(261, 2) 2008-02-29\n",
      "2017-12-31\n",
      "(261, 2) 2008-07-31\n",
      "2017-12-31\n",
      "(261, 2) 2014-03-31\n",
      "2017-12-31\n",
      "(197, 2) 2003-11-30\n",
      "2017-09-30\n",
      "(261, 2) 2006-12-31\n"
     ]
    },
    {
     "name": "stderr",
     "output_type": "stream",
     "text": [
      "/Users/arunavgupta/anaconda3/envs/tensorflow/lib/python3.6/site-packages/statsmodels/tsa/tsatools.py:645: RuntimeWarning: invalid value encountered in true_divide\n",
      "  newparams = np.tanh(params/2)\n",
      "/Users/arunavgupta/anaconda3/envs/tensorflow/lib/python3.6/site-packages/statsmodels/tsa/tsatools.py:646: RuntimeWarning: invalid value encountered in true_divide\n",
      "  tmp = np.tanh(params/2)\n"
     ]
    },
    {
     "name": "stdout",
     "output_type": "stream",
     "text": [
      "2017-12-31\n",
      "(251, 2) 2014-06-30\n",
      "2015-11-30\n",
      "(261, 2) 2014-01-31\n",
      "2016-02-29\n",
      "(261, 2) 2005-12-31\n",
      "2017-12-31\n",
      "(261, 2) 2009-11-30\n",
      "2017-12-31\n",
      "(261, 2) 2006-09-30\n",
      "2017-12-31\n",
      "(261, 2) 2006-10-31\n",
      "2017-12-31\n",
      "(261, 2) 2008-07-31\n",
      "2017-12-31\n",
      "(261, 2) 2010-05-31\n",
      "2017-12-31\n",
      "(113, 2) 2009-11-30\n",
      "2017-12-31\n",
      "(261, 2) 2007-02-28\n",
      "2017-12-31\n",
      "(261, 2) 2005-08-31\n",
      "2017-12-31\n",
      "(89, 2) 2011-04-30\n",
      "2017-12-31\n",
      "(261, 2) 2004-12-31\n",
      "2017-12-31\n",
      "(261, 2) 2009-09-30\n"
     ]
    },
    {
     "name": "stderr",
     "output_type": "stream",
     "text": [
      "/Users/arunavgupta/anaconda3/envs/tensorflow/lib/python3.6/site-packages/statsmodels/base/model.py:548: HessianInversionWarning: Inverting hessian failed, no bse or cov_params available\n",
      "  'available', HessianInversionWarning)\n"
     ]
    },
    {
     "name": "stdout",
     "output_type": "stream",
     "text": [
      "2017-12-31\n",
      "(261, 2) 2007-05-31\n",
      "2017-12-31\n",
      "(261, 2) 2014-08-31\n",
      "2017-03-31\n",
      "(261, 2) 2009-06-30\n",
      "2017-12-31\n",
      "(113, 2) 2008-11-30\n",
      "2017-12-31\n",
      "(244, 2) 2007-06-30\n",
      "2017-12-31\n",
      "(261, 2) 2006-10-31\n",
      "2017-12-31\n",
      "(179, 2) 2006-03-31\n",
      "2017-12-31\n",
      "(261, 2)"
     ]
    },
    {
     "name": "stderr",
     "output_type": "stream",
     "text": [
      "/Users/arunavgupta/anaconda3/envs/tensorflow/lib/python3.6/site-packages/statsmodels/base/model.py:548: HessianInversionWarning: Inverting hessian failed, no bse or cov_params available\n",
      "  'available', HessianInversionWarning)\n",
      "/Users/arunavgupta/anaconda3/envs/tensorflow/lib/python3.6/site-packages/statsmodels/base/model.py:568: ConvergenceWarning: Maximum Likelihood optimization failed to converge. Check mle_retvals\n",
      "  \"Check mle_retvals\", ConvergenceWarning)\n"
     ]
    },
    {
     "name": "stdout",
     "output_type": "stream",
     "text": [
      " 2012-07-31\n",
      "2017-12-31\n",
      "(197, 2) 2005-06-30\n",
      "2017-12-31\n",
      "(47, 2) 2014-06-30\n",
      "2015-09-30\n",
      "(261, 2) 2006-11-30\n",
      "2017-12-31\n",
      "(261, 2) 2006-09-30\n",
      "2017-12-31\n",
      "(261, 2) 2013-12-31\n",
      "2014-11-30\n",
      "(261, 2) 2007-04-30\n"
     ]
    },
    {
     "name": "stderr",
     "output_type": "stream",
     "text": [
      "/Users/arunavgupta/anaconda3/envs/tensorflow/lib/python3.6/site-packages/statsmodels/base/model.py:548: HessianInversionWarning: Inverting hessian failed, no bse or cov_params available\n",
      "  'available', HessianInversionWarning)\n"
     ]
    },
    {
     "name": "stdout",
     "output_type": "stream",
     "text": [
      "(261, 2) 2014-09-30\n",
      "2016-07-31\n",
      "(261, 2) 2005-10-31\n",
      "2017-12-31\n",
      "(233, 2) 2006-01-31\n",
      "2017-12-31\n",
      "(261, 2) 2006-12-31\n",
      "2017-12-31\n",
      "(261, 2) 2009-08-31\n",
      "2017-12-31\n",
      "(261, 2) 2006-08-31\n",
      "2017-12-31\n",
      "(261, 2) 2007-06-30\n",
      "2017-12-31\n",
      "(261, 2) 2008-07-31\n",
      "2017-12-31\n",
      "(261, 2) 2007-05-31\n",
      "2017-12-31\n",
      "(261, 2) 2014-07-31\n",
      "2017-12-31\n",
      "(89, 2) 2013-08-31\n"
     ]
    },
    {
     "name": "stderr",
     "output_type": "stream",
     "text": [
      "/Users/arunavgupta/anaconda3/envs/tensorflow/lib/python3.6/site-packages/statsmodels/base/model.py:548: HessianInversionWarning: Inverting hessian failed, no bse or cov_params available\n",
      "  'available', HessianInversionWarning)\n",
      "/Users/arunavgupta/anaconda3/envs/tensorflow/lib/python3.6/site-packages/statsmodels/base/model.py:568: ConvergenceWarning: Maximum Likelihood optimization failed to converge. Check mle_retvals\n",
      "  \"Check mle_retvals\", ConvergenceWarning)\n"
     ]
    },
    {
     "name": "stdout",
     "output_type": "stream",
     "text": [
      "2017-12-31\n",
      "(261, 2) 2006-03-31\n",
      "2017-12-31\n",
      "(261, 2) 2011-08-31\n",
      "2017-12-31\n",
      "(261, 2) 2009-11-30\n",
      "2017-12-31\n",
      "(261, 2) 2005-08-31\n",
      "2017-12-31\n",
      "(251, 2) 2009-05-31\n",
      "2017-12-31\n",
      "(261, 2) 2014-07-31\n",
      "2014-12-31\n",
      "(261, 2) 2006-11-30\n"
     ]
    },
    {
     "name": "stderr",
     "output_type": "stream",
     "text": [
      "/Users/arunavgupta/anaconda3/envs/tensorflow/lib/python3.6/site-packages/statsmodels/base/model.py:548: HessianInversionWarning: Inverting hessian failed, no bse or cov_params available\n",
      "  'available', HessianInversionWarning)\n",
      "/Users/arunavgupta/anaconda3/envs/tensorflow/lib/python3.6/site-packages/statsmodels/base/model.py:568: ConvergenceWarning: Maximum Likelihood optimization failed to converge. Check mle_retvals\n",
      "  \"Check mle_retvals\", ConvergenceWarning)\n",
      "/Users/arunavgupta/anaconda3/envs/tensorflow/lib/python3.6/site-packages/statsmodels/base/model.py:548: HessianInversionWarning: Inverting hessian failed, no bse or cov_params available\n",
      "  'available', HessianInversionWarning)\n"
     ]
    },
    {
     "name": "stdout",
     "output_type": "stream",
     "text": [
      "2017-12-31\n",
      "(261, 2) 2006-07-31\n",
      "(261, 2) 2006-09-30\n",
      "2017-12-31\n",
      "(261, 2) 2008-11-30\n",
      "2016-01-31\n",
      "(261, 2) 2007-10-31\n",
      "2017-12-31\n",
      "(261, 2) 2005-12-31\n",
      "2017-12-31\n",
      "(53, 2) 2014-08-31\n",
      "2015-04-30\n",
      "(261, 2) 2014-11-30\n",
      "2017-07-31\n",
      "(261, 2) 2009-06-30\n",
      "2017-12-31\n",
      "(261, 2) 2006-05-31\n",
      "2017-12-31\n",
      "(261, 2) 2009-06-30\n",
      "2017-12-31\n",
      "(261, 2) 2008-04-30\n",
      "2017-12-31\n",
      "(261, 2) 2010-02-28\n",
      "2017-12-31\n",
      "(261, 2) 2007-10-31\n",
      "2017-12-31\n",
      "(251, 2) 2008-05-31\n",
      "2017-12-31\n",
      "(261, 2) 2008-02-29\n",
      "2017-12-31\n",
      "(261, 2) 2009-06-30\n",
      "2017-12-31\n",
      "(261, 2) 2007-01-31\n",
      "2017-12-31\n",
      "(261, 2) 2005-09-30\n",
      "2017-12-31\n",
      "(94, 2) 2010-11-30\n",
      "2017-12-31\n",
      "(261, 2) 2006-04-30\n",
      "2017-12-31\n",
      "(261, 2) 2014-07-31\n",
      "2014-10-31\n",
      "(261, 2) 2013-09-30\n",
      "2017-12-31\n",
      "(261, 2) 2014-07-31\n",
      "2017-12-31\n",
      "(261, 2) 2013-04-30\n",
      "2017-12-31\n",
      "(261, 2) 2008-03-31\n",
      "2017-12-31\n",
      "(261, 2) 2006-07-31\n",
      "2017-12-31\n",
      "(261, 2) 2014-07-31\n",
      "2015-02-28\n",
      "(261, 2) 2010-02-28\n",
      "2017-12-31\n",
      "(251, 2) 2009-07-31\n",
      "2017-12-31\n",
      "(77, 2) 2013-06-30\n",
      "2017-12-31\n"
     ]
    },
    {
     "name": "stderr",
     "output_type": "stream",
     "text": [
      "/Users/arunavgupta/anaconda3/envs/tensorflow/lib/python3.6/site-packages/statsmodels/base/model.py:548: HessianInversionWarning: Inverting hessian failed, no bse or cov_params available\n",
      "  'available', HessianInversionWarning)\n",
      "/Users/arunavgupta/anaconda3/envs/tensorflow/lib/python3.6/site-packages/statsmodels/base/model.py:568: ConvergenceWarning: Maximum Likelihood optimization failed to converge. Check mle_retvals\n",
      "  \"Check mle_retvals\", ConvergenceWarning)\n"
     ]
    },
    {
     "name": "stdout",
     "output_type": "stream",
     "text": [
      "(261, 2) 2007-07-31\n",
      "2017-12-31\n",
      "(261, 2) 2006-08-31\n",
      "2017-12-31\n",
      "(261, 2) 2005-09-30\n",
      "2017-12-31\n",
      "(261, 2) 2006-03-31\n",
      "2017-12-31\n",
      "(233, 2) 2009-05-31\n",
      "2017-12-31\n",
      "(251, 2) 2009-11-30\n",
      "2017-12-31\n",
      "(261, 2) 2011-01-31\n",
      "2017-12-31\n",
      "(261, 2) 2005-10-31\n",
      "2017-12-31\n",
      "(113, 2) 2008-12-31\n",
      "2017-12-31\n",
      "(261, 2) 2005-12-31\n",
      "2017-12-31\n",
      "(261, 2) 2005-11-30\n",
      "2017-12-31\n",
      "(261, 2) 2013-09-30\n",
      "2014-12-31\n",
      "(261, 2) 2008-03-31\n",
      "2017-12-31\n",
      "(261, 2) 2004-11-30\n",
      "2017-12-31\n",
      "(227, 2) 2009-06-30\n",
      "2017-12-31\n",
      "(113, 2) 2010-07-31\n",
      "2015-08-31\n",
      "(251, 2) 2009-11-30\n",
      "2017-12-31\n",
      "(167, 2) 2008-02-29\n",
      "2017-12-31\n",
      "(239, 2) 2009-07-31\n",
      "2017-12-31\n",
      "(261, 2) 2007-09-30\n",
      "2017-12-31\n",
      "(261, 2) 2007-05-31\n",
      "2017-12-31\n",
      "(261, 2) 2011-11-30\n",
      "2017-12-31\n",
      "(261, 2) 2007-04-30\n"
     ]
    },
    {
     "name": "stderr",
     "output_type": "stream",
     "text": [
      "/Users/arunavgupta/anaconda3/envs/tensorflow/lib/python3.6/site-packages/statsmodels/base/model.py:548: HessianInversionWarning: Inverting hessian failed, no bse or cov_params available\n",
      "  'available', HessianInversionWarning)\n",
      "/Users/arunavgupta/anaconda3/envs/tensorflow/lib/python3.6/site-packages/statsmodels/base/model.py:568: ConvergenceWarning: Maximum Likelihood optimization failed to converge. Check mle_retvals\n",
      "  \"Check mle_retvals\", ConvergenceWarning)\n"
     ]
    },
    {
     "name": "stdout",
     "output_type": "stream",
     "text": [
      "2017-12-31\n",
      "(261, 2) 2014-04-30\n",
      "2016-06-30\n",
      "(94, 2) 2010-09-30\n",
      "2017-12-31\n",
      "(261, 2) 2006-05-31\n",
      "2017-12-31\n",
      "(261, 2) 2006-11-30\n",
      "2017-12-31\n",
      "(261, 2) 2007-12-31\n",
      "2017-12-31\n",
      "(261, 2) 2006-03-31\n",
      "2017-12-31\n",
      "(261, 2) 2004-01-31\n",
      "2017-12-31\n",
      "(261, 2) 2013-10-31\n",
      "2017-12-31\n",
      "(261, 2) 2006-07-31\n",
      "2017-12-31\n",
      "(261, 2) 2005-10-31\n",
      "2017-12-31\n",
      "(261, 2) 2009-06-30\n",
      "2017-07-31\n",
      "(239, 2) 2007-11-30\n",
      "2017-12-31\n",
      "(245, 2) 2007-07-31\n",
      "2017-12-31\n",
      "(261, 2) 2006-05-31\n",
      "2017-12-31\n",
      "(113, 2) 2014-06-30\n"
     ]
    },
    {
     "name": "stderr",
     "output_type": "stream",
     "text": [
      "/Users/arunavgupta/anaconda3/envs/tensorflow/lib/python3.6/site-packages/statsmodels/base/model.py:548: HessianInversionWarning: Inverting hessian failed, no bse or cov_params available\n",
      "  'available', HessianInversionWarning)\n"
     ]
    },
    {
     "name": "stdout",
     "output_type": "stream",
     "text": [
      "2017-12-31\n",
      "(240, 2) 2009-05-31\n",
      "2017-12-31\n",
      "(167, 2) 2009-09-30\n",
      "2017-12-31\n",
      "(261, 2) 2008-06-30\n",
      "2017-12-31\n",
      "(261, 2) 2006-04-30\n",
      "2017-12-31\n",
      "(261, 2) 2005-08-31\n",
      "2017-12-31\n",
      "(261, 2) 2009-11-30\n",
      "2017-12-31\n",
      "(261, 2) 2008-06-30\n",
      "2017-12-31\n",
      "(261, 2) 2009-11-30\n",
      "2017-12-31\n",
      "(261, 2) 2007-06-30\n",
      "2017-12-31\n",
      "(261, 2) 2007-06-30\n",
      "2016-09-30\n",
      "(89, 2) 2010-09-30\n",
      "2015-09-30\n",
      "(261, 2) 2008-02-29\n",
      "2017-12-31\n",
      "(261, 2) 2006-09-30\n",
      "2017-12-31\n",
      "(261, 2) 2005-05-31\n",
      "2017-11-30\n",
      "(261, 2) 2007-11-30\n",
      "2017-12-31\n",
      "(89, 2) 2013-08-31\n",
      "2016-10-31\n",
      "(251, 2) 2013-07-31\n",
      "2017-12-31\n",
      "(261, 2) 2008-02-29\n",
      "2017-12-31\n",
      "(89, 2) 2014-08-31\n"
     ]
    },
    {
     "name": "stderr",
     "output_type": "stream",
     "text": [
      "/Users/arunavgupta/anaconda3/envs/tensorflow/lib/python3.6/site-packages/statsmodels/base/model.py:548: HessianInversionWarning: Inverting hessian failed, no bse or cov_params available\n",
      "  'available', HessianInversionWarning)\n",
      "/Users/arunavgupta/anaconda3/envs/tensorflow/lib/python3.6/site-packages/statsmodels/base/model.py:568: ConvergenceWarning: Maximum Likelihood optimization failed to converge. Check mle_retvals\n",
      "  \"Check mle_retvals\", ConvergenceWarning)\n"
     ]
    },
    {
     "name": "stdout",
     "output_type": "stream",
     "text": [
      "2016-02-29\n",
      "(261, 2) 2005-10-31\n",
      "2017-12-31\n",
      "(261, 2) 2012-05-31\n",
      "2017-12-31\n",
      "(239, 2) 2009-11-30\n",
      "2017-12-31\n",
      "(261, 2) 2007-02-28\n",
      "2017-12-31\n",
      "(261, 2) 2006-10-31\n",
      "2017-12-31\n",
      "(261, 2) 2006-04-30\n",
      "2017-12-31\n",
      "(261, 2) 2006-08-31\n",
      "2017-12-31\n",
      "(261, 2) 2007-11-30\n"
     ]
    },
    {
     "name": "stderr",
     "output_type": "stream",
     "text": [
      "/Users/arunavgupta/anaconda3/envs/tensorflow/lib/python3.6/site-packages/statsmodels/base/model.py:548: HessianInversionWarning: Inverting hessian failed, no bse or cov_params available\n",
      "  'available', HessianInversionWarning)\n",
      "/Users/arunavgupta/anaconda3/envs/tensorflow/lib/python3.6/site-packages/statsmodels/base/model.py:568: ConvergenceWarning: Maximum Likelihood optimization failed to converge. Check mle_retvals\n",
      "  \"Check mle_retvals\", ConvergenceWarning)\n",
      "/Users/arunavgupta/anaconda3/envs/tensorflow/lib/python3.6/site-packages/statsmodels/base/model.py:548: HessianInversionWarning: Inverting hessian failed, no bse or cov_params available\n",
      "  'available', HessianInversionWarning)\n",
      "/Users/arunavgupta/anaconda3/envs/tensorflow/lib/python3.6/site-packages/statsmodels/base/model.py:568: ConvergenceWarning: Maximum Likelihood optimization failed to converge. Check mle_retvals\n",
      "  \"Check mle_retvals\", ConvergenceWarning)\n"
     ]
    },
    {
     "name": "stdout",
     "output_type": "stream",
     "text": [
      "2017-01-31\n",
      "(125, 2) 2009-05-31\n",
      "2017-12-31\n",
      "(261, 2) 2007-12-31\n",
      "2017-12-31\n",
      "(261, 2) 2005-03-31\n",
      "2017-12-31\n",
      "(113, 2) 2013-02-28\n"
     ]
    },
    {
     "name": "stderr",
     "output_type": "stream",
     "text": [
      "/Users/arunavgupta/anaconda3/envs/tensorflow/lib/python3.6/site-packages/statsmodels/base/model.py:548: HessianInversionWarning: Inverting hessian failed, no bse or cov_params available\n",
      "  'available', HessianInversionWarning)\n",
      "/Users/arunavgupta/anaconda3/envs/tensorflow/lib/python3.6/site-packages/statsmodels/base/model.py:568: ConvergenceWarning: Maximum Likelihood optimization failed to converge. Check mle_retvals\n",
      "  \"Check mle_retvals\", ConvergenceWarning)\n"
     ]
    },
    {
     "name": "stdout",
     "output_type": "stream",
     "text": [
      "2017-12-31\n",
      "(261, 2) 2006-04-30\n",
      "2017-12-31\n",
      "(261, 2) 2006-06-30\n",
      "2017-12-31\n",
      "(261, 2) 2007-04-30\n",
      "2017-12-31\n",
      "(239, 2) 2009-07-31\n",
      "2017-12-31\n",
      "(261, 2) 2006-09-30\n",
      "2017-12-31\n",
      "(179, 2) 2008-04-30\n",
      "2017-12-31\n",
      "(261, 2) 2007-04-30\n",
      "2017-12-31\n",
      "(245, 2) 2013-03-31\n",
      "2013-12-31\n",
      "(261, 2) 2008-06-30\n",
      "2017-12-31\n",
      "(261, 2) 2006-02-28\n",
      "2017-12-31\n",
      "(261, 2) 2005-11-30\n",
      "2017-12-31\n",
      "(261, 2) 2006-11-30\n",
      "2017-12-31\n",
      "(261, 2) 2008-03-31\n",
      "2017-12-31\n",
      "(261, 2) 2006-07-31\n",
      "2017-12-31\n",
      "(261, 2) 2006-02-28\n",
      "2017-12-31\n",
      "(47, 2) 2014-03-31\n",
      "2017-12-31\n",
      "(261, 2) 2008-06-30\n",
      "2017-12-31\n",
      "(261, 2) 2013-03-31\n",
      "2017-12-31\n",
      "(261, 2) 2008-06-30\n",
      "2017-12-31\n",
      "(261, 2) 2006-05-31\n",
      "2017-12-31\n",
      "(261, 2) 2014-07-31\n",
      "2014-10-31\n",
      "(261, 2) 2007-06-30\n",
      "2017-12-31\n",
      "(261, 2) 2007-05-31\n",
      "2017-12-31\n",
      "(261, 2) 2014-11-30\n",
      "2015-02-28\n",
      "(261, 2) 2009-04-30\n",
      "2017-12-31\n",
      "(261, 2) 2008-02-29\n",
      "2017-12-31\n",
      "(261, 2) 2014-04-30\n",
      "2014-11-30\n",
      "(261, 2) 2008-05-31\n",
      "2017-12-31\n",
      "(261, 2) 2006-07-31\n",
      "2017-12-31\n",
      "(261, 2) 2008-07-31\n",
      "2017-12-31\n",
      "(261, 2) 2008-07-31\n",
      "2017-12-31\n",
      "(261, 2) 2009-05-31\n",
      "2017-12-31\n",
      "(65, 2) 2013-08-31\n",
      "2016-04-30\n",
      "(261, 2) 2007-02-28\n",
      "2017-12-31\n",
      "(261, 2) 2006-08-31\n",
      "2017-12-31\n",
      "(261, 2) 2014-03-31\n",
      "2016-03-31\n",
      "(261, 2) 2006-12-31\n",
      "2017-12-31\n",
      "(261, 2) 2006-02-28\n",
      "2017-12-31\n",
      "(251, 2) 2008-07-31\n",
      "2017-12-31\n",
      "(261, 2) 2006-05-31\n",
      "2017-12-31\n",
      "(261, 2) 2009-11-30\n",
      "2017-12-31\n",
      "(261, 2) 2007-03-31\n",
      "2017-12-31\n",
      "(261, 2) 2006-02-28\n",
      "2017-12-31\n",
      "(261, 2) 2006-01-31\n",
      "2017-12-31\n",
      "(261, 2) 2012-06-30\n",
      "2017-12-31\n",
      "(261, 2) 2008-02-29\n",
      "2017-12-31\n",
      "(95, 2) 2010-06-30\n",
      "2016-06-30\n",
      "(261, 2) 2014-08-31\n",
      "2015-04-30\n",
      "(261, 2) 2008-02-29\n",
      "2017-12-31\n",
      "(94, 2) 2014-09-30\n",
      "(261, 2) 2006-05-31\n"
     ]
    },
    {
     "name": "stderr",
     "output_type": "stream",
     "text": [
      "/Users/arunavgupta/anaconda3/envs/tensorflow/lib/python3.6/site-packages/statsmodels/base/model.py:548: HessianInversionWarning: Inverting hessian failed, no bse or cov_params available\n",
      "  'available', HessianInversionWarning)\n"
     ]
    },
    {
     "name": "stdout",
     "output_type": "stream",
     "text": [
      "2017-12-31\n",
      "(251, 2) 2008-07-31\n",
      "2017-12-31\n",
      "(261, 2) 2005-11-30\n",
      "2017-12-31\n",
      "(261, 2) 2006-09-30\n",
      "2017-12-31\n",
      "(261, 2) 2006-04-30\n",
      "2017-12-31\n",
      "(261, 2) 2008-02-29\n",
      "2017-12-31\n",
      "(261, 2) 2007-12-31\n",
      "2017-12-31\n",
      "(125, 2) 2009-02-28\n",
      "2017-12-31\n",
      "(261, 2)"
     ]
    },
    {
     "name": "stderr",
     "output_type": "stream",
     "text": [
      "/Users/arunavgupta/anaconda3/envs/tensorflow/lib/python3.6/site-packages/statsmodels/base/model.py:548: HessianInversionWarning: Inverting hessian failed, no bse or cov_params available\n",
      "  'available', HessianInversionWarning)\n",
      "/Users/arunavgupta/anaconda3/envs/tensorflow/lib/python3.6/site-packages/statsmodels/base/model.py:568: ConvergenceWarning: Maximum Likelihood optimization failed to converge. Check mle_retvals\n",
      "  \"Check mle_retvals\", ConvergenceWarning)\n"
     ]
    },
    {
     "name": "stdout",
     "output_type": "stream",
     "text": [
      " 2014-09-30\n",
      "2015-04-30\n",
      "(261, 2) 2007-12-31\n",
      "2017-12-31\n",
      "(261, 2) 2008-02-29\n",
      "2017-02-28\n",
      "(261, 2) 2014-11-30\n",
      "2017-12-31\n",
      "(261, 2) 2006-11-30\n",
      "2017-12-31\n",
      "(261, 2) 2008-06-30\n"
     ]
    },
    {
     "name": "stderr",
     "output_type": "stream",
     "text": [
      "/Users/arunavgupta/anaconda3/envs/tensorflow/lib/python3.6/site-packages/statsmodels/base/model.py:548: HessianInversionWarning: Inverting hessian failed, no bse or cov_params available\n",
      "  'available', HessianInversionWarning)\n",
      "/Users/arunavgupta/anaconda3/envs/tensorflow/lib/python3.6/site-packages/statsmodels/base/model.py:568: ConvergenceWarning: Maximum Likelihood optimization failed to converge. Check mle_retvals\n",
      "  \"Check mle_retvals\", ConvergenceWarning)\n"
     ]
    },
    {
     "name": "stdout",
     "output_type": "stream",
     "text": [
      "2017-04-30\n",
      "(261, 2) 2005-06-30\n",
      "2017-12-31\n",
      "(261, 2) 2007-12-31\n",
      "2017-12-31\n",
      "(261, 2) 2006-04-30\n",
      "2017-12-31\n",
      "(261, 2) 2006-06-30\n",
      "2017-12-31\n",
      "(261, 2) 2007-07-31\n",
      "2017-12-31\n",
      "(261, 2) 2006-03-31\n",
      "2017-12-31\n",
      "(261, 2) 2006-04-30\n"
     ]
    },
    {
     "name": "stderr",
     "output_type": "stream",
     "text": [
      "/Users/arunavgupta/anaconda3/envs/tensorflow/lib/python3.6/site-packages/statsmodels/base/model.py:548: HessianInversionWarning: Inverting hessian failed, no bse or cov_params available\n",
      "  'available', HessianInversionWarning)\n",
      "/Users/arunavgupta/anaconda3/envs/tensorflow/lib/python3.6/site-packages/statsmodels/base/model.py:568: ConvergenceWarning: Maximum Likelihood optimization failed to converge. Check mle_retvals\n",
      "  \"Check mle_retvals\", ConvergenceWarning)\n"
     ]
    },
    {
     "name": "stdout",
     "output_type": "stream",
     "text": [
      "2017-12-31\n",
      "(261, 2) 2008-02-29\n",
      "2017-12-31\n",
      "(261, 2) 2007-03-31\n",
      "2017-12-31\n",
      "(245, 2) 2006-11-30\n",
      "2017-12-31\n",
      "(261, 2) 2005-10-31\n",
      "2017-12-31\n",
      "(261, 2) 2008-02-29\n",
      "2017-04-30\n",
      "(261, 2) 2007-08-31\n",
      "2017-12-31\n",
      "(261, 2) 2006-04-30\n",
      "2017-12-31\n",
      "(261, 2) 2007-04-30\n",
      "2017-12-31\n",
      "(261, 2) 2007-08-31\n",
      "2017-12-31\n",
      "(261, 2) 2007-12-31\n",
      "2017-12-31\n",
      "(261, 2) 2008-05-31\n",
      "2015-10-31\n",
      "(261, 2) 2014-09-30\n",
      "2016-01-31\n",
      "(261, 2) 2007-06-30\n",
      "2017-12-31\n",
      "(261, 2) 2005-10-31\n",
      "2017-12-31\n",
      "(261, 2) 2006-04-30\n"
     ]
    },
    {
     "name": "stderr",
     "output_type": "stream",
     "text": [
      "/Users/arunavgupta/anaconda3/envs/tensorflow/lib/python3.6/site-packages/statsmodels/base/model.py:548: HessianInversionWarning: Inverting hessian failed, no bse or cov_params available\n",
      "  'available', HessianInversionWarning)\n",
      "/Users/arunavgupta/anaconda3/envs/tensorflow/lib/python3.6/site-packages/statsmodels/base/model.py:568: ConvergenceWarning: Maximum Likelihood optimization failed to converge. Check mle_retvals\n",
      "  \"Check mle_retvals\", ConvergenceWarning)\n"
     ]
    },
    {
     "name": "stdout",
     "output_type": "stream",
     "text": [
      "2017-12-31\n",
      "(261, 2) 2006-07-31\n",
      "2017-12-31\n",
      "(261, 2) 2006-03-31\n",
      "2017-12-31\n",
      "(261, 2) 2009-06-30\n",
      "2017-08-31\n",
      "(261, 2) 2005-03-31\n",
      "2017-12-31\n",
      "(261, 2) 2007-09-30\n",
      "2017-12-31\n",
      "(227, 2) 2006-09-30\n",
      "2017-12-31\n",
      "(261, 2) 2014-09-30\n",
      "2016-01-31\n",
      "(261, 2) 2006-07-31\n",
      "2017-12-31\n",
      "(261, 2) 2006-03-31\n",
      "2017-12-31\n",
      "(261, 2) 2008-04-30\n"
     ]
    },
    {
     "name": "stderr",
     "output_type": "stream",
     "text": [
      "/Users/arunavgupta/anaconda3/envs/tensorflow/lib/python3.6/site-packages/statsmodels/base/model.py:548: HessianInversionWarning: Inverting hessian failed, no bse or cov_params available\n",
      "  'available', HessianInversionWarning)\n",
      "/Users/arunavgupta/anaconda3/envs/tensorflow/lib/python3.6/site-packages/statsmodels/base/model.py:568: ConvergenceWarning: Maximum Likelihood optimization failed to converge. Check mle_retvals\n",
      "  \"Check mle_retvals\", ConvergenceWarning)\n"
     ]
    },
    {
     "name": "stdout",
     "output_type": "stream",
     "text": [
      "2017-12-31\n",
      "(261, 2) 2007-05-31\n",
      "2017-12-31\n",
      "(261, 2) 2006-04-30\n",
      "2017-12-31\n",
      "(261, 2) 2014-11-30\n",
      "2015-05-31\n",
      "(251, 2) 2008-01-31\n",
      "2017-12-31\n",
      "(261, 2) 2008-07-31\n",
      "2017-12-31\n",
      "(261, 2) 2007-12-31\n"
     ]
    },
    {
     "name": "stderr",
     "output_type": "stream",
     "text": [
      "/Users/arunavgupta/anaconda3/envs/tensorflow/lib/python3.6/site-packages/statsmodels/base/model.py:548: HessianInversionWarning: Inverting hessian failed, no bse or cov_params available\n",
      "  'available', HessianInversionWarning)\n",
      "/Users/arunavgupta/anaconda3/envs/tensorflow/lib/python3.6/site-packages/statsmodels/base/model.py:568: ConvergenceWarning: Maximum Likelihood optimization failed to converge. Check mle_retvals\n",
      "  \"Check mle_retvals\", ConvergenceWarning)\n"
     ]
    },
    {
     "name": "stdout",
     "output_type": "stream",
     "text": [
      "2017-12-31\n",
      "(261, 2) 2007-10-31\n",
      "2017-12-31\n",
      "(261, 2) 2011-01-31\n",
      "2017-12-31\n",
      "(239, 2) 2014-06-30\n",
      "2016-05-31\n",
      "(172, 2) 2005-06-30\n",
      "2017-12-31\n",
      "(261, 2) 2005-12-31\n",
      "2017-12-31\n",
      "(261, 2) 2008-07-31\n",
      "2017-12-31\n",
      "(261, 2) 2005-03-31\n",
      "2017-12-31\n",
      "(261, 2) 2007-01-31\n",
      "2017-12-31\n",
      "(261, 2) 2007-03-31\n",
      "2017-12-31\n",
      "(261, 2) 2007-05-31\n",
      "2017-12-31\n",
      "(261, 2) 2008-05-31\n",
      "2017-12-31\n",
      "(261, 2) 2006-01-31\n",
      "2017-12-31\n",
      "(261, 2) 2007-08-31\n",
      "2017-12-31\n",
      "(113, 2) 2010-02-28\n",
      "2017-06-30\n",
      "(261, 2) 2006-04-30\n",
      "2017-12-31\n",
      "(261, 2) 2006-04-30\n",
      "2017-12-31\n",
      "(261, 2) 2008-01-31\n",
      "2017-12-31\n",
      "(95, 2) 2014-11-30\n",
      "2017-12-31\n",
      "(94, 2)"
     ]
    },
    {
     "name": "stderr",
     "output_type": "stream",
     "text": [
      "/Users/arunavgupta/anaconda3/envs/tensorflow/lib/python3.6/site-packages/statsmodels/base/model.py:548: HessianInversionWarning: Inverting hessian failed, no bse or cov_params available\n",
      "  'available', HessianInversionWarning)\n",
      "/Users/arunavgupta/anaconda3/envs/tensorflow/lib/python3.6/site-packages/statsmodels/base/model.py:568: ConvergenceWarning: Maximum Likelihood optimization failed to converge. Check mle_retvals\n",
      "  \"Check mle_retvals\", ConvergenceWarning)\n"
     ]
    },
    {
     "name": "stdout",
     "output_type": "stream",
     "text": [
      " 2011-03-31\n",
      "2013-01-31\n",
      "(261, 2) 2006-04-30\n",
      "2017-12-31\n",
      "(261, 2) 2007-05-31\n",
      "2017-12-31\n",
      "(261, 2) 2005-03-31\n",
      "2017-12-31\n",
      "(261, 2) 2009-08-31\n",
      "2017-12-31\n",
      "(261, 2) 2006-02-28\n",
      "2017-12-31\n",
      "(261, 2) 2007-04-30\n",
      "2017-12-31\n",
      "(261, 2) 2006-04-30\n",
      "2017-12-31\n",
      "(261, 2)"
     ]
    },
    {
     "name": "stderr",
     "output_type": "stream",
     "text": [
      "/Users/arunavgupta/anaconda3/envs/tensorflow/lib/python3.6/site-packages/statsmodels/base/model.py:548: HessianInversionWarning: Inverting hessian failed, no bse or cov_params available\n",
      "  'available', HessianInversionWarning)\n"
     ]
    },
    {
     "name": "stdout",
     "output_type": "stream",
     "text": [
      " 2006-03-31\n",
      "2017-12-31\n",
      "(261, 2) 2009-06-30\n",
      "2017-12-31\n",
      "(261, 2) 2006-01-31\n",
      "2017-12-31\n",
      "(261, 2) 2006-04-30\n",
      "2017-12-31\n",
      "(261, 2) 2007-05-31\n",
      "2017-12-31\n",
      "(89, 2) 2013-11-30\n",
      "2017-12-31\n",
      "(261, 2) 2007-08-31\n",
      "2017-12-31\n",
      "(261, 2) 2014-06-30\n",
      "2017-12-31\n",
      "(261, 2) 2007-08-31\n",
      "2017-12-31\n",
      "(261, 2) 2006-04-30\n",
      "2017-12-31\n",
      "(261, 2) 2006-07-31\n",
      "2017-12-31\n",
      "(261, 2) 2010-05-31\n",
      "2017-12-31\n",
      "(155, 2) 2009-06-30\n",
      "2017-12-31\n",
      "(261, 2) 2012-06-30\n",
      "2017-07-31\n",
      "(261, 2) 2007-04-30\n",
      "2017-12-31\n",
      "(261, 2) 2005-09-30\n"
     ]
    },
    {
     "name": "stderr",
     "output_type": "stream",
     "text": [
      "/Users/arunavgupta/anaconda3/envs/tensorflow/lib/python3.6/site-packages/statsmodels/base/model.py:548: HessianInversionWarning: Inverting hessian failed, no bse or cov_params available\n",
      "  'available', HessianInversionWarning)\n",
      "/Users/arunavgupta/anaconda3/envs/tensorflow/lib/python3.6/site-packages/statsmodels/base/model.py:568: ConvergenceWarning: Maximum Likelihood optimization failed to converge. Check mle_retvals\n",
      "  \"Check mle_retvals\", ConvergenceWarning)\n"
     ]
    },
    {
     "name": "stdout",
     "output_type": "stream",
     "text": [
      "2017-12-31\n",
      "(261, 2) 2008-05-31\n",
      "2017-12-31\n",
      "(89, 2) 2011-08-31\n",
      "2015-05-31\n",
      "(261, 2) 2008-01-31\n",
      "2017-12-31\n",
      "(251, 2) 2007-11-30\n",
      "2017-12-31\n",
      "(261, 2) 2007-09-30\n"
     ]
    },
    {
     "name": "stderr",
     "output_type": "stream",
     "text": [
      "/Users/arunavgupta/anaconda3/envs/tensorflow/lib/python3.6/site-packages/statsmodels/base/model.py:548: HessianInversionWarning: Inverting hessian failed, no bse or cov_params available\n",
      "  'available', HessianInversionWarning)\n",
      "/Users/arunavgupta/anaconda3/envs/tensorflow/lib/python3.6/site-packages/statsmodels/base/model.py:568: ConvergenceWarning: Maximum Likelihood optimization failed to converge. Check mle_retvals\n",
      "  \"Check mle_retvals\", ConvergenceWarning)\n"
     ]
    },
    {
     "name": "stdout",
     "output_type": "stream",
     "text": [
      "2017-12-31\n",
      "(261, 2) 2008-03-31\n",
      "2017-12-31\n",
      "(118, 2) 2008-12-31\n",
      "2016-10-31\n",
      "(261, 2) 2007-02-28\n",
      "2017-12-31\n",
      "(131, 2) 2012-11-30\n",
      "2017-02-28\n",
      "(261, 2) 2006-07-31\n",
      "2017-12-31\n",
      "(261, 2) 2006-12-31\n",
      "2017-12-31\n",
      "(94, 2) 2010-11-30\n",
      "2017-12-31\n",
      "(149, 2) 2009-11-30\n",
      "2017-12-31\n",
      "(119, 2) 2008-03-31\n",
      "2015-02-28\n",
      "(260, 2) 2014-10-31\n",
      "2015-03-31\n",
      "(261, 2) 2008-08-31\n",
      "2017-12-31\n",
      "(261, 2) 2009-05-31\n",
      "2017-12-31\n",
      "(261, 2) 2007-09-30\n",
      "2017-12-31\n",
      "(261, 2) 2007-04-30\n",
      "2017-12-31\n",
      "(245, 2) 2009-11-30\n",
      "2017-12-31\n",
      "(261, 2) 2007-10-31\n",
      "2017-12-31\n",
      "(261, 2) 2014-03-31\n",
      "2017-12-31\n",
      "(261, 2) 2006-08-31\n",
      "2017-12-31\n",
      "(261, 2) 2009-05-31\n",
      "2017-12-31\n",
      "(261, 2) 2006-11-30\n",
      "2017-12-31\n",
      "(221, 2) 2014-04-30\n",
      "2017-02-28\n",
      "(261, 2) 2013-09-30\n",
      "2017-12-31\n",
      "(261, 2) 2009-07-31\n",
      "2017-12-31\n",
      "(261, 2) 2008-03-31\n",
      "2017-12-31\n",
      "(251, 2) 2008-02-29\n",
      "2017-12-31\n",
      "(261, 2) 2014-05-31\n",
      "2014-10-31\n",
      "(251, 2) 2001-04-30\n"
     ]
    },
    {
     "name": "stderr",
     "output_type": "stream",
     "text": [
      "/Users/arunavgupta/anaconda3/envs/tensorflow/lib/python3.6/site-packages/statsmodels/base/model.py:548: HessianInversionWarning: Inverting hessian failed, no bse or cov_params available\n",
      "  'available', HessianInversionWarning)\n"
     ]
    },
    {
     "name": "stdout",
     "output_type": "stream",
     "text": [
      "2017-12-31\n",
      "(261, 2) 2009-08-31\n",
      "2017-12-31\n",
      "(261, 2) 2010-02-28\n",
      "2017-12-31\n",
      "(261, 2) 2006-04-30\n",
      "2017-12-31\n",
      "(261, 2) 2007-02-28\n",
      "2017-12-31\n",
      "(239, 2) 2007-09-30\n"
     ]
    },
    {
     "name": "stderr",
     "output_type": "stream",
     "text": [
      "/Users/arunavgupta/anaconda3/envs/tensorflow/lib/python3.6/site-packages/statsmodels/base/model.py:548: HessianInversionWarning: Inverting hessian failed, no bse or cov_params available\n",
      "  'available', HessianInversionWarning)\n"
     ]
    },
    {
     "name": "stdout",
     "output_type": "stream",
     "text": [
      "2017-12-31\n",
      "(173, 2) 2006-02-28\n",
      "2017-12-31\n",
      "(89, 2) 2011-10-31\n",
      "2017-12-31\n",
      "(173, 2) 2008-05-31\n",
      "2017-12-31\n",
      "(261, 2) 2005-12-31\n",
      "2017-12-31\n",
      "(251, 2) 2007-11-30\n",
      "2017-12-31\n",
      "(261, 2) 2010-02-28\n",
      "2017-12-31\n",
      "(261, 2) 2010-11-30\n",
      "2017-12-31\n",
      "(261, 2) 2006-08-31\n"
     ]
    },
    {
     "name": "stderr",
     "output_type": "stream",
     "text": [
      "/Users/arunavgupta/anaconda3/envs/tensorflow/lib/python3.6/site-packages/statsmodels/base/model.py:548: HessianInversionWarning: Inverting hessian failed, no bse or cov_params available\n",
      "  'available', HessianInversionWarning)\n",
      "/Users/arunavgupta/anaconda3/envs/tensorflow/lib/python3.6/site-packages/statsmodels/base/model.py:568: ConvergenceWarning: Maximum Likelihood optimization failed to converge. Check mle_retvals\n",
      "  \"Check mle_retvals\", ConvergenceWarning)\n"
     ]
    },
    {
     "name": "stdout",
     "output_type": "stream",
     "text": [
      "2017-12-31\n",
      "(261, 2) 2006-07-31\n"
     ]
    },
    {
     "name": "stderr",
     "output_type": "stream",
     "text": [
      "/Users/arunavgupta/anaconda3/envs/tensorflow/lib/python3.6/site-packages/statsmodels/base/model.py:548: HessianInversionWarning: Inverting hessian failed, no bse or cov_params available\n",
      "  'available', HessianInversionWarning)\n",
      "/Users/arunavgupta/anaconda3/envs/tensorflow/lib/python3.6/site-packages/statsmodels/base/model.py:568: ConvergenceWarning: Maximum Likelihood optimization failed to converge. Check mle_retvals\n",
      "  \"Check mle_retvals\", ConvergenceWarning)\n"
     ]
    },
    {
     "name": "stdout",
     "output_type": "stream",
     "text": [
      "2017-12-31\n",
      "(261, 2) 2009-08-31\n",
      "2017-12-31\n",
      "(261, 2) 2005-01-31\n",
      "2017-12-31\n",
      "(261, 2) 2009-05-31\n",
      "2017-12-31\n",
      "(261, 2) 2007-02-28\n",
      "2017-12-31\n",
      "(261, 2) 2007-01-31\n",
      "2017-12-31\n",
      "(261, 2) 2006-05-31\n",
      "2017-12-31\n",
      "(251, 2) 2009-02-28\n",
      "2017-12-31\n",
      "(89, 2) 2014-09-30\n",
      "2015-12-31\n",
      "(261, 2) 2009-02-28\n",
      "2017-12-31\n",
      "(261, 2) 2006-07-31\n",
      "2017-12-31\n",
      "(113, 2) 2008-10-31\n",
      "2017-12-31\n",
      "(261, 2) 2006-11-30\n",
      "2017-12-31\n",
      "(261, 2) 2006-06-30\n",
      "2017-12-31\n",
      "(261, 2) 2006-03-31\n",
      "2017-12-31\n",
      "(261, 2) 2006-05-31\n"
     ]
    },
    {
     "name": "stderr",
     "output_type": "stream",
     "text": [
      "/Users/arunavgupta/anaconda3/envs/tensorflow/lib/python3.6/site-packages/statsmodels/base/model.py:548: HessianInversionWarning: Inverting hessian failed, no bse or cov_params available\n",
      "  'available', HessianInversionWarning)\n"
     ]
    },
    {
     "name": "stdout",
     "output_type": "stream",
     "text": [
      "2017-12-31\n",
      "(261, 2) 2009-02-28\n",
      "2017-12-31\n",
      "(261, 2) 2010-11-30\n",
      "2017-12-31\n",
      "(261, 2) 2010-02-28\n",
      "2017-12-31\n",
      "(261, 2) 2007-03-31\n",
      "2017-12-31\n",
      "(137, 2) 2007-12-31\n",
      "2017-12-31\n",
      "(261, 2) 2006-12-31\n",
      "2017-12-31\n",
      "(261, 2) 2002-06-30\n",
      "2017-12-31\n",
      "(261, 2) 2004-10-31\n",
      "2017-12-31\n",
      "(261, 2) 2007-09-30\n",
      "2017-12-31\n",
      "(261, 2) 2013-12-31\n",
      "2016-07-31\n",
      "(113, 2) 2009-11-30\n",
      "2017-01-31\n",
      "(261, 2) 2008-03-31\n",
      "2017-12-31\n",
      "(261, 2) 2006-04-30\n",
      "2017-12-31\n",
      "(251, 2) 2007-08-31\n",
      "2017-12-31\n",
      "(261, 2) 1996-05-31\n",
      "2017-12-31\n",
      "(261, 2) 2010-05-31\n"
     ]
    },
    {
     "name": "stderr",
     "output_type": "stream",
     "text": [
      "/Users/arunavgupta/anaconda3/envs/tensorflow/lib/python3.6/site-packages/statsmodels/base/model.py:548: HessianInversionWarning: Inverting hessian failed, no bse or cov_params available\n",
      "  'available', HessianInversionWarning)\n",
      "/Users/arunavgupta/anaconda3/envs/tensorflow/lib/python3.6/site-packages/statsmodels/base/model.py:568: ConvergenceWarning: Maximum Likelihood optimization failed to converge. Check mle_retvals\n",
      "  \"Check mle_retvals\", ConvergenceWarning)\n"
     ]
    },
    {
     "name": "stdout",
     "output_type": "stream",
     "text": [
      "2017-12-31\n",
      "(261, 2) 2009-02-28\n",
      "2017-12-31\n",
      "(261, 2) 2005-11-30\n",
      "2017-12-31\n",
      "(261, 2) 2007-08-31\n",
      "2017-12-31\n",
      "(261, 2) 2006-08-31\n",
      "2017-12-31\n",
      "(261, 2) 2007-07-31\n",
      "2017-12-31\n",
      "(261, 2) 2006-07-31\n",
      "2017-12-31\n",
      "(261, 2) 2006-02-28\n",
      "2017-12-31\n",
      "(261, 2) 2008-05-31\n",
      "2017-12-31\n",
      "(261, 2) 2007-03-31\n",
      "2017-12-31\n",
      "(261, 2) 2007-07-31\n",
      "2017-12-31\n",
      "(53, 2) 2014-07-31\n",
      "2016-05-31\n",
      "(261, 2) 2013-08-31\n",
      "2017-12-31\n",
      "(261, 2) 2005-02-28\n",
      "2017-12-31\n",
      "(261, 2) 2006-04-30\n"
     ]
    },
    {
     "name": "stderr",
     "output_type": "stream",
     "text": [
      "/Users/arunavgupta/anaconda3/envs/tensorflow/lib/python3.6/site-packages/statsmodels/base/model.py:548: HessianInversionWarning: Inverting hessian failed, no bse or cov_params available\n",
      "  'available', HessianInversionWarning)\n"
     ]
    },
    {
     "name": "stdout",
     "output_type": "stream",
     "text": [
      "2017-12-31\n",
      "(261, 2) 2007-07-31\n",
      "2017-12-31\n",
      "(261, 2) 2014-11-30\n",
      "2017-12-31\n",
      "(261, 2) 2007-05-31\n",
      "2017-12-31\n",
      "(261, 2) 2011-08-31\n",
      "2017-12-31\n",
      "(245, 2) 2009-02-28\n",
      "2017-12-31\n",
      "(261, 2) 2007-06-30\n",
      "2017-12-31\n",
      "(261, 2) 2008-07-31\n",
      "2017-12-31\n",
      "(261, 2) 2014-03-31\n",
      "2015-03-31\n",
      "(261, 2) 2005-07-31\n",
      "2017-12-31\n",
      "(251, 2) 2009-06-30\n",
      "2017-12-31\n",
      "(261, 2) 1997-03-31\n",
      "2017-12-31\n",
      "(261, 2) 2009-09-30\n",
      "2017-12-31\n",
      "(261, 2) 2007-07-31\n",
      "2017-12-31\n",
      "(261, 2) 2012-07-31\n",
      "2017-12-31\n",
      "(261, 2) 2008-04-30\n",
      "2017-12-31\n",
      "(261, 2) 2007-02-28\n",
      "2017-12-31\n",
      "(261, 2) 2008-06-30\n",
      "2017-12-31\n",
      "(261, 2) 2006-05-31\n",
      "2017-12-31\n",
      "(261, 2) 2013-10-31\n",
      "2017-11-30\n",
      "(261, 2) 2008-03-31\n",
      "2017-12-31\n",
      "(261, 2) 2008-05-31\n",
      "2017-12-31\n",
      "(261, 2) 2009-05-31\n",
      "2017-12-31\n",
      "(89, 2) 2012-09-30\n"
     ]
    },
    {
     "name": "stderr",
     "output_type": "stream",
     "text": [
      "/Users/arunavgupta/anaconda3/envs/tensorflow/lib/python3.6/site-packages/statsmodels/base/model.py:548: HessianInversionWarning: Inverting hessian failed, no bse or cov_params available\n",
      "  'available', HessianInversionWarning)\n"
     ]
    },
    {
     "name": "stdout",
     "output_type": "stream",
     "text": [
      "2016-11-30\n",
      "(261, 2) 2005-05-31\n",
      "2017-12-31\n",
      "(261, 2) 2006-01-31\n",
      "2017-12-31\n",
      "(261, 2) 2008-07-31\n",
      "2017-04-30\n",
      "(261, 2) 2006-04-30\n",
      "2015-12-31\n",
      "(261, 2) 2007-08-31\n",
      "2017-12-31\n",
      "(261, 2) 2006-04-30\n",
      "2017-12-31\n",
      "(261, 2) 2006-01-31\n",
      "2017-12-31\n",
      "(261, 2) 2006-09-30\n",
      "2017-12-31\n",
      "(261, 2) 2010-05-31\n",
      "2017-12-31\n",
      "(215, 2) 2002-09-30\n",
      "2007-07-31\n",
      "(261, 2) 2007-04-30\n",
      "2017-12-31\n"
     ]
    }
   ],
   "source": [
    "AU3_output = list(map(find_AU3, metro))"
   ]
  },
  {
   "cell_type": "code",
   "execution_count": 31,
   "metadata": {
    "scrolled": true
   },
   "outputs": [
    {
     "data": {
      "text/plain": [
       "['11180',\n",
       " '11380',\n",
       " '11680',\n",
       " '12420',\n",
       " '13700',\n",
       " '13940',\n",
       " '14700',\n",
       " '14780',\n",
       " '15020',\n",
       " '16060',\n",
       " '16180',\n",
       " '16260',\n",
       " '17200',\n",
       " '17740',\n",
       " '18020',\n",
       " '18900',\n",
       " '19860',\n",
       " '20180',\n",
       " '20380',\n",
       " '20580',\n",
       " '21420',\n",
       " '21540',\n",
       " '21740',\n",
       " '22100',\n",
       " '24460',\n",
       " '24780',\n",
       " '25200',\n",
       " '25700',\n",
       " '26420',\n",
       " '26740',\n",
       " '26900',\n",
       " '27420',\n",
       " '27620',\n",
       " '27920',\n",
       " '28260',\n",
       " '28780',\n",
       " '29500',\n",
       " '29660',\n",
       " '30060',\n",
       " '30580',\n",
       " '31740',\n",
       " '32020',\n",
       " '32700',\n",
       " '32860',\n",
       " '34140',\n",
       " '34180',\n",
       " '35840',\n",
       " '36220',\n",
       " '36840',\n",
       " '37580',\n",
       " '39340',\n",
       " '39500',\n",
       " '40180',\n",
       " '41460',\n",
       " '41700',\n",
       " '41760',\n",
       " '43060',\n",
       " '43260',\n",
       " '43460',\n",
       " '43580',\n",
       " '43940',\n",
       " '44900',\n",
       " '44940',\n",
       " '45820',\n",
       " '46300',\n",
       " '46620',\n",
       " '46860',\n",
       " '47660',\n",
       " '48460']"
      ]
     },
     "execution_count": 31,
     "metadata": {},
     "output_type": "execute_result"
    }
   ],
   "source": [
    "failed_cities"
   ]
  },
  {
   "cell_type": "code",
   "execution_count": 53,
   "metadata": {},
   "outputs": [
    {
     "data": {
      "text/plain": [
       "(18.62794979176254, 5.781025479804635)"
      ]
     },
     "execution_count": 53,
     "metadata": {},
     "output_type": "execute_result"
    },
    {
     "data": {
      "image/png": "[encoded data removed]",
      "text/plain": [
       "<Figure size 432x288 with 1 Axes>"
      ]
     },
     "metadata": {
      "needs_background": "light"
     },
     "output_type": "display_data"
    }
   ],
   "source": [
    "adjusted_outputs = [np.log(i) for i in np.abs(AU3_output) if i > 0]\n",
    "plt.hist(adjusted_outputs)\n",
    "max(adjusted_outputs), min(adjusted_outputs)"
   ]
  },
  {
   "cell_type": "markdown",
   "metadata": {},
   "source": [
    "## Everything below this cell is experimental/debugging"
   ]
  },
  {
   "cell_type": "code",
   "execution_count": null,
   "metadata": {},
   "outputs": [],
   "source": [
    "# RANDOM STUFF DELETE LATER\n",
    "\n",
    "from statsmodels.tsa.arima_model import ARIMA\n",
    "city1.tail()\n",
    "before = city1[['Date', 'ZHVI_AllHomes']][city1['Date'] < '2017-08-31'].set_index(['Date'])['ZHVI_AllHomes']\n",
    "model = ARIMA(endog=np.array(before, dtype=np.float), order=(5, 1, 1))\n",
    "model_fit = model.fit(disp=0)\n",
    "#np.array(before, dtype=np.float)[0]\n",
    "#city1['dt'] = city1\n",
    "#np.array(city1['Date'], dtype='datetime64')\n",
    "model_fit.predict(before.shape[0], city1.shape[0])"
   ]
  },
  {
   "cell_type": "code",
   "execution_count": null,
   "metadata": {},
   "outputs": [],
   "source": [
    "city1 = city1[city1['Date'] < \"2012\"]\n",
    "d = lambda i: city1['ZHVI_AllHomes'].iloc[i] - city1['ZHVI_AllHomes'].iloc[i-1]\n",
    "diffs = np.array([d(i) for i in range(1, len(city1))])\n",
    "# reshape dataframe to include diffs\n",
    "city1 = city1.iloc[1:]\n",
    "city1['Diffs'] = diffs\n",
    "city1['Diffs']\n",
    "# find local maxes using diffs\n",
    "is_max = np.array([(city1['Diffs'].iloc[i] >= 0) and (city1['Diffs'].iloc[i+1] <= 0) for i in range(len(city1) - 1)])\n",
    "is_max = np.append(is_max, False)\n",
    "\n",
    "# check for presence of local maxes at all\n",
    "if np.count_nonzero(is_max) == 0:\n",
    "    print(0)\n",
    "# add 'is_maximum' truth column to dataframe\n",
    "city1['Max'] = is_max\n",
    "# filter and find largest max\n",
    "theMax = city1[city1['Max'] == 1.0].sort_values(\"ZHVI_AllHomes\", ascending=False).iloc[0]\n",
    "start_date = theMax['Date']\n",
    "start_date"
   ]
  },
  {
   "cell_type": "code",
   "execution_count": null,
   "metadata": {},
   "outputs": [],
   "source": []
  }
 ],
 "metadata": {
  "kernelspec": {
   "display_name": "Python 3",
   "language": "python",
   "name": "python3"
  },
  "language_info": {
   "codemirror_mode": {
    "name": "ipython",
    "version": 3
   },
   "file_extension": ".py",
   "mimetype": "text/x-python",
   "name": "python",
   "nbconvert_exporter": "python",
   "pygments_lexer": "ipython3",
   "version": "3.6.7"
  }
 },
 "nbformat": 4,
 "nbformat_minor": 4
}
