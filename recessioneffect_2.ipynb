{
 "cells": [
  {
   "cell_type": "code",
   "execution_count": 1,
   "metadata": {},
   "outputs": [],
   "source": [
    "import pandas as pd\n",
    "import numpy as np\n",
    "from tqdm import tqdm\n",
    "import matplotlib.pyplot as plt\n",
    "from sklearn.preprocessing import normalize\n",
    "%matplotlib inline\n",
    "plt.style.use(\"seaborn\")\n",
    "import datetime\n",
    "from pandas.plotting import register_matplotlib_converters\n",
    "register_matplotlib_converters()\n",
    "\n",
    "from scipy.signal import argrelextrema"
   ]
  },
  {
   "cell_type": "markdown",
   "metadata": {},
   "source": [
    "### TODO\n",
    "- Efficient\n",
    "- clean\n",
    "    - document\n",
    "- extend residuals/predicted so can predict any date, not start and residuals divide by zero-padded array\n"
   ]
  },
  {
   "cell_type": "code",
   "execution_count": 2,
   "metadata": {},
   "outputs": [],
   "source": [
    "data = pd.read_csv(\"./datasets/Metro_time_series.csv\")"
   ]
  },
  {
   "cell_type": "code",
   "execution_count": 3,
   "metadata": {
    "scrolled": true
   },
   "outputs": [
    {
     "output_type": "stream",
     "name": "stderr",
     "text": "100%|██████████| 730/730 [00:27<00:00, 26.64it/s]\n"
    },
    {
     "output_type": "execute_result",
     "data": {
      "text/plain": "   47700       143000.0\n 211139  2017-12-31     47700       144100.0\n \n [261 rows x 3 columns],\n               Date CBSA_Code  ZHVI_AllHomes\n 650     1996-04-30     47780        61300.0\n 1337    1996-05-31     47780        61900.0\n 2025    1996-06-30     47780        61500.0\n 2714    1996-07-31     47780        60400.0\n 3403    1996-08-31     47780        60000.0\n ...            ...       ...            ...\n 207496  2017-08-31     47780       114000.0\n 208407  2017-09-30     47780       114200.0\n 209318  2017-10-31     47780       114400.0\n 210229  2017-11-30     47780       114200.0\n 211140  2017-12-31     47780       113800.0\n \n [261 rows x 3 columns],\n               Date CBSA_Code  ZHVI_AllHomes\n 651     1996-04-30     47900       154200.0\n 1338    1996-05-31     47900       154200.0\n 2026    1996-06-30     47900       154400.0\n 2715    1996-07-31     47900       154500.0\n 3404    1996-08-31     47900       154200.0\n ...            ...       ...            ...\n 207498  2017-08-31     47900       383300.0\n 208409  2017-09-30     47900       384800.0\n 209320  2017-10-31     47900       385400.0\n 210231  2017-11-30     47900       385500.0\n 211142  2017-12-31     47900       385500.0\n \n [261 rows x 3 columns],\n               Date CBSA_Code  ZHVI_AllHomes\n 652     1996-04-30     47920        57600.0\n 1339    1996-05-31     47920        58400.0\n 2027    1996-06-30     47920        59000.0\n 2716    1996-07-31     47920        59900.0\n 3405    1996-08-31     47920        60700.0\n ...            ...       ...            ...\n 207499  2017-08-31     47920       113000.0\n 208410  2017-09-30     47920       113200.0\n 209321  2017-10-31     47920       113000.0\n 210232  2017-11-30     47920       112200.0\n 211143  2017-12-31     47920       111400.0\n \n [261 rows x 3 columns],\n               Date CBSA_Code  ZHVI_AllHomes\n 653     1996-04-30     47940        56600.0\n 1340    1996-05-31     47940        57200.0\n 2028    1996-06-30     47940        57200.0\n 2717    1996-07-31     47940        56900.0\n 3406    1996-08-31     47940        56900.0\n ...            ...       ...            ...\n 207500  2017-08-31     47940       118300.0\n 208411  2017-09-30     47940       119200.0\n 209322  2017-10-31     47940       120000.0\n 210233  2017-11-30     47940       119900.0\n 211144  2017-12-31     47940       119700.0\n \n [261 rows x 3 columns],\n               Date CBSA_Code  ZHVI_AllHomes\n 654     1996-04-30     48020        99300.0\n 1341    1996-05-31     48020        99700.0\n 2029    1996-06-30     48020        99900.0\n 2718    1996-07-31     48020       100200.0\n 3407    1996-08-31     48020       101000.0\n ...            ...       ...            ...\n 207501  2017-08-31     48020       182100.0\n 208412  2017-09-30     48020       182300.0\n 209323  2017-10-31     48020       182500.0\n 210234  2017-11-30     48020       183900.0\n 211145  2017-12-31     48020       185200.0\n \n [261 rows x 3 columns],\n               Date CBSA_Code  ZHVI_AllHomes\n 655     1996-04-30     48060        57500.0\n 1342    1996-05-31     48060        56900.0\n 2030    1996-06-30     48060        56600.0\n 2719    1996-07-31     48060        56600.0\n 3408    1996-08-31     48060        56300.0\n ...            ...       ...            ...\n 207502  2017-08-31     48060       135100.0\n 208413  2017-09-30     48060       135200.0\n 209324  2017-10-31     48060       135900.0\n 210235  2017-11-30     48060       136600.0\n 211146  2017-12-31     48060       137300.0\n \n [261 rows x 3 columns],\n               Date CBSA_Code  ZHVI_AllHomes\n 11817   1997-08-31     48100        44600.0\n 12535   1997-09-30     48100        44900.0\n 13253   1997-10-31     48100        45300.0\n 13970   1997-11-30     48100        45500.0\n 14687   1997-12-31     48100        45800.0\n ...            ...       ...            ...\n 207503  2017-08-31     48100        71500.0\n 208414  2017-09-30     48100        71700.0\n 209325  2017-10-31     48100        72000.0\n 210236  2017-11-30     48100        72200.0\n 211147  2017-12-31     48100        72200.0\n \n [245 rows x 3 columns],\n               Date CBSA_Code  ZHVI_AllHomes\n 656     1996-04-30     48140        62200.0\n 1343    1996-05-31     48140        62600.0\n 2031    1996-06-30     48140        63000.0\n 2720    1996-07-31     48140        63600.0\n 3409    1996-08-31     48140        64100.0\n ...            ...       ...            ...\n 207504  2017-08-31     48140       140700.0\n 208415  2017-09-30     48140       141300.0\n 209326  2017-10-31     48140       143100.0\n 210237  2017-11-30     48140       144600.0\n 211148  2017-12-31     48140       145300.0\n \n [261 rows x 3 columns],\n               Date CBSA_Code  ZHVI_AllHomes\n 657     1996-04-30     48180        34600.0\n 1344    1996-05-31     48180        35000.0\n 2032    1996-06-30     48180        34900.0\n 2721    1996-07-31     48180        34500.0\n 3410    1996-08-31     48180        34200.0\n ...            ...       ...            ...\n 207505  2017-08-31     48180        87100.0\n 208416  2017-09-30     48180        87100.0\n 209327  2017-10-31     48180        87300.0\n 210238  2017-11-30     48180        87600.0\n 211149  2017-12-31     48180        87800.0\n \n [261 rows x 3 columns],\n               Date CBSA_Code  ZHVI_AllHomes\n 658     1996-04-30     48220        35200.0\n 1345    1996-05-31     48220        35200.0\n 2033    1996-06-30     48220        35400.0\n 2722    1996-07-31     48220        35600.0\n 3411    1996-08-31     48220        35800.0\n ...            ...       ...            ...\n 207506  2017-08-31     48220       120000.0\n 208417  2017-09-30     48220       120700.0\n 209328  2017-10-31     48220       121100.0\n 210239  2017-11-30     48220       121700.0\n 211150  2017-12-31     48220       121900.0\n \n [261 rows x 3 columns],\n               Date CBSA_Code  ZHVI_AllHomes\n 659     1996-04-30     48260        48900.0\n 1346    1996-05-31     48260        49900.0\n 2034    1996-06-30     48260        50900.0\n 2723    1996-07-31     48260        51800.0\n 3412    1996-08-31     48260        52500.0\n ...            ...       ...            ...\n 207507  2017-08-31     48260        77700.0\n 208418  2017-09-30     48260        77900.0\n 209329  2017-10-31     48260        80500.0\n 210240  2017-11-30     48260        84000.0\n 211151  2017-12-31     48260        85200.0\n \n [261 rows x 3 columns],\n               Date CBSA_Code  ZHVI_AllHomes\n 7565    1997-02-28     48300       111400.0\n 8273    1997-03-31     48300       106100.0\n 8981    1997-04-30     48300       100200.0\n 9689    1997-05-31     48300        96600.0\n 10397   1997-06-30     48300        95200.0\n ...            ...       ...            ...\n 207508  2017-08-31     48300       286000.0\n 208419  2017-09-30     48300       287600.0\n 209330  2017-10-31     48300       289300.0\n 210241  2017-11-30     48300       291300.0\n 211152  2017-12-31     48300       291900.0\n \n [251 rows x 3 columns],\n               Date CBSA_Code  ZHVI_AllHomes\n 660     1996-04-30     48460       137000.0\n 1347    1996-05-31     48460       136900.0\n 2035    1996-06-30     48460       136900.0\n 2724    1996-07-31     48460       136900.0\n 3413    1996-08-31     48460       136900.0\n ...            ...       ...            ...\n 207509  2017-08-31     48460       115400.0\n 208420  2017-09-30     48460       115600.0\n 209331  2017-10-31     48460       115500.0\n 210242  2017-11-30     48460       116100.0\n 211153  2017-12-31     48460       117000.0\n \n [261 rows x 3 columns],\n               Date CBSA_Code  ZHVI_AllHomes\n 661     1996-04-30     48540        48300.0\n 1348    1996-05-31     48540        48600.0\n 2036    1996-06-30     48540        49000.0\n 2725    1996-07-31     48540        48800.0\n 3414    1996-08-31     48540        48500.0\n ...            ...       ...            ...\n 207510  2017-08-31     48540        92900.0\n 208421  2017-09-30     48540        92600.0\n 209332  2017-10-31     48540        92700.0\n 210243  2017-11-30     48540        92500.0\n 211154  2017-12-31     48540        91900.0\n \n [261 rows x 3 columns],\n               Date CBSA_Code  ZHVI_AllHomes\n 662     1996-04-30     48580       106700.0\n 1349    1996-05-31     48580       106500.0\n 2037    1996-06-30     48580       106400.0\n 2726    1996-07-31     48580       106200.0\n 3415    1996-08-31     48580       106100.0\n ...            ...       ...            ...\n 207511  2017-08-31     48580       194600.0\n 208422  2017-09-30     48580       196100.0\n 209333  2017-10-31     48580       196700.0\n 210244  2017-11-30     48580       196800.0\n 211155  2017-12-31     48580       197100.0\n \n [261 rows x 3 columns],\n               Date CBSA_Code  ZHVI_AllHomes\n 664     1996-04-30     48700        77000.0\n 1351    1996-05-31     48700        76500.0\n 2039    1996-06-30     48700        76000.0\n 2728    1996-07-31     48700        75900.0\n 3417    1996-08-31     48700        76100.0\n ...            ...       ...            ...\n 207514  2017-08-31     48700       146000.0\n 208425  2017-09-30     48700       146000.0\n 209336  2017-10-31     48700       146600.0\n 210247  2017-11-30     48700       147000.0\n 211158  2017-12-31     48700       146800.0\n \n [261 rows x 3 columns],\n               Date CBSA_Code  ZHVI_AllHomes\n 665     1996-04-30     48820        96200.0\n 1352    1996-05-31     48820        95300.0\n 2040    1996-06-30     48820        94300.0\n 2729    1996-07-31     48820        93800.0\n 3418    1996-08-31     48820        92700.0\n ...            ...       ...            ...\n 207516  2017-08-31     48820       159800.0\n 208427  2017-09-30     48820       160800.0\n 209338  2017-10-31     48820       161900.0\n 210249  2017-11-30     48820       162600.0\n 211160  2017-12-31     48820       163300.0\n \n [261 rows x 3 columns],\n               Date CBSA_Code  ZHVI_AllHomes\n 666     1996-04-30     48900       111300.0\n 1353    1996-05-31     48900       111700.0\n 2041    1996-06-30     48900       112000.0\n 2730    1996-07-31     48900       112400.0\n 3419    1996-08-31     48900       113000.0\n ...            ...       ...            ...\n 207517  2017-08-31     48900       213100.0\n 208428  2017-09-30     48900       214500.0\n 209339  2017-10-31     48900       215900.0\n 210250  2017-11-30     48900       217000.0\n 211161  2017-12-31     48900       217800.0\n \n [261 rows x 3 columns],\n               Date CBSA_Code  ZHVI_AllHomes\n 667     1996-04-30     48980        88000.0\n 1354    1996-05-31     48980        87800.0\n 2042    1996-06-30     48980        88000.0\n 2731    1996-07-31     48980        89300.0\n 3420    1996-08-31     48980        90500.0\n ...            ...       ...            ...\n 207519  2017-08-31     48980       126200.0\n 208430  2017-09-30     48980       127200.0\n 209341  2017-10-31     48980       127100.0\n 210252  2017-11-30     48980       126100.0\n 211163  2017-12-31     48980       124900.0\n \n [261 rows x 3 columns],\n               Date CBSA_Code  ZHVI_AllHomes\n 668     1996-04-30     49020        89500.0\n 1355    1996-05-31     49020        89000.0\n 2043    1996-06-30     49020        88000.0\n 2732    1996-07-31     49020        86800.0\n 3421    1996-08-31     49020        86100.0\n ...            ...       ...            ...\n 207520  2017-08-31     49020       209600.0\n 208431  2017-09-30     49020       211500.0\n 209342  2017-10-31     49020       212900.0\n 210253  2017-11-30     49020       211900.0\n 211164  2017-12-31     49020       210000.0\n \n [261 rows x 3 columns],\n               Date CBSA_Code  ZHVI_AllHomes\n 669     1996-04-30     49080       164900.0\n 1356    1996-05-31     49080       164900.0\n 2044    1996-06-30     49080       165000.0\n 2733    1996-07-31     49080       165000.0\n 3422    1996-08-31     49080       165000.0\n ...            ...       ...            ...\n 207521  2017-08-31     49080       189300.0\n 208432  2017-09-30     49080       190000.0\n 209343  2017-10-31     49080       190600.0\n 210254  2017-11-30     49080       191500.0\n 211165  2017-12-31     49080       193300.0\n \n [261 rows x 3 columns],\n               Date CBSA_Code  ZHVI_AllHomes\n 670     1996-04-30     49100        69700.0\n 1357    1996-05-31     49100        69900.0\n 2045    1996-06-30     49100        70900.0\n 2734    1996-07-31     49100        72900.0\n 3423    1996-08-31     49100        74400.0\n ...            ...       ...            ...\n 207522  2017-08-31     49100       143700.0\n 208433  2017-09-30     49100       145000.0\n 209344  2017-10-31     49100       145500.0\n 210255  2017-11-30     49100       144500.0\n 211166  2017-12-31     49100       143200.0\n \n [261 rows x 3 columns],\n               Date CBSA_Code  ZHVI_AllHomes\n 671     1996-04-30     49180        85100.0\n 1358    1996-05-31     49180        85300.0\n 2046    1996-06-30     49180        85200.0\n 2735    1996-07-31     49180        85300.0\n 3424    1996-08-31     49180        85600.0\n ...            ...       ...            ...\n 207523  2017-08-31     49180       131200.0\n 208434  2017-09-30     49180       131900.0\n 209345  2017-10-31     49180       132600.0\n 210256  2017-11-30     49180       132900.0\n 211167  2017-12-31     49180       133100.0\n \n [261 rows x 3 columns],\n               Date CBSA_Code  ZHVI_AllHomes\n 672     1996-04-30     49220        70700.0\n 1359    1996-05-31     49220        71200.0\n 2047    1996-06-30     49220        71700.0\n 2736    1996-07-31     49220        72700.0\n 3425    1996-08-31     49220        74100.0\n ...            ...       ...            ...\n 207524  2017-08-31     49220       114000.0\n 208435  2017-09-30     49220       114400.0\n 209346  2017-10-31     49220       115200.0\n 210257  2017-11-30     49220       117500.0\n 211168  2017-12-31     49220       120000.0\n \n [261 rows x 3 columns],\n               Date CBSA_Code  ZHVI_AllHomes\n 674     1996-04-30     49300        91400.0\n 1361    1996-05-31     49300        91100.0\n 2049    1996-06-30     49300        90800.0\n 2738    1996-07-31     49300        90500.0\n 3427    1996-08-31     49300        90400.0\n ...            ...       ...            ...\n 207526  2017-08-31     49300       144500.0\n 208437  2017-09-30     49300       145300.0\n 209348  2017-10-31     49300       146600.0\n 210259  2017-11-30     49300       147100.0\n 211170  2017-12-31     49300       146600.0\n \n [261 rows x 3 columns],\n               Date CBSA_Code  ZHVI_AllHomes\n 675     1996-04-30     49340       112100.0\n 1362    1996-05-31     49340       112000.0\n 2050    1996-06-30     49340       112300.0\n 2739    1996-07-31     49340       112300.0\n 3428    1996-08-31     49340       112100.0\n ...            ...       ...            ...\n 207527  2017-08-31     49340       251500.0\n 208438  2017-09-30     49340       253600.0\n 209349  2017-10-31     49340       255100.0\n 210260  2017-11-30     49340       256100.0\n 211171  2017-12-31     49340       257300.0\n \n [261 rows x 3 columns],\n               Date CBSA_Code  ZHVI_AllHomes\n 676     1996-04-30     49420        93800.0\n 1363    1996-05-31     49420        93200.0\n 2051    1996-06-30     49420        92700.0\n 2740    1996-07-31     49420        92600.0\n 3429    1996-08-31     49420        92700.0\n ...            ...       ...            ...\n 207529  2017-08-31     49420       186600.0\n 208440  2017-09-30     49420       188400.0\n 209351  2017-10-31     49420       189400.0\n 210262  2017-11-30     49420       189500.0\n 211173  2017-12-31     49420       189200.0\n \n [261 rows x 3 columns],\n               Date CBSA_Code  ZHVI_AllHomes\n 677     1996-04-30     49460       155900.0\n 1364    1996-05-31     49460       155900.0\n 2052    1996-06-30     49460       156000.0\n 2741    1996-07-31     49460       156000.0\n 3430    1996-08-31     49460       155900.0\n ...            ...       ...            ...\n 207530  2017-08-31     49460       165000.0\n 208441  2017-09-30     49460       164000.0\n 209352  2017-10-31     49460       163700.0\n 210263  2017-11-30     49460       163600.0\n 211174  2017-12-31     49460       163700.0\n \n [261 rows x 3 columns],\n               Date CBSA_Code  ZHVI_AllHomes\n 678     1996-04-30     49620        99300.0\n 1365    1996-05-31     49620        99600.0\n 2053    1996-06-30     49620       100000.0\n 2742    1996-07-31     49620       100300.0\n 3431    1996-08-31     49620       100200.0\n ...            ...       ...            ...\n 207531  2017-08-31     49620       164000.0\n 208442  2017-09-30     49620       165000.0\n 209353  2017-10-31     49620       165900.0\n 210264  2017-11-30     49620       166600.0\n 211175  2017-12-31     49620       167100.0\n \n [261 rows x 3 columns],\n               Date CBSA_Code  ZHVI_AllHomes\n 679     1996-04-30     49660        59200.0\n 1366    1996-05-31     49660        58700.0\n 2054    1996-06-30     49660        58700.0\n 2743    1996-07-31     49660        58800.0\n 3432    1996-08-31     49660        59000.0\n ...            ...       ...            ...\n 207532  2017-08-31     49660        86200.0\n 208443  2017-09-30     49660        86600.0\n 209354  2017-10-31     49660        86600.0\n 210265  2017-11-30     49660        86600.0\n 211176  2017-12-31     49660        86900.0\n \n [261 rows x 3 columns],\n               Date CBSA_Code  ZHVI_AllHomes\n 680     1996-04-30     49700       105200.0\n 1367    1996-05-31     49700       103400.0\n 2055    1996-06-30     49700       101200.0\n 2744    1996-07-31     49700       100300.0\n 3433    1996-08-31     49700        99700.0\n ...            ...       ...            ...\n 207533  2017-08-31     49700       260100.0\n 208444  2017-09-30     49700       262400.0\n 209355  2017-10-31     49700       265900.0\n 210266  2017-11-30     49700       269800.0\n 211177  2017-12-31     49700       272600.0\n \n [261 rows x 3 columns],\n               Date CBSA_Code  ZHVI_AllHomes\n 681     1996-04-30     49740        80600.0\n 1368    1996-05-31     49740        80600.0\n 2056    1996-06-30     49740        80800.0\n 2745    1996-07-31     49740        80900.0\n 3434    1996-08-31     49740        80700.0\n ...            ...       ...            ...\n 207534  2017-08-31     49740       135600.0\n 208445  2017-09-30     49740       136800.0\n 209356  2017-10-31     49740       137900.0\n 210267  2017-11-30     49740       137700.0\n 211178  2017-12-31     49740       137500.0\n \n [261 rows x 3 columns],\n               Date CBSA_Code  ZHVI_AllHomes\n 682     1996-04-30     49780        69400.0\n 1369    1996-05-31     49780        68600.0\n 2057    1996-06-30     49780        67100.0\n 2746    1996-07-31     49780        66300.0\n 3435    1996-08-31     49780        66000.0\n ...            ...       ...            ...\n 207535  2017-08-31     49780       111400.0\n 208446  2017-09-30     49780       111400.0\n 209357  2017-10-31     49780       112000.0\n 210268  2017-11-30     49780       113000.0\n 211179  2017-12-31     49780       114100.0\n \n [261 rows x 3 columns],\n               Date CBSA_Code  ZHVI_AllHomes\n 33958   2000-02-29     49820        79400.0\n 34705   2000-03-31     49820        79400.0\n 35452   2000-04-30     49820        79400.0\n 36199   2000-05-31     49820        79400.0\n 36946   2000-06-30     49820        79500.0\n ...            ...       ...            ...\n 207536  2017-08-31     49820        92900.0\n 208447  2017-09-30     49820        93000.0\n 209358  2017-10-31     49820        93300.0\n 210269  2017-11-30     49820        94100.0\n 211180  2017-12-31     49820        94900.0\n \n [215 rows x 3 columns],\n               Date      CBSA_Code  ZHVI_AllHomes\n 683     1996-04-30  United_States        99600.0\n 1370    1996-05-31  United_States       100000.0\n 2058    1996-06-30  United_States       100000.0\n 2747    1996-07-31  United_States        99900.0\n 3436    1996-08-31  United_States        99800.0\n ...            ...            ...            ...\n 207537  2017-08-31  United_States       202000.0\n 208448  2017-09-30  United_States       203300.0\n 209359  2017-10-31  United_States       204600.0\n 210270  2017-11-30  United_States       205700.0\n 211181  2017-12-31  United_States       206300.0\n \n [261 rows x 3 columns]]"
     },
     "metadata": {},
     "execution_count": 3
    }
   ],
   "source": [
    "LAST_DATE = '2006'\n",
    "cols = ['Date', 'RegionName', 'ZHVI_AllHomes']\n",
    "data = data[data['ZHVI_AllHomes'] > 0]\n",
    "data = data.filter(cols)\n",
    "data = data.rename(columns={\"RegionName\": \"CBSA_Code\"})\n",
    "\n",
    "cityList = np.unique(data['CBSA_Code'])\n",
    "metro = []\n",
    "for code in tqdm(cityList):\n",
    "    if min(data[data['CBSA_Code']  == str(code)].Date.values) <= LAST_DATE:\n",
    "        metro.append(data[data['CBSA_Code']  == str(code)])\n",
    "metro"
   ]
  },
  {
   "cell_type": "code",
   "execution_count": 4,
   "metadata": {
    "scrolled": true
   },
   "outputs": [
    {
     "output_type": "stream",
     "name": "stderr",
     "text": "100%|██████████| 653/653 [00:01<00:00, 370.31it/s]\n"
    }
   ],
   "source": [
    "from sklearn.preprocessing import StandardScaler\n",
    "\n",
    "def standardize(metro):\n",
    "    scaler = StandardScaler()\n",
    "    train = metro.ZHVI_AllHomes.values.reshape(-1, 1)\n",
    "    return scaler.fit_transform(train)\n",
    "\n",
    "for i in tqdm(metro):\n",
    "    i['ZHVI_std'] = standardize(i) "
   ]
  },
  {
   "cell_type": "code",
   "execution_count": 5,
   "metadata": {
    "scrolled": true
   },
   "outputs": [],
   "source": [
    "#metro"
   ]
  },
  {
   "cell_type": "code",
   "execution_count": 6,
   "metadata": {
    "scrolled": true
   },
   "outputs": [
    {
     "output_type": "error",
     "ename": "NameError",
     "evalue": "name 'city1' is not defined",
     "traceback": [
      "\u001b[0;31m---------------------------------------------------------------------------\u001b[0m",
      "\u001b[0;31mNameError\u001b[0m                                 Traceback (most recent call last)",
      "\u001b[0;32m<ipython-input-6-2debe36cfeb6>\u001b[0m in \u001b[0;36m<module>\u001b[0;34m\u001b[0m\n\u001b[1;32m      7\u001b[0m \u001b[0;31m#ax.scatter(pd.to_datetime(city1['Date'][4:]).dt.date, movingAverage_normalize(city1['ZHVI_AllHomes'].values))\u001b[0m\u001b[0;34m\u001b[0m\u001b[0;34m\u001b[0m\u001b[0;34m\u001b[0m\u001b[0m\n\u001b[1;32m      8\u001b[0m \u001b[0;31m#plt.show()\u001b[0m\u001b[0;34m\u001b[0m\u001b[0;34m\u001b[0m\u001b[0;34m\u001b[0m\u001b[0m\n\u001b[0;32m----> 9\u001b[0;31m \u001b[0mmovingAverage_normalize\u001b[0m\u001b[0;34m(\u001b[0m\u001b[0mcity1\u001b[0m\u001b[0;34m[\u001b[0m\u001b[0;34m'ZHVI_AllHomes'\u001b[0m\u001b[0;34m]\u001b[0m\u001b[0;34m.\u001b[0m\u001b[0mvalues\u001b[0m\u001b[0;34m)\u001b[0m\u001b[0;34m\u001b[0m\u001b[0;34m\u001b[0m\u001b[0m\n\u001b[0m\u001b[1;32m     10\u001b[0m \u001b[0;31m# don't send moving average\u001b[0m\u001b[0;34m\u001b[0m\u001b[0;34m\u001b[0m\u001b[0;34m\u001b[0m\u001b[0m\n\u001b[1;32m     11\u001b[0m \u001b[0;31m#  CHECK IF AFFECTS MOVING AVERAGE AFFECTS ARIMA\u001b[0m\u001b[0;34m\u001b[0m\u001b[0;34m\u001b[0m\u001b[0;34m\u001b[0m\u001b[0m\n",
      "\u001b[0;31mNameError\u001b[0m: name 'city1' is not defined"
     ]
    }
   ],
   "source": [
    "def movingAverage_normalize(a, n=5) :\n",
    "    ret = np.cumsum(a, dtype=float)\n",
    "    ret[n:] = ret[n:] - ret[:-n]\n",
    "    moving_avg = ret[n - 1:] / n\n",
    "    return np.array([(x-np.mean(moving_avg))/np.std(moving_avg) for x in moving_avg])\n",
    "#fig, ax = plt.subplots()\n",
    "#ax.scatter(pd.to_datetime(city1['Date'][4:]).dt.date, movingAverage_normalize(city1['ZHVI_AllHomes'].values))\n",
    "#plt.show()\n",
    "movingAverage_normalize(city1['ZHVI_AllHomes'].values)\n",
    "# don't send moving average \n",
    "#  CHECK IF AFFECTS MOVING AVERAGE AFFECTS ARIMA"
   ]
  },
  {
   "cell_type": "code",
   "execution_count": null,
   "metadata": {},
   "outputs": [],
   "source": [
    "city1 = metro[0]\n",
    "ames = data[data.CBSA_Code == '29420']\n",
    "print(ames)\n",
    "fig, ax = plt.subplots()\n",
    "ax.plot(pd.to_datetime(ames['Date'][4:]).dt.date, movingAverage_normalize(ames['ZHVI_AllHomes'].values))\n",
    "# ax.scatter(pd.to_datetime('2009-05-31'), ames[ames['Date'] == '2009-05-31']['ZHVI_AllHomes'])"
   ]
  },
  {
   "cell_type": "code",
   "execution_count": 18,
   "metadata": {},
   "outputs": [],
   "source": [
    "THRESHOLD = 1\n",
    "\n",
    "# def find_max_start(city):\n",
    "#     return type == str\n",
    "\n",
    "def find_start(city):\n",
    "    \"\"\"\n",
    "    returns recession start date, measured as the largest local maximum ZHVI for a given city\n",
    "    takes: city (pd.dataframe) [Date, ZHVI_avg_norm]\n",
    "    returns: start_date (pd.datetime)\n",
    "    \"\"\"\n",
    "    last_date = city.sort_values('Date', ascending=False).iloc[0]['Date']\n",
    "    city = city[city['Date'] < '2015']\n",
    "    d = lambda i: city['ZHVI_std'].iloc[i] - city['ZHVI_std'].iloc[i-1]\n",
    "    diffs = np.array([d(i) for i in range(1, len(city))])\n",
    "    # reshape dataframe to include diffs\n",
    "    city = city.iloc[1:]\n",
    "    city['Diffs'] = diffs\n",
    "    # find local maxes using diffs\n",
    "    is_max = np.array([(city['Diffs'].iloc[i] >= 0) \n",
    "                       and (city['Diffs'].iloc[i+1] <= 0) \n",
    "                       and (city['Diffs'].iloc[i+1] - city['Diffs'].iloc[i] <= THRESHOLD) for i in range(len(city) - 1)])\n",
    "    is_max = np.append(is_max, False)\n",
    "\n",
    "    # check for presence of local maxes at all\n",
    "    if np.count_nonzero(is_max) == 0:\n",
    "        return last_date\n",
    "    # add 'is_maximum' truth column to dataframe\n",
    "    city['Max'] = is_max\n",
    "    # filter and find largest max\n",
    "    theMax = city[city['Max'] == 1.0].sort_values(\"ZHVI_std\", ascending=False).iloc[0]\n",
    "    start_date = theMax['Date']\n",
    "    return start_date"
   ]
  },
  {
   "cell_type": "code",
   "execution_count": 19,
   "metadata": {},
   "outputs": [],
   "source": [
    "THRESHOLD = -0.002\n",
    "\n",
    "def my_min(city_df):\n",
    "    \"\"\"\n",
    "    \"\"\"\n",
    "    my_zhvi = city_df['ZHVI_std'].to_numpy()\n",
    "\n",
    "    min_indeces = argrelextrema(my_zhvi, np.less)[0]\n",
    "    min_vals = [my_zhvi[val] for val in min_indeces]\n",
    "    min_dates = [city_df['Date'].to_numpy()[val] for val in min_indeces]\n",
    "\n",
    "\n",
    "    curr_index = 0\n",
    "\n",
    "    for i in range(len(min_vals)):\n",
    "        if i == len(min_vals) - 1:\n",
    "            curr_index = len(min_vals) - 1\n",
    "            break\n",
    "        else:\n",
    "            if np.diff([min_vals[i], min_vals[i + 1]]) <= THRESHOLD: curr_index += 1\n",
    "            else:\n",
    "                curr_index = i\n",
    "                break\n",
    "\n",
    "    return min_dates[curr_index]"
   ]
  },
  {
   "cell_type": "code",
   "execution_count": 20,
   "metadata": {},
   "outputs": [],
   "source": [
    "failed_cities = []\n",
    "def ARIMA_50(city, start, params=(5,1,1)):\n",
    "    \"\"\"\n",
    "    Params:\n",
    "    city -- time-series dataframe object containing Date and ZHVI columns\n",
    "    start -- datetime object from index of city representing peak ZHVI\n",
    "    params -- p, d, and q parameters for ARIMA\n",
    "    \"\"\"\n",
    "    \n",
    "    #add start.dt.strftime('%Y-%m-%d') to convert datetime to string\n",
    "    \n",
    "    from statsmodels.tsa.arima_model import ARIMA\n",
    "    \n",
    "    before = city[['Date', 'ZHVI_std']]\n",
    "\n",
    "    before = before[before['Date'] < start].set_index(['Date'])['ZHVI_std'].values\n",
    "\n",
    "    # Number of points for ARIMA to predict is length of original city df minus start indexed df\n",
    "    steps = city.shape[0] - before.shape[0]\n",
    "\n",
    "    # Try to fit arima model, except if no convergence add to list of failed cities\n",
    "    try:\n",
    "        model = ARIMA(before, order=(5, 1, 1))\n",
    "        model_fit = model.fit(disp=0)\n",
    "        return model_fit.forecast(steps)[0]\n",
    "    except:\n",
    "        failed_cities.append(np.unique(city.CBSA_Code)[0])\n",
    "        return np.repeat(city[city['Date'] == start].ZHVI_AllHomes, steps)"
   ]
  },
  {
   "cell_type": "code",
   "execution_count": 21,
   "metadata": {},
   "outputs": [],
   "source": [
    "def find_end(dataframe, residuals):\n",
    "    \"\"\"\n",
    "    Finds end date by calculating residuals between predicted and actual values, then finding most recent positive residual\n",
    "    returns recession end date, measured as the first point of intersection between ZHVI and ARIMA_50 for a given city\n",
    "    takes: city (pd.dataframe) [Date, ZHVI_avg_norm], ARIMA_50 (pd.dataframe) [Date, forecasted_ZHVI_norm] \n",
    "    returns: end_date (pd.datetime)\n",
    "    \"\"\"\n",
    "\n",
    "    # calculate residual between predicted value and actual ZHVI value\n",
    "    # TODO FIX RESIDUALS SO HAS INDEX OF DATES.\n",
    "    dates = dataframe[dataframe['Date'] >= start]['Date'].values\n",
    "    city_resid = pd.DataFrame(data={'Date': dates, 'Delta': residuals}) # each on sep line, better yet make numpy array w/ date index\n",
    "\n",
    "    # filter only positive residuals, and most recent one is the last recession date\n",
    "    most_recent_positive_delta = city_resid[city_resid['Delta'] > 0].sort_values(\"Date\", ascending=False)\n",
    "\n",
    "   # if ARIMA model indicates a sharp drop, set end date as one month after start date\n",
    "   # TODO THIS SHOULD BE HANDLED BY PREDICTOR FUNCTION\n",
    "    if (most_recent_positive_delta.shape[0] == 0):\n",
    "        return city_resid.Date.values[0] # TODO WHY RETURN 0? NOT SHFITED +1?\n",
    "\n",
    "        \n",
    "    end_date = most_recent_positive_delta['Date'].iloc[0]\n",
    "    \n",
    "    return end_date"
   ]
  },
  {
   "cell_type": "code",
   "execution_count": 22,
   "metadata": {},
   "outputs": [],
   "source": [
    "# TODO Altenative: have residuals array calculated, then final function sums residuals to end"
   ]
  },
  {
   "cell_type": "code",
   "execution_count": 23,
   "metadata": {},
   "outputs": [],
   "source": [
    "def calculate_residuals(dataframe, predicted, start):\n",
    "    \"\"\"\n",
    "    \"\"\"\n",
    "    # get data after start\n",
    "    actual = dataframe[dataframe['Date'] >= start].values\n",
    "    \n",
    "    return actual - predicted"
   ]
  },
  {
   "cell_type": "code",
   "execution_count": null,
   "metadata": {},
   "outputs": [],
   "source": [
    "def calculate_area(residuals, start, end, return_resids=False):\n",
    "    \"\"\"\n",
    "    Params:\n",
    "    city -- time-series dataframe object containing Date and ZHVI columns\n",
    "    predicted -- predicted values from max to last date of city time-series\n",
    "    max -- datetime object from index of city representing peak ZHVI\n",
    "    end -- datetime object from index of city representing intersection of \n",
    "    actual and predicted ZHVI or last date of actual\n",
    "    \"\"\"\n",
    "\n",
    "    # filter residuals between start and end\n",
    "    filtered_residuals = residuals[(residuals['Date'] >= start) &\n",
    "    (residuals['Date'] < end)]\n",
    "\n",
    "    if return_residuals:\n",
    "        return (np.sum(filtered_residuals), filtered_residuals)\n",
    "\n",
    "    return np.sum(filtered_residuals)"
   ]
  },
  {
   "cell_type": "code",
   "execution_count": 24,
   "metadata": {},
   "outputs": [],
   "source": [
    "def find_AU3(dataframe, predictor=ARIMA_50, start=None, end=None, return_resids=False, return_dates=False, plot=False, time=False):\n",
    "    \"\"\"\n",
    "    Takes dataframe with CBSA codes, ZHVI values and name of city\n",
    "    start: manual specified start date\n",
    "    end: manual specified end date\n",
    "    returns: Area between predicted and actual ZHVI values from start to end of recession\n",
    "    \"\"\"\n",
    "    # TODO DOCSTRING and doctest?\n",
    "\n",
    "    start_date = my_min(dataframe)\n",
    "\n",
    "    predicted_values = predictor(dataframe, start_date)\n",
    "    \n",
    "    residuals = calculate_residuals(dataframe, predicted_values, start_date)\n",
    "\n",
    "    end_date = find_end(dataframe, start_date, arima)\n",
    "\n",
    "    if return_dates:\n",
    "        return calculate_area(residuals, start_date, end_date, return_resids=return_resids), start, end\n",
    "\n",
    "\n",
    "    return calculate_area(residuals, start, end, return_resids=return_resids)"
   ]
  },
  {
   "cell_type": "code",
   "execution_count": 32,
   "metadata": {},
   "outputs": [
    {
     "output_type": "stream",
     "name": "stdout",
     "text": "Start Date:  1999-02-28\nEnd Date:  2017-12-31\n"
    },
    {
     "output_type": "execute_result",
     "data": {
      "text/plain": "(778.0013296928073,\n array([-0.06387835, -0.19816074, -0.26725698, -0.25502908, -0.22425274,\n        -0.20315027, -0.1582314 , -0.09423154, -0.05687381, -0.03837165,\n         0.01075741,  0.04366401,  0.07401256,  0.09017539,  0.10115736,\n         0.11266281,  0.17970718,  0.24558295,  0.30841484,  0.35138529,\n         0.39547671,  0.44918144,  0.5126554 ,  0.56718129,  0.62583761,\n         0.7046736 ,  0.80380005,  0.91984491,  1.00611993,  1.06416212,\n         1.10305676,  1.14256561,  1.20064966,  1.25144274,  1.27708457,\n         1.2725379 ,  1.27589568,  1.28614055,  1.27092215,  1.22418605,\n         1.16531023,  1.11936246,  1.11749035,  1.17856154,  1.22652372,\n         1.24892839,  1.27752746,  1.35669896,  1.42926874,  1.48915998,\n         1.5429211 ,  1.62868306,  1.70816578,  1.7622849 ,  1.79111585,\n         1.80738527,  1.83007451,  1.83999138,  1.8562012 ,  1.85964892,\n         1.8630624 ,  1.88549295,  1.90147369,  1.91103468,  1.92694864,\n         1.98741098,  2.0415212 ,  2.08927805,  2.11797317,  2.13398398,\n         2.13730652,  2.17881893,  2.25850754,  2.34455987,  2.42425159,\n         2.46576559,  2.50726482,  2.54238447,  2.55204346,  2.51079966,\n         2.50136187,  2.58098896,  2.70514938,  2.746607  ,  2.76262334,\n         2.78500819,  2.82648363,  2.84251425,  2.84582394,  2.84277379,\n         2.85880983,  2.9130162 ,  2.99266815,  3.02778352,  3.03744878,\n         3.06619823,  3.0885839 ,  3.06643434,  3.03156079,  3.06030844,\n         3.10178104,  3.14961656,  3.19745305,  3.21984236,  3.19769812,\n         3.18191627,  3.23611692,  3.27759327,  3.30634524,  3.34145887,\n         3.37020997,  3.37351242,  3.41498684,  3.46918519,  3.50429738,\n         3.53304755,  3.56179783,  3.5778242 ,  3.61293693,  3.67986009,\n         3.73405929,  3.75644834,  3.77883742,  3.80758855,  3.82361554,\n         3.87145268,  3.97018609,  4.08800557,  4.16129066,  4.21548957,\n         4.16789571,  4.04395728,  3.99000139,  4.03783828,  4.06658907,\n         4.10170194,  4.12409074,  4.11466933,  4.07979975,  4.0894645 ,\n         4.15638766,  4.24239694,  4.27114779,  4.30626067,  4.37954582,\n         4.44010687,  4.45613358,  4.47216029,  4.53908337,  4.60600647,\n         4.66656752,  4.70804243,  4.74315531,  4.77190615,  4.84519131,\n         4.91847648,  4.94722732,  4.99506429,  5.11924583,  5.26887555,\n         5.3548848 ,  5.38363562,  5.36785212,  5.37115476,  5.38081944,\n         5.38412208,  5.425597  ,  5.51796829,  5.60397754,  5.67090065,\n         5.75054785,  5.81747097,  5.8462218 ,  5.83680035,  5.85282708,\n         5.88793996,  5.94213897,  5.95180366,  5.94238221,  5.90751257,\n         5.85991884,  5.8250492 ,  5.87288617,  5.94617132,  6.01309443,\n         6.09910368,  6.15330269,  6.14388124,  6.15354593,  6.17593471,\n         6.23649578,  6.32250503,  6.38306609,  6.36728259,  6.27515453,\n         6.14485419,  6.05908818,  6.06239082,  6.0847796 ,  6.08808224,\n         6.09774693,  6.11377367,  6.11071426,  6.1140169 ,  6.12368159,\n         6.12062219,  6.06030436,  5.97453835,  5.81242778,  5.66940334,\n         5.60908552,  5.65692249,  5.66022513,  5.65716572,  5.68591655,\n         5.69558124,  5.67979774,  5.67673834,  5.67367893,  5.64517134,\n         5.66756012,  5.75993142,  5.82685453,  5.81107103,  5.77620139,\n         5.76677994]))"
     },
     "metadata": {},
     "execution_count": 32
    }
   ],
   "source": [
    "#metro[0]\n",
    "find_AU3(metro[1], residuals=True)"
   ]
  },
  {
   "cell_type": "code",
   "execution_count": 30,
   "metadata": {},
   "outputs": [],
   "source": [
    "import myAU3\n",
    "import sys\n",
    "sys.path.append('..')"
   ]
  },
  {
   "cell_type": "code",
   "execution_count": 31,
   "metadata": {},
   "outputs": [
    {
     "output_type": "error",
     "ename": "AttributeError",
     "evalue": "module 'myAU3' has no attribute 'hello_world'",
     "traceback": [
      "\u001b[0;31m---------------------------------------------------------------------------\u001b[0m",
      "\u001b[0;31mAttributeError\u001b[0m                            Traceback (most recent call last)",
      "\u001b[0;32m<ipython-input-31-2b75723db2ee>\u001b[0m in \u001b[0;36m<module>\u001b[0;34m\u001b[0m\n\u001b[1;32m      1\u001b[0m \u001b[0;31m#AU3.find_AU3_1(metro[1], residuals=True)\u001b[0m\u001b[0;34m\u001b[0m\u001b[0;34m\u001b[0m\u001b[0;34m\u001b[0m\u001b[0m\n\u001b[1;32m      2\u001b[0m \u001b[0;31m# metro[0] start = end\u001b[0m\u001b[0;34m\u001b[0m\u001b[0;34m\u001b[0m\u001b[0;34m\u001b[0m\u001b[0m\n\u001b[0;32m----> 3\u001b[0;31m \u001b[0mmyAU3\u001b[0m\u001b[0;34m.\u001b[0m\u001b[0mhello_world\u001b[0m\u001b[0;34m(\u001b[0m\u001b[0;34m)\u001b[0m\u001b[0;34m\u001b[0m\u001b[0;34m\u001b[0m\u001b[0m\n\u001b[0m",
      "\u001b[0;31mAttributeError\u001b[0m: module 'myAU3' has no attribute 'hello_world'"
     ]
    }
   ],
   "source": [
    "\n",
    "#AU3.find_AU3_1(metro[1], residuals=True)\n",
    "# metro[0] start = end\n",
    "myAU3.hello_world()\n"
   ]
  },
  {
   "cell_type": "code",
   "execution_count": 20,
   "metadata": {},
   "outputs": [
    {
     "name": "stderr",
     "output_type": "stream",
     "text": [
      "  2%|▏         | 13/653 [00:04<03:23,  3.15it/s]/Users/arunavgupta/anaconda3/envs/tensorflow/lib/python3.6/site-packages/statsmodels/tsa/tsatools.py:716: RuntimeWarning: divide by zero encountered in true_divide\n",
      "  invmacoefs = -np.log((1-macoefs)/(1+macoefs))\n",
      "/Users/arunavgupta/anaconda3/envs/tensorflow/lib/python3.6/site-packages/statsmodels/tsa/tsatools.py:689: RuntimeWarning: invalid value encountered in true_divide\n",
      "  newparams = ((1-np.exp(-params))/(1+np.exp(-params))).copy()\n",
      "/Users/arunavgupta/anaconda3/envs/tensorflow/lib/python3.6/site-packages/statsmodels/tsa/tsatools.py:690: RuntimeWarning: invalid value encountered in true_divide\n",
      "  tmp = ((1-np.exp(-params))/(1+np.exp(-params))).copy()\n",
      "/Users/arunavgupta/anaconda3/envs/tensorflow/lib/python3.6/site-packages/statsmodels/tools/numdiff.py:243: RuntimeWarning: invalid value encountered in add\n",
      "  **kwargs)).imag/2./hess[i, j]\n",
      "/Users/arunavgupta/anaconda3/envs/tensorflow/lib/python3.6/site-packages/statsmodels/tools/numdiff.py:243: RuntimeWarning: invalid value encountered in multiply\n",
      "  **kwargs)).imag/2./hess[i, j]\n",
      "/Users/arunavgupta/anaconda3/envs/tensorflow/lib/python3.6/site-packages/statsmodels/base/model.py:548: HessianInversionWarning: Inverting hessian failed, no bse or cov_params available\n",
      "  'available', HessianInversionWarning)\n",
      "  3%|▎         | 19/653 [00:06<04:05,  2.58it/s]/Users/arunavgupta/anaconda3/envs/tensorflow/lib/python3.6/site-packages/statsmodels/base/model.py:548: HessianInversionWarning: Inverting hessian failed, no bse or cov_params available\n",
      "  'available', HessianInversionWarning)\n",
      "  5%|▌         | 34/653 [00:13<04:05,  2.52it/s]/Users/arunavgupta/anaconda3/envs/tensorflow/lib/python3.6/site-packages/statsmodels/base/model.py:548: HessianInversionWarning: Inverting hessian failed, no bse or cov_params available\n",
      "  'available', HessianInversionWarning)\n",
      "  6%|▋         | 42/653 [00:16<03:29,  2.91it/s]/Users/arunavgupta/anaconda3/envs/tensorflow/lib/python3.6/site-packages/statsmodels/base/model.py:548: HessianInversionWarning: Inverting hessian failed, no bse or cov_params available\n",
      "  'available', HessianInversionWarning)\n",
      "  7%|▋         | 48/653 [00:20<04:34,  2.20it/s]/Users/arunavgupta/anaconda3/envs/tensorflow/lib/python3.6/site-packages/statsmodels/base/model.py:548: HessianInversionWarning: Inverting hessian failed, no bse or cov_params available\n",
      "  'available', HessianInversionWarning)\n",
      "  8%|▊         | 52/653 [00:22<04:24,  2.27it/s]/Users/arunavgupta/anaconda3/envs/tensorflow/lib/python3.6/site-packages/statsmodels/base/model.py:548: HessianInversionWarning: Inverting hessian failed, no bse or cov_params available\n",
      "  'available', HessianInversionWarning)\n",
      " 17%|█▋        | 109/653 [00:42<04:13,  2.14it/s]/Users/arunavgupta/anaconda3/envs/tensorflow/lib/python3.6/site-packages/statsmodels/base/model.py:548: HessianInversionWarning: Inverting hessian failed, no bse or cov_params available\n",
      "  'available', HessianInversionWarning)\n",
      "/Users/arunavgupta/anaconda3/envs/tensorflow/lib/python3.6/site-packages/statsmodels/base/model.py:568: ConvergenceWarning: Maximum Likelihood optimization failed to converge. Check mle_retvals\n",
      "  \"Check mle_retvals\", ConvergenceWarning)\n",
      " 19%|█▊        | 122/653 [00:50<03:15,  2.71it/s]/Users/arunavgupta/anaconda3/envs/tensorflow/lib/python3.6/site-packages/statsmodels/base/model.py:568: ConvergenceWarning: Maximum Likelihood optimization failed to converge. Check mle_retvals\n",
      "  \"Check mle_retvals\", ConvergenceWarning)\n",
      " 22%|██▏       | 144/653 [00:58<02:39,  3.18it/s]/Users/arunavgupta/anaconda3/envs/tensorflow/lib/python3.6/site-packages/statsmodels/base/model.py:548: HessianInversionWarning: Inverting hessian failed, no bse or cov_params available\n",
      "  'available', HessianInversionWarning)\n",
      "/Users/arunavgupta/anaconda3/envs/tensorflow/lib/python3.6/site-packages/statsmodels/base/model.py:568: ConvergenceWarning: Maximum Likelihood optimization failed to converge. Check mle_retvals\n",
      "  \"Check mle_retvals\", ConvergenceWarning)\n",
      " 25%|██▌       | 166/653 [01:11<03:05,  2.63it/s]/Users/arunavgupta/anaconda3/envs/tensorflow/lib/python3.6/site-packages/statsmodels/base/model.py:548: HessianInversionWarning: Inverting hessian failed, no bse or cov_params available\n",
      "  'available', HessianInversionWarning)\n",
      " 26%|██▋       | 173/653 [01:14<02:57,  2.71it/s]/Users/arunavgupta/anaconda3/envs/tensorflow/lib/python3.6/site-packages/statsmodels/base/model.py:568: ConvergenceWarning: Maximum Likelihood optimization failed to converge. Check mle_retvals\n",
      "  \"Check mle_retvals\", ConvergenceWarning)\n",
      " 30%|██▉       | 195/653 [01:24<02:23,  3.18it/s]/Users/arunavgupta/anaconda3/envs/tensorflow/lib/python3.6/site-packages/statsmodels/base/model.py:548: HessianInversionWarning: Inverting hessian failed, no bse or cov_params available\n",
      "  'available', HessianInversionWarning)\n",
      "/Users/arunavgupta/anaconda3/envs/tensorflow/lib/python3.6/site-packages/statsmodels/base/model.py:568: ConvergenceWarning: Maximum Likelihood optimization failed to converge. Check mle_retvals\n",
      "  \"Check mle_retvals\", ConvergenceWarning)\n",
      " 36%|███▌      | 235/653 [01:40<02:47,  2.50it/s]/Users/arunavgupta/anaconda3/envs/tensorflow/lib/python3.6/site-packages/statsmodels/base/model.py:548: HessianInversionWarning: Inverting hessian failed, no bse or cov_params available\n",
      "  'available', HessianInversionWarning)\n",
      " 42%|████▏     | 275/653 [01:55<03:19,  1.89it/s]/Users/arunavgupta/anaconda3/envs/tensorflow/lib/python3.6/site-packages/statsmodels/base/model.py:548: HessianInversionWarning: Inverting hessian failed, no bse or cov_params available\n",
      "  'available', HessianInversionWarning)\n",
      " 43%|████▎     | 282/653 [01:57<02:23,  2.59it/s]/Users/arunavgupta/anaconda3/envs/tensorflow/lib/python3.6/site-packages/statsmodels/base/model.py:548: HessianInversionWarning: Inverting hessian failed, no bse or cov_params available\n",
      "  'available', HessianInversionWarning)\n",
      " 45%|████▌     | 294/653 [02:02<02:06,  2.84it/s]/Users/arunavgupta/anaconda3/envs/tensorflow/lib/python3.6/site-packages/statsmodels/base/model.py:548: HessianInversionWarning: Inverting hessian failed, no bse or cov_params available\n",
      "  'available', HessianInversionWarning)\n",
      "/Users/arunavgupta/anaconda3/envs/tensorflow/lib/python3.6/site-packages/statsmodels/base/model.py:568: ConvergenceWarning: Maximum Likelihood optimization failed to converge. Check mle_retvals\n",
      "  \"Check mle_retvals\", ConvergenceWarning)\n",
      " 46%|████▌     | 300/653 [02:05<02:39,  2.21it/s]/Users/arunavgupta/anaconda3/envs/tensorflow/lib/python3.6/site-packages/statsmodels/base/model.py:548: HessianInversionWarning: Inverting hessian failed, no bse or cov_params available\n",
      "  'available', HessianInversionWarning)\n",
      " 49%|████▊     | 317/653 [02:10<02:04,  2.70it/s]/Users/arunavgupta/anaconda3/envs/tensorflow/lib/python3.6/site-packages/statsmodels/base/model.py:548: HessianInversionWarning: Inverting hessian failed, no bse or cov_params available\n",
      "  'available', HessianInversionWarning)\n",
      " 56%|█████▌    | 365/653 [02:28<01:19,  3.62it/s]/Users/arunavgupta/anaconda3/envs/tensorflow/lib/python3.6/site-packages/statsmodels/base/model.py:548: HessianInversionWarning: Inverting hessian failed, no bse or cov_params available\n",
      "  'available', HessianInversionWarning)\n",
      " 60%|█████▉    | 391/653 [02:36<01:06,  3.92it/s]/Users/arunavgupta/anaconda3/envs/tensorflow/lib/python3.6/site-packages/statsmodels/base/model.py:548: HessianInversionWarning: Inverting hessian failed, no bse or cov_params available\n",
      "  'available', HessianInversionWarning)\n",
      "/Users/arunavgupta/anaconda3/envs/tensorflow/lib/python3.6/site-packages/statsmodels/tsa/arima_model.py:1866: RuntimeWarning: invalid value encountered in sqrt\n",
      "  fcerr = np.sqrt(np.cumsum(cumsum_n(ma_rep, self.k_diff) ** 2) * sigma2)\n",
      " 61%|██████    | 397/653 [02:39<02:02,  2.09it/s]/Users/arunavgupta/anaconda3/envs/tensorflow/lib/python3.6/site-packages/statsmodels/base/model.py:568: ConvergenceWarning: Maximum Likelihood optimization failed to converge. Check mle_retvals\n",
      "  \"Check mle_retvals\", ConvergenceWarning)\n",
      " 63%|██████▎   | 414/653 [02:45<01:22,  2.91it/s]/Users/arunavgupta/anaconda3/envs/tensorflow/lib/python3.6/site-packages/statsmodels/base/model.py:548: HessianInversionWarning: Inverting hessian failed, no bse or cov_params available\n",
      "  'available', HessianInversionWarning)\n",
      " 65%|██████▍   | 422/653 [02:47<01:25,  2.70it/s]/Users/arunavgupta/anaconda3/envs/tensorflow/lib/python3.6/site-packages/statsmodels/base/model.py:548: HessianInversionWarning: Inverting hessian failed, no bse or cov_params available\n",
      "  'available', HessianInversionWarning)\n",
      " 71%|███████   | 463/653 [03:03<01:12,  2.63it/s]/Users/arunavgupta/anaconda3/envs/tensorflow/lib/python3.6/site-packages/statsmodels/base/model.py:548: HessianInversionWarning: Inverting hessian failed, no bse or cov_params available\n",
      "  'available', HessianInversionWarning)\n",
      " 76%|███████▌  | 494/653 [03:14<00:49,  3.24it/s]/Users/arunavgupta/anaconda3/envs/tensorflow/lib/python3.6/site-packages/statsmodels/base/model.py:548: HessianInversionWarning: Inverting hessian failed, no bse or cov_params available\n",
      "  'available', HessianInversionWarning)\n",
      " 83%|████████▎ | 543/653 [03:31<00:34,  3.18it/s]/Users/arunavgupta/anaconda3/envs/tensorflow/lib/python3.6/site-packages/statsmodels/base/model.py:548: HessianInversionWarning: Inverting hessian failed, no bse or cov_params available\n",
      "  'available', HessianInversionWarning)\n",
      "/Users/arunavgupta/anaconda3/envs/tensorflow/lib/python3.6/site-packages/statsmodels/base/model.py:568: ConvergenceWarning: Maximum Likelihood optimization failed to converge. Check mle_retvals\n",
      "  \"Check mle_retvals\", ConvergenceWarning)\n",
      " 87%|████████▋ | 566/653 [03:44<00:29,  2.90it/s]/Users/arunavgupta/anaconda3/envs/tensorflow/lib/python3.6/site-packages/statsmodels/base/model.py:548: HessianInversionWarning: Inverting hessian failed, no bse or cov_params available\n",
      "  'available', HessianInversionWarning)\n",
      "/Users/arunavgupta/anaconda3/envs/tensorflow/lib/python3.6/site-packages/statsmodels/base/model.py:568: ConvergenceWarning: Maximum Likelihood optimization failed to converge. Check mle_retvals\n",
      "  \"Check mle_retvals\", ConvergenceWarning)\n",
      " 89%|████████▊ | 578/653 [03:50<00:28,  2.67it/s]/Users/arunavgupta/anaconda3/envs/tensorflow/lib/python3.6/site-packages/statsmodels/base/model.py:548: HessianInversionWarning: Inverting hessian failed, no bse or cov_params available\n",
      "  'available', HessianInversionWarning)\n",
      " 89%|████████▊ | 579/653 [03:51<00:32,  2.27it/s]/Users/arunavgupta/anaconda3/envs/tensorflow/lib/python3.6/site-packages/statsmodels/base/model.py:548: HessianInversionWarning: Inverting hessian failed, no bse or cov_params available\n",
      "  'available', HessianInversionWarning)\n",
      "/Users/arunavgupta/anaconda3/envs/tensorflow/lib/python3.6/site-packages/statsmodels/base/model.py:568: ConvergenceWarning: Maximum Likelihood optimization failed to converge. Check mle_retvals\n",
      "  \"Check mle_retvals\", ConvergenceWarning)\n",
      " 93%|█████████▎| 605/653 [04:00<00:13,  3.49it/s]/Users/arunavgupta/anaconda3/envs/tensorflow/lib/python3.6/site-packages/statsmodels/base/model.py:548: HessianInversionWarning: Inverting hessian failed, no bse or cov_params available\n",
      "  'available', HessianInversionWarning)\n",
      "100%|██████████| 653/653 [04:17<00:00,  2.53it/s]\n"
     ]
    }
   ],
   "source": [
    "AU3_output = list(map(find_AU3, tqdm(metro)))"
   ]
  },
  {
   "cell_type": "code",
   "execution_count": 21,
   "metadata": {
    "scrolled": true
   },
   "outputs": [
    {
     "data": {
      "text/plain": [
       "['13940',\n",
       " '14780',\n",
       " '16180',\n",
       " '16260',\n",
       " '17200',\n",
       " '21740',\n",
       " '28780',\n",
       " '29420',\n",
       " '29500',\n",
       " '30060',\n",
       " '32860',\n",
       " '34140',\n",
       " '39500',\n",
       " '40180',\n",
       " '41760',\n",
       " '43940',\n",
       " '46860',\n",
       " '48460']"
      ]
     },
     "execution_count": 21,
     "metadata": {},
     "output_type": "execute_result"
    }
   ],
   "source": [
    "failed_cities"
   ]
  },
  {
   "cell_type": "code",
   "execution_count": 48,
   "metadata": {},
   "outputs": [
    {
     "data": {
      "text/plain": [
       "(17.988555616184318, -4.152091824283903)"
      ]
     },
     "execution_count": 48,
     "metadata": {},
     "output_type": "execute_result"
    },
    {
     "data": {
      "image/png": "[encoded data removed]",
      "text/plain": [
       "<Figure size 576x396 with 1 Axes>"
      ]
     },
     "metadata": {},
     "output_type": "display_data"
    }
   ],
   "source": [
    "adjusted_outputs = [np.log(i) if i > 0 else i for i in np.abs(AU3_output)]\n",
    "plt.hist(adjusted_outputs)\n",
    "max(adjusted_outputs), min(adjusted_outputs)"
   ]
  },
  {
   "cell_type": "code",
   "execution_count": 49,
   "metadata": {
    "scrolled": true
   },
   "outputs": [],
   "source": [
    "cbsa_codes = [m['CBSA_Code'].iloc[0] for m in metro]\n",
    "\n",
    "final_metro = pd.DataFrame(data={\"CBSA_Codes\": cbsa_codes, \"AU3\": adjusted_outputs})\n",
    "final_metro.to_csv(\"AU3_results.csv\")"
   ]
  },
  {
   "cell_type": "code",
   "execution_count": 50,
   "metadata": {
    "scrolled": true
   },
   "outputs": [
    {
     "data": {
      "text/html": [
       "<div>\n",
       "<style scoped>\n",
       "    .dataframe tbody tr th:only-of-type {\n",
       "        vertical-align: middle;\n",
       "    }\n",
       "\n",
       "    .dataframe tbody tr th {\n",
       "        vertical-align: top;\n",
       "    }\n",
       "\n",
       "    .dataframe thead th {\n",
       "        text-align: right;\n",
       "    }\n",
       "</style>\n",
       "<table border=\"1\" class=\"dataframe\">\n",
       "  <thead>\n",
       "    <tr style=\"text-align: right;\">\n",
       "      <th></th>\n",
       "      <th>CBSA_Codes</th>\n",
       "      <th>AU3</th>\n",
       "    </tr>\n",
       "  </thead>\n",
       "  <tbody>\n",
       "    <tr>\n",
       "      <th>424</th>\n",
       "      <td>36420</td>\n",
       "      <td>-4.152092</td>\n",
       "    </tr>\n",
       "    <tr>\n",
       "      <th>222</th>\n",
       "      <td>23780</td>\n",
       "      <td>-3.721457</td>\n",
       "    </tr>\n",
       "    <tr>\n",
       "      <th>336</th>\n",
       "      <td>30700</td>\n",
       "      <td>-3.098149</td>\n",
       "    </tr>\n",
       "    <tr>\n",
       "      <th>427</th>\n",
       "      <td>36540</td>\n",
       "      <td>-2.414623</td>\n",
       "    </tr>\n",
       "    <tr>\n",
       "      <th>162</th>\n",
       "      <td>19780</td>\n",
       "      <td>-1.871264</td>\n",
       "    </tr>\n",
       "    <tr>\n",
       "      <th>...</th>\n",
       "      <td>...</td>\n",
       "      <td>...</td>\n",
       "    </tr>\n",
       "    <tr>\n",
       "      <th>114</th>\n",
       "      <td>17200</td>\n",
       "      <td>17.364266</td>\n",
       "    </tr>\n",
       "    <tr>\n",
       "      <th>519</th>\n",
       "      <td>41760</td>\n",
       "      <td>17.449039</td>\n",
       "    </tr>\n",
       "    <tr>\n",
       "      <th>77</th>\n",
       "      <td>14780</td>\n",
       "      <td>17.597436</td>\n",
       "    </tr>\n",
       "    <tr>\n",
       "      <th>605</th>\n",
       "      <td>46860</td>\n",
       "      <td>17.735015</td>\n",
       "    </tr>\n",
       "    <tr>\n",
       "      <th>95</th>\n",
       "      <td>16180</td>\n",
       "      <td>17.988556</td>\n",
       "    </tr>\n",
       "  </tbody>\n",
       "</table>\n",
       "<p>653 rows × 2 columns</p>\n",
       "</div>"
      ],
      "text/plain": [
       "    CBSA_Codes        AU3\n",
       "424      36420  -4.152092\n",
       "222      23780  -3.721457\n",
       "336      30700  -3.098149\n",
       "427      36540  -2.414623\n",
       "162      19780  -1.871264\n",
       "..         ...        ...\n",
       "114      17200  17.364266\n",
       "519      41760  17.449039\n",
       "77       14780  17.597436\n",
       "605      46860  17.735015\n",
       "95       16180  17.988556\n",
       "\n",
       "[653 rows x 2 columns]"
      ]
     },
     "execution_count": 50,
     "metadata": {},
     "output_type": "execute_result"
    }
   ],
   "source": [
    "final_metro.sort_values('AU3', ascending=True)"
   ]
  },
  {
   "cell_type": "code",
   "execution_count": 26,
   "metadata": {
    "scrolled": true
   },
   "outputs": [
    {
     "data": {
      "text/html": [
       "<div>\n",
       "<style scoped>\n",
       "    .dataframe tbody tr th:only-of-type {\n",
       "        vertical-align: middle;\n",
       "    }\n",
       "\n",
       "    .dataframe tbody tr th {\n",
       "        vertical-align: top;\n",
       "    }\n",
       "\n",
       "    .dataframe thead th {\n",
       "        text-align: right;\n",
       "    }\n",
       "</style>\n",
       "<table border=\"1\" class=\"dataframe\">\n",
       "  <thead>\n",
       "    <tr style=\"text-align: right;\">\n",
       "      <th></th>\n",
       "      <th>CBSA_Codes</th>\n",
       "      <th>AU3</th>\n",
       "    </tr>\n",
       "  </thead>\n",
       "  <tbody>\n",
       "    <tr>\n",
       "      <th>95</th>\n",
       "      <td>16180</td>\n",
       "      <td>17.988556</td>\n",
       "    </tr>\n",
       "    <tr>\n",
       "      <th>605</th>\n",
       "      <td>46860</td>\n",
       "      <td>17.735015</td>\n",
       "    </tr>\n",
       "    <tr>\n",
       "      <th>77</th>\n",
       "      <td>14780</td>\n",
       "      <td>17.597436</td>\n",
       "    </tr>\n",
       "    <tr>\n",
       "      <th>519</th>\n",
       "      <td>41760</td>\n",
       "      <td>17.449039</td>\n",
       "    </tr>\n",
       "    <tr>\n",
       "      <th>114</th>\n",
       "      <td>17200</td>\n",
       "      <td>17.364266</td>\n",
       "    </tr>\n",
       "    <tr>\n",
       "      <th>...</th>\n",
       "      <td>...</td>\n",
       "      <td>...</td>\n",
       "    </tr>\n",
       "    <tr>\n",
       "      <th>162</th>\n",
       "      <td>19780</td>\n",
       "      <td>-1.871264</td>\n",
       "    </tr>\n",
       "    <tr>\n",
       "      <th>427</th>\n",
       "      <td>36540</td>\n",
       "      <td>-2.414623</td>\n",
       "    </tr>\n",
       "    <tr>\n",
       "      <th>336</th>\n",
       "      <td>30700</td>\n",
       "      <td>-3.098149</td>\n",
       "    </tr>\n",
       "    <tr>\n",
       "      <th>222</th>\n",
       "      <td>23780</td>\n",
       "      <td>-3.721457</td>\n",
       "    </tr>\n",
       "    <tr>\n",
       "      <th>424</th>\n",
       "      <td>36420</td>\n",
       "      <td>-4.152092</td>\n",
       "    </tr>\n",
       "  </tbody>\n",
       "</table>\n",
       "<p>653 rows × 2 columns</p>\n",
       "</div>"
      ],
      "text/plain": [
       "    CBSA_Codes        AU3\n",
       "95       16180  17.988556\n",
       "605      46860  17.735015\n",
       "77       14780  17.597436\n",
       "519      41760  17.449039\n",
       "114      17200  17.364266\n",
       "..         ...        ...\n",
       "162      19780  -1.871264\n",
       "427      36540  -2.414623\n",
       "336      30700  -3.098149\n",
       "222      23780  -3.721457\n",
       "424      36420  -4.152092\n",
       "\n",
       "[653 rows x 2 columns]"
      ]
     },
     "execution_count": 26,
     "metadata": {},
     "output_type": "execute_result"
    }
   ],
   "source": [
    "final_metro.sort_values('AU3', ascending=False)"
   ]
  },
  {
   "cell_type": "code",
   "execution_count": 36,
   "metadata": {},
   "outputs": [
    {
     "name": "stderr",
     "output_type": "stream",
     "text": [
      "100%|██████████| 653/653 [00:03<00:00, 198.30it/s]\n"
     ]
    }
   ],
   "source": [
    "df = pd.DataFrame({\"Date\": [], \"CBSA_Code\": [], \"ZHVI_AllHomes\": [], \"ZHVI_std\": []})\n",
    "for i in tqdm(metro):\n",
    "    df = df.append(i)"
   ]
  },
  {
   "cell_type": "code",
   "execution_count": 37,
   "metadata": {},
   "outputs": [],
   "source": [
    "df.to_csv(\"./datasets/normed_ZHVI.csv\")"
   ]
  },
  {
   "cell_type": "markdown",
   "metadata": {},
   "source": [
    "## Everything below this cell is experimental/debugging"
   ]
  },
  {
   "cell_type": "code",
   "execution_count": null,
   "metadata": {},
   "outputs": [],
   "source": [
    "# RANDOM STUFF DELETE LATER\n",
    "\n",
    "from statsmodels.tsa.arima_model import ARIMA\n",
    "city1.tail()\n",
    "before = city1[['Date', 'ZHVI_AllHomes']][city1['Date'] < '2017-08-31'].set_index(['Date'])['ZHVI_AllHomes']\n",
    "model = ARIMA(endog=np.array(before, dtype=np.float), order=(5, 1, 1))\n",
    "model_fit = model.fit(disp=0)\n",
    "#np.array(before, dtype=np.float)[0]\n",
    "#city1['dt'] = city1\n",
    "#np.array(city1['Date'], dtype='datetime64')\n",
    "model_fit.predict(before.shape[0], city1.shape[0])"
   ]
  },
  {
   "cell_type": "code",
   "execution_count": null,
   "metadata": {},
   "outputs": [],
   "source": [
    "city1 = city1[city1['Date'] < \"2012\"]\n",
    "d = lambda i: city1['ZHVI_AllHomes'].iloc[i] - city1['ZHVI_AllHomes'].iloc[i-1]\n",
    "diffs = np.array([d(i) for i in range(1, len(city1))])\n",
    "# reshape dataframe to include diffs\n",
    "city1 = city1.iloc[1:]\n",
    "city1['Diffs'] = diffs\n",
    "city1['Diffs']\n",
    "# find local maxes using diffs\n",
    "is_max = np.array([(city1['Diffs'].iloc[i] >= 0) and (city1['Diffs'].iloc[i+1] <= 0) for i in range(len(city1) - 1)])\n",
    "is_max = np.append(is_max, False)\n",
    "\n",
    "# check for presence of local maxes at all\n",
    "if np.count_nonzero(is_max) == 0:\n",
    "    print(0)\n",
    "# add 'is_maximum' truth column to dataframe\n",
    "city1['Max'] = is_max\n",
    "# filter and find largest max\n",
    "theMax = city1[city1['Max'] == 1.0].sort_values(\"ZHVI_AllHomes\", ascending=False).iloc[0]\n",
    "start_date = theMax['Date']\n",
    "start_date"
   ]
  },
  {
   "cell_type": "code",
   "execution_count": 20,
   "metadata": {},
   "outputs": [
    {
     "ename": "NameError",
     "evalue": "name 'metro_data' is not defined",
     "output_type": "error",
     "traceback": [
      "\u001b[0;31m---------------------------------------------------------------------------\u001b[0m",
      "\u001b[0;31mNameError\u001b[0m                                 Traceback (most recent call last)",
      "\u001b[0;32m<ipython-input-20-0fbcdbc37757>\u001b[0m in \u001b[0;36m<module>\u001b[0;34m\u001b[0m\n\u001b[1;32m      2\u001b[0m \u001b[0;34m\u001b[0m\u001b[0m\n\u001b[1;32m      3\u001b[0m \u001b[0mcity1\u001b[0m \u001b[0;34m=\u001b[0m \u001b[0mmetro\u001b[0m\u001b[0;34m[\u001b[0m\u001b[0;36m0\u001b[0m\u001b[0;34m]\u001b[0m\u001b[0;34m\u001b[0m\u001b[0;34m\u001b[0m\u001b[0m\n\u001b[0;32m----> 4\u001b[0;31m \u001b[0mfind_AU3\u001b[0m\u001b[0;34m(\u001b[0m\u001b[0mcity1\u001b[0m\u001b[0;34m)\u001b[0m\u001b[0;34m\u001b[0m\u001b[0;34m\u001b[0m\u001b[0m\n\u001b[0m",
      "\u001b[0;32m<ipython-input-19-0563ee6c2b38>\u001b[0m in \u001b[0;36mfind_AU3\u001b[0;34m(metro)\u001b[0m\n\u001b[1;32m      1\u001b[0m \u001b[0;32mdef\u001b[0m \u001b[0mfind_AU3\u001b[0m\u001b[0;34m(\u001b[0m\u001b[0mmetro\u001b[0m\u001b[0;34m)\u001b[0m\u001b[0;34m:\u001b[0m\u001b[0;34m\u001b[0m\u001b[0;34m\u001b[0m\u001b[0m\n\u001b[1;32m      2\u001b[0m \u001b[0;31m#     print(\"City: {}\".format(np.unique(metro.CBSA_Code)))\u001b[0m\u001b[0;34m\u001b[0m\u001b[0;34m\u001b[0m\u001b[0;34m\u001b[0m\u001b[0m\n\u001b[0;32m----> 3\u001b[0;31m     \u001b[0mstart\u001b[0m \u001b[0;34m=\u001b[0m \u001b[0mmy_min\u001b[0m\u001b[0;34m(\u001b[0m\u001b[0mmetro\u001b[0m\u001b[0;34m)\u001b[0m\u001b[0;34m\u001b[0m\u001b[0;34m\u001b[0m\u001b[0m\n\u001b[0m\u001b[1;32m      4\u001b[0m     \u001b[0marima\u001b[0m \u001b[0;34m=\u001b[0m \u001b[0mARIMA_50\u001b[0m\u001b[0;34m(\u001b[0m\u001b[0mmetro\u001b[0m\u001b[0;34m,\u001b[0m \u001b[0mstart\u001b[0m\u001b[0;34m)\u001b[0m\u001b[0;34m\u001b[0m\u001b[0;34m\u001b[0m\u001b[0m\n\u001b[1;32m      5\u001b[0m \u001b[0;31m#     print(\"Start Date: \", start)\u001b[0m\u001b[0;34m\u001b[0m\u001b[0;34m\u001b[0m\u001b[0;34m\u001b[0m\u001b[0m\n",
      "\u001b[0;32m<ipython-input-11-c85783019283>\u001b[0m in \u001b[0;36mmy_min\u001b[0;34m(city)\u001b[0m\n\u001b[1;32m      6\u001b[0m     \u001b[0;34m'2011-05-31'\u001b[0m\u001b[0;34m\u001b[0m\u001b[0;34m\u001b[0m\u001b[0m\n\u001b[1;32m      7\u001b[0m     \"\"\"\n\u001b[0;32m----> 8\u001b[0;31m     \u001b[0mcity_df\u001b[0m \u001b[0;34m=\u001b[0m \u001b[0mmetro_data\u001b[0m\u001b[0;34m[\u001b[0m\u001b[0mmetro_data\u001b[0m\u001b[0;34m[\u001b[0m\u001b[0;34m'MetroName'\u001b[0m\u001b[0;34m]\u001b[0m \u001b[0;34m==\u001b[0m \u001b[0mcity\u001b[0m\u001b[0;34m]\u001b[0m\u001b[0;34m\u001b[0m\u001b[0;34m\u001b[0m\u001b[0m\n\u001b[0m\u001b[1;32m      9\u001b[0m     \u001b[0mmy_zhvi\u001b[0m \u001b[0;34m=\u001b[0m \u001b[0mcity_df\u001b[0m\u001b[0;34m[\u001b[0m\u001b[0;34m'Normalised_ZHVI'\u001b[0m\u001b[0;34m]\u001b[0m\u001b[0;34m.\u001b[0m\u001b[0mto_numpy\u001b[0m\u001b[0;34m(\u001b[0m\u001b[0;34m)\u001b[0m\u001b[0;34m\u001b[0m\u001b[0;34m\u001b[0m\u001b[0m\n\u001b[1;32m     10\u001b[0m \u001b[0;34m\u001b[0m\u001b[0m\n",
      "\u001b[0;31mNameError\u001b[0m: name 'metro_data' is not defined"
     ]
    }
   ],
   "source": [
    "# Lucas\n",
    "\n",
    "city1 = metro[0]\n",
    "find_AU3(city1)"
   ]
  },
  {
   "cell_type": "code",
   "execution_count": null,
   "metadata": {},
   "outputs": [],
   "source": []
  }
 ],
 "metadata": {
  "kernelspec": {
   "display_name": "Python 3.8.2 64-bit",
   "language": "python",
   "name": "python38264bitea8e9554bf6e4272b34d240a4a1319be"
  },
  "language_info": {
   "codemirror_mode": {
    "name": "ipython",
    "version": 3
   },
   "file_extension": ".py",
   "mimetype": "text/x-python",
   "name": "python",
   "nbconvert_exporter": "python",
   "pygments_lexer": "ipython3",
   "version": "3.8.2-final"
  }
 },
 "nbformat": 4,
 "nbformat_minor": 4
}